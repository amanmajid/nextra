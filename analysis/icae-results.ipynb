{
 "cells": [
  {
   "cell_type": "code",
   "execution_count": 1,
   "id": "dccfae73",
   "metadata": {},
   "outputs": [
    {
     "data": {
      "text/html": [
       "        <script type=\"text/javascript\">\n",
       "        window.PlotlyConfig = {MathJaxConfig: 'local'};\n",
       "        if (window.MathJax) {MathJax.Hub.Config({SVG: {font: \"STIX-Web\"}});}\n",
       "        if (typeof require !== 'undefined') {\n",
       "        require.undef(\"plotly\");\n",
       "        requirejs.config({\n",
       "            paths: {\n",
       "                'plotly': ['https://cdn.plot.ly/plotly-2.6.3.min']\n",
       "            }\n",
       "        });\n",
       "        require(['plotly'], function(Plotly) {\n",
       "            window._Plotly = Plotly;\n",
       "        });\n",
       "        }\n",
       "        </script>\n",
       "        "
      ]
     },
     "metadata": {},
     "output_type": "display_data"
    }
   ],
   "source": [
    "import seaborn as sns\n",
    "import matplotlib.pyplot as plt\n",
    "\n",
    "import warnings\n",
    "warnings.filterwarnings('ignore')\n",
    "\n",
    "import sys\n",
    "sys.path.append('../')\n",
    "\n",
    "from infrasim.optimise import *\n",
    "from infrasim.utils import *"
   ]
  },
  {
   "cell_type": "code",
   "execution_count": 2,
   "id": "adcae87a",
   "metadata": {},
   "outputs": [],
   "source": [
    "# SUBFUNCTIONS\n",
    "\n",
    "def merge_capacity_data(results_dict):\n",
    "    '''Returns a dataframe with merged capacity data based on a dictionary containing a set of results class\n",
    "    '''\n",
    "    # init blank df\n",
    "    capacities = pd.DataFrame()\n",
    "    # loop results \n",
    "    for k in results_dict.keys():\n",
    "        df = results_dict[k].results_capacities\n",
    "        capacities = capacities.append(df,ignore_index=True)\n",
    "    # map technologies and territories\n",
    "    capacities = map_tech_and_territory(results['BAU'],capacities,col_to_map='node')\n",
    "    return capacities\n",
    "\n",
    "\n",
    "def get_relative_capacities(results_dict):\n",
    "    capacities = merge_capacity_data(results_dict)\n",
    "    # get bas and delta dfs\n",
    "    bas   = capacities.loc[capacities.scenario.isin(['BAS'])].reset_index(drop=True)\n",
    "    delta = capacities.loc[~capacities.scenario.isin(['BAS'])].reset_index(drop=True)\n",
    "    # group\n",
    "    bas   = bas.groupby(by=['scenario','technology','territory']).max().reset_index()\n",
    "    delta = delta.groupby(by=['scenario','technology','territory']).max().reset_index()\n",
    "    # map baseline capacities\n",
    "    bas = bas.set_index('node')['value'].to_dict()\n",
    "    delta['bas_cap'] = delta.node.map(bas)\n",
    "    # compute delta\n",
    "    delta['relative_change'] = delta['value'] - delta['bas_cap']\n",
    "    return delta"
   ]
  },
  {
   "cell_type": "markdown",
   "id": "f0984a0c",
   "metadata": {},
   "source": [
    "## Run scenarios\n",
    "Here we run the model across all five scenarios and append the results into a dictionary"
   ]
  },
  {
   "cell_type": "code",
   "execution_count": 3,
   "id": "ca7f0161",
   "metadata": {
    "scrolled": false
   },
   "outputs": [
    {
     "name": "stdout",
     "output_type": "stream",
     "text": [
      "Academic license - for non-commercial use only - expires 2022-11-03\n",
      "Using license file /Users/amanmajid/gurobi.lic\n",
      "\n",
      "> Completed: BAS\n",
      "\n",
      "> Completed: BAU\n",
      "\n",
      "> Completed: NCO\n",
      "\n",
      "> Completed: EAG\n",
      "\n",
      "> Completed: COO\n",
      "\n",
      "> Completed: UTO\n",
      "> Done.\n"
     ]
    }
   ],
   "source": [
    "#File paths\n",
    "nodes = '../data/nextra/spatial/network/nodes.shp'\n",
    "edges = '../data/nextra/spatial/network/edges.shp'\n",
    "flows = '../data/nextra/nodal_flows/processed_flows_2030.csv'\n",
    "\n",
    "# Params\n",
    "timesteps=None\n",
    "super_source=False\n",
    "pprint=True\n",
    "save_figures=True\n",
    "\n",
    "infrasim_init_directories()\n",
    "\n",
    "scenarios = {'BAS' : False,\n",
    "             'BAU' : True,\n",
    "             'NCO' : True,\n",
    "             'EAG' : True,\n",
    "             'COO' : True,\n",
    "             'UTO' : True,}\n",
    "\n",
    "results = {}\n",
    "for s in scenarios:\n",
    "        \n",
    "    model_run = nextra(nodes,edges,flows,\n",
    "                       scenario=s,\n",
    "                       energy_objective=scenarios[s],\n",
    "                       timesteps=timesteps,\n",
    "                       #super_source=True,\n",
    "                       #super_sink=True,\n",
    "                       #res_factor=99,\n",
    "                       #model_name='meow',\n",
    "                      )\n",
    "\n",
    "    model_run.build()\n",
    "    model_run.run(pprint=False)\n",
    "    model_run = model_run.get_results()\n",
    "    # add scenarios to results\n",
    "    if s == 'BAU' and scenarios[s] == False:\n",
    "        s = 'BAS'\n",
    "        \n",
    "    model_run.results_capacities['scenario'] = s\n",
    "    model_run.results_storages['scenario'] = s\n",
    "    model_run.results_edge_flows['scenario'] = s\n",
    "    # append results\n",
    "    results[s] = model_run\n",
    "    \n",
    "    print('> Completed: ' + s)\n",
    "    \n",
    "print('> Done.')   "
   ]
  },
  {
   "cell_type": "markdown",
   "id": "aa0603bb",
   "metadata": {},
   "source": [
    "## Create capacities figure\n",
    "This figure will show the required capacity (GW) in 2030 per scenario as a bar chart"
   ]
  },
  {
   "cell_type": "code",
   "execution_count": 10,
   "id": "a135ab2c",
   "metadata": {},
   "outputs": [
    {
     "data": {
      "text/plain": [
       "<matplotlib.legend.Legend at 0x1b50bb370>"
      ]
     },
     "execution_count": 10,
     "metadata": {},
     "output_type": "execute_result"
    },
    {
     "data": {
      "image/png": "[encoded data removed]",
      "text/plain": [
       "<Figure size 504x360 with 1 Axes>"
      ]
     },
     "metadata": {},
     "output_type": "display_data"
    }
   ],
   "source": [
    "# run function\n",
    "capacities = merge_capacity_data(results)\n",
    "# convert to gw\n",
    "#capacities['value'] = capacities['value'].apply(lambda row: mw_to_gw(row))\n",
    "# pivot for bar chart\n",
    "capacities = capacities.pivot_table(index=['scenario'],\n",
    "                                    columns=['technology'],\n",
    "                                    values='value')\n",
    "# sort by ascending\n",
    "capacities['total'] = capacities.sum(axis=1)\n",
    "capacities = capacities.sort_values(\"total\").drop('total',axis=1)\n",
    "\n",
    "# plot\n",
    "plt.style.use('ggplot')\n",
    "f,ax = plt.subplots(ncols=1,nrows=1,figsize=(7,5))\n",
    "capacities.plot.barh(stacked=True,rot=0,ax=ax,cmap='Spectral',edgecolor='black')\n",
    "ax.set_xlabel('Capacity in 2030 [GW]')\n",
    "ax.set_ylabel('Scenario')\n",
    "ax.legend(loc='center left', bbox_to_anchor=(1.0, 0.5),frameon=False)"
   ]
  },
  {
   "cell_type": "markdown",
   "id": "42be733e",
   "metadata": {},
   "source": [
    "## Relative capacity change\n",
    "This figure shows the capacity change (GW) per scenario relative to BAS"
   ]
  },
  {
   "cell_type": "code",
   "execution_count": 11,
   "id": "4cd8e4f1",
   "metadata": {},
   "outputs": [
    {
     "data": {
      "text/plain": [
       "Text(-0.03, 0.5, 'Relative Capacity Change (MW)')"
      ]
     },
     "execution_count": 11,
     "metadata": {},
     "output_type": "execute_result"
    },
    {
     "data": {
      "image/png": "[encoded data removed]",
      "text/plain": [
       "<Figure size 432x864 with 5 Axes>"
      ]
     },
     "metadata": {},
     "output_type": "display_data"
    }
   ],
   "source": [
    "delta = get_relative_capacities(results)\n",
    "\n",
    "f,ax = plt.subplots(ncols=1,nrows=5,figsize=(6,12),sharex=True,sharey=True)\n",
    "\n",
    "count=0\n",
    "for s in delta.scenario.unique():\n",
    "    idx = delta.loc[delta.scenario.isin([s])]\n",
    "    idx = idx.pivot_table(index=['territory'],columns=['technology'],values='relative_change')\n",
    "    idx.plot.bar(stacked=True,rot=0,ax=ax[count],cmap='Spectral',edgecolor='black',legend=False)\n",
    "    ax[count].set_ylim([-5000,20000])\n",
    "    ax[count].set_xlabel(None)\n",
    "    ax[count].set_title(s,loc='left')\n",
    "    count=count+1\n",
    "\n",
    "plt.legend(loc='center left', bbox_to_anchor=(1.05, 3),frameon=False)\n",
    "\n",
    "f.text(0.5, 0.04, 'Region', ha='center', va='center')\n",
    "f.text(-0.03, 0.5, 'Relative Capacity Change (MW)', ha='center', va='center', rotation='vertical')\n",
    "\n"
   ]
  },
  {
   "cell_type": "code",
   "execution_count": 12,
   "id": "527c2312",
   "metadata": {},
   "outputs": [
    {
     "data": {
      "text/plain": [
       "(-2000.0, 7200.0)"
      ]
     },
     "execution_count": 12,
     "metadata": {},
     "output_type": "execute_result"
    },
    {
     "data": {
      "image/png": "[encoded data removed]",
      "text/plain": [
       "<Figure size 504x360 with 1 Axes>"
      ]
     },
     "metadata": {},
     "output_type": "display_data"
    }
   ],
   "source": [
    "# plot\n",
    "delta = get_relative_capacities(results)\n",
    "plt.style.use('ggplot')\n",
    "f,ax = plt.subplots(ncols=1,nrows=1,figsize=(7,5))\n",
    "delta = delta.pivot_table(index=['scenario'],columns=['technology'],values='relative_change')\n",
    "# sort by ascending\n",
    "delta['total'] = delta.sum(axis=1)\n",
    "delta = delta.sort_values(\"total\").drop('total',axis=1)\n",
    "delta.plot.barh(stacked=True,rot=0,ax=ax,cmap='Spectral',edgecolor='black')\n",
    "ax.set_xlabel('Capacity in 2030 [GW]')\n",
    "ax.set_ylabel('Scenario')\n",
    "ax.legend(loc='center left', bbox_to_anchor=(1.0, 0.5),frameon=False)\n",
    "ax.set_xlim([-2000,7200])"
   ]
  },
  {
   "cell_type": "markdown",
   "id": "aa7029ad",
   "metadata": {},
   "source": [
    "## Visualise flows\n",
    "This figure visualises flows between each territory"
   ]
  },
  {
   "cell_type": "code",
   "execution_count": 13,
   "id": "8090848e",
   "metadata": {},
   "outputs": [
    {
     "data": {
      "application/vnd.plotly.v1+json": {
       "config": {
        "linkText": "Export to plot.ly",
        "plotlyServerURL": "https://plot.ly",
        "showLink": false
       },
       "data": [
        {
         "domain": {
          "x": [
           0,
           1
          ],
          "y": [
           0,
           1
          ]
         },
         "link": {
          "color": [
           "rgba(127, 194, 65, 0.2)",
           "rgba(127, 194, 65, 0.2)",
           "rgba(127, 194, 65, 0.2)",
           "rgba(127, 194, 65, 0.2)",
           "rgba(127, 194, 65, 0.2)",
           "rgba(127, 194, 65, 0.2)",
           "rgba(127, 194, 65, 0.2)",
           "rgba(127, 194, 65, 0.2)",
           "rgba(127, 194, 65, 0.2)",
           "rgba(127, 194, 65, 0.2)",
           "rgba(127, 194, 65, 0.2)",
           "rgba(127, 194, 65, 0.2)",
           "rgba(127, 194, 65, 0.2)",
           "rgba(127, 194, 65, 0.2)",
           "rgba(127, 194, 65, 0.2)",
           "rgba(127, 194, 65, 0.2)",
           "rgba(127, 194, 65, 0.2)",
           "rgba(127, 194, 65, 0.2)",
           "rgba(127, 194, 65, 0.2)",
           "rgba(127, 194, 65, 0.2)",
           "rgba(127, 194, 65, 0.2)",
           "rgba(127, 194, 65, 0.2)",
           "rgba(127, 194, 65, 0.2)",
           "rgba(127, 194, 65, 0.2)",
           "rgba(127, 194, 65, 0.2)",
           "rgba(127, 194, 65, 0.2)",
           "rgba(127, 194, 65, 0.2)",
           "rgba(127, 194, 65, 0.2)",
           "rgba(127, 194, 65, 0.2)",
           "rgba(127, 194, 65, 0.2)",
           "rgba(127, 194, 65, 0.2)",
           "rgba(127, 194, 65, 0.2)",
           "rgba(127, 194, 65, 0.2)",
           "rgba(127, 194, 65, 0.2)",
           "rgba(127, 194, 65, 0.2)"
          ],
          "source": [
           0,
           1,
           29,
           3,
           4,
           5,
           6,
           7,
           34,
           30,
           30,
           30,
           30,
           10,
           11,
           12,
           13,
           14,
           15,
           35,
           35,
           35,
           17,
           18,
           19,
           20,
           21,
           22,
           23,
           36,
           36,
           36,
           25,
           26,
           27
          ],
          "target": [
           28,
           29,
           28,
           29,
           29,
           30,
           30,
           30,
           30,
           28,
           31,
           32,
           33,
           34,
           30,
           30,
           35,
           35,
           35,
           31,
           32,
           33,
           35,
           35,
           35,
           35,
           36,
           36,
           36,
           31,
           32,
           33,
           36,
           36,
           36
          ],
          "value": [
           388475.79909246473,
           34.05605410832942,
           34.05605410832942,
           0,
           0,
           23899574.366030242,
           0,
           0,
           38576140.15213902,
           1302255.357732127,
           42774425.078061625,
           21297656.329053383,
           66179.28732928055,
           38576140.15213902,
           1281056.544007154,
           1683744.99,
           0,
           0,
           0,
           39723443.15816737,
           4496201.622804615,
           6283545.998463512,
           18324130.01212449,
           198231.94309440008,
           31231895.67992761,
           748933.1442890011,
           0,
           0,
           153217.8406477074,
           0,
           0,
           153217.8406477074,
           0,
           0,
           0
          ]
         },
         "node": {
          "color": [
           "27f1b1",
           "d23cd0",
           "aea778",
           "599749",
           "1f8ed1",
           "ff9aab",
           "9f0f5f",
           "20c1a9",
           "a285ed",
           "dfbbc8",
           "a53fc9",
           "5e6225",
           "c9ece0",
           "9fdce9",
           "05ad47",
           "30b9c2",
           "4de767",
           "501f7d",
           "34b9b6",
           "a88723",
           "bd7d75",
           "0c795d",
           "e14358",
           "051369",
           "0a8b8c",
           "b38345",
           "a6cb18",
           "76265d",
           "3ceada",
           "2af460",
           "fcf8e1",
           "f9d6d6",
           "368282",
           "67f845",
           "8d33c9",
           "2d0571",
           "6f084d"
          ],
          "label": [
           "egypt_generation",
           "gaza_diesel",
           "gaza_generation",
           "gaza_natural_gas",
           "gaza_solar",
           "israel_ccgt",
           "israel_coal",
           "israel_diesel",
           "israel_gas_storage",
           "israel_generation",
           "israel_natural_gas",
           "israel_solar",
           "israel_wind",
           "jordan_ccgt",
           "jordan_coal",
           "jordan_diesel",
           "jordan_generation",
           "jordan_natural_gas",
           "jordan_shale",
           "jordan_solar",
           "jordan_wind",
           "west_bank_ccgt",
           "west_bank_coal",
           "west_bank_diesel",
           "west_bank_generation",
           "west_bank_natural_gas",
           "west_bank_solar",
           "west_bank_wind",
           "gaza_energy_demand",
           "gaza_generation",
           "israel_generation",
           "israel_energy_demand",
           "jordan_energy_demand",
           "west_bank_energy_demand",
           "israel_gas_storage",
           "jordan_generation",
           "west_bank_generation"
          ],
          "line": {
           "color": "black",
           "width": 0
          },
          "pad": 10
         },
         "orientation": "h",
         "type": "sankey",
         "valueformat": ".0f"
        }
       ],
       "layout": {
        "font": {
         "size": 12
        },
        "height": 500,
        "title": "No Cooperation"
       }
      },
      "text/html": [
       "<div>                            <div id=\"f9ff2194-1941-4d7f-bedf-4e223cefcaa6\" class=\"plotly-graph-div\" style=\"height:500px; width:100%;\"></div>            <script type=\"text/javascript\">                require([\"plotly\"], function(Plotly) {                    window.PLOTLYENV=window.PLOTLYENV || {};                                    if (document.getElementById(\"f9ff2194-1941-4d7f-bedf-4e223cefcaa6\")) {                    Plotly.newPlot(                        \"f9ff2194-1941-4d7f-bedf-4e223cefcaa6\",                        [{\"type\":\"sankey\",\"domain\":{\"x\":[0,1],\"y\":[0,1]},\"orientation\":\"h\",\"valueformat\":\".0f\",\"node\":{\"pad\":10,\"line\":{\"color\":\"black\",\"width\":0},\"label\":[\"egypt_generation\",\"gaza_diesel\",\"gaza_generation\",\"gaza_natural_gas\",\"gaza_solar\",\"israel_ccgt\",\"israel_coal\",\"israel_diesel\",\"israel_gas_storage\",\"israel_generation\",\"israel_natural_gas\",\"israel_solar\",\"israel_wind\",\"jordan_ccgt\",\"jordan_coal\",\"jordan_diesel\",\"jordan_generation\",\"jordan_natural_gas\",\"jordan_shale\",\"jordan_solar\",\"jordan_wind\",\"west_bank_ccgt\",\"west_bank_coal\",\"west_bank_diesel\",\"west_bank_generation\",\"west_bank_natural_gas\",\"west_bank_solar\",\"west_bank_wind\",\"gaza_energy_demand\",\"gaza_generation\",\"israel_generation\",\"israel_energy_demand\",\"jordan_energy_demand\",\"west_bank_energy_demand\",\"israel_gas_storage\",\"jordan_generation\",\"west_bank_generation\"],\"color\":[\"27f1b1\",\"d23cd0\",\"aea778\",\"599749\",\"1f8ed1\",\"ff9aab\",\"9f0f5f\",\"20c1a9\",\"a285ed\",\"dfbbc8\",\"a53fc9\",\"5e6225\",\"c9ece0\",\"9fdce9\",\"05ad47\",\"30b9c2\",\"4de767\",\"501f7d\",\"34b9b6\",\"a88723\",\"bd7d75\",\"0c795d\",\"e14358\",\"051369\",\"0a8b8c\",\"b38345\",\"a6cb18\",\"76265d\",\"3ceada\",\"2af460\",\"fcf8e1\",\"f9d6d6\",\"368282\",\"67f845\",\"8d33c9\",\"2d0571\",\"6f084d\"]},\"link\":{\"source\":[0,1,29,3,4,5,6,7,34,30,30,30,30,10,11,12,13,14,15,35,35,35,17,18,19,20,21,22,23,36,36,36,25,26,27],\"target\":[28,29,28,29,29,30,30,30,30,28,31,32,33,34,30,30,35,35,35,31,32,33,35,35,35,35,36,36,36,31,32,33,36,36,36],\"value\":[388475.79909246473,34.05605410832942,34.05605410832942,0.0,0.0,23899574.366030242,0.0,0.0,38576140.15213902,1302255.357732127,42774425.078061625,21297656.329053383,66179.28732928055,38576140.15213902,1281056.544007154,1683744.99,0.0,0.0,0.0,39723443.15816737,4496201.622804615,6283545.998463512,18324130.01212449,198231.94309440008,31231895.67992761,748933.1442890011,0.0,0.0,153217.8406477074,0.0,0.0,153217.8406477074,0.0,0.0,0.0],\"color\":[\"rgba(127, 194, 65, 0.2)\",\"rgba(127, 194, 65, 0.2)\",\"rgba(127, 194, 65, 0.2)\",\"rgba(127, 194, 65, 0.2)\",\"rgba(127, 194, 65, 0.2)\",\"rgba(127, 194, 65, 0.2)\",\"rgba(127, 194, 65, 0.2)\",\"rgba(127, 194, 65, 0.2)\",\"rgba(127, 194, 65, 0.2)\",\"rgba(127, 194, 65, 0.2)\",\"rgba(127, 194, 65, 0.2)\",\"rgba(127, 194, 65, 0.2)\",\"rgba(127, 194, 65, 0.2)\",\"rgba(127, 194, 65, 0.2)\",\"rgba(127, 194, 65, 0.2)\",\"rgba(127, 194, 65, 0.2)\",\"rgba(127, 194, 65, 0.2)\",\"rgba(127, 194, 65, 0.2)\",\"rgba(127, 194, 65, 0.2)\",\"rgba(127, 194, 65, 0.2)\",\"rgba(127, 194, 65, 0.2)\",\"rgba(127, 194, 65, 0.2)\",\"rgba(127, 194, 65, 0.2)\",\"rgba(127, 194, 65, 0.2)\",\"rgba(127, 194, 65, 0.2)\",\"rgba(127, 194, 65, 0.2)\",\"rgba(127, 194, 65, 0.2)\",\"rgba(127, 194, 65, 0.2)\",\"rgba(127, 194, 65, 0.2)\",\"rgba(127, 194, 65, 0.2)\",\"rgba(127, 194, 65, 0.2)\",\"rgba(127, 194, 65, 0.2)\",\"rgba(127, 194, 65, 0.2)\",\"rgba(127, 194, 65, 0.2)\",\"rgba(127, 194, 65, 0.2)\"]}}],                        {\"title\":\"No Cooperation\",\"height\":500,\"font\":{\"size\":12}},                        {\"responsive\": true}                    ).then(function(){\n",
       "                            \n",
       "var gd = document.getElementById('f9ff2194-1941-4d7f-bedf-4e223cefcaa6');\n",
       "var x = new MutationObserver(function (mutations, observer) {{\n",
       "        var display = window.getComputedStyle(gd).display;\n",
       "        if (!display || display === 'none') {{\n",
       "            console.log([gd, 'removed!']);\n",
       "            Plotly.purge(gd);\n",
       "            observer.disconnect();\n",
       "        }}\n",
       "}});\n",
       "\n",
       "// Listen for the removal of the full notebook cells\n",
       "var notebookContainer = gd.closest('#notebook-container');\n",
       "if (notebookContainer) {{\n",
       "    x.observe(notebookContainer, {childList: true});\n",
       "}}\n",
       "\n",
       "// Listen for the clearing of the current output cell\n",
       "var outputEl = gd.closest('.output');\n",
       "if (outputEl) {{\n",
       "    x.observe(outputEl, {childList: true});\n",
       "}}\n",
       "\n",
       "                        })                };                });            </script>        </div>"
      ]
     },
     "metadata": {},
     "output_type": "display_data"
    }
   ],
   "source": [
    "results['UTO'].plot_flows_sankey(height=500,title='No Cooperation')"
   ]
  },
  {
   "cell_type": "code",
   "execution_count": null,
   "id": "f292ed30",
   "metadata": {},
   "outputs": [],
   "source": []
  },
  {
   "cell_type": "code",
   "execution_count": null,
   "id": "e3039f32",
   "metadata": {},
   "outputs": [],
   "source": []
  },
  {
   "cell_type": "code",
   "execution_count": null,
   "id": "d2fa50e7",
   "metadata": {},
   "outputs": [],
   "source": []
  },
  {
   "cell_type": "code",
   "execution_count": null,
   "id": "9e2fcaa8",
   "metadata": {},
   "outputs": [],
   "source": []
  },
  {
   "cell_type": "code",
   "execution_count": null,
   "id": "26ac4660",
   "metadata": {},
   "outputs": [],
   "source": []
  },
  {
   "cell_type": "code",
   "execution_count": 22,
   "id": "55605cf7",
   "metadata": {},
   "outputs": [
    {
     "data": {
      "text/plain": [
       "8017"
      ]
     },
     "execution_count": 22,
     "metadata": {},
     "output_type": "execute_result"
    }
   ],
   "source": [
    "model_run.results_capacities.timestep.max()"
   ]
  },
  {
   "cell_type": "code",
   "execution_count": null,
   "id": "65b8e11c",
   "metadata": {},
   "outputs": [],
   "source": []
  },
  {
   "cell_type": "code",
   "execution_count": null,
   "id": "d1cd5e13",
   "metadata": {},
   "outputs": [],
   "source": []
  },
  {
   "cell_type": "code",
   "execution_count": null,
   "id": "3accb8ba",
   "metadata": {},
   "outputs": [],
   "source": []
  },
  {
   "cell_type": "code",
   "execution_count": null,
   "id": "4f87d786",
   "metadata": {},
   "outputs": [],
   "source": []
  }
 ],
 "metadata": {
  "kernelspec": {
   "display_name": "Python 3 (ipykernel)",
   "language": "python",
   "name": "python3"
  },
  "language_info": {
   "codemirror_mode": {
    "name": "ipython",
    "version": 3
   },
   "file_extension": ".py",
   "mimetype": "text/x-python",
   "name": "python",
   "nbconvert_exporter": "python",
   "pygments_lexer": "ipython3",
   "version": "3.9.7"
  }
 },
 "nbformat": 4,
 "nbformat_minor": 5
}
