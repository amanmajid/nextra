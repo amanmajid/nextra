{
 "cells": [
  {
   "cell_type": "code",
   "execution_count": 3,
   "id": "dccfae73",
   "metadata": {},
   "outputs": [
    {
     "data": {
      "text/html": [
       "        <script type=\"text/javascript\">\n",
       "        window.PlotlyConfig = {MathJaxConfig: 'local'};\n",
       "        if (window.MathJax) {MathJax.Hub.Config({SVG: {font: \"STIX-Web\"}});}\n",
       "        if (typeof require !== 'undefined') {\n",
       "        require.undef(\"plotly\");\n",
       "        requirejs.config({\n",
       "            paths: {\n",
       "                'plotly': ['https://cdn.plot.ly/plotly-2.6.3.min']\n",
       "            }\n",
       "        });\n",
       "        require(['plotly'], function(Plotly) {\n",
       "            window._Plotly = Plotly;\n",
       "        });\n",
       "        }\n",
       "        </script>\n",
       "        "
      ]
     },
     "metadata": {},
     "output_type": "display_data"
    }
   ],
   "source": [
    "import seaborn as sns\n",
    "import matplotlib.pyplot as plt\n",
    "\n",
    "import warnings\n",
    "warnings.filterwarnings('ignore')\n",
    "\n",
    "import sys\n",
    "sys.path.append('../')\n",
    "\n",
    "from infrasim.optimise import *\n",
    "from infrasim.utils import *"
   ]
  },
  {
   "cell_type": "code",
   "execution_count": 4,
   "id": "adcae87a",
   "metadata": {},
   "outputs": [],
   "source": [
    "# SUBFUNCTIONS\n",
    "\n",
    "def merge_capacity_data(results_dict):\n",
    "    '''Returns a dataframe with merged capacity data based on a dictionary containing a set of results class\n",
    "    '''\n",
    "    # init blank df\n",
    "    capacities = pd.DataFrame()\n",
    "    # loop results \n",
    "    for k in results_dict.keys():\n",
    "        df = results_dict[k].results_capacities\n",
    "        capacities = capacities.append(df,ignore_index=True)\n",
    "    return capacities\n",
    "\n",
    "\n",
    "def get_relative_capacities(results_dict):\n",
    "    capacities = merge_capacity_data(results_dict)\n",
    "    # get bas and delta dfs\n",
    "    bas   = capacities.loc[capacities.scenario.isin(['BAS'])].reset_index(drop=True)\n",
    "    delta = capacities.loc[~capacities.scenario.isin(['BAS'])].reset_index(drop=True)\n",
    "    # group\n",
    "    bas   = bas.groupby(by=['scenario','technology','territory']).max().reset_index()\n",
    "    delta = delta.groupby(by=['scenario','technology','territory']).max().reset_index()\n",
    "    # map baseline capacities\n",
    "    bas = bas.set_index('node')['value'].to_dict()\n",
    "    delta['bas_cap'] = delta.node.map(bas)\n",
    "    # compute delta\n",
    "    delta['relative_change'] = delta['value'] - delta['bas_cap']\n",
    "    return delta"
   ]
  },
  {
   "cell_type": "markdown",
   "id": "f0984a0c",
   "metadata": {},
   "source": [
    "## Run scenarios\n",
    "Here we run the model across all five scenarios and append the results into a dictionary"
   ]
  },
  {
   "cell_type": "code",
   "execution_count": null,
   "id": "ca7f0161",
   "metadata": {
    "scrolled": false
   },
   "outputs": [
    {
     "name": "stdout",
     "output_type": "stream",
     "text": [
      "Set parameter Username\n",
      "Academic license - for non-commercial use only - expires 2022-11-03\n",
      "\n",
      "> Completed: BAS\n"
     ]
    }
   ],
   "source": [
    "#File paths\n",
    "nodes = '../data/nextra/spatial/network/nodes.shp'\n",
    "edges = '../data/nextra/spatial/network/edges.shp'\n",
    "flows = '../data/nextra/nodal_flows/processed_flows_2030.csv'\n",
    "\n",
    "# Params\n",
    "timesteps=None\n",
    "super_source=False\n",
    "pprint=True\n",
    "save_figures=True\n",
    "\n",
    "infrasim_init_directories()\n",
    "\n",
    "scenarios = {'BAS' : False,\n",
    "             'BAU' : True,\n",
    "             'NCO' : True,\n",
    "             'EAG' : True,\n",
    "             'COO' : True,\n",
    "             'UTO' : True,}\n",
    "\n",
    "results = {}\n",
    "for s in scenarios:\n",
    "        \n",
    "    model_run = nextra(nodes,edges,flows,\n",
    "                       scenario=s,\n",
    "                       energy_objective=scenarios[s],\n",
    "                       timesteps=timesteps,\n",
    "                       #super_source=True,\n",
    "                       #super_sink=True,\n",
    "                       #res_factor=99,\n",
    "                       #model_name='meow',\n",
    "                      )\n",
    "\n",
    "    model_run.build()\n",
    "    model_run.run(pprint=False)\n",
    "    model_results = model_run.get_results()\n",
    "    # add scenarios to results\n",
    "    if s == 'BAU' and scenarios[s] == False:\n",
    "        s = 'BAS'\n",
    "        \n",
    "    model_results.results_capacities['scenario']       = s\n",
    "    model_results.results_storages['scenario']         = s\n",
    "    model_results.results_edge_flows['scenario']       = s\n",
    "    model_results.results_capacity_change['scenario']  = s\n",
    "    model_results.results_costs['scenario']            = s\n",
    "    # append results\n",
    "    results[s] = model_results\n",
    "    \n",
    "    print('> Completed: ' + s)\n",
    "    \n",
    "print('> Done.')   "
   ]
  },
  {
   "cell_type": "markdown",
   "id": "aa0603bb",
   "metadata": {},
   "source": [
    "## Create costs figure\n",
    "This figure will show the required costs ($) in 2030 per scenario as a bar chart"
   ]
  },
  {
   "cell_type": "code",
   "execution_count": null,
   "id": "a135ab2c",
   "metadata": {},
   "outputs": [],
   "source": [
    "def merge_cost_data(results_dict):\n",
    "    '''Returns a dataframe with merged capacity data based on a dictionary containing a set of results class\n",
    "    '''\n",
    "    # init blank df\n",
    "    costs = pd.DataFrame()\n",
    "    # loop results \n",
    "    for k in results_dict.keys():\n",
    "        df = results_dict[k].results_costs\n",
    "        costs = costs.append(df,ignore_index=True)\n",
    "    return costs\n",
    "\n",
    "# run function\n",
    "costs = merge_cost_data(results)\n",
    "# convert to gw\n",
    "#capacities['value'] = capacities['value'].apply(lambda row: mw_to_gw(row))\n",
    "# pivot for bar chart\n",
    "costs = costs.pivot_table(index=['scenario'],\n",
    "                          columns=['technology'],\n",
    "                          values='totex')\n",
    "# sort by ascending\n",
    "costs['total'] = costs.sum(axis=1)\n",
    "costs = costs.sort_values(\"total\").drop('total',axis=1)\n",
    "\n",
    "# plot\n",
    "plt.style.use('ggplot')\n",
    "f,ax = plt.subplots(ncols=1,nrows=1,figsize=(7,5))\n",
    "costs.plot.barh(stacked=True,rot=0,ax=ax,cmap='Spectral',edgecolor='black')\n",
    "ax.set_xlabel('Cost to 2030 [$]')\n",
    "ax.set_ylabel('Scenario')\n",
    "ax.legend(loc='center left', bbox_to_anchor=(1.0, 0.5),frameon=False)"
   ]
  },
  {
   "cell_type": "markdown",
   "id": "ceac1aaf",
   "metadata": {},
   "source": [
    "## Create capacities figure\n",
    "This figure will show the required capacity (GW) in 2030 per scenario as a bar chart"
   ]
  },
  {
   "cell_type": "code",
   "execution_count": null,
   "id": "fe0263fa",
   "metadata": {},
   "outputs": [],
   "source": [
    "# run function\n",
    "capacities = merge_capacity_data(results)\n",
    "# convert to gw\n",
    "#capacities['value'] = capacities['value'].apply(lambda row: mw_to_gw(row))\n",
    "# pivot for bar chart\n",
    "capacities = capacities.pivot_table(index=['scenario'],\n",
    "                                    columns=['technology'],\n",
    "                                    values='value')\n",
    "# sort by ascending\n",
    "capacities['total'] = capacities.sum(axis=1)\n",
    "capacities = capacities.sort_values(\"total\").drop('total',axis=1)\n",
    "\n",
    "# plot\n",
    "plt.style.use('ggplot')\n",
    "f,ax = plt.subplots(ncols=1,nrows=1,figsize=(7,5))\n",
    "capacities.plot.barh(stacked=True,rot=0,ax=ax,cmap='Spectral',edgecolor='black')\n",
    "ax.set_xlabel('Capacity in 2030 [GW]')\n",
    "ax.set_ylabel('Scenario')\n",
    "ax.legend(loc='center left', bbox_to_anchor=(1.0, 0.5),frameon=False)"
   ]
  },
  {
   "cell_type": "markdown",
   "id": "42be733e",
   "metadata": {},
   "source": [
    "## Relative capacity change\n",
    "This figure shows the capacity change (GW) per scenario relative to BAS"
   ]
  },
  {
   "cell_type": "code",
   "execution_count": null,
   "id": "4cd8e4f1",
   "metadata": {},
   "outputs": [],
   "source": [
    "delta = get_relative_capacities(results)\n",
    "\n",
    "f,ax = plt.subplots(ncols=1,nrows=5,figsize=(6,12),sharex=True,sharey=True)\n",
    "\n",
    "count=0\n",
    "for s in delta.scenario.unique():\n",
    "    idx = delta.loc[delta.scenario.isin([s])]\n",
    "    idx = idx.pivot_table(index=['territory'],columns=['technology'],values='relative_change')\n",
    "    idx.plot.bar(stacked=True,rot=0,ax=ax[count],cmap='Spectral',edgecolor='black',legend=False)\n",
    "    #ax[count].set_ylim([-5000,20000])\n",
    "    ax[count].set_xlabel(None)\n",
    "    ax[count].set_title(s,loc='left')\n",
    "    count=count+1\n",
    "\n",
    "plt.legend(loc='center left', bbox_to_anchor=(1.05, 3),frameon=False)\n",
    "\n",
    "f.text(0.5, 0.04, 'Region', ha='center', va='center')\n",
    "f.text(-0.03, 0.5, 'Relative Capacity Change (MW)', ha='center', va='center', rotation='vertical')\n",
    "\n"
   ]
  },
  {
   "cell_type": "code",
   "execution_count": null,
   "id": "527c2312",
   "metadata": {},
   "outputs": [],
   "source": [
    "# plot\n",
    "delta = get_relative_capacities(results)\n",
    "plt.style.use('ggplot')\n",
    "f,ax = plt.subplots(ncols=1,nrows=1,figsize=(7,5))\n",
    "delta = delta.pivot_table(index=['scenario'],columns=['technology'],values='relative_change')\n",
    "# sort by ascending\n",
    "delta['total'] = delta.sum(axis=1)\n",
    "delta = delta.sort_values(\"total\").drop('total',axis=1)\n",
    "delta.plot.barh(stacked=True,rot=0,ax=ax,cmap='Spectral',edgecolor='black')\n",
    "ax.set_xlabel('Capacity in 2030 [GW]')\n",
    "ax.set_ylabel('Scenario')\n",
    "ax.legend(loc='center left', bbox_to_anchor=(1.0, 0.5),frameon=False)\n",
    "ax.set_xlim([-2000,7200])"
   ]
  },
  {
   "cell_type": "markdown",
   "id": "aa7029ad",
   "metadata": {},
   "source": [
    "## Visualise flows\n",
    "This figure visualises flows between each territory"
   ]
  },
  {
   "cell_type": "code",
   "execution_count": null,
   "id": "8090848e",
   "metadata": {},
   "outputs": [],
   "source": [
    "results['UTO'].plot_flows_sankey(height=500,title='No Cooperation')"
   ]
  },
  {
   "cell_type": "code",
   "execution_count": null,
   "id": "f292ed30",
   "metadata": {},
   "outputs": [],
   "source": []
  },
  {
   "cell_type": "code",
   "execution_count": null,
   "id": "e3039f32",
   "metadata": {},
   "outputs": [],
   "source": []
  },
  {
   "cell_type": "code",
   "execution_count": null,
   "id": "d2fa50e7",
   "metadata": {},
   "outputs": [],
   "source": []
  },
  {
   "cell_type": "code",
   "execution_count": null,
   "id": "9e2fcaa8",
   "metadata": {},
   "outputs": [],
   "source": []
  },
  {
   "cell_type": "code",
   "execution_count": null,
   "id": "26ac4660",
   "metadata": {},
   "outputs": [],
   "source": []
  },
  {
   "cell_type": "code",
   "execution_count": null,
   "id": "55605cf7",
   "metadata": {},
   "outputs": [],
   "source": []
  },
  {
   "cell_type": "code",
   "execution_count": null,
   "id": "65b8e11c",
   "metadata": {},
   "outputs": [],
   "source": []
  },
  {
   "cell_type": "code",
   "execution_count": null,
   "id": "d1cd5e13",
   "metadata": {},
   "outputs": [],
   "source": []
  },
  {
   "cell_type": "code",
   "execution_count": null,
   "id": "3accb8ba",
   "metadata": {},
   "outputs": [],
   "source": [
    "import seaborn as sns\n",
    "import matplotlib.pyplot as plt\n",
    "\n",
    "import warnings\n",
    "warnings.filterwarnings('ignore')\n",
    "\n",
    "import sys\n",
    "sys.path.append('../')\n",
    "\n",
    "from infrasim.optimise import *\n",
    "from infrasim.utils import *\n",
    "\n",
    "#File paths\n",
    "nodes = '../data/nextra/spatial/network/nodes.shp'\n",
    "edges = '../data/nextra/spatial/network/edges.shp'\n",
    "flows = '../data/nextra/nodal_flows/processed_flows_2030.csv'\n",
    "\n",
    "# Params\n",
    "timesteps=None\n",
    "super_source=False\n",
    "pprint=True\n",
    "save_figures=True\n",
    "\n",
    "infrasim_init_directories()\n",
    "\n",
    "scenarios = {'NCO' : True,}\n",
    "\n",
    "results = {}\n",
    "for s in scenarios:\n",
    "        \n",
    "    model_run = nextra(nodes,edges,flows,\n",
    "                       scenario=s,\n",
    "                       energy_objective=scenarios[s],\n",
    "                       timesteps=timesteps,\n",
    "                       #super_source=True,\n",
    "                       #super_sink=True,\n",
    "                       #res_factor=99,\n",
    "                       #model_name='meow',\n",
    "                      )\n",
    "\n",
    "    model_run.build()\n",
    "    model_run.run(pprint=False)\n",
    "    model_results = model_run.get_results()\n",
    "    # add scenarios to results\n",
    "    if s == 'BAU' and scenarios[s] == False:\n",
    "        s = 'BAS'\n",
    "        \n",
    "    model_results.results_capacities['scenario'] = s\n",
    "    model_results.results_storages['scenario'] = s\n",
    "    model_results.results_edge_flows['scenario'] = s\n",
    "    # append results\n",
    "    results[s] = model_results\n",
    "    \n",
    "    print('> Completed: ' + s)\n",
    "    \n",
    "print('> Done.')   "
   ]
  },
  {
   "cell_type": "code",
   "execution_count": null,
   "id": "041ae715",
   "metadata": {},
   "outputs": [],
   "source": [
    "results['NCO'].plot_flows_sankey(height=500,title='No Cooperation')"
   ]
  },
  {
   "cell_type": "code",
   "execution_count": null,
   "id": "999d33ed",
   "metadata": {},
   "outputs": [],
   "source": [
    "results['NCO'].results_capacities.node.unique()"
   ]
  },
  {
   "cell_type": "code",
   "execution_count": null,
   "id": "b3f8e869",
   "metadata": {},
   "outputs": [],
   "source": [
    "results['NCO'].results_capacity_change"
   ]
  },
  {
   "cell_type": "code",
   "execution_count": null,
   "id": "d4d6a22d",
   "metadata": {},
   "outputs": [],
   "source": [
    "results['NCO'].results_costs"
   ]
  },
  {
   "cell_type": "code",
   "execution_count": null,
   "id": "90743a56",
   "metadata": {},
   "outputs": [],
   "source": [
    "sns.barplot(x='territory',y='totex',hue='technology',data=results['NCO'].results_costs)"
   ]
  },
  {
   "cell_type": "code",
   "execution_count": null,
   "id": "35ec3167",
   "metadata": {},
   "outputs": [],
   "source": []
  },
  {
   "cell_type": "code",
   "execution_count": null,
   "id": "7deaa084",
   "metadata": {},
   "outputs": [],
   "source": [
    "results['BAS'].plot_flows_heatmap(var='')"
   ]
  },
  {
   "cell_type": "code",
   "execution_count": null,
   "id": "7c61381d",
   "metadata": {},
   "outputs": [],
   "source": [
    "results['BAS'].flows.node.unique()"
   ]
  },
  {
   "cell_type": "code",
   "execution_count": null,
   "id": "b09b9a04",
   "metadata": {},
   "outputs": [],
   "source": [
    "plt.style.use('ggplot')\n",
    "\n",
    "demand = results['BAS'].flows.loc[results['BAS'].flows.node.str.contains('demand')]\n",
    "\n",
    "f,ax=plt.subplots(nrows=1,ncols=1,figsize=(6,4),sharex=True)\n",
    "\n",
    "ax.set_xscale(\"log\")\n",
    "\n",
    "sns.boxplot(x='value',y='node',palette='viridis',\n",
    "            data=demand,ax=ax,width=0.3)\n",
    "\n",
    "ax.set_ylabel(None)\n",
    "ax.set_xlabel('Log(Energy Demand [kWh])')\n",
    "ax.set_yticklabels(['Israel','Jordan','West Bank','Gaza'])\n",
    "ax.grid(which='major',linestyle='-',color='white')\n",
    "ax.grid(which='minor',linestyle='-',color='white',alpha=0.4)\n",
    "plt.legend([],[], frameon=False)\n",
    "ax.set_xlim([0,2*10**4])\n",
    "\n",
    "ax.tick_params(axis=\"both\",which='both',direction=\"in\")\n",
    "f.savefig('../outputs/figures/log_energy_demand.pdf',bbox_inches='tight')"
   ]
  },
  {
   "cell_type": "code",
   "execution_count": null,
   "id": "3e43c65d",
   "metadata": {},
   "outputs": [],
   "source": []
  },
  {
   "cell_type": "code",
   "execution_count": null,
   "id": "3c3c0e9b",
   "metadata": {},
   "outputs": [],
   "source": []
  }
 ],
 "metadata": {
  "kernelspec": {
   "display_name": "Python 3 (ipykernel)",
   "language": "python",
   "name": "python3"
  },
  "language_info": {
   "codemirror_mode": {
    "name": "ipython",
    "version": 3
   },
   "file_extension": ".py",
   "mimetype": "text/x-python",
   "name": "python",
   "nbconvert_exporter": "python",
   "pygments_lexer": "ipython3",
   "version": "3.9.7"
  }
 },
 "nbformat": 4,
 "nbformat_minor": 5
}
