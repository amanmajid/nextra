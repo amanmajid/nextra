{
 "cells": [
  {
   "cell_type": "code",
   "execution_count": 1,
   "id": "dccfae73",
   "metadata": {},
   "outputs": [],
   "source": [
    "import seaborn as sns\n",
    "import matplotlib.pyplot as plt\n",
    "\n",
    "import warnings\n",
    "warnings.filterwarnings('ignore')\n",
    "\n",
    "import sys\n",
    "sys.path.append('../')\n",
    "\n",
    "from infrasim.optimise import *\n",
    "from infrasim.utils import *"
   ]
  },
  {
   "cell_type": "markdown",
   "id": "f0984a0c",
   "metadata": {},
   "source": [
    "## Run scenarios\n",
    "Here we run the model across all five scenarios and append the results into a dictionary"
   ]
  },
  {
   "cell_type": "code",
   "execution_count": 9,
   "id": "ca7f0161",
   "metadata": {
    "scrolled": false
   },
   "outputs": [
    {
     "name": "stdout",
     "output_type": "stream",
     "text": [
      "\n",
      "> Completed: BAS\n",
      "\n",
      "> Completed: BAU\n",
      "\n",
      "> Completed: NCO\n",
      "\n",
      "> Completed: EAG\n",
      "\n",
      "> Completed: COO\n",
      "\n",
      "> Completed: UTO\n",
      "> Done.\n"
     ]
    }
   ],
   "source": [
    "#File paths\n",
    "nodes = '../data/nextra/spatial/network/nodes.shp'\n",
    "edges = '../data/nextra/spatial/network/edges.shp'\n",
    "flows = '../data/nextra/nodal_flows/processed_flows_2030.csv'\n",
    "\n",
    "# Params\n",
    "timesteps=None\n",
    "super_source=False\n",
    "pprint=True\n",
    "save_figures=True\n",
    "\n",
    "infrasim_init_directories()\n",
    "\n",
    "scenarios = {'BAS' : False,\n",
    "             'BAU' : True,\n",
    "             'NCO' : True,\n",
    "             'EAG' : True,\n",
    "             'COO' : True,\n",
    "             'UTO' : True,}\n",
    "\n",
    "results = {}\n",
    "for s in scenarios:\n",
    "    \n",
    "    model_run = nextra(nodes,edges,flows,\n",
    "                       scenario=s,\n",
    "                       energy_objective=scenarios[s],\n",
    "                       timesteps=timesteps,\n",
    "                       #super_source=True,\n",
    "                       #super_sink=True,\n",
    "                       #res_factor=99,\n",
    "                       #model_name='meow',\n",
    "                      )\n",
    "\n",
    "    model_run.build()\n",
    "    model_run.run(pprint=False)\n",
    "    model_run = model_run.get_results()\n",
    "    # add scenarios to results\n",
    "    if s == 'BAU' and scenarios[s] == False:\n",
    "        s = 'BAS'\n",
    "        \n",
    "    model_run.results_capacities['scenario'] = s\n",
    "    model_run.results_storages['scenario'] = s\n",
    "    model_run.results_edge_flows['scenario'] = s\n",
    "    # append results\n",
    "    results[s] = model_run\n",
    "    \n",
    "    print('> Completed: ' + s)\n",
    "    \n",
    "print('> Done.')   "
   ]
  },
  {
   "cell_type": "markdown",
   "id": "aa0603bb",
   "metadata": {},
   "source": [
    "## Create capacities figure\n",
    "This figure will show the required capacity (GW) in 2030 per scenario as a bar chart"
   ]
  },
  {
   "cell_type": "code",
   "execution_count": 41,
   "id": "a135ab2c",
   "metadata": {},
   "outputs": [
    {
     "data": {
      "text/plain": [
       "<matplotlib.legend.Legend at 0x1dc780160>"
      ]
     },
     "execution_count": 41,
     "metadata": {},
     "output_type": "execute_result"
    },
    {
     "data": {
      "image/png": "[encoded data removed]",
      "text/plain": [
       "<Figure size 504x360 with 1 Axes>"
      ]
     },
     "metadata": {},
     "output_type": "display_data"
    }
   ],
   "source": [
    "def merge_capacity_data(results_dict):\n",
    "    '''Returns a dataframe with merged capacity data based on a dictionary containing a set of results class\n",
    "    '''\n",
    "    # init blank df\n",
    "    capacities = pd.DataFrame()\n",
    "    # loop results \n",
    "    for k in results_dict.keys():\n",
    "        df = results_dict[k].results_capacities\n",
    "        capacities = capacities.append(df,ignore_index=True)\n",
    "    # map technologies and territories\n",
    "    capacities = map_tech_and_territory(results['BAU'],capacities,col_to_map='node')\n",
    "    return capacities\n",
    "\n",
    "# run function\n",
    "capacities = merge_capacity_data(results)\n",
    "# convert to gw\n",
    "#capacities['value'] = capacities['value'].apply(lambda row: mw_to_gw(row))\n",
    "# pivot for bar chart\n",
    "capacities = capacities.pivot_table(index=['scenario'],\n",
    "                                    columns=['technology'],\n",
    "                                    values='value')\n",
    "# sort by ascending\n",
    "capacities['total'] = capacities.sum(axis=1)\n",
    "capacities = capacities.sort_values(\"total\").drop('total',axis=1)\n",
    "\n",
    "# plot\n",
    "plt.style.use('ggplot')\n",
    "f,ax = plt.subplots(ncols=1,nrows=1,figsize=(7,5))\n",
    "capacities.plot.barh(stacked=True,rot=0,ax=ax,cmap='Spectral',edgecolor='black')\n",
    "ax.set_xlabel('Capacity in 2030 [GW]')\n",
    "ax.set_ylabel('Scenario')\n",
    "ax.legend(loc='center left', bbox_to_anchor=(1.0, 0.5),frameon=False)"
   ]
  },
  {
   "cell_type": "markdown",
   "id": "dcd2bb81",
   "metadata": {},
   "source": [
    "## Relative capacity change\n",
    "This figure shows the capacity change (GW) per scenario relative to BAS"
   ]
  },
  {
   "cell_type": "code",
   "execution_count": 24,
   "id": "4cd8e4f1",
   "metadata": {},
   "outputs": [
    {
     "data": {
      "text/html": [
       "<div>\n",
       "<style scoped>\n",
       "    .dataframe tbody tr th:only-of-type {\n",
       "        vertical-align: middle;\n",
       "    }\n",
       "\n",
       "    .dataframe tbody tr th {\n",
       "        vertical-align: top;\n",
       "    }\n",
       "\n",
       "    .dataframe thead th {\n",
       "        text-align: right;\n",
       "    }\n",
       "</style>\n",
       "<table border=\"1\" class=\"dataframe\">\n",
       "  <thead>\n",
       "    <tr style=\"text-align: right;\">\n",
       "      <th>technology</th>\n",
       "      <th>Ccgt</th>\n",
       "      <th>Coal</th>\n",
       "      <th>Diesel</th>\n",
       "      <th>Gas Reservoir</th>\n",
       "      <th>Natural Gas</th>\n",
       "      <th>Shale</th>\n",
       "      <th>Solar</th>\n",
       "      <th>Wind</th>\n",
       "    </tr>\n",
       "    <tr>\n",
       "      <th>scenario</th>\n",
       "      <th></th>\n",
       "      <th></th>\n",
       "      <th></th>\n",
       "      <th></th>\n",
       "      <th></th>\n",
       "      <th></th>\n",
       "      <th></th>\n",
       "      <th></th>\n",
       "    </tr>\n",
       "  </thead>\n",
       "  <tbody>\n",
       "    <tr>\n",
       "      <th>BAS</th>\n",
       "      <td>1133.333333</td>\n",
       "      <td>0.0</td>\n",
       "      <td>721.131033</td>\n",
       "      <td>931.528949</td>\n",
       "      <td>3711.75</td>\n",
       "      <td>0.000000</td>\n",
       "      <td>174.500000</td>\n",
       "      <td>339.666667</td>\n",
       "    </tr>\n",
       "    <tr>\n",
       "      <th>BAU</th>\n",
       "      <td>1133.333333</td>\n",
       "      <td>0.0</td>\n",
       "      <td>2945.147100</td>\n",
       "      <td>0.000000</td>\n",
       "      <td>3711.75</td>\n",
       "      <td>744.688977</td>\n",
       "      <td>1199.364035</td>\n",
       "      <td>339.666667</td>\n",
       "    </tr>\n",
       "    <tr>\n",
       "      <th>EAG</th>\n",
       "      <td>1133.333333</td>\n",
       "      <td>0.0</td>\n",
       "      <td>2930.406563</td>\n",
       "      <td>0.000000</td>\n",
       "      <td>3711.75</td>\n",
       "      <td>855.847959</td>\n",
       "      <td>1495.940004</td>\n",
       "      <td>339.666667</td>\n",
       "    </tr>\n",
       "    <tr>\n",
       "      <th>NCO</th>\n",
       "      <td>1133.333333</td>\n",
       "      <td>0.0</td>\n",
       "      <td>2933.362294</td>\n",
       "      <td>0.000000</td>\n",
       "      <td>3711.75</td>\n",
       "      <td>820.667471</td>\n",
       "      <td>1547.326736</td>\n",
       "      <td>339.666667</td>\n",
       "    </tr>\n",
       "    <tr>\n",
       "      <th>UTO</th>\n",
       "      <td>1133.333333</td>\n",
       "      <td>0.0</td>\n",
       "      <td>135.000000</td>\n",
       "      <td>3262.422759</td>\n",
       "      <td>3711.75</td>\n",
       "      <td>158.990753</td>\n",
       "      <td>4449.997330</td>\n",
       "      <td>339.666667</td>\n",
       "    </tr>\n",
       "    <tr>\n",
       "      <th>COO</th>\n",
       "      <td>1133.333333</td>\n",
       "      <td>0.0</td>\n",
       "      <td>107.882308</td>\n",
       "      <td>3262.422759</td>\n",
       "      <td>3711.75</td>\n",
       "      <td>267.461521</td>\n",
       "      <td>4449.997330</td>\n",
       "      <td>339.666667</td>\n",
       "    </tr>\n",
       "  </tbody>\n",
       "</table>\n",
       "</div>"
      ],
      "text/plain": [
       "technology         Ccgt  Coal       Diesel  Gas Reservoir  Natural Gas  \\\n",
       "scenario                                                                 \n",
       "BAS         1133.333333   0.0   721.131033     931.528949      3711.75   \n",
       "BAU         1133.333333   0.0  2945.147100       0.000000      3711.75   \n",
       "EAG         1133.333333   0.0  2930.406563       0.000000      3711.75   \n",
       "NCO         1133.333333   0.0  2933.362294       0.000000      3711.75   \n",
       "UTO         1133.333333   0.0   135.000000    3262.422759      3711.75   \n",
       "COO         1133.333333   0.0   107.882308    3262.422759      3711.75   \n",
       "\n",
       "technology       Shale        Solar        Wind  \n",
       "scenario                                         \n",
       "BAS           0.000000   174.500000  339.666667  \n",
       "BAU         744.688977  1199.364035  339.666667  \n",
       "EAG         855.847959  1495.940004  339.666667  \n",
       "NCO         820.667471  1547.326736  339.666667  \n",
       "UTO         158.990753  4449.997330  339.666667  \n",
       "COO         267.461521  4449.997330  339.666667  "
      ]
     },
     "execution_count": 24,
     "metadata": {},
     "output_type": "execute_result"
    }
   ],
   "source": []
  },
  {
   "cell_type": "code",
   "execution_count": null,
   "id": "527c2312",
   "metadata": {},
   "outputs": [],
   "source": []
  },
  {
   "cell_type": "code",
   "execution_count": 6,
   "id": "ed3821e8",
   "metadata": {},
   "outputs": [
    {
     "data": {
      "text/plain": [
       "{'BAU': <infrasim.postprocess.nextra_postprocess at 0x183f9fb80>,\n",
       " 'NCO': <infrasim.postprocess.nextra_postprocess at 0x18cdbeb80>,\n",
       " 'EAG': <infrasim.postprocess.nextra_postprocess at 0x1c08993a0>,\n",
       " 'COO': <infrasim.postprocess.nextra_postprocess at 0x18cdbe730>,\n",
       " 'UTO': <infrasim.postprocess.nextra_postprocess at 0x1c0cd9190>}"
      ]
     },
     "execution_count": 6,
     "metadata": {},
     "output_type": "execute_result"
    }
   ],
   "source": [
    "results"
   ]
  },
  {
   "cell_type": "code",
   "execution_count": null,
   "id": "8090848e",
   "metadata": {},
   "outputs": [],
   "source": []
  },
  {
   "cell_type": "code",
   "execution_count": null,
   "id": "f292ed30",
   "metadata": {},
   "outputs": [],
   "source": []
  },
  {
   "cell_type": "code",
   "execution_count": null,
   "id": "e3039f32",
   "metadata": {},
   "outputs": [],
   "source": []
  }
 ],
 "metadata": {
  "kernelspec": {
   "display_name": "Python 3 (ipykernel)",
   "language": "python",
   "name": "python3"
  },
  "language_info": {
   "codemirror_mode": {
    "name": "ipython",
    "version": 3
   },
   "file_extension": ".py",
   "mimetype": "text/x-python",
   "name": "python",
   "nbconvert_exporter": "python",
   "pygments_lexer": "ipython3",
   "version": "3.9.7"
  }
 },
 "nbformat": 4,
 "nbformat_minor": 5
}
