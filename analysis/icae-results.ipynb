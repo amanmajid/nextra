{
 "cells": [
  {
   "cell_type": "code",
   "execution_count": 1,
   "id": "dccfae73",
   "metadata": {},
   "outputs": [
    {
     "data": {
      "text/html": [
       "        <script type=\"text/javascript\">\n",
       "        window.PlotlyConfig = {MathJaxConfig: 'local'};\n",
       "        if (window.MathJax) {MathJax.Hub.Config({SVG: {font: \"STIX-Web\"}});}\n",
       "        if (typeof require !== 'undefined') {\n",
       "        require.undef(\"plotly\");\n",
       "        requirejs.config({\n",
       "            paths: {\n",
       "                'plotly': ['https://cdn.plot.ly/plotly-2.6.3.min']\n",
       "            }\n",
       "        });\n",
       "        require(['plotly'], function(Plotly) {\n",
       "            window._Plotly = Plotly;\n",
       "        });\n",
       "        }\n",
       "        </script>\n",
       "        "
      ]
     },
     "metadata": {},
     "output_type": "display_data"
    }
   ],
   "source": [
    "import seaborn as sns\n",
    "import matplotlib.pyplot as plt\n",
    "\n",
    "import warnings\n",
    "warnings.filterwarnings('ignore')\n",
    "\n",
    "import sys\n",
    "sys.path.append('../')\n",
    "\n",
    "from infrasim.optimise import *\n",
    "from infrasim.utils import *"
   ]
  },
  {
   "cell_type": "code",
   "execution_count": 2,
   "id": "adcae87a",
   "metadata": {},
   "outputs": [],
   "source": [
    "# SUBFUNCTIONS\n",
    "\n",
    "def merge_capacity_data(results_dict):\n",
    "    '''Returns a dataframe with merged capacity data based on a dictionary containing a set of results class\n",
    "    '''\n",
    "    # init blank df\n",
    "    capacities = pd.DataFrame()\n",
    "    # loop results \n",
    "    for k in results_dict.keys():\n",
    "        df = results_dict[k].results_capacities\n",
    "        capacities = capacities.append(df,ignore_index=True)\n",
    "    return capacities\n",
    "\n",
    "\n",
    "def get_relative_capacities(results_dict):\n",
    "    capacities = merge_capacity_data(results_dict)\n",
    "    # get bas and delta dfs\n",
    "    bas   = capacities.loc[capacities.scenario.isin(['BAS'])].reset_index(drop=True)\n",
    "    delta = capacities.loc[~capacities.scenario.isin(['BAS'])].reset_index(drop=True)\n",
    "    # group\n",
    "    bas   = bas.groupby(by=['scenario','technology','territory']).max().reset_index()\n",
    "    delta = delta.groupby(by=['scenario','technology','territory']).max().reset_index()\n",
    "    # map baseline capacities\n",
    "    bas = bas.set_index('node')['value'].to_dict()\n",
    "    delta['bas_cap'] = delta.node.map(bas)\n",
    "    # compute delta\n",
    "    delta['relative_change'] = delta['value'] - delta['bas_cap']\n",
    "    return delta"
   ]
  },
  {
   "cell_type": "markdown",
   "id": "f0984a0c",
   "metadata": {},
   "source": [
    "## Run scenarios\n",
    "Here we run the model across all five scenarios and append the results into a dictionary"
   ]
  },
  {
   "cell_type": "code",
   "execution_count": 3,
   "id": "ca7f0161",
   "metadata": {
    "scrolled": false
   },
   "outputs": [
    {
     "name": "stdout",
     "output_type": "stream",
     "text": [
      "Academic license - for non-commercial use only - expires 2022-11-03\n",
      "Using license file /Users/amanmajid/gurobi.lic\n",
      "\n",
      "> Completed: BAS\n",
      "\n",
      "> Completed: BAU\n",
      "\n",
      "> Completed: NCO\n",
      "\n",
      "> Completed: EAG\n",
      "\n",
      "> Completed: COO\n",
      "\n",
      "> Completed: UTO\n",
      "> Done.\n"
     ]
    }
   ],
   "source": [
    "#File paths\n",
    "nodes = '../data/nextra/spatial/network/nodes.shp'\n",
    "edges = '../data/nextra/spatial/network/edges.shp'\n",
    "flows = '../data/nextra/nodal_flows/processed_flows_2030.csv'\n",
    "\n",
    "# Params\n",
    "timesteps=None\n",
    "super_source=False\n",
    "pprint=True\n",
    "save_figures=True\n",
    "\n",
    "infrasim_init_directories()\n",
    "\n",
    "scenarios = {'BAS' : False,\n",
    "             'BAU' : True,\n",
    "             'NCO' : True,\n",
    "             'EAG' : True,\n",
    "             'COO' : True,\n",
    "             'UTO' : True,}\n",
    "\n",
    "results = {}\n",
    "for s in scenarios:\n",
    "        \n",
    "    model_run = nextra(nodes,edges,flows,\n",
    "                       scenario=s,\n",
    "                       energy_objective=scenarios[s],\n",
    "                       timesteps=timesteps,\n",
    "                       #super_source=True,\n",
    "                       #super_sink=True,\n",
    "                       #res_factor=99,\n",
    "                       #model_name='meow',\n",
    "                      )\n",
    "\n",
    "    model_run.build()\n",
    "    model_run.run(pprint=False)\n",
    "    model_results = model_run.get_results()\n",
    "    # add scenarios to results\n",
    "    if s == 'BAU' and scenarios[s] == False:\n",
    "        s = 'BAS'\n",
    "        \n",
    "    model_results.results_capacities['scenario']       = s\n",
    "    model_results.results_storages['scenario']         = s\n",
    "    model_results.results_edge_flows['scenario']       = s\n",
    "    model_results.results_capacity_change['scenario']  = s\n",
    "    model_results.results_costs['scenario']            = s\n",
    "    # append results\n",
    "    results[s] = model_results\n",
    "    \n",
    "    print('> Completed: ' + s)\n",
    "    \n",
    "print('> Done.')   "
   ]
  },
  {
   "cell_type": "markdown",
   "id": "aa0603bb",
   "metadata": {},
   "source": [
    "## Create costs figure\n",
    "This figure will show the required costs ($) in 2030 per scenario as a bar chart"
   ]
  },
  {
   "cell_type": "code",
   "execution_count": 4,
   "id": "a135ab2c",
   "metadata": {},
   "outputs": [
    {
     "data": {
      "text/plain": [
       "<matplotlib.legend.Legend at 0x19a6e85e0>"
      ]
     },
     "execution_count": 4,
     "metadata": {},
     "output_type": "execute_result"
    },
    {
     "data": {
      "image/png": "[encoded data removed]",
      "text/plain": [
       "<Figure size 504x360 with 1 Axes>"
      ]
     },
     "metadata": {},
     "output_type": "display_data"
    }
   ],
   "source": [
    "def merge_cost_data(results_dict):\n",
    "    '''Returns a dataframe with merged capacity data based on a dictionary containing a set of results class\n",
    "    '''\n",
    "    # init blank df\n",
    "    costs = pd.DataFrame()\n",
    "    # loop results \n",
    "    for k in results_dict.keys():\n",
    "        df = results_dict[k].results_costs\n",
    "        costs = costs.append(df,ignore_index=True)\n",
    "    return costs\n",
    "\n",
    "# run function\n",
    "costs = merge_cost_data(results)\n",
    "# convert to gw\n",
    "#capacities['value'] = capacities['value'].apply(lambda row: mw_to_gw(row))\n",
    "# pivot for bar chart\n",
    "costs = costs.pivot_table(index=['scenario'],\n",
    "                          columns=['technology'],\n",
    "                          values='totex')\n",
    "# sort by ascending\n",
    "costs['total'] = costs.sum(axis=1)\n",
    "costs = costs.sort_values(\"total\").drop('total',axis=1)\n",
    "\n",
    "# plot\n",
    "plt.style.use('ggplot')\n",
    "f,ax = plt.subplots(ncols=1,nrows=1,figsize=(7,5))\n",
    "costs.plot.barh(stacked=True,rot=0,ax=ax,cmap='Spectral',edgecolor='black')\n",
    "ax.set_xlabel('Cost to 2030 [$]')\n",
    "ax.set_ylabel('Scenario')\n",
    "ax.legend(loc='center left', bbox_to_anchor=(1.0, 0.5),frameon=False)"
   ]
  },
  {
   "cell_type": "markdown",
   "id": "ceac1aaf",
   "metadata": {},
   "source": [
    "## Create capacities figure\n",
    "This figure will show the required capacity (GW) in 2030 per scenario as a bar chart"
   ]
  },
  {
   "cell_type": "code",
   "execution_count": 5,
   "id": "fe0263fa",
   "metadata": {},
   "outputs": [
    {
     "data": {
      "text/plain": [
       "<matplotlib.legend.Legend at 0x19a01a0a0>"
      ]
     },
     "execution_count": 5,
     "metadata": {},
     "output_type": "execute_result"
    },
    {
     "data": {
      "image/png": "[encoded data removed]",
      "text/plain": [
       "<Figure size 504x360 with 1 Axes>"
      ]
     },
     "metadata": {},
     "output_type": "display_data"
    }
   ],
   "source": [
    "# run function\n",
    "capacities = merge_capacity_data(results)\n",
    "# convert to gw\n",
    "#capacities['value'] = capacities['value'].apply(lambda row: mw_to_gw(row))\n",
    "# pivot for bar chart\n",
    "capacities = capacities.pivot_table(index=['scenario'],\n",
    "                                    columns=['technology'],\n",
    "                                    values='value')\n",
    "# sort by ascending\n",
    "capacities['total'] = capacities.sum(axis=1)\n",
    "capacities = capacities.sort_values(\"total\").drop('total',axis=1)\n",
    "\n",
    "# plot\n",
    "plt.style.use('ggplot')\n",
    "f,ax = plt.subplots(ncols=1,nrows=1,figsize=(7,5))\n",
    "capacities.plot.barh(stacked=True,rot=0,ax=ax,cmap='Spectral',edgecolor='black')\n",
    "ax.set_xlabel('Capacity in 2030 [GW]')\n",
    "ax.set_ylabel('Scenario')\n",
    "ax.legend(loc='center left', bbox_to_anchor=(1.0, 0.5),frameon=False)"
   ]
  },
  {
   "cell_type": "markdown",
   "id": "42be733e",
   "metadata": {},
   "source": [
    "## Relative capacity change\n",
    "This figure shows the capacity change (GW) per scenario relative to BAS"
   ]
  },
  {
   "cell_type": "code",
   "execution_count": 6,
   "id": "4cd8e4f1",
   "metadata": {},
   "outputs": [
    {
     "data": {
      "text/plain": [
       "Text(-0.03, 0.5, 'Relative Capacity Change (MW)')"
      ]
     },
     "execution_count": 6,
     "metadata": {},
     "output_type": "execute_result"
    },
    {
     "data": {
      "image/png": "[encoded data removed]",
      "text/plain": [
       "<Figure size 432x864 with 5 Axes>"
      ]
     },
     "metadata": {},
     "output_type": "display_data"
    }
   ],
   "source": [
    "delta = get_relative_capacities(results)\n",
    "\n",
    "f,ax = plt.subplots(ncols=1,nrows=5,figsize=(6,12),sharex=True,sharey=True)\n",
    "\n",
    "count=0\n",
    "for s in delta.scenario.unique():\n",
    "    idx = delta.loc[delta.scenario.isin([s])]\n",
    "    idx = idx.pivot_table(index=['territory'],columns=['technology'],values='relative_change')\n",
    "    idx.plot.bar(stacked=True,rot=0,ax=ax[count],cmap='Spectral',edgecolor='black',legend=False)\n",
    "    #ax[count].set_ylim([-5000,20000])\n",
    "    ax[count].set_xlabel(None)\n",
    "    ax[count].set_title(s,loc='left')\n",
    "    count=count+1\n",
    "\n",
    "plt.legend(loc='center left', bbox_to_anchor=(1.05, 3),frameon=False)\n",
    "\n",
    "f.text(0.5, 0.04, 'Region', ha='center', va='center')\n",
    "f.text(-0.03, 0.5, 'Relative Capacity Change (MW)', ha='center', va='center', rotation='vertical')\n",
    "\n"
   ]
  },
  {
   "cell_type": "code",
   "execution_count": 7,
   "id": "527c2312",
   "metadata": {},
   "outputs": [
    {
     "data": {
      "text/plain": [
       "(-2000.0, 7200.0)"
      ]
     },
     "execution_count": 7,
     "metadata": {},
     "output_type": "execute_result"
    },
    {
     "data": {
      "image/png": "[encoded data removed]",
      "text/plain": [
       "<Figure size 504x360 with 1 Axes>"
      ]
     },
     "metadata": {},
     "output_type": "display_data"
    }
   ],
   "source": [
    "# plot\n",
    "delta = get_relative_capacities(results)\n",
    "plt.style.use('ggplot')\n",
    "f,ax = plt.subplots(ncols=1,nrows=1,figsize=(7,5))\n",
    "delta = delta.pivot_table(index=['scenario'],columns=['technology'],values='relative_change')\n",
    "# sort by ascending\n",
    "delta['total'] = delta.sum(axis=1)\n",
    "delta = delta.sort_values(\"total\").drop('total',axis=1)\n",
    "delta.plot.barh(stacked=True,rot=0,ax=ax,cmap='Spectral',edgecolor='black')\n",
    "ax.set_xlabel('Capacity in 2030 [GW]')\n",
    "ax.set_ylabel('Scenario')\n",
    "ax.legend(loc='center left', bbox_to_anchor=(1.0, 0.5),frameon=False)\n",
    "ax.set_xlim([-2000,7200])"
   ]
  },
  {
   "cell_type": "markdown",
   "id": "aa7029ad",
   "metadata": {},
   "source": [
    "## Visualise flows\n",
    "This figure visualises flows between each territory"
   ]
  },
  {
   "cell_type": "code",
   "execution_count": 9,
   "id": "8090848e",
   "metadata": {},
   "outputs": [
    {
     "data": {
      "application/vnd.plotly.v1+json": {
       "config": {
        "linkText": "Export to plot.ly",
        "plotlyServerURL": "https://plot.ly",
        "showLink": false
       },
       "data": [
        {
         "domain": {
          "x": [
           0,
           1
          ],
          "y": [
           0,
           1
          ]
         },
         "link": {
          "color": [
           "rgba(127, 194, 65, 0.2)",
           "rgba(127, 194, 65, 0.2)",
           "rgba(127, 194, 65, 0.2)",
           "rgba(127, 194, 65, 0.2)",
           "rgba(127, 194, 65, 0.2)",
           "rgba(127, 194, 65, 0.2)",
           "rgba(127, 194, 65, 0.2)",
           "rgba(127, 194, 65, 0.2)",
           "rgba(127, 194, 65, 0.2)",
           "rgba(127, 194, 65, 0.2)",
           "rgba(127, 194, 65, 0.2)",
           "rgba(127, 194, 65, 0.2)",
           "rgba(127, 194, 65, 0.2)",
           "rgba(127, 194, 65, 0.2)",
           "rgba(127, 194, 65, 0.2)",
           "rgba(127, 194, 65, 0.2)",
           "rgba(127, 194, 65, 0.2)",
           "rgba(127, 194, 65, 0.2)",
           "rgba(127, 194, 65, 0.2)",
           "rgba(127, 194, 65, 0.2)",
           "rgba(127, 194, 65, 0.2)",
           "rgba(127, 194, 65, 0.2)",
           "rgba(127, 194, 65, 0.2)",
           "rgba(127, 194, 65, 0.2)",
           "rgba(127, 194, 65, 0.2)",
           "rgba(127, 194, 65, 0.2)",
           "rgba(127, 194, 65, 0.2)",
           "rgba(127, 194, 65, 0.2)",
           "rgba(127, 194, 65, 0.2)",
           "rgba(127, 194, 65, 0.2)",
           "rgba(127, 194, 65, 0.2)",
           "rgba(127, 194, 65, 0.2)",
           "rgba(127, 194, 65, 0.2)",
           "rgba(127, 194, 65, 0.2)",
           "rgba(127, 194, 65, 0.2)",
           "rgba(127, 194, 65, 0.2)",
           "rgba(127, 194, 65, 0.2)",
           "rgba(127, 194, 65, 0.2)",
           "rgba(127, 194, 65, 0.2)"
          ],
          "source": [
           0,
           34,
           2,
           33,
           4,
           5,
           40,
           7,
           8,
           9,
           39,
           35,
           35,
           35,
           35,
           12,
           13,
           14,
           42,
           16,
           17,
           18,
           41,
           41,
           41,
           20,
           21,
           22,
           23,
           44,
           25,
           26,
           27,
           43,
           43,
           43,
           29,
           30,
           31
          ],
          "target": [
           32,
           33,
           33,
           32,
           33,
           34,
           35,
           35,
           35,
           35,
           35,
           32,
           36,
           37,
           38,
           39,
           40,
           40,
           41,
           41,
           41,
           41,
           36,
           37,
           38,
           41,
           41,
           42,
           42,
           43,
           43,
           43,
           43,
           36,
           37,
           38,
           43,
           44,
           44
          ],
          "value": [
           1456674.6920340331,
           0,
           71.33348061204126,
           71.33348061204126,
           0,
           0,
           1675769.2382337,
           16801488.627084218,
           0,
           0,
           45489088.43956635,
           234019.18736405487,
           41704710.020906255,
           20556875.26651246,
           1470741.8301015,
           45489088.43956635,
           0,
           1675769.2382337,
           33269861.11999056,
           0,
           0,
           0,
           40793158.21532275,
           5236982.685345538,
           5032201.296339,
           17792481.077016726,
           0,
           32541023.91999056,
           728837.2,
           0,
           0,
           0,
           0,
           0,
           0,
           0,
           0,
           0,
           0
          ]
         },
         "node": {
          "color": [
           "88dfd7",
           "6e529f",
           "aacc48",
           "d1aa25",
           "19cace",
           "19ccfd",
           "21b4b4",
           "6cf4fb",
           "8336d3",
           "05981e",
           "60d4b2",
           "b5bc10",
           "004dd1",
           "02edda",
           "0273fc",
           "5ee00d",
           "2e6268",
           "af0685",
           "6a768e",
           "f40975",
           "3d394c",
           "8cf8f2",
           "496ba6",
           "9a429d",
           "e2de80",
           "52b5cf",
           "612e53",
           "36a7ae",
           "11327e",
           "2fa913",
           "535887",
           "618d6a",
           "91ab7c",
           "fc8707",
           "0beb73",
           "9a75d0",
           "53a680",
           "efcc37",
           "b5e9c5",
           "100b08",
           "bfd6aa",
           "470d15",
           "fac607",
           "0243a5",
           "97a090"
          ],
          "label": [
           "egypt_generation",
           "gaza_battery_storage",
           "gaza_diesel",
           "gaza_generation",
           "gaza_natural_gas",
           "gaza_solar",
           "israel_battery_storage",
           "israel_ccgt",
           "israel_coal",
           "israel_diesel",
           "israel_gas_storage",
           "israel_generation",
           "israel_natural_gas",
           "israel_solar",
           "israel_wind",
           "jordan_battery_storage",
           "jordan_ccgt",
           "jordan_coal",
           "jordan_diesel",
           "jordan_generation",
           "jordan_natural_gas",
           "jordan_shale",
           "jordan_solar",
           "jordan_wind",
           "west_bank_battery_storage",
           "west_bank_ccgt",
           "west_bank_coal",
           "west_bank_diesel",
           "west_bank_generation",
           "west_bank_natural_gas",
           "west_bank_solar",
           "west_bank_wind",
           "gaza_energy_demand",
           "gaza_generation",
           "gaza_battery_storage",
           "israel_generation",
           "israel_energy_demand",
           "jordan_energy_demand",
           "west_bank_energy_demand",
           "israel_gas_storage",
           "israel_battery_storage",
           "jordan_generation",
           "jordan_battery_storage",
           "west_bank_generation",
           "west_bank_battery_storage"
          ],
          "line": {
           "color": "black",
           "width": 0
          },
          "pad": 10
         },
         "orientation": "h",
         "type": "sankey",
         "valueformat": ".0f"
        }
       ],
       "layout": {
        "font": {
         "size": 12
        },
        "height": 500,
        "title": "No Cooperation"
       }
      },
      "text/html": [
       "<div>                            <div id=\"589597be-c312-41f6-86ea-44b97ba6e9a5\" class=\"plotly-graph-div\" style=\"height:500px; width:100%;\"></div>            <script type=\"text/javascript\">                require([\"plotly\"], function(Plotly) {                    window.PLOTLYENV=window.PLOTLYENV || {};                                    if (document.getElementById(\"589597be-c312-41f6-86ea-44b97ba6e9a5\")) {                    Plotly.newPlot(                        \"589597be-c312-41f6-86ea-44b97ba6e9a5\",                        [{\"type\":\"sankey\",\"domain\":{\"x\":[0,1],\"y\":[0,1]},\"orientation\":\"h\",\"valueformat\":\".0f\",\"node\":{\"pad\":10,\"line\":{\"color\":\"black\",\"width\":0},\"label\":[\"egypt_generation\",\"gaza_battery_storage\",\"gaza_diesel\",\"gaza_generation\",\"gaza_natural_gas\",\"gaza_solar\",\"israel_battery_storage\",\"israel_ccgt\",\"israel_coal\",\"israel_diesel\",\"israel_gas_storage\",\"israel_generation\",\"israel_natural_gas\",\"israel_solar\",\"israel_wind\",\"jordan_battery_storage\",\"jordan_ccgt\",\"jordan_coal\",\"jordan_diesel\",\"jordan_generation\",\"jordan_natural_gas\",\"jordan_shale\",\"jordan_solar\",\"jordan_wind\",\"west_bank_battery_storage\",\"west_bank_ccgt\",\"west_bank_coal\",\"west_bank_diesel\",\"west_bank_generation\",\"west_bank_natural_gas\",\"west_bank_solar\",\"west_bank_wind\",\"gaza_energy_demand\",\"gaza_generation\",\"gaza_battery_storage\",\"israel_generation\",\"israel_energy_demand\",\"jordan_energy_demand\",\"west_bank_energy_demand\",\"israel_gas_storage\",\"israel_battery_storage\",\"jordan_generation\",\"jordan_battery_storage\",\"west_bank_generation\",\"west_bank_battery_storage\"],\"color\":[\"88dfd7\",\"6e529f\",\"aacc48\",\"d1aa25\",\"19cace\",\"19ccfd\",\"21b4b4\",\"6cf4fb\",\"8336d3\",\"05981e\",\"60d4b2\",\"b5bc10\",\"004dd1\",\"02edda\",\"0273fc\",\"5ee00d\",\"2e6268\",\"af0685\",\"6a768e\",\"f40975\",\"3d394c\",\"8cf8f2\",\"496ba6\",\"9a429d\",\"e2de80\",\"52b5cf\",\"612e53\",\"36a7ae\",\"11327e\",\"2fa913\",\"535887\",\"618d6a\",\"91ab7c\",\"fc8707\",\"0beb73\",\"9a75d0\",\"53a680\",\"efcc37\",\"b5e9c5\",\"100b08\",\"bfd6aa\",\"470d15\",\"fac607\",\"0243a5\",\"97a090\"]},\"link\":{\"source\":[0,34,2,33,4,5,40,7,8,9,39,35,35,35,35,12,13,14,42,16,17,18,41,41,41,20,21,22,23,44,25,26,27,43,43,43,29,30,31],\"target\":[32,33,33,32,33,34,35,35,35,35,35,32,36,37,38,39,40,40,41,41,41,41,36,37,38,41,41,42,42,43,43,43,43,36,37,38,43,44,44],\"value\":[1456674.6920340331,0.0,71.33348061204126,71.33348061204126,0.0,0.0,1675769.2382337,16801488.627084218,0.0,0.0,45489088.43956635,234019.18736405487,41704710.020906255,20556875.26651246,1470741.8301015,45489088.43956635,0.0,1675769.2382337,33269861.11999056,0.0,0.0,0.0,40793158.21532275,5236982.685345538,5032201.296339,17792481.077016726,0.0,32541023.91999056,728837.2,0.0,0.0,0.0,0.0,0.0,0.0,0.0,0.0,0.0,0.0],\"color\":[\"rgba(127, 194, 65, 0.2)\",\"rgba(127, 194, 65, 0.2)\",\"rgba(127, 194, 65, 0.2)\",\"rgba(127, 194, 65, 0.2)\",\"rgba(127, 194, 65, 0.2)\",\"rgba(127, 194, 65, 0.2)\",\"rgba(127, 194, 65, 0.2)\",\"rgba(127, 194, 65, 0.2)\",\"rgba(127, 194, 65, 0.2)\",\"rgba(127, 194, 65, 0.2)\",\"rgba(127, 194, 65, 0.2)\",\"rgba(127, 194, 65, 0.2)\",\"rgba(127, 194, 65, 0.2)\",\"rgba(127, 194, 65, 0.2)\",\"rgba(127, 194, 65, 0.2)\",\"rgba(127, 194, 65, 0.2)\",\"rgba(127, 194, 65, 0.2)\",\"rgba(127, 194, 65, 0.2)\",\"rgba(127, 194, 65, 0.2)\",\"rgba(127, 194, 65, 0.2)\",\"rgba(127, 194, 65, 0.2)\",\"rgba(127, 194, 65, 0.2)\",\"rgba(127, 194, 65, 0.2)\",\"rgba(127, 194, 65, 0.2)\",\"rgba(127, 194, 65, 0.2)\",\"rgba(127, 194, 65, 0.2)\",\"rgba(127, 194, 65, 0.2)\",\"rgba(127, 194, 65, 0.2)\",\"rgba(127, 194, 65, 0.2)\",\"rgba(127, 194, 65, 0.2)\",\"rgba(127, 194, 65, 0.2)\",\"rgba(127, 194, 65, 0.2)\",\"rgba(127, 194, 65, 0.2)\",\"rgba(127, 194, 65, 0.2)\",\"rgba(127, 194, 65, 0.2)\",\"rgba(127, 194, 65, 0.2)\",\"rgba(127, 194, 65, 0.2)\",\"rgba(127, 194, 65, 0.2)\",\"rgba(127, 194, 65, 0.2)\"]}}],                        {\"title\":\"No Cooperation\",\"height\":500,\"font\":{\"size\":12}},                        {\"responsive\": true}                    ).then(function(){\n",
       "                            \n",
       "var gd = document.getElementById('589597be-c312-41f6-86ea-44b97ba6e9a5');\n",
       "var x = new MutationObserver(function (mutations, observer) {{\n",
       "        var display = window.getComputedStyle(gd).display;\n",
       "        if (!display || display === 'none') {{\n",
       "            console.log([gd, 'removed!']);\n",
       "            Plotly.purge(gd);\n",
       "            observer.disconnect();\n",
       "        }}\n",
       "}});\n",
       "\n",
       "// Listen for the removal of the full notebook cells\n",
       "var notebookContainer = gd.closest('#notebook-container');\n",
       "if (notebookContainer) {{\n",
       "    x.observe(notebookContainer, {childList: true});\n",
       "}}\n",
       "\n",
       "// Listen for the clearing of the current output cell\n",
       "var outputEl = gd.closest('.output');\n",
       "if (outputEl) {{\n",
       "    x.observe(outputEl, {childList: true});\n",
       "}}\n",
       "\n",
       "                        })                };                });            </script>        </div>"
      ]
     },
     "metadata": {},
     "output_type": "display_data"
    }
   ],
   "source": [
    "results['UTO'].plot_flows_sankey(height=500,title='No Cooperation')"
   ]
  },
  {
   "cell_type": "code",
   "execution_count": null,
   "id": "f292ed30",
   "metadata": {},
   "outputs": [],
   "source": []
  },
  {
   "cell_type": "code",
   "execution_count": null,
   "id": "e3039f32",
   "metadata": {},
   "outputs": [],
   "source": []
  },
  {
   "cell_type": "code",
   "execution_count": null,
   "id": "d2fa50e7",
   "metadata": {},
   "outputs": [],
   "source": []
  },
  {
   "cell_type": "code",
   "execution_count": null,
   "id": "9e2fcaa8",
   "metadata": {},
   "outputs": [],
   "source": []
  },
  {
   "cell_type": "code",
   "execution_count": null,
   "id": "26ac4660",
   "metadata": {},
   "outputs": [],
   "source": []
  },
  {
   "cell_type": "code",
   "execution_count": null,
   "id": "55605cf7",
   "metadata": {},
   "outputs": [],
   "source": []
  },
  {
   "cell_type": "code",
   "execution_count": null,
   "id": "65b8e11c",
   "metadata": {},
   "outputs": [],
   "source": []
  },
  {
   "cell_type": "code",
   "execution_count": null,
   "id": "d1cd5e13",
   "metadata": {},
   "outputs": [],
   "source": []
  },
  {
   "cell_type": "code",
   "execution_count": null,
   "id": "3accb8ba",
   "metadata": {},
   "outputs": [],
   "source": [
    "import seaborn as sns\n",
    "import matplotlib.pyplot as plt\n",
    "\n",
    "import warnings\n",
    "warnings.filterwarnings('ignore')\n",
    "\n",
    "import sys\n",
    "sys.path.append('../')\n",
    "\n",
    "from infrasim.optimise import *\n",
    "from infrasim.utils import *\n",
    "\n",
    "#File paths\n",
    "nodes = '../data/nextra/spatial/network/nodes.shp'\n",
    "edges = '../data/nextra/spatial/network/edges.shp'\n",
    "flows = '../data/nextra/nodal_flows/processed_flows_2030.csv'\n",
    "\n",
    "# Params\n",
    "timesteps=None\n",
    "super_source=False\n",
    "pprint=True\n",
    "save_figures=True\n",
    "\n",
    "infrasim_init_directories()\n",
    "\n",
    "scenarios = {'NCO' : True,}\n",
    "\n",
    "results = {}\n",
    "for s in scenarios:\n",
    "        \n",
    "    model_run = nextra(nodes,edges,flows,\n",
    "                       scenario=s,\n",
    "                       energy_objective=scenarios[s],\n",
    "                       timesteps=timesteps,\n",
    "                       #super_source=True,\n",
    "                       #super_sink=True,\n",
    "                       #res_factor=99,\n",
    "                       #model_name='meow',\n",
    "                      )\n",
    "\n",
    "    model_run.build()\n",
    "    model_run.run(pprint=False)\n",
    "    model_results = model_run.get_results()\n",
    "    # add scenarios to results\n",
    "    if s == 'BAU' and scenarios[s] == False:\n",
    "        s = 'BAS'\n",
    "        \n",
    "    model_results.results_capacities['scenario'] = s\n",
    "    model_results.results_storages['scenario'] = s\n",
    "    model_results.results_edge_flows['scenario'] = s\n",
    "    # append results\n",
    "    results[s] = model_results\n",
    "    \n",
    "    print('> Completed: ' + s)\n",
    "    \n",
    "print('> Done.')   "
   ]
  },
  {
   "cell_type": "code",
   "execution_count": null,
   "id": "041ae715",
   "metadata": {},
   "outputs": [],
   "source": [
    "results['NCO'].plot_flows_sankey(height=500,title='No Cooperation')"
   ]
  },
  {
   "cell_type": "code",
   "execution_count": null,
   "id": "999d33ed",
   "metadata": {},
   "outputs": [],
   "source": [
    "results['NCO'].results_capacities.node.unique()"
   ]
  },
  {
   "cell_type": "code",
   "execution_count": null,
   "id": "b3f8e869",
   "metadata": {},
   "outputs": [],
   "source": [
    "results['NCO'].results_capacity_change"
   ]
  },
  {
   "cell_type": "code",
   "execution_count": null,
   "id": "d4d6a22d",
   "metadata": {},
   "outputs": [],
   "source": [
    "results['NCO'].results_costs"
   ]
  },
  {
   "cell_type": "code",
   "execution_count": null,
   "id": "90743a56",
   "metadata": {},
   "outputs": [],
   "source": [
    "sns.barplot(x='territory',y='totex',hue='technology',data=results['NCO'].results_costs)"
   ]
  },
  {
   "cell_type": "code",
   "execution_count": null,
   "id": "35ec3167",
   "metadata": {},
   "outputs": [],
   "source": []
  },
  {
   "cell_type": "code",
   "execution_count": 11,
   "id": "7deaa084",
   "metadata": {},
   "outputs": [
    {
     "data": {
      "text/html": [
       "<div>\n",
       "<style scoped>\n",
       "    .dataframe tbody tr th:only-of-type {\n",
       "        vertical-align: middle;\n",
       "    }\n",
       "\n",
       "    .dataframe tbody tr th {\n",
       "        vertical-align: top;\n",
       "    }\n",
       "\n",
       "    .dataframe thead th {\n",
       "        text-align: right;\n",
       "    }\n",
       "</style>\n",
       "<table border=\"1\" class=\"dataframe\">\n",
       "  <thead>\n",
       "    <tr style=\"text-align: right;\">\n",
       "      <th></th>\n",
       "      <th>timestep</th>\n",
       "      <th>date</th>\n",
       "      <th>hour</th>\n",
       "      <th>day</th>\n",
       "      <th>month</th>\n",
       "      <th>year</th>\n",
       "      <th>node</th>\n",
       "      <th>value</th>\n",
       "    </tr>\n",
       "  </thead>\n",
       "  <tbody>\n",
       "    <tr>\n",
       "      <th>0</th>\n",
       "      <td>1</td>\n",
       "      <td>01/01/2030 00:00</td>\n",
       "      <td>1</td>\n",
       "      <td>1</td>\n",
       "      <td>1</td>\n",
       "      <td>2030</td>\n",
       "      <td>israel_energy_demand</td>\n",
       "      <td>8859.595337</td>\n",
       "    </tr>\n",
       "    <tr>\n",
       "      <th>1</th>\n",
       "      <td>2</td>\n",
       "      <td>01/01/2030 01:00</td>\n",
       "      <td>2</td>\n",
       "      <td>1</td>\n",
       "      <td>1</td>\n",
       "      <td>2030</td>\n",
       "      <td>israel_energy_demand</td>\n",
       "      <td>7969.387222</td>\n",
       "    </tr>\n",
       "    <tr>\n",
       "      <th>2</th>\n",
       "      <td>3</td>\n",
       "      <td>01/01/2030 02:00</td>\n",
       "      <td>3</td>\n",
       "      <td>1</td>\n",
       "      <td>1</td>\n",
       "      <td>2030</td>\n",
       "      <td>israel_energy_demand</td>\n",
       "      <td>7393.653331</td>\n",
       "    </tr>\n",
       "    <tr>\n",
       "      <th>3</th>\n",
       "      <td>4</td>\n",
       "      <td>01/01/2030 03:00</td>\n",
       "      <td>4</td>\n",
       "      <td>1</td>\n",
       "      <td>1</td>\n",
       "      <td>2030</td>\n",
       "      <td>israel_energy_demand</td>\n",
       "      <td>7120.323143</td>\n",
       "    </tr>\n",
       "    <tr>\n",
       "      <th>4</th>\n",
       "      <td>5</td>\n",
       "      <td>01/01/2030 04:00</td>\n",
       "      <td>5</td>\n",
       "      <td>1</td>\n",
       "      <td>1</td>\n",
       "      <td>2030</td>\n",
       "      <td>israel_energy_demand</td>\n",
       "      <td>7071.696861</td>\n",
       "    </tr>\n",
       "    <tr>\n",
       "      <th>...</th>\n",
       "      <td>...</td>\n",
       "      <td>...</td>\n",
       "      <td>...</td>\n",
       "      <td>...</td>\n",
       "      <td>...</td>\n",
       "      <td>...</td>\n",
       "      <td>...</td>\n",
       "      <td>...</td>\n",
       "    </tr>\n",
       "    <tr>\n",
       "      <th>96199</th>\n",
       "      <td>8013</td>\n",
       "      <td>30/11/2030 20:00</td>\n",
       "      <td>21</td>\n",
       "      <td>30</td>\n",
       "      <td>11</td>\n",
       "      <td>2030</td>\n",
       "      <td>gaza_solar</td>\n",
       "      <td>0.000000</td>\n",
       "    </tr>\n",
       "    <tr>\n",
       "      <th>96200</th>\n",
       "      <td>8014</td>\n",
       "      <td>30/11/2030 21:00</td>\n",
       "      <td>22</td>\n",
       "      <td>30</td>\n",
       "      <td>11</td>\n",
       "      <td>2030</td>\n",
       "      <td>gaza_solar</td>\n",
       "      <td>0.000000</td>\n",
       "    </tr>\n",
       "    <tr>\n",
       "      <th>96201</th>\n",
       "      <td>8015</td>\n",
       "      <td>30/11/2030 22:00</td>\n",
       "      <td>23</td>\n",
       "      <td>30</td>\n",
       "      <td>11</td>\n",
       "      <td>2030</td>\n",
       "      <td>gaza_solar</td>\n",
       "      <td>0.000000</td>\n",
       "    </tr>\n",
       "    <tr>\n",
       "      <th>96202</th>\n",
       "      <td>8016</td>\n",
       "      <td>30/11/2030 23:00</td>\n",
       "      <td>24</td>\n",
       "      <td>30</td>\n",
       "      <td>11</td>\n",
       "      <td>2030</td>\n",
       "      <td>gaza_solar</td>\n",
       "      <td>0.000000</td>\n",
       "    </tr>\n",
       "    <tr>\n",
       "      <th>96203</th>\n",
       "      <td>8017</td>\n",
       "      <td>01/12/2030 00:00</td>\n",
       "      <td>1</td>\n",
       "      <td>1</td>\n",
       "      <td>12</td>\n",
       "      <td>2030</td>\n",
       "      <td>gaza_solar</td>\n",
       "      <td>0.000000</td>\n",
       "    </tr>\n",
       "  </tbody>\n",
       "</table>\n",
       "<p>96204 rows × 8 columns</p>\n",
       "</div>"
      ],
      "text/plain": [
       "       timestep              date  hour  day  month  year  \\\n",
       "0             1  01/01/2030 00:00     1    1      1  2030   \n",
       "1             2  01/01/2030 01:00     2    1      1  2030   \n",
       "2             3  01/01/2030 02:00     3    1      1  2030   \n",
       "3             4  01/01/2030 03:00     4    1      1  2030   \n",
       "4             5  01/01/2030 04:00     5    1      1  2030   \n",
       "...         ...               ...   ...  ...    ...   ...   \n",
       "96199      8013  30/11/2030 20:00    21   30     11  2030   \n",
       "96200      8014  30/11/2030 21:00    22   30     11  2030   \n",
       "96201      8015  30/11/2030 22:00    23   30     11  2030   \n",
       "96202      8016  30/11/2030 23:00    24   30     11  2030   \n",
       "96203      8017  01/12/2030 00:00     1    1     12  2030   \n",
       "\n",
       "                       node        value  \n",
       "0      israel_energy_demand  8859.595337  \n",
       "1      israel_energy_demand  7969.387222  \n",
       "2      israel_energy_demand  7393.653331  \n",
       "3      israel_energy_demand  7120.323143  \n",
       "4      israel_energy_demand  7071.696861  \n",
       "...                     ...          ...  \n",
       "96199            gaza_solar     0.000000  \n",
       "96200            gaza_solar     0.000000  \n",
       "96201            gaza_solar     0.000000  \n",
       "96202            gaza_solar     0.000000  \n",
       "96203            gaza_solar     0.000000  \n",
       "\n",
       "[96204 rows x 8 columns]"
      ]
     },
     "execution_count": 11,
     "metadata": {},
     "output_type": "execute_result"
    }
   ],
   "source": [
    "results['BAS'].plot_flows_heatmap(var='')"
   ]
  },
  {
   "cell_type": "code",
   "execution_count": 12,
   "id": "7c61381d",
   "metadata": {},
   "outputs": [
    {
     "data": {
      "text/plain": [
       "array(['israel_energy_demand', 'jordan_energy_demand',\n",
       "       'west_bank_energy_demand', 'gaza_energy_demand', 'israel_wind',\n",
       "       'israel_solar', 'jordan_wind', 'jordan_solar', 'west_bank_wind',\n",
       "       'west_bank_solar', 'gaza_wind', 'gaza_solar'], dtype=object)"
      ]
     },
     "execution_count": 12,
     "metadata": {},
     "output_type": "execute_result"
    }
   ],
   "source": [
    "results['BAS'].flows.node.unique()"
   ]
  },
  {
   "cell_type": "code",
   "execution_count": 173,
   "id": "b09b9a04",
   "metadata": {},
   "outputs": [
    {
     "data": {
      "image/png": "[encoded data removed]",
      "text/plain": [
       "<Figure size 432x288 with 1 Axes>"
      ]
     },
     "metadata": {},
     "output_type": "display_data"
    }
   ],
   "source": [
    "plt.style.use('ggplot')\n",
    "\n",
    "demand = results['BAS'].flows.loc[results['BAS'].flows.node.str.contains('demand')]\n",
    "\n",
    "f,ax=plt.subplots(nrows=1,ncols=1,figsize=(6,4),sharex=True)\n",
    "\n",
    "ax.set_xscale(\"log\")\n",
    "\n",
    "sns.boxplot(x='value',y='node',palette='viridis',\n",
    "            data=demand,ax=ax,width=0.3)\n",
    "\n",
    "ax.set_ylabel(None)\n",
    "ax.set_xlabel('Log(Energy Demand [kWh])')\n",
    "ax.set_yticklabels(['Israel','Jordan','West Bank','Gaza'])\n",
    "ax.grid(which='major',linestyle='-',color='white')\n",
    "ax.grid(which='minor',linestyle='-',color='white',alpha=0.4)\n",
    "plt.legend([],[], frameon=False)\n",
    "ax.set_xlim([0,2*10**4])\n",
    "\n",
    "ax.tick_params(axis=\"both\",which='both',direction=\"in\")\n",
    "f.savefig('../outputs/figures/log_energy_demand.pdf',bbox_inches='tight')"
   ]
  },
  {
   "cell_type": "code",
   "execution_count": null,
   "id": "3e43c65d",
   "metadata": {},
   "outputs": [],
   "source": []
  },
  {
   "cell_type": "code",
   "execution_count": null,
   "id": "3c3c0e9b",
   "metadata": {},
   "outputs": [],
   "source": []
  }
 ],
 "metadata": {
  "kernelspec": {
   "display_name": "Python 3 (ipykernel)",
   "language": "python",
   "name": "python3"
  },
  "language_info": {
   "codemirror_mode": {
    "name": "ipython",
    "version": 3
   },
   "file_extension": ".py",
   "mimetype": "text/x-python",
   "name": "python",
   "nbconvert_exporter": "python",
   "pygments_lexer": "ipython3",
   "version": "3.9.7"
  }
 },
 "nbformat": 4,
 "nbformat_minor": 5
}
