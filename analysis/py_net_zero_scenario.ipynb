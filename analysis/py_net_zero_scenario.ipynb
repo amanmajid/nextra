{
 "cells": [
  {
   "cell_type": "code",
   "execution_count": 1,
   "id": "b79fdbdf-cc4f-4511-9360-fd55db2d9244",
   "metadata": {},
   "outputs": [],
   "source": [
    "import os\n",
    "import seaborn as sns\n",
    "import matplotlib.pyplot as plt\n",
    "import pickle \n",
    "import pickle\n",
    "import matplotlib as mpl\n",
    "\n",
    "import warnings\n",
    "warnings.filterwarnings('ignore')\n",
    "\n",
    "import sys\n",
    "sys.path.append('../')\n",
    "\n",
    "from infrasim.optimise import *\n",
    "from infrasim.utils import *\n",
    "\n",
    "\n",
    "def merge_capacity_data(results_dict):\n",
    "    '''Returns a dataframe with merged capacity data based on a dictionary containing a set of results class\n",
    "    '''\n",
    "    # init blank df\n",
    "    capacities = pd.DataFrame()\n",
    "    # loop results \n",
    "    for k in results_dict.keys():\n",
    "        df = results_dict[k].results_capacities\n",
    "        capacities = capacities.append(df,ignore_index=True)\n",
    "    return capacities\n",
    "\n",
    "\n",
    "#File paths\n",
    "nodes = '../data/nextra/spatial/network/nodes.shp'\n",
    "edges = '../data/nextra/spatial/network/edges.shp'\n",
    "flows = '../data/nextra/nodal_flows/processed_flows_2030_low.csv'\n",
    "\n",
    "# Params\n",
    "timesteps=24*30\n",
    "super_source=False\n",
    "pprint=True\n",
    "save_figures=True\n",
    "\n",
    "infrasim_init_directories()\n",
    "\n",
    "#ss_factors = [i/100 for i in np.arange(10,101,10).tolist()]\n",
    "ss_factors = [0.1,0.2,0.3,0.4,0.5,0.6,0.7,0.8,0.9,0.95]\n",
    "#ss_factors = [0.6,0.7,0.8,0.9,0.95]"
   ]
  },
  {
   "cell_type": "markdown",
   "id": "4467073c-8d45-4bda-862b-fd355cc72282",
   "metadata": {},
   "source": [
    "## RUN COO"
   ]
  },
  {
   "cell_type": "code",
   "execution_count": 2,
   "id": "2d7112a7-d394-4792-9fff-46dd6f52c3d3",
   "metadata": {},
   "outputs": [
    {
     "name": "stdout",
     "output_type": "stream",
     "text": [
      "> Running factor 0.1\n",
      "Set parameter Username\n",
      "\n",
      "--------------------------------------------\n",
      "Warning: your license will expire in 13 days\n",
      "--------------------------------------------\n",
      "\n",
      "Academic license - for non-commercial use only - expires 2022-07-10\n",
      "\n",
      "> Running factor 0.2\n",
      "\n",
      "> Running factor 0.3\n",
      "\n",
      "> Running factor 0.4\n",
      "\n",
      "> Running factor 0.5\n",
      "\n",
      "> Running factor 0.6\n",
      "\n",
      "> Running factor 0.7\n",
      "\n",
      "> Running factor 0.8\n",
      "\n",
      "> Running factor 0.9\n",
      "\n",
      "> Running factor 0.95\n",
      "\n"
     ]
    }
   ],
   "source": [
    "results = {}\n",
    "coo_caps = []\n",
    "coo_costs = []\n",
    "for s in ss_factors:\n",
    "    print(f'> Running factor {s}')\n",
    "    model_run = nextra(nodes,edges,flows,\n",
    "                       scenario='COO',\n",
    "                       energy_objective=True,\n",
    "                       timesteps=timesteps,\n",
    "                       coo_res_factor=s)\n",
    "\n",
    "    model_run.build()\n",
    "    model_run.run(pprint=False)\n",
    "    try:\n",
    "        model_results = model_run.get_results()\n",
    "        # add scenarios to results\n",
    "        # if s == 'BAU' and scenarios[s] == False:\n",
    "        #     s = 'BAS'\n",
    "        model_results.results_capacities['self_sufficiency_factor']       = s\n",
    "        model_results.results_storages['self_sufficiency_factor']         = s\n",
    "        model_results.results_edge_flows['self_sufficiency_factor']       = s\n",
    "        model_results.results_capacity_change['self_sufficiency_factor']  = s\n",
    "        model_results.results_costs['self_sufficiency_factor']            = s\n",
    "        # append results\n",
    "        results[ 'COO_' + str(s) ] = model_results\n",
    "        # append into list\n",
    "        m = model_results.get_capacities()\n",
    "        coo_caps.append(pd.DataFrame({'Technology' : ['Solar'],\n",
    "                                  'Factor' : s,\n",
    "                                  'Capacity' : m.loc[m.technology.isin(['Solar'])].value.sum() / 1000}))\n",
    "                    \n",
    "        coo_caps.append(pd.DataFrame({'Technology' : ['Wind'],\n",
    "                                  'Factor' : s,\n",
    "                                  'Capacity' : m.loc[m.technology.isin(['Wind'])].value.sum() / 1000 }))\n",
    "        \n",
    "        coo_caps.append(pd.DataFrame({'Technology' : ['Battery'],\n",
    "                                  'Factor' : s,\n",
    "                                  'Capacity' : m.loc[m.technology.isin(['Battery'])].value.sum() / 1000}))\n",
    "        \n",
    "        coo_costs.append(pd.DataFrame({'Factor':[s], 'Cost':model_results.results_costs.totex.sum()}))\n",
    "    except:\n",
    "        print('> FAILED! ' + str(s))"
   ]
  },
  {
   "cell_type": "markdown",
   "id": "0f466138-1da6-4400-9ba8-038dcacffe0e",
   "metadata": {},
   "source": [
    "## RUN NCO"
   ]
  },
  {
   "cell_type": "code",
   "execution_count": 3,
   "id": "6592f178-0cc8-4d8b-8c7a-c6d554d1fefc",
   "metadata": {},
   "outputs": [
    {
     "name": "stdout",
     "output_type": "stream",
     "text": [
      "> Running factor 0.1\n",
      "\n",
      "> Running factor 0.2\n",
      "\n",
      "> Running factor 0.3\n",
      "\n",
      "> Running factor 0.4\n",
      "\n",
      "> Running factor 0.5\n",
      "\n",
      "> Running factor 0.6\n",
      "\n",
      "> Running factor 0.7\n",
      "\n",
      "> Running factor 0.8\n",
      "\n",
      "> Running factor 0.9\n",
      "\n",
      "> Running factor 0.95\n",
      "\n"
     ]
    }
   ],
   "source": [
    "results = {}\n",
    "nco_caps = []\n",
    "nco_costs = []\n",
    "for s in ss_factors:\n",
    "    print(f'> Running factor {s}')\n",
    "    model_run = nextra(nodes,edges,flows,\n",
    "                       scenario='NCO',\n",
    "                       gaz_res_target_2030=s,\n",
    "                       pal_res_target_2030=s,\n",
    "                       jor_res_target_2030=s,\n",
    "                       isr_res_target_2030=s,\n",
    "                       energy_objective=True,\n",
    "                       timesteps=timesteps)\n",
    "\n",
    "    model_run.build()\n",
    "    model_run.run(pprint=False)\n",
    "    try:\n",
    "        model_results = model_run.get_results()\n",
    "        # add scenarios to results\n",
    "        # if s == 'BAU' and scenarios[s] == False:\n",
    "        #     s = 'BAS'\n",
    "        model_results.results_capacities['self_sufficiency_factor']       = s\n",
    "        model_results.results_storages['self_sufficiency_factor']         = s\n",
    "        model_results.results_edge_flows['self_sufficiency_factor']       = s\n",
    "        model_results.results_capacity_change['self_sufficiency_factor']  = s\n",
    "        model_results.results_costs['self_sufficiency_factor']            = s\n",
    "        # append results\n",
    "        results[ 'COO_' + str(s) ] = model_results\n",
    "        # append into list\n",
    "        m = model_results.get_capacities()\n",
    "        nco_caps.append(pd.DataFrame({'Technology' : ['Solar'],\n",
    "                                  'Factor' : s,\n",
    "                                  'Capacity' : m.loc[m.technology.isin(['Solar'])].value.sum() / 1000}))\n",
    "                    \n",
    "        nco_caps.append(pd.DataFrame({'Technology' : ['Wind'],\n",
    "                                  'Factor' : s,\n",
    "                                  'Capacity' : m.loc[m.technology.isin(['Wind'])].value.sum() / 1000 }))\n",
    "        \n",
    "        nco_caps.append(pd.DataFrame({'Technology' : ['Battery'],\n",
    "                                  'Factor' : s,\n",
    "                                  'Capacity' : m.loc[m.technology.isin(['Battery'])].value.sum() / 1000}))\n",
    "        \n",
    "        nco_costs.append(pd.DataFrame({'Factor':[s],'Cost':model_results.results_costs.totex.sum()}))\n",
    "            \n",
    "    except:\n",
    "        print('> FAILED! ' + str(s))"
   ]
  },
  {
   "cell_type": "code",
   "execution_count": 4,
   "id": "18537bbe-c072-488b-9283-668609630b2a",
   "metadata": {},
   "outputs": [],
   "source": [
    "coo_caps_merged = pd.concat(coo_caps,ignore_index=True)\n",
    "nco_caps_merged = pd.concat(nco_caps,ignore_index=True)\n",
    "\n",
    "coo_caps_merged['Scenario'] = 'COO'\n",
    "nco_caps_merged['Scenario'] = 'NCO'\n",
    "\n",
    "capacity_data = coo_caps_merged.append(nco_caps_merged,ignore_index=True)\n",
    "\n",
    "# COSTS\n",
    "nco_costs_merged = pd.concat(nco_costs)\n",
    "coo_costs_merged = pd.concat(coo_costs)\n",
    "\n",
    "coo_costs_merged['Scenario'] = 'COO'\n",
    "nco_costs_merged['Scenario'] = 'NCO'\n",
    "\n",
    "cost_data = coo_costs_merged.append(nco_costs_merged,ignore_index=True)"
   ]
  },
  {
   "cell_type": "code",
   "execution_count": 5,
   "id": "018335ad-6ea9-41f6-b128-482f573802be",
   "metadata": {},
   "outputs": [
    {
     "name": "stdout",
     "output_type": "stream",
     "text": [
      ">>> Cost saving to achieve net zero is: $US29 billion\n"
     ]
    }
   ],
   "source": [
    "coo_cost = cost_data.loc[(cost_data.Factor == 0.95) & (cost_data.Scenario == 'COO'),'Cost'].iloc[0]\n",
    "nco_cost = cost_data.loc[(cost_data.Factor == 0.95) & (cost_data.Scenario == 'NCO'),'Cost'].iloc[0]\n",
    "delta = nco_cost - coo_cost\n",
    "\n",
    "print(f'>>> Cost saving to achieve net zero is: $US{int(delta*10**-9)} billion')"
   ]
  },
  {
   "cell_type": "code",
   "execution_count": 6,
   "id": "e017cdd1-d5b2-4473-918a-1b8b4fcbcd3e",
   "metadata": {},
   "outputs": [
    {
     "data": {
      "text/html": [
       "<div>\n",
       "<style scoped>\n",
       "    .dataframe tbody tr th:only-of-type {\n",
       "        vertical-align: middle;\n",
       "    }\n",
       "\n",
       "    .dataframe tbody tr th {\n",
       "        vertical-align: top;\n",
       "    }\n",
       "\n",
       "    .dataframe thead th {\n",
       "        text-align: right;\n",
       "    }\n",
       "</style>\n",
       "<table border=\"1\" class=\"dataframe\">\n",
       "  <thead>\n",
       "    <tr style=\"text-align: right;\">\n",
       "      <th></th>\n",
       "      <th>Factor</th>\n",
       "      <th>Capacity</th>\n",
       "    </tr>\n",
       "    <tr>\n",
       "      <th>Technology</th>\n",
       "      <th></th>\n",
       "      <th></th>\n",
       "    </tr>\n",
       "  </thead>\n",
       "  <tbody>\n",
       "    <tr>\n",
       "      <th>Battery</th>\n",
       "      <td>10.9</td>\n",
       "      <td>1338.233799</td>\n",
       "    </tr>\n",
       "    <tr>\n",
       "      <th>Solar</th>\n",
       "      <td>10.9</td>\n",
       "      <td>676.039698</td>\n",
       "    </tr>\n",
       "    <tr>\n",
       "      <th>Wind</th>\n",
       "      <td>10.9</td>\n",
       "      <td>130.717856</td>\n",
       "    </tr>\n",
       "  </tbody>\n",
       "</table>\n",
       "</div>"
      ],
      "text/plain": [
       "            Factor     Capacity\n",
       "Technology                     \n",
       "Battery       10.9  1338.233799\n",
       "Solar         10.9   676.039698\n",
       "Wind          10.9   130.717856"
      ]
     },
     "execution_count": 6,
     "metadata": {},
     "output_type": "execute_result"
    }
   ],
   "source": [
    "capacity_data.groupby(by='Technology').sum()"
   ]
  },
  {
   "cell_type": "code",
   "execution_count": 7,
   "id": "0ed2c63e-a8e0-477a-95da-59574e3f85ab",
   "metadata": {},
   "outputs": [
    {
     "data": {
      "text/plain": [
       "0    11043.077569\n",
       "Name: value, dtype: float64"
      ]
     },
     "execution_count": 7,
     "metadata": {},
     "output_type": "execute_result"
    }
   ],
   "source": [
    "demands = results['COO_0.6'].flows[results['COO_0.6'].flows.node.str.contains('demand')]\n",
    "demands.groupby(by='year').sum().reset_index().value * 10**-3"
   ]
  },
  {
   "cell_type": "code",
   "execution_count": 8,
   "id": "1ba9db1b-2f34-4718-a51f-1e49dc113a65",
   "metadata": {},
   "outputs": [
    {
     "data": {
      "text/plain": [
       "0    11595.231447\n",
       "Name: value, dtype: float64"
      ]
     },
     "execution_count": 8,
     "metadata": {},
     "output_type": "execute_result"
    }
   ],
   "source": [
    "sources = get_source_nodes(results['COO_0.6'].nodes).name.to_list()\n",
    "supplies = results['COO_0.6'].results_edge_flows[results['COO_0.6'].results_edge_flows.from_id.isin(sources)]\n",
    "\n",
    "supplies.groupby(by='year').sum().reset_index().value * 10**-3"
   ]
  },
  {
   "cell_type": "code",
   "execution_count": 11,
   "id": "501c56a1-6c89-4b1a-be11-a3b08d896212",
   "metadata": {},
   "outputs": [
    {
     "data": {
      "text/plain": [
       "104.9986416734583"
      ]
     },
     "execution_count": 11,
     "metadata": {},
     "output_type": "execute_result"
    }
   ],
   "source": [
    "11595/11043*100"
   ]
  },
  {
   "cell_type": "code",
   "execution_count": null,
   "id": "86856df5-4c8b-41b2-9f6d-41e80c3c5c47",
   "metadata": {},
   "outputs": [],
   "source": []
  },
  {
   "cell_type": "code",
   "execution_count": 13,
   "id": "13867252-9f57-4c62-bc3c-b49a7488d174",
   "metadata": {},
   "outputs": [],
   "source": [
    "sums = capacity_data.groupby(by=['Factor','Scenario']).sum().reset_index()\n",
    "sums.Factor = sums.Factor * 100\n",
    "sums.Capacity = sums.Capacity.round(0)"
   ]
  },
  {
   "cell_type": "code",
   "execution_count": 15,
   "id": "cfe0c29a-44c1-433f-9a73-d5b663973581",
   "metadata": {},
   "outputs": [
    {
     "data": {
      "image/png": "[encoded data removed]",
      "text/plain": [
       "<Figure size 432x360 with 1 Axes>"
      ]
     },
     "metadata": {},
     "output_type": "display_data"
    }
   ],
   "source": [
    "f,ax = plt.subplots(nrows=1,ncols=1,figsize=(6,5))\n",
    "\n",
    "import matplotlib as mpl\n",
    "mpl.rcParams['font.family'] = 'Arial'\n",
    "\n",
    "sns.set_style(\"ticks\")\n",
    "\n",
    "sns.barplot(x='Factor',\n",
    "            y='Capacity',\n",
    "            hue='Scenario',\n",
    "            data=sums,\n",
    "            ax=ax,\n",
    "            palette='Set2',\n",
    "            edgecolor='black',\n",
    "           )\n",
    "\n",
    "ax.set_xlabel('Renewables penetration (%)',fontsize=14)\n",
    "ax.set_ylabel('Capacity (GW)',fontsize=14)\n",
    "ax.set_ylim([-5,400])\n",
    "\n",
    "for container in ax.containers:\n",
    "    ax.bar_label(container,fontsize=8)\n",
    "\n",
    "sns.despine()\n",
    "\n",
    "f.savefig('../outputs/figures/oms_net_zero.png',dpi=450,bbox_inches='tight')"
   ]
  },
  {
   "cell_type": "code",
   "execution_count": null,
   "id": "36d4f8ec-561e-4ed1-80da-4c4c48b8f59c",
   "metadata": {},
   "outputs": [],
   "source": [
    "results['COO_0.95'].plot_flows_sankey()"
   ]
  },
  {
   "cell_type": "code",
   "execution_count": null,
   "id": "9c15d24e-0ab0-443e-a918-b8399ed723d2",
   "metadata": {},
   "outputs": [],
   "source": [
    "model_results.results_costs.totex.sum()"
   ]
  },
  {
   "cell_type": "code",
   "execution_count": null,
   "id": "8edf74c1-3ac2-4f9f-be9d-a7f5d14a533b",
   "metadata": {},
   "outputs": [],
   "source": [
    "sns.barplot(x='Factor',y='Capacity',\n",
    "             data=capacity_data.groupby(by='Factor').sum().reset_index())"
   ]
  },
  {
   "cell_type": "code",
   "execution_count": null,
   "id": "6ea6960f-93a2-4de7-8634-4e2c6c377d15",
   "metadata": {},
   "outputs": [],
   "source": [
    "results['COO_0.95'].plot_hourly_profile(day=4,month=1)"
   ]
  },
  {
   "cell_type": "code",
   "execution_count": null,
   "id": "de01b8cf-a3eb-41e8-988c-896a0763a1d9",
   "metadata": {},
   "outputs": [],
   "source": [
    "results['COO_0.95'].plot_flows_sankey()"
   ]
  },
  {
   "cell_type": "code",
   "execution_count": null,
   "id": "a6eccae7-d4f1-4a9a-a5ab-ae151ce98023",
   "metadata": {},
   "outputs": [],
   "source": []
  },
  {
   "cell_type": "code",
   "execution_count": null,
   "id": "a34c21ad-a4f6-4b56-a269-cfa541808e2a",
   "metadata": {},
   "outputs": [],
   "source": [
    "results['COO_0.9'].results_costs.totex.sum()"
   ]
  }
 ],
 "metadata": {
  "kernelspec": {
   "display_name": "Python 3 (ipykernel)",
   "language": "python",
   "name": "python3"
  },
  "language_info": {
   "codemirror_mode": {
    "name": "ipython",
    "version": 3
   },
   "file_extension": ".py",
   "mimetype": "text/x-python",
   "name": "python",
   "nbconvert_exporter": "python",
   "pygments_lexer": "ipython3",
   "version": "3.9.12"
  }
 },
 "nbformat": 4,
 "nbformat_minor": 5
}
