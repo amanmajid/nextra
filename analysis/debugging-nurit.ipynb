{
 "cells": [
  {
   "cell_type": "code",
   "execution_count": null,
   "id": "f4d51a0a",
   "metadata": {},
   "outputs": [
    {
     "data": {
      "text/html": [
       "        <script type=\"text/javascript\">\n",
       "        window.PlotlyConfig = {MathJaxConfig: 'local'};\n",
       "        if (window.MathJax) {MathJax.Hub.Config({SVG: {font: \"STIX-Web\"}});}\n",
       "        if (typeof require !== 'undefined') {\n",
       "        require.undef(\"plotly\");\n",
       "        requirejs.config({\n",
       "            paths: {\n",
       "                'plotly': ['https://cdn.plot.ly/plotly-2.6.3.min']\n",
       "            }\n",
       "        });\n",
       "        require(['plotly'], function(Plotly) {\n",
       "            window._Plotly = Plotly;\n",
       "        });\n",
       "        }\n",
       "        </script>\n",
       "        "
      ]
     },
     "metadata": {},
     "output_type": "display_data"
    },
    {
     "name": "stdout",
     "output_type": "stream",
     "text": [
      "Set parameter Username\n",
      "Academic license - for non-commercial use only - expires 2022-11-03\n",
      "\n"
     ]
    }
   ],
   "source": [
    "import os\n",
    "import seaborn as sns\n",
    "import matplotlib.pyplot as plt\n",
    "import pickle \n",
    "\n",
    "import warnings\n",
    "warnings.filterwarnings('ignore')\n",
    "\n",
    "import sys\n",
    "sys.path.append('../')\n",
    "\n",
    "from infrasim.optimise import *\n",
    "from infrasim.utils import *\n",
    "\n",
    "\n",
    "# save\n",
    "def save_object(obj, filename):\n",
    "    with open(filename, 'wb') as outp:  # Overwrites any existing file.\n",
    "        pickle.dump(obj, outp, pickle.HIGHEST_PROTOCOL)\n",
    "\n",
    "\n",
    "#File paths\n",
    "nodes = '../data/nextra/spatial/network/nodes.shp'\n",
    "edges = '../data/nextra/spatial/network/edges.shp'\n",
    "flows = '../data/nextra/nodal_flows/processed_flows_2030.csv'\n",
    "\n",
    "\n",
    "# Params\n",
    "timesteps=None#7000\n",
    "super_source=False\n",
    "pprint=True\n",
    "save_figures=True\n",
    "\n",
    "infrasim_init_directories()\n",
    "\n",
    "scenarios = {#'BAS' : False,\n",
    "             #'BAU' : True,\n",
    "             'NCO' : True,\n",
    "             #'EAG' : True,\n",
    "             #'COO' : True,\n",
    "             #'UTO' : True,\n",
    "            }\n",
    "\n",
    "results = {}\n",
    "for s in scenarios:\n",
    "        \n",
    "    model_run = nextra(nodes,edges,flows,\n",
    "                       scenario=s,\n",
    "                       energy_objective=scenarios[s],\n",
    "                       timesteps=timesteps,\n",
    "                       #super_source=True,\n",
    "                       #super_sink=True,\n",
    "                       #res_factor=99,\n",
    "                       #model_name='meow',\n",
    "                      )\n",
    "\n",
    "    model_run.build()\n",
    "    model_run.run(pprint=False)\n",
    "    try:\n",
    "        model_results = model_run.get_results()\n",
    "        # add scenarios to results\n",
    "        if s == 'BAU' and scenarios[s] == False:\n",
    "            s = 'BAS'\n",
    "        model_results.results_capacities['scenario']       = s\n",
    "        model_results.results_storages['scenario']         = s\n",
    "        model_results.results_edge_flows['scenario']       = s\n",
    "        model_results.results_capacity_change['scenario']  = s\n",
    "        model_results.results_costs['scenario']            = s\n",
    "        # append results\n",
    "        results[s] = model_results\n",
    "        print('> Completed: ' + s)\n",
    "    except:\n",
    "        print('> FAILED! ' + s)\n",
    "\n",
    "\n",
    "save_object(results, '../outputs/results/model_run_results.pkl')\n",
    "\n",
    "print('> Done.')"
   ]
  },
  {
   "cell_type": "code",
   "execution_count": null,
   "id": "9a05e394",
   "metadata": {},
   "outputs": [],
   "source": [
    "model_results.plot_hourly_profile(territory='Israel',day=1,month=6)"
   ]
  },
  {
   "cell_type": "code",
   "execution_count": null,
   "id": "9afecaf9",
   "metadata": {},
   "outputs": [],
   "source": []
  },
  {
   "cell_type": "code",
   "execution_count": null,
   "id": "206f64ae",
   "metadata": {},
   "outputs": [],
   "source": [
    "model_results.get_regional_capacity()"
   ]
  },
  {
   "cell_type": "code",
   "execution_count": null,
   "id": "d5a3687f",
   "metadata": {},
   "outputs": [],
   "source": [
    "model_results.get_regional_capacity_change()"
   ]
  },
  {
   "cell_type": "code",
   "execution_count": null,
   "id": "43882df6",
   "metadata": {},
   "outputs": [],
   "source": []
  },
  {
   "cell_type": "code",
   "execution_count": null,
   "id": "edbbf364",
   "metadata": {},
   "outputs": [],
   "source": []
  },
  {
   "cell_type": "code",
   "execution_count": null,
   "id": "64f63b75",
   "metadata": {},
   "outputs": [],
   "source": [
    "def plot_hourly_profile(self,day,month,year=2030,territory=None,**kwargs):\n",
    "    '''Plot hourly profile of energy supply for a given day\n",
    "    '''\n",
    "    # index for day\n",
    "    idx = self.results_edge_flows.loc[(self.results_edge_flows.day == day) & \\\n",
    "                                    (self.results_edge_flows.month == month) & \\\n",
    "                                    (self.results_edge_flows.year == year)].reset_index(drop=True)\n",
    "    # groupby hour\n",
    "    idx = idx.groupby(by=['from_id','hour']).sum().reset_index()\n",
    "    # drop generation nodes\n",
    "    idx = idx.loc[~idx.from_id.str.contains('generation')].reset_index(drop=True)\n",
    "    # map tech and territory\n",
    "    idx = map_attributes(self,idx)\n",
    "    if territory is None:\n",
    "        # sum across all regions\n",
    "        idx = idx.groupby(by=['technology','hour']).sum().reset_index()\n",
    "    else:\n",
    "        # index by territory\n",
    "        idx = idx.loc[idx.territory.isin([territory])].reset_index(drop=True)\n",
    "    # reindex\n",
    "    idx = idx[['hour','value','technology']]\n",
    "    # battery charging/discharging\n",
    "    idx.loc[(idx.value <= 0) & (idx.technology == 'Battery'),'technology'] = 'Battery Discharge'\n",
    "    idx.loc[(idx.value > 0) & (idx.technology == 'Battery'),'technology'] = 'Battery Charge'\n",
    "    # pivot table\n",
    "    idx = idx.pivot_table(columns='technology',index='hour',values='value')\n",
    "    # plot\n",
    "    idx.plot.area(ax=kwargs.get(\"ax\", None),\n",
    "                  #cmap=kwargs.get(\"cmap\", 'YlGnBu'),\n",
    "                  color=[technology_color_dict.get(x, '#333333') for x in idx.columns],\n",
    "                  linewidth=kwargs.get(\"linewidth\", 0),\n",
    "                  alpha=kwargs.get(\"alpha\", 1),)"
   ]
  }
 ],
 "metadata": {
  "kernelspec": {
   "display_name": "Python 3 (ipykernel)",
   "language": "python",
   "name": "python3"
  },
  "language_info": {
   "codemirror_mode": {
    "name": "ipython",
    "version": 3
   },
   "file_extension": ".py",
   "mimetype": "text/x-python",
   "name": "python",
   "nbconvert_exporter": "python",
   "pygments_lexer": "ipython3",
   "version": "3.9.7"
  }
 },
 "nbformat": 4,
 "nbformat_minor": 5
}
