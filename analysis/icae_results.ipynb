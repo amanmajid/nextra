{
 "cells": [
  {
   "cell_type": "code",
   "execution_count": 1,
   "id": "dccfae73",
   "metadata": {},
   "outputs": [
    {
     "data": {
      "text/html": [
       "        <script type=\"text/javascript\">\n",
       "        window.PlotlyConfig = {MathJaxConfig: 'local'};\n",
       "        if (window.MathJax) {MathJax.Hub.Config({SVG: {font: \"STIX-Web\"}});}\n",
       "        if (typeof require !== 'undefined') {\n",
       "        require.undef(\"plotly\");\n",
       "        requirejs.config({\n",
       "            paths: {\n",
       "                'plotly': ['https://cdn.plot.ly/plotly-2.6.3.min']\n",
       "            }\n",
       "        });\n",
       "        require(['plotly'], function(Plotly) {\n",
       "            window._Plotly = Plotly;\n",
       "        });\n",
       "        }\n",
       "        </script>\n",
       "        "
      ]
     },
     "metadata": {},
     "output_type": "display_data"
    }
   ],
   "source": [
    "import os\n",
    "import seaborn as sns\n",
    "import matplotlib.pyplot as plt\n",
    "import pickle \n",
    "import matplotlib as mpl\n",
    "\n",
    "import warnings\n",
    "warnings.filterwarnings('ignore')\n",
    "\n",
    "import sys\n",
    "sys.path.append('../')\n",
    "\n",
    "from infrasim.optimise import *\n",
    "from infrasim.utils import *\n",
    "\n",
    "mpl.rcParams['ytick.direction'] = 'out'\n",
    "mpl.rcParams['xtick.direction'] = 'out'\n",
    "mpl.rcParams['font.family']      = 'Arial'"
   ]
  },
  {
   "cell_type": "code",
   "execution_count": 2,
   "id": "adcae87a",
   "metadata": {},
   "outputs": [],
   "source": [
    "# SUBFUNCTIONS\n",
    "\n",
    "def merge_capacity_data(results_dict):\n",
    "    '''Returns a dataframe with merged capacity data based on a dictionary containing a set of results class\n",
    "    '''\n",
    "    # init blank df\n",
    "    capacities = pd.DataFrame()\n",
    "    # loop results \n",
    "    for k in results_dict.keys():\n",
    "        df = results_dict[k].results_capacities\n",
    "        capacities = capacities.append(df,ignore_index=True)\n",
    "    return capacities\n",
    "\n",
    "\n",
    "def get_relative_capacities(results_dict):\n",
    "    capacities = merge_capacity_data(results_dict)\n",
    "    # get bas and delta dfs\n",
    "    bas   = capacities.loc[capacities.scenario.isin(['BAS'])].reset_index(drop=True)\n",
    "    delta = capacities.loc[~capacities.scenario.isin(['BAS'])].reset_index(drop=True)\n",
    "    # group\n",
    "    bas   = bas.groupby(by=['scenario','technology','territory']).max().reset_index()\n",
    "    delta = delta.groupby(by=['scenario','technology','territory']).max().reset_index()\n",
    "    # map baseline capacities\n",
    "    bas = bas.set_index('node')['value'].to_dict()\n",
    "    delta['bas_cap'] = delta.node.map(bas)\n",
    "    # compute delta\n",
    "    delta['relative_change'] = delta['value'] - delta['bas_cap']\n",
    "    return delta\n",
    "\n",
    "\n",
    "def merge_cost_data(results_dict):\n",
    "    '''Returns a dataframe with merged capacity data based on a dictionary containing a set of results class\n",
    "    '''\n",
    "    # init blank df\n",
    "    costs = pd.DataFrame()\n",
    "    # loop results \n",
    "    for k in results_dict.keys():\n",
    "        df = results_dict[k].results_costs\n",
    "        costs = costs.append(df,ignore_index=True)\n",
    "    return costs\n",
    "\n",
    "\n",
    "def export_results_for_chord(merged_results,scenario):\n",
    "    '''Export a csv for chord plots\n",
    "    '''\n",
    "    df = merged_results[scenario].results_edge_flows.copy()\n",
    "\n",
    "    df['from_territory'] = ''\n",
    "    df['to_territory'] = ''\n",
    "    df = df[df.from_id.str.contains('generation')].reset_index(drop=True)\n",
    "\n",
    "    df.loc[df.from_id.str.contains('israel'),'from_territory'] = 'ISR'\n",
    "    df.loc[df.from_id.str.contains('west_bank'),'from_territory'] = 'WBK'\n",
    "    df.loc[df.from_id.str.contains('gaza'),'from_territory'] = 'GZA'\n",
    "    df.loc[df.from_id.str.contains('jordan'),'from_territory'] = 'JOR'\n",
    "    df.loc[df.from_id.str.contains('egypt'),'from_territory'] = 'EGY'\n",
    "\n",
    "    df.loc[df.to_id.str.contains('israel'),'to_territory'] = 'ISR'\n",
    "    df.loc[df.to_id.str.contains('west_bank'),'to_territory'] = 'WBK'\n",
    "    df.loc[df.to_id.str.contains('gaza'),'to_territory'] = 'GZA'\n",
    "    df.loc[df.to_id.str.contains('jordan'),'to_territory'] = 'JOR'\n",
    "    df.loc[df.to_id.str.contains('egypt'),'to_territory'] = 'EGY'\n",
    "    \n",
    "    df = df[['from_territory','to_territory','value']]\n",
    "    df = df.groupby(by=['from_territory','to_territory']).sum().reset_index()\n",
    "    \n",
    "    # units?\n",
    "    df.value = df.value.divide(10**3)\n",
    "    # save\n",
    "    df.to_csv('plots/chord_data/' + scenario + '.csv',index=False)\n",
    "    print('done.')\n",
    "    \n",
    "    \n",
    "def map_territory(df,on):\n",
    "    '''Map territory onto dataframe\n",
    "    '''\n",
    "    # add regions\n",
    "    df['territory'] = np.nan\n",
    "    df.loc[df[on].str.contains('jordan'),'territory']  = 'Jordan'\n",
    "    df.loc[df[on].str.contains('israel'),'territory']  = 'Israel'\n",
    "    df.loc[df[on].str.contains('west'),'territory']    = 'West Bank'\n",
    "    df.loc[df[on].str.contains('gaza'),'territory']    = 'Gaza'\n",
    "    df.loc[df[on].str.contains('super'),'territory']   = 'Shortage'\n",
    "    df.loc[df[on].str.contains('egypt'),'territory']   = 'Egypt'\n",
    "    return df\n",
    "\n",
    "\n",
    "def map_technology(df,on):\n",
    "    '''Map technology onto dataframe\n",
    "    '''\n",
    "    df['technology'] = np.nan\n",
    "    df.loc[df.from_id.str.contains('solar'),'technology']       = 'Solar'\n",
    "    df.loc[df.from_id.str.contains('coal'),'technology']        = 'Coal'\n",
    "    df.loc[df.from_id.str.contains('diesel'),'technology']      = 'Diesel'\n",
    "    df.loc[df.from_id.str.contains('ccgt'),'technology']        = 'Gas'\n",
    "    df.loc[df.from_id.str.contains('gas'),'technology']         = 'Gas'\n",
    "    df.loc[df.from_id.str.contains('shale'),'technology']       = 'Shale'\n",
    "    df.loc[df.from_id.str.contains('wind'),'technology']        = 'Wind'\n",
    "    df.loc[df.from_id.str.contains('storage'),'technology']     = 'Storage'\n",
    "    df.loc[df.from_id.str.contains('super'),'technology']       = 'Shortage'\n",
    "    return df\n",
    "\n",
    "\n",
    "def map_sox_emissions(df,on):\n",
    "    df['sox'] = df[on] * df['technology'].map(sox)\n",
    "    return df\n",
    "\n",
    "\n",
    "def map_nox_emissions(df,on):\n",
    "    df['nox'] = df[on] * df['technology'].map(nox)\n",
    "    return df\n",
    "\n",
    "\n",
    "def map_co2_emissions(df,on):\n",
    "    df['co2'] = df[on] * df['technology'].map(co2)\n",
    "    return df\n",
    "\n",
    "def map_water_use(df,on):\n",
    "    df['water_use'] = df[on] * df['technology'].map(water_use)\n",
    "    return df"
   ]
  },
  {
   "cell_type": "markdown",
   "id": "f0984a0c",
   "metadata": {},
   "source": [
    "## Load scenario results"
   ]
  },
  {
   "cell_type": "code",
   "execution_count": 3,
   "id": "ca7f0161",
   "metadata": {
    "scrolled": false
   },
   "outputs": [],
   "source": [
    "file = open('../outputs/results/model_run_results.pkl','rb')\n",
    "results = pickle.load(file)\n",
    "file.close()"
   ]
  },
  {
   "cell_type": "code",
   "execution_count": 4,
   "id": "3db92522",
   "metadata": {},
   "outputs": [],
   "source": [
    "# export_results_for_chord(results,scenario='BAU')\n",
    "# export_results_for_chord(results,scenario='NCO')\n",
    "# export_results_for_chord(results,scenario='EAG')\n",
    "# export_results_for_chord(results,scenario='COO')\n",
    "# export_results_for_chord(results,scenario='UTO')"
   ]
  },
  {
   "cell_type": "code",
   "execution_count": null,
   "id": "dcfa45ca",
   "metadata": {},
   "outputs": [],
   "source": []
  },
  {
   "cell_type": "markdown",
   "id": "31354066",
   "metadata": {},
   "source": [
    "## Plot: summary of scenario analysis\n",
    "\n",
    "This figure shows: \n",
    "\n",
    "    a. Total cost ($) by scenario\n",
    "    b. Total capacity (GW) by scenario and technology\n",
    "    c. Summary of various variables by scenario (e.g., NOx, SOx etc.)"
   ]
  },
  {
   "cell_type": "code",
   "execution_count": 5,
   "id": "7b6e977e",
   "metadata": {},
   "outputs": [
    {
     "data": {
      "image/png": "[encoded data removed]",
      "text/plain": [
       "<Figure size 720x576 with 3 Axes>"
      ]
     },
     "metadata": {
      "needs_background": "light"
     },
     "output_type": "display_data"
    }
   ],
   "source": [
    "merged_flows = pd.DataFrame()\n",
    "for k in results.keys():\n",
    "    sn = get_source_nodes(results[k].nodes).name.to_list()\n",
    "    df = results[k].results_edge_flows.loc[results[k].results_edge_flows.from_id.isin(sn)]\n",
    "    df = df.drop(['to_id','commodity','timestep','hour'],axis=1)\n",
    "    df = df.groupby(by=['from_id','day','month','year','scenario']).sum().reset_index()\n",
    "    df = map_territory(df,on='from_id')\n",
    "    df = map_technology(df,on='from_id')\n",
    "    merged_flows = merged_flows.append(df,ignore_index=True)\n",
    "\n",
    "merged_flows = map_sox_emissions(merged_flows,on='value')\n",
    "merged_flows = map_nox_emissions(merged_flows,on='value')\n",
    "merged_flows = map_co2_emissions(merged_flows,on='value')\n",
    "merged_flows = map_water_use(merged_flows,on='value')\n",
    "\n",
    "merged_flows = merged_flows.groupby(by=['month','year','scenario']).sum().reset_index()\n",
    "\n",
    "# adjust units\n",
    "merged_flows['co2'] = merged_flows['co2'].divide(10**6)\n",
    "merged_flows['nox'] = merged_flows['nox'].divide(10**6)\n",
    "merged_flows['sox'] = merged_flows['sox'].divide(10**6)\n",
    "\n",
    "monthly_means = merged_flows.groupby(by=['year','scenario']).mean().reset_index()\n",
    "monthly_means = monthly_means[['scenario','sox','nox','co2','water_use']]\n",
    "\n",
    "# append capacities\n",
    "capacities = merge_capacity_data(results)\n",
    "#capacities = capacities.groupby(by=['technology','scenario']).max().reset_index()\n",
    "capacities = capacities.pivot_table(index=['scenario'],\n",
    "                                    columns=['technology'],\n",
    "                                    values='value',\n",
    "                                    aggfunc='sum')\n",
    "\n",
    "battery = capacities['Battery'].to_dict()\n",
    "monthly_means['battery'] = monthly_means.scenario.map(battery)\n",
    "\n",
    "def normalise_column(df,columns):\n",
    "    df = monthly_means.copy()\n",
    "    for i in columns:\n",
    "        column=i\n",
    "        baseline_value = df.loc[df.scenario=='BAS',column].values[0]\n",
    "        df[column] = ((df[column]-baseline_value)/baseline_value)*100\n",
    "    return df\n",
    "\n",
    "monthly_means = normalise_column(monthly_means,columns=['nox','co2','sox','water_use'])\n",
    "#monthly_means = monthly_means[monthly_means.scenario != 'BAS'].reset_index(drop=True)\n",
    "\n",
    "hls_colours = sns.color_palette(\"Spectral\", as_cmap=True)\n",
    "\n",
    "costs = merge_cost_data(results)\n",
    "#costs = costs.groupby(by=['technology','scenario']).sum().reset_index()\n",
    "costs = costs.pivot_table(index=['scenario'],\n",
    "                          columns=['technology'],\n",
    "                          values='totex',\n",
    "                          aggfunc='sum')\n",
    "\n",
    "costs['total'] = costs.sum(axis=1)\n",
    "costs = costs.reset_index(drop=False)\n",
    "costs = costs[['scenario','total']]\n",
    "costs = costs.sort_values('total')\n",
    "costs['total'] = costs['total'].divide(10**9)\n",
    "# run function\n",
    "capacities = merge_capacity_data(results)\n",
    "# groupby to get max values\n",
    "# capacities = capacities.groupby(by=['technology','scenario']).max().reset_index()\n",
    "# pivot for bar chart\n",
    "capacities = capacities.pivot_table(index=['scenario'],\n",
    "                                    columns=['technology'],\n",
    "                                    values='value',\n",
    "                                    aggfunc='max')\n",
    "# sort by ascending\n",
    "capacities['total'] = capacities.sum(axis=1)\n",
    "capacities = capacities.sort_values(\"total\").drop('total',axis=1)\n",
    "capacities = capacities.drop(['Coal','Gas Reservoir'],axis=1)\n",
    "\n",
    "\n",
    "f = plt.figure(figsize=(10, 8))\n",
    "ax1 = plt.subplot(2,2,1)\n",
    "ax2 = plt.subplot(2,2,2)\n",
    "ax3 = plt.subplot(2,1,2)\n",
    "\n",
    "sns.set_style(\"ticks\")\n",
    "costs.set_index('scenario').plot.bar(ax=ax1,color='teal',rot=0,legend=False)\n",
    "ax1.set_xlabel('')\n",
    "ax1.set_ylabel('Total Cost [US$ billion]')\n",
    "#ax1.set_ylim([-30*0.03,30])\n",
    "ax1.set_title('a',fontweight='bold',loc='left')\n",
    "\n",
    "capacities.divide(1000).plot.bar(stacked=True,rot=0,ax=ax2,\n",
    "                                 color=[technology_color_dict.get(x, '#333333') for x in capacities.columns],\n",
    "                                 edgecolor='gray')\n",
    "\n",
    "ax2.set_xlabel('')\n",
    "ax2.set_ylabel('Capacity [GW]')\n",
    "ax2.set_title('b',fontweight='bold',loc='left')\n",
    "#ax2.set_ylim([-40*0.03,40])\n",
    "\n",
    "monthly_means = monthly_means.melt(id_vars='scenario',value_vars=['co2','water_use','sox','nox',])\n",
    "plt.axhline(y=0,linestyle='-',color='black',linewidth=1,zorder=1)\n",
    "sns.scatterplot(x='variable',y='value',hue='scenario',ax=ax3,\n",
    "                data=monthly_means,s=100,palette='Spectral',edgecolor='darkgray')\n",
    "\n",
    "ax3.set_xlabel('')\n",
    "ax3.set_ylabel('Change relative to BAS scenario (%)')\n",
    "ax3.set_title('c',fontweight='bold',loc='left')\n",
    "#ax3.set_ylim([-35,10])\n",
    "ax3.set_xticklabels(['CO$_2$\\nemissions','Water\\nwithdrawals','SO$_x$\\n emissions','NO$_x$\\n emissions'])\n",
    "\n",
    "f.savefig('../outputs/figures/scenario_analysis.pdf',bbox_inches='tight')"
   ]
  },
  {
   "cell_type": "markdown",
   "id": "8367d623",
   "metadata": {},
   "source": [
    "## Plot: capacities by scenario for each region\n",
    "\n",
    "This figure shows the capacity of each technology implemented under each scenario."
   ]
  },
  {
   "cell_type": "code",
   "execution_count": 6,
   "id": "f28b7e7e",
   "metadata": {},
   "outputs": [
    {
     "data": {
      "image/png": "[encoded data removed]",
      "text/plain": [
       "<Figure size 720x576 with 4 Axes>"
      ]
     },
     "metadata": {},
     "output_type": "display_data"
    }
   ],
   "source": [
    "caps = merge_capacity_data(results)\n",
    "caps = caps.groupby(by=['node','scenario']).max().reset_index()\n",
    "caps = caps.loc[caps.value>0].reset_index(drop=True)\n",
    "caps.value = caps.value.divide(1000)\n",
    "\n",
    "titles = {'Israel':'ISR','Jordan':'JOR','West Bank':'WBK','Gaza':'GZA',}\n",
    "ylims = [ [-0.3*0.04,0.4],[-20*0.03,200],[-14*0.03,14],[-1.2*0.03,1.2] ]\n",
    "\n",
    "f,axs = plt.subplots(2,2, figsize=(10,8))\n",
    "ax = axs.ravel()\n",
    "for i in range(len(caps.territory.unique())):\n",
    "    idx_caps = caps.loc[caps.territory == caps.territory.unique()[i]].reset_index(drop=True)\n",
    "    idx_caps = idx_caps.sort_values(by='scenario')\n",
    "    idx_caps = idx_caps.groupby(by=['technology','scenario']).sum().reset_index()\n",
    "    sns.barplot(x='scenario',y='value',hue='technology',\n",
    "                data=idx_caps,ax=ax[i],errwidth=0,\n",
    "                palette=technology_color_dict)\n",
    "    \n",
    "    ax[i].set_xlabel('')\n",
    "    ax[i].set_ylabel('Capacity (GW)')\n",
    "    ax[i].set_title(titles[caps.territory.unique()[i]],loc='left',fontweight='bold')\n",
    "    #ax[i].set_ylim(ylims[i])\n",
    "    \n",
    "f.savefig('../outputs/figures/supp_capacity_by_scenario.pdf',bbox_inches='tight')"
   ]
  },
  {
   "cell_type": "code",
   "execution_count": null,
   "id": "6141bb40",
   "metadata": {},
   "outputs": [],
   "source": []
  },
  {
   "cell_type": "code",
   "execution_count": 7,
   "id": "12791aa8",
   "metadata": {},
   "outputs": [
    {
     "data": {
      "image/png": "[encoded data removed]",
      "text/plain": [
       "<Figure size 576x288 with 1 Axes>"
      ]
     },
     "metadata": {},
     "output_type": "display_data"
    }
   ],
   "source": [
    "node = 'gaza_battery_storage'\n",
    "results['NCO'].plot_battery_storage_volume(node=node,days=10**9,month=6)"
   ]
  },
  {
   "cell_type": "code",
   "execution_count": null,
   "id": "6fcb0966",
   "metadata": {},
   "outputs": [],
   "source": []
  },
  {
   "cell_type": "code",
   "execution_count": 8,
   "id": "3c05c32c",
   "metadata": {},
   "outputs": [
    {
     "ename": "KeyError",
     "evalue": "'COO'",
     "output_type": "error",
     "traceback": [
      "\u001b[0;31m---------------------------------------------------------------------------\u001b[0m",
      "\u001b[0;31mKeyError\u001b[0m                                  Traceback (most recent call last)",
      "\u001b[0;32m/var/folders/ff/h_ytkqld47vg92jnpfrrfx5w0000gn/T/ipykernel_22238/146357921.py\u001b[0m in \u001b[0;36m<module>\u001b[0;34m\u001b[0m\n\u001b[0;32m----> 1\u001b[0;31m \u001b[0mresults\u001b[0m\u001b[0;34m[\u001b[0m\u001b[0;34m'COO'\u001b[0m\u001b[0;34m]\u001b[0m\u001b[0;34m.\u001b[0m\u001b[0mplot_supply_curve\u001b[0m\u001b[0;34m(\u001b[0m\u001b[0mregion\u001b[0m\u001b[0;34m=\u001b[0m\u001b[0;34m'israel'\u001b[0m\u001b[0;34m,\u001b[0m\u001b[0mdays\u001b[0m\u001b[0;34m=\u001b[0m\u001b[0;36m15\u001b[0m\u001b[0;34m,\u001b[0m\u001b[0mmonth\u001b[0m\u001b[0;34m=\u001b[0m\u001b[0;36m6\u001b[0m\u001b[0;34m,\u001b[0m\u001b[0myear\u001b[0m\u001b[0;34m=\u001b[0m\u001b[0;36m2030\u001b[0m\u001b[0;34m)\u001b[0m\u001b[0;34m\u001b[0m\u001b[0;34m\u001b[0m\u001b[0m\n\u001b[0m",
      "\u001b[0;31mKeyError\u001b[0m: 'COO'"
     ]
    }
   ],
   "source": [
    "results['COO'].plot_supply_curve(region='israel',days=15,month=6,year=2030)"
   ]
  },
  {
   "cell_type": "code",
   "execution_count": null,
   "id": "db2a0974",
   "metadata": {},
   "outputs": [],
   "source": []
  }
 ],
 "metadata": {
  "kernelspec": {
   "display_name": "Python 3 (ipykernel)",
   "language": "python",
   "name": "python3"
  },
  "language_info": {
   "codemirror_mode": {
    "name": "ipython",
    "version": 3
   },
   "file_extension": ".py",
   "mimetype": "text/x-python",
   "name": "python",
   "nbconvert_exporter": "python",
   "pygments_lexer": "ipython3",
   "version": "3.9.7"
  }
 },
 "nbformat": 4,
 "nbformat_minor": 5
}
