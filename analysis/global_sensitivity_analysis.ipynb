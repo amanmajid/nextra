{
 "cells": [
  {
   "cell_type": "code",
   "execution_count": 1,
   "id": "94554412",
   "metadata": {},
   "outputs": [
    {
     "data": {
      "text/html": [
       "        <script type=\"text/javascript\">\n",
       "        window.PlotlyConfig = {MathJaxConfig: 'local'};\n",
       "        if (window.MathJax) {MathJax.Hub.Config({SVG: {font: \"STIX-Web\"}});}\n",
       "        if (typeof require !== 'undefined') {\n",
       "        require.undef(\"plotly\");\n",
       "        requirejs.config({\n",
       "            paths: {\n",
       "                'plotly': ['https://cdn.plot.ly/plotly-2.6.3.min']\n",
       "            }\n",
       "        });\n",
       "        require(['plotly'], function(Plotly) {\n",
       "            window._Plotly = Plotly;\n",
       "        });\n",
       "        }\n",
       "        </script>\n",
       "        "
      ]
     },
     "metadata": {},
     "output_type": "display_data"
    }
   ],
   "source": [
    "import os\n",
    "import seaborn as sns\n",
    "import matplotlib.pyplot as plt\n",
    "\n",
    "import SALib.analyze.morris\n",
    "from SALib.sample import morris\n",
    "\n",
    "import warnings\n",
    "warnings.filterwarnings('ignore')\n",
    "\n",
    "import sys\n",
    "sys.path.append('../')\n",
    "\n",
    "from tqdm import tqdm\n",
    "\n",
    "from infrasim.optimise import *\n",
    "from infrasim.utils import *"
   ]
  },
  {
   "cell_type": "code",
   "execution_count": 2,
   "id": "a0adfdae",
   "metadata": {},
   "outputs": [],
   "source": [
    "def process_morris_results(problem,param_values,collected_results,num_levels):\n",
    "    '''Process output from Morris sensitivitys\n",
    "    '''\n",
    "    Si = SALib.analyze.morris.analyze(problem,\n",
    "                                      np.array(param_values),\n",
    "                                      np.array(collected_results),\n",
    "                                      print_to_console=False,\n",
    "                                      num_levels=num_levels)\n",
    "\n",
    "    sensitivity_results = pd.DataFrame.from_dict(Si)\n",
    "    return sensitivity_results\n",
    "\n",
    "\n",
    "def calculate_relative_influence(sensitivity_results):\n",
    "    '''Return relative influence (%) of each parameter from sensitivity\n",
    "    '''\n",
    "    sensitivity = sensitivity_results.copy()\n",
    "    sensitivity['rel'] = abs(sensitivity['mu'])/abs(sensitivity['mu']).sum()*100\n",
    "    sensitivity['mu'] = sensitivity['mu']\n",
    "    sensitivity = sensitivity[['names','rel']]\n",
    "    sensitivity = sensitivity.sort_values(by='names',ascending=True).reset_index(drop=True)\n",
    "    sensitivity.names = sensitivity.names.str.replace('_',' ')\n",
    "    sensitivity.names = sensitivity.names.str.title()\n",
    "    sensitivity.names = sensitivity.names.str.replace('Res','RES')\n",
    "    sensitivity.names = sensitivity.names.str.replace('Coop','COO')\n",
    "    sensitivity.names = sensitivity.names.str.replace('To','to')\n",
    "    sensitivity.names = sensitivity.names.str.replace('Westbank','West Bank')\n",
    "    return sensitivity"
   ]
  },
  {
   "cell_type": "code",
   "execution_count": null,
   "id": "98bef0ad",
   "metadata": {},
   "outputs": [
    {
     "name": "stderr",
     "output_type": "stream",
     "text": [
      "\r",
      "  0%|                                                                                                | 0/100 [00:00<?, ?it/s]"
     ]
    },
    {
     "name": "stdout",
     "output_type": "stream",
     "text": [
      "Set parameter Username\n",
      "Academic license - for non-commercial use only - expires 2022-11-03\n",
      "\n"
     ]
    },
    {
     "name": "stderr",
     "output_type": "stream",
     "text": [
      "\r",
      "  1%|▊                                                                                    | 1/100 [02:38<4:20:53, 158.11s/it]"
     ]
    },
    {
     "name": "stdout",
     "output_type": "stream",
     "text": [
      "\n"
     ]
    },
    {
     "name": "stderr",
     "output_type": "stream",
     "text": [
      "\r",
      "  2%|█▋                                                                                   | 2/100 [05:20<4:22:18, 160.60s/it]"
     ]
    },
    {
     "name": "stdout",
     "output_type": "stream",
     "text": [
      "\n"
     ]
    },
    {
     "name": "stderr",
     "output_type": "stream",
     "text": [
      "\r",
      "  3%|██▌                                                                                  | 3/100 [08:00<4:19:07, 160.28s/it]"
     ]
    },
    {
     "name": "stdout",
     "output_type": "stream",
     "text": [
      "\n"
     ]
    },
    {
     "name": "stderr",
     "output_type": "stream",
     "text": [
      "\r",
      "  4%|███▍                                                                                 | 4/100 [10:42<4:17:19, 160.83s/it]"
     ]
    },
    {
     "name": "stdout",
     "output_type": "stream",
     "text": [
      "\n"
     ]
    },
    {
     "name": "stderr",
     "output_type": "stream",
     "text": [
      "\r",
      "  5%|████▎                                                                                | 5/100 [13:23<4:14:49, 160.94s/it]"
     ]
    },
    {
     "name": "stdout",
     "output_type": "stream",
     "text": [
      "\n"
     ]
    },
    {
     "name": "stderr",
     "output_type": "stream",
     "text": [
      "\r",
      "  6%|█████                                                                                | 6/100 [16:06<4:13:33, 161.84s/it]"
     ]
    },
    {
     "name": "stdout",
     "output_type": "stream",
     "text": [
      "\n"
     ]
    },
    {
     "name": "stderr",
     "output_type": "stream",
     "text": [
      "\r",
      "  7%|█████▉                                                                               | 7/100 [18:52<4:12:46, 163.08s/it]"
     ]
    },
    {
     "name": "stdout",
     "output_type": "stream",
     "text": [
      "\n"
     ]
    },
    {
     "name": "stderr",
     "output_type": "stream",
     "text": [
      "\r",
      "  8%|██████▊                                                                              | 8/100 [21:39<4:12:06, 164.42s/it]"
     ]
    },
    {
     "name": "stdout",
     "output_type": "stream",
     "text": [
      "\n"
     ]
    },
    {
     "name": "stderr",
     "output_type": "stream",
     "text": [
      "\r",
      "  9%|███████▋                                                                             | 9/100 [24:27<4:10:55, 165.44s/it]"
     ]
    },
    {
     "name": "stdout",
     "output_type": "stream",
     "text": [
      "\n"
     ]
    },
    {
     "name": "stderr",
     "output_type": "stream",
     "text": [
      "\r",
      " 10%|████████▍                                                                           | 10/100 [27:14<4:09:08, 166.10s/it]"
     ]
    },
    {
     "name": "stdout",
     "output_type": "stream",
     "text": [
      "\n"
     ]
    },
    {
     "name": "stderr",
     "output_type": "stream",
     "text": [
      "\r",
      " 11%|█████████▏                                                                          | 11/100 [29:41<3:57:41, 160.24s/it]"
     ]
    },
    {
     "name": "stdout",
     "output_type": "stream",
     "text": [
      "\n"
     ]
    },
    {
     "name": "stderr",
     "output_type": "stream",
     "text": [
      "\r",
      " 12%|██████████                                                                          | 12/100 [32:11<3:50:11, 156.95s/it]"
     ]
    },
    {
     "name": "stdout",
     "output_type": "stream",
     "text": [
      "\n"
     ]
    },
    {
     "name": "stderr",
     "output_type": "stream",
     "text": [
      "\r",
      " 13%|██████████▉                                                                         | 13/100 [34:39<3:43:51, 154.38s/it]"
     ]
    },
    {
     "name": "stdout",
     "output_type": "stream",
     "text": [
      "\n"
     ]
    },
    {
     "name": "stderr",
     "output_type": "stream",
     "text": [
      "\r",
      " 14%|███████████▊                                                                        | 14/100 [37:17<3:42:47, 155.43s/it]"
     ]
    },
    {
     "name": "stdout",
     "output_type": "stream",
     "text": [
      "\n"
     ]
    },
    {
     "name": "stderr",
     "output_type": "stream",
     "text": [
      "\r",
      " 15%|████████████▌                                                                       | 15/100 [39:55<3:41:26, 156.31s/it]"
     ]
    }
   ],
   "source": [
    "#File paths\n",
    "nodes = '../data/nextra/spatial/network/nodes.shp'\n",
    "edges = '../data/nextra/spatial/network/edges.shp'\n",
    "flows = '../data/nextra/nodal_flows/processed_flows_2030.csv'\n",
    "\n",
    "timesteps   = None\n",
    "num_levels  = 10\n",
    "N           = 10\n",
    "\n",
    "# Set up problem for sensitivity analysis # name:[lower_bound,upper_bound]\n",
    "params = {'coop_res_target'                 : [0,0.5],\n",
    "          'jordan_to_westbank'              : [0,10**12],\n",
    "          'jordan_to_israel'                : [0,10**12],\n",
    "          'israel_to_westbank'              : [0,10**12],\n",
    "          'israel_to_jordan'                : [0,10**12],\n",
    "          'israel_to_gaza'                  : [0,10**12],\n",
    "          'westbank_to_israel'              : [0,10**12],\n",
    "          'westbank_to_jordan'              : [0,10**12],\n",
    "          'self_sufficiency_factor'         : [0,0.9],\n",
    "         }\n",
    "\n",
    "problem = {'num_vars'    : len(params.keys()),\n",
    "           'names'       : [i for i in params.keys()],\n",
    "           'bounds'      : [params[i] for i in params.keys()]\n",
    "          }\n",
    "\n",
    "# create parameter values\n",
    "param_values = morris.sample(problem,N=N,\n",
    "                             num_levels=num_levels,\n",
    "                             local_optimization=True)\n",
    "\n",
    "# Run analysis with the specified parameter values\n",
    "collected_caps_israel   = []\n",
    "collected_caps_jordan   = []\n",
    "collected_caps_westbank = []\n",
    "collected_caps_gaza     = []\n",
    "\n",
    "for param_set in tqdm(param_values,total=len(param_values)):\n",
    "\n",
    "    model_run = nextra(nodes,edges,flows,\n",
    "                       timesteps=timesteps,\n",
    "                       energy_objective=True,\n",
    "                       scenario='COO',\n",
    "                       super_sink=False,\n",
    "                       super_source=False,\n",
    "                       # params\n",
    "                       coo_res_factor=param_set[0],\n",
    "                       jordan_to_westbank=param_set[1],\n",
    "                       jordan_to_israel=param_set[2],\n",
    "                       israel_to_westbank=param_set[3],\n",
    "                       israel_to_jordan=param_set[4],\n",
    "                       israel_to_gaza=param_set[5],\n",
    "                       westbank_to_israel=param_set[6],\n",
    "                       westbank_to_jordan=param_set[7],\n",
    "                       self_sufficiency_factor=param_set[8],\n",
    "                      )\n",
    "    \n",
    "    # build, run, and get results\n",
    "    model_run.build()\n",
    "    model_run.run(pprint=False)\n",
    "    model_results = model_run.get_results()\n",
    "    \n",
    "    # get capacities\n",
    "    caps = model_results.results_capacities.groupby(by=['node','territory']).max().reset_index()\n",
    "    caps = caps.groupby(by='territory').sum().reset_index()\n",
    "    \n",
    "    # append collected capacities\n",
    "    collected_caps_israel.append(caps.loc[caps.territory == 'Israel','value'].values[0])\n",
    "    collected_caps_jordan.append(caps.loc[caps.territory == 'Jordan','value'].values[0])\n",
    "    collected_caps_westbank.append(caps.loc[caps.territory == 'West Bank','value'].values[0])\n",
    "    collected_caps_gaza.append(caps.loc[caps.territory == 'Gaza','value'].values[0])"
   ]
  },
  {
   "cell_type": "code",
   "execution_count": null,
   "id": "1954e033",
   "metadata": {},
   "outputs": [],
   "source": [
    "israel_results = process_morris_results(problem,param_values,collected_caps_israel,num_levels)\n",
    "jordan_results = process_morris_results(problem,param_values,collected_caps_jordan,num_levels)\n",
    "westbank_results = process_morris_results(problem,param_values,collected_caps_westbank,num_levels)\n",
    "gaza_results = process_morris_results(problem,param_values,collected_caps_gaza,num_levels)"
   ]
  },
  {
   "cell_type": "code",
   "execution_count": null,
   "id": "42998045",
   "metadata": {},
   "outputs": [],
   "source": [
    "plt.style.use('seaborn')\n",
    "\n",
    "f,ax=plt.subplots(nrows=2,ncols=4,figsize=(15,10))\n",
    "\n",
    "# plot boxplot\n",
    "israel_caps = pd.DataFrame({'Israel' : collected_caps_israel,})\n",
    "jordan_caps = pd.DataFrame({'Jordan' : collected_caps_jordan,})\n",
    "westbank_caps = pd.DataFrame({'West Bank' : collected_caps_westbank,})\n",
    "gaza_caps = pd.DataFrame({'Gaza' : collected_caps_gaza,})\n",
    "\n",
    "props = dict(boxes='pink', whiskers=\"darkred\", medians=\"darkred\", caps=\"none\")\n",
    "\n",
    "israel_caps.divide(1000).boxplot(ax=ax[0,0],showfliers=False,color=props,patch_artist=True)\n",
    "jordan_caps.divide(1000).boxplot(ax=ax[0,1],showfliers=False,color=props,patch_artist=True)\n",
    "westbank_caps.divide(1000).boxplot(ax=ax[0,2],showfliers=False,color=props,patch_artist=True)\n",
    "gaza_caps.divide(1000).boxplot(ax=ax[0,3],showfliers=False,color=props,patch_artist=True)\n",
    "\n",
    "# plot bar chart\n",
    "calculate_relative_influence(israel_results).set_index('names').plot.barh(ax=ax[1,0],legend=False)\n",
    "calculate_relative_influence(jordan_results).set_index('names').plot.barh(ax=ax[1,1],legend=False)\n",
    "calculate_relative_influence(westbank_results).set_index('names').plot.barh(ax=ax[1,2],legend=False)\n",
    "calculate_relative_influence(gaza_results).set_index('names').plot.barh(ax=ax[1,3],legend=False)\n",
    "\n",
    "# formatting\n",
    "ax[0,0].set_title('Israel',loc='left',fontweight='bold')\n",
    "ax[0,1].set_title('Jordan',loc='left',fontweight='bold')\n",
    "ax[0,2].set_title('West Bank',loc='left',fontweight='bold')\n",
    "ax[0,3].set_title('Gaza',loc='left',fontweight='bold')\n",
    "\n",
    "ax[0,0].set_xticklabels([])\n",
    "ax[0,1].set_xticklabels([])\n",
    "ax[0,2].set_xticklabels([])\n",
    "ax[0,3].set_xticklabels([])\n",
    "\n",
    "ax[1,1].set_yticklabels([])\n",
    "ax[1,2].set_yticklabels([])\n",
    "ax[1,3].set_yticklabels([])\n",
    "\n",
    "ax[1,0].set_ylabel('')\n",
    "ax[1,1].set_ylabel('')\n",
    "ax[1,2].set_ylabel('')\n",
    "ax[1,3].set_ylabel('')\n",
    "\n",
    "ax[1,0].set_xlim([0,100])\n",
    "ax[1,1].set_xlim([0,100])\n",
    "ax[1,2].set_xlim([0,100])\n",
    "ax[1,3].set_xlim([0,100])\n",
    "\n",
    "ax[0,0].set_ylabel('Total capacity [GW]')\n",
    "ax[1,1].set_xlabel('Percentage influence of variables [%]')"
   ]
  },
  {
   "cell_type": "code",
   "execution_count": null,
   "id": "843afacf",
   "metadata": {},
   "outputs": [],
   "source": []
  },
  {
   "cell_type": "code",
   "execution_count": null,
   "id": "cfb3ab1c",
   "metadata": {},
   "outputs": [],
   "source": []
  }
 ],
 "metadata": {
  "kernelspec": {
   "display_name": "Python 3.9.7 64-bit ('nextra': conda)",
   "language": "python",
   "name": "python397jvsc74a57bd07fea8f04d1345dd3d201713db517d44bc4ca564d1ccddab9bd2faef5b7c176d0"
  },
  "language_info": {
   "codemirror_mode": {
    "name": "ipython",
    "version": 3
   },
   "file_extension": ".py",
   "mimetype": "text/x-python",
   "name": "python",
   "nbconvert_exporter": "python",
   "pygments_lexer": "ipython3",
   "version": "3.9.7"
  }
 },
 "nbformat": 4,
 "nbformat_minor": 5
}
