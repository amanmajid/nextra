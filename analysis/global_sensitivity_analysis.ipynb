{
 "cells": [
  {
   "cell_type": "code",
   "execution_count": 1,
   "id": "94554412",
   "metadata": {},
   "outputs": [
    {
     "data": {
      "text/html": [
       "        <script type=\"text/javascript\">\n",
       "        window.PlotlyConfig = {MathJaxConfig: 'local'};\n",
       "        if (window.MathJax) {MathJax.Hub.Config({SVG: {font: \"STIX-Web\"}});}\n",
       "        if (typeof require !== 'undefined') {\n",
       "        require.undef(\"plotly\");\n",
       "        requirejs.config({\n",
       "            paths: {\n",
       "                'plotly': ['https://cdn.plot.ly/plotly-2.6.3.min']\n",
       "            }\n",
       "        });\n",
       "        require(['plotly'], function(Plotly) {\n",
       "            window._Plotly = Plotly;\n",
       "        });\n",
       "        }\n",
       "        </script>\n",
       "        "
      ]
     },
     "metadata": {},
     "output_type": "display_data"
    }
   ],
   "source": [
    "import os\n",
    "import seaborn as sns\n",
    "import matplotlib.pyplot as plt\n",
    "import matplotlib as mpl\n",
    "import pickle\n",
    "\n",
    "import SALib.analyze.morris\n",
    "from SALib.sample import morris\n",
    "\n",
    "import warnings\n",
    "warnings.filterwarnings('ignore')\n",
    "\n",
    "import sys\n",
    "sys.path.append('../')\n",
    "\n",
    "from tqdm import tqdm\n",
    "\n",
    "from infrasim.optimise import *\n",
    "from infrasim.utils import *\n",
    "\n",
    "mpl.rcParams['ytick.direction'] = 'out'\n",
    "mpl.rcParams['xtick.direction'] = 'out'\n",
    "mpl.rcParams['font.family']      = 'Arial'"
   ]
  },
  {
   "cell_type": "code",
   "execution_count": 2,
   "id": "308ab8ef",
   "metadata": {},
   "outputs": [],
   "source": [
    "def process_morris_results(problem,param_values,collected_results,num_levels):\n",
    "    '''Process output from Morris sensitivitys\n",
    "    '''\n",
    "    Si = SALib.analyze.morris.analyze(problem,\n",
    "                                      np.array(param_values),\n",
    "                                      np.array(collected_results),\n",
    "                                      print_to_console=False,\n",
    "                                      num_levels=num_levels)\n",
    "\n",
    "    sensitivity_results = pd.DataFrame.from_dict(Si)\n",
    "    return sensitivity_results\n",
    "\n",
    "\n",
    "def calculate_relative_influence(sensitivity_results):\n",
    "    '''Return relative influence (%) of each parameter from sensitivity\n",
    "    '''\n",
    "    sensitivity = sensitivity_results.copy()\n",
    "    sensitivity = sensitivity.fillna(0).reset_index(drop=True)\n",
    "    sensitivity['rel'] = abs(sensitivity['mu'])/abs(sensitivity['mu']).sum()*100\n",
    "    sensitivity['mu'] = sensitivity['mu']\n",
    "    sensitivity = sensitivity[['names','rel']]\n",
    "    sensitivity = sensitivity.sort_values(by='names',ascending=True).reset_index(drop=True)\n",
    "    sensitivity.names = sensitivity.names.str.replace('_',' ')\n",
    "    sensitivity.names = sensitivity.names.str.title()\n",
    "    sensitivity.names = sensitivity.names.str.replace('Res','RES')\n",
    "    sensitivity.names = sensitivity.names.str.replace('Coop','COO')\n",
    "    sensitivity.names = sensitivity.names.str.replace('To','to')\n",
    "    sensitivity.names = sensitivity.names.str.replace('Westbank','West Bank')\n",
    "    return sensitivity\n",
    "\n",
    "\n",
    "def read_results(path='../data/gsa_results/combined_capacities_271_generations.csv'):\n",
    "    # read results\n",
    "    combined_caps = pd.read_csv(path)\n",
    "    # israel\n",
    "    israel_results = process_morris_results(problem,\n",
    "                                            param_values,\n",
    "                                            combined_caps['Israel'].fillna(0).to_list(),\n",
    "                                            num_levels)\n",
    "    # jordan\n",
    "    jordan_results = process_morris_results(problem,\n",
    "                                            param_values,\n",
    "                                            combined_caps['Jordan'].fillna(0).to_list(),\n",
    "                                            num_levels)\n",
    "    # west bank\n",
    "    westbank_results = process_morris_results(problem,\n",
    "                                            param_values,\n",
    "                                            combined_caps['West Bank'].fillna(0).to_list(),\n",
    "                                            num_levels)\n",
    "    # gaza\n",
    "    gaza_results = process_morris_results(problem,\n",
    "                                            param_values,\n",
    "                                            combined_caps['Gaza'].fillna(0).to_list(),\n",
    "                                            num_levels)\n",
    "    # return\n",
    "    return combined_caps,israel_results,jordan_results,westbank_results,gaza_results\n",
    "\n",
    "\n",
    "def min_max_avg_plot(df,ax=None):\n",
    "    # line plot\n",
    "    sns.lineplot(x='value',y='variable',data=df,\n",
    "                 linewidth=1,zorder=10,color='firebrick',ax=ax)\n",
    "    # high and low\n",
    "    sns.scatterplot(x='value',y='variable',data=df[df.stat != 'average'],\n",
    "                    marker='|',s=100,color='firebrick',zorder=15,ax=ax)\n",
    "    # mean\n",
    "    sns.scatterplot(x='value',y='variable',data=df[df.stat == 'average'],\n",
    "                    marker='o',s=100,color='firebrick',zorder=15,ax=ax)"
   ]
  },
  {
   "cell_type": "code",
   "execution_count": 3,
   "id": "98bef0ad",
   "metadata": {},
   "outputs": [],
   "source": [
    "# params\n",
    "count       = 1\n",
    "save_iter   = 25\n",
    "timesteps   = None\n",
    "num_levels  = 10\n",
    "N           = 10\n",
    "\n",
    "# Set up problem for sensitivity analysis # name:[lower_bound,upper_bound]\n",
    "params = {'coop_res_target'                 : [0,0.5],\n",
    "          'demand_factor'                   : [1,3],\n",
    "          'solar_price_factor'              : [0.6,1.4],\n",
    "          'wind_price_factor'               : [0.6,1.4],\n",
    "          'self_sufficiency_factor'         : [0,1.0],\n",
    "         }\n",
    "\n",
    "# params = {'coop_res_target'                 : [0,0.8],\n",
    "#           'jordan_to_westbank'              : [0,10**9],\n",
    "#           'jordan_to_israel'                : [0,10**9],\n",
    "#           'israel_to_westbank'              : [0,10**9],\n",
    "#           'israel_to_jordan'                : [0,10**9],\n",
    "#           'israel_to_gaza'                  : [0,10**9],\n",
    "#           #'westbank_to_israel'              : [0,0], #[0,10**9],\n",
    "#           'westbank_to_jordan'              : [0,10**9],\n",
    "#           'self_sufficiency_factor'         : [0,1.0],\n",
    "#          }\n",
    "\n",
    "problem = {'num_vars'    : len(params.keys()),\n",
    "           'names'       : [i for i in params.keys()],\n",
    "           'bounds'      : [params[i] for i in params.keys()]\n",
    "          }\n",
    "\n",
    "# create parameter values\n",
    "param_values = morris.sample(problem,N=N,\n",
    "                             num_levels=num_levels,\n",
    "                             local_optimization=True)"
   ]
  },
  {
   "cell_type": "code",
   "execution_count": 4,
   "id": "28abb738",
   "metadata": {},
   "outputs": [
    {
     "name": "stderr",
     "output_type": "stream",
     "text": [
      "\r",
      "  0%|                                                    | 0/60 [00:00<?, ?it/s]"
     ]
    },
    {
     "name": "stdout",
     "output_type": "stream",
     "text": [
      "Set parameter Username\n",
      "Academic license - for non-commercial use only - expires 2022-11-03\n",
      "\n"
     ]
    },
    {
     "name": "stderr",
     "output_type": "stream",
     "text": [
      "\r",
      "  2%|▋                                        | 1/60 [03:44<3:41:10, 224.92s/it]"
     ]
    },
    {
     "name": "stdout",
     "output_type": "stream",
     "text": [
      "\n"
     ]
    },
    {
     "name": "stderr",
     "output_type": "stream",
     "text": [
      "\r",
      "  3%|█▎                                       | 2/60 [07:34<3:39:58, 227.57s/it]"
     ]
    },
    {
     "name": "stdout",
     "output_type": "stream",
     "text": [
      "\n"
     ]
    },
    {
     "name": "stderr",
     "output_type": "stream",
     "text": [
      "\r",
      "  5%|██                                       | 3/60 [09:52<2:57:17, 186.63s/it]"
     ]
    },
    {
     "name": "stdout",
     "output_type": "stream",
     "text": [
      "\n"
     ]
    },
    {
     "name": "stderr",
     "output_type": "stream",
     "text": [
      "\r",
      "  7%|██▋                                      | 4/60 [12:03<2:33:47, 164.78s/it]"
     ]
    },
    {
     "name": "stdout",
     "output_type": "stream",
     "text": [
      "\n"
     ]
    },
    {
     "name": "stderr",
     "output_type": "stream",
     "text": [
      "\r",
      "  8%|███▍                                     | 5/60 [14:14<2:20:01, 152.76s/it]"
     ]
    },
    {
     "name": "stdout",
     "output_type": "stream",
     "text": [
      "\n"
     ]
    },
    {
     "name": "stderr",
     "output_type": "stream",
     "text": [
      "\r",
      " 10%|████                                     | 6/60 [16:12<2:06:46, 140.87s/it]"
     ]
    },
    {
     "name": "stdout",
     "output_type": "stream",
     "text": [
      "\n"
     ]
    },
    {
     "name": "stderr",
     "output_type": "stream",
     "text": [
      "\r",
      " 12%|████▊                                    | 7/60 [18:51<2:09:37, 146.75s/it]"
     ]
    },
    {
     "name": "stdout",
     "output_type": "stream",
     "text": [
      "\n"
     ]
    },
    {
     "name": "stderr",
     "output_type": "stream",
     "text": [
      "\r",
      " 13%|█████▍                                   | 8/60 [21:18<2:07:18, 146.90s/it]"
     ]
    },
    {
     "name": "stdout",
     "output_type": "stream",
     "text": [
      "\n"
     ]
    },
    {
     "name": "stderr",
     "output_type": "stream",
     "text": [
      "\r",
      " 15%|██████▏                                  | 9/60 [24:26<2:15:42, 159.66s/it]"
     ]
    },
    {
     "name": "stdout",
     "output_type": "stream",
     "text": [
      "\n"
     ]
    },
    {
     "name": "stderr",
     "output_type": "stream",
     "text": [
      "\r",
      " 17%|██████▋                                 | 10/60 [27:52<2:24:57, 173.94s/it]"
     ]
    },
    {
     "name": "stdout",
     "output_type": "stream",
     "text": [
      "\n"
     ]
    },
    {
     "name": "stderr",
     "output_type": "stream",
     "text": [
      "\r",
      " 18%|███████▎                                | 11/60 [30:58<2:25:00, 177.56s/it]"
     ]
    },
    {
     "name": "stdout",
     "output_type": "stream",
     "text": [
      "\n"
     ]
    },
    {
     "name": "stderr",
     "output_type": "stream",
     "text": [
      "\r",
      " 20%|████████                                | 12/60 [33:47<2:20:07, 175.15s/it]"
     ]
    },
    {
     "name": "stdout",
     "output_type": "stream",
     "text": [
      "\n"
     ]
    },
    {
     "name": "stderr",
     "output_type": "stream",
     "text": [
      "\r",
      " 22%|████████▋                               | 13/60 [36:17<2:11:06, 167.36s/it]"
     ]
    },
    {
     "name": "stdout",
     "output_type": "stream",
     "text": [
      "\n"
     ]
    },
    {
     "name": "stderr",
     "output_type": "stream",
     "text": [
      "\r",
      " 23%|█████████▎                              | 14/60 [38:42<2:03:08, 160.62s/it]"
     ]
    },
    {
     "name": "stdout",
     "output_type": "stream",
     "text": [
      "\n"
     ]
    },
    {
     "name": "stderr",
     "output_type": "stream",
     "text": [
      "\r",
      " 25%|██████████                              | 15/60 [41:11<1:57:54, 157.20s/it]"
     ]
    },
    {
     "name": "stdout",
     "output_type": "stream",
     "text": [
      "\n"
     ]
    },
    {
     "name": "stderr",
     "output_type": "stream",
     "text": [
      "\r",
      " 27%|██████████▋                             | 16/60 [43:48<1:55:14, 157.15s/it]"
     ]
    },
    {
     "name": "stdout",
     "output_type": "stream",
     "text": [
      "\n"
     ]
    },
    {
     "name": "stderr",
     "output_type": "stream",
     "text": [
      "\r",
      " 28%|███████████▎                            | 17/60 [46:23<1:52:07, 156.44s/it]"
     ]
    },
    {
     "name": "stdout",
     "output_type": "stream",
     "text": [
      "\n"
     ]
    },
    {
     "name": "stderr",
     "output_type": "stream",
     "text": [
      "\r",
      " 30%|████████████                            | 18/60 [50:07<2:03:43, 176.75s/it]"
     ]
    },
    {
     "name": "stdout",
     "output_type": "stream",
     "text": [
      "\n"
     ]
    },
    {
     "name": "stderr",
     "output_type": "stream",
     "text": [
      "\r",
      " 32%|████████████▋                           | 19/60 [52:41<1:56:06, 169.90s/it]"
     ]
    },
    {
     "name": "stdout",
     "output_type": "stream",
     "text": [
      "\n"
     ]
    },
    {
     "name": "stderr",
     "output_type": "stream",
     "text": [
      "\r",
      " 33%|█████████████▎                          | 20/60 [55:15<1:50:01, 165.05s/it]"
     ]
    },
    {
     "name": "stdout",
     "output_type": "stream",
     "text": [
      "\n"
     ]
    },
    {
     "name": "stderr",
     "output_type": "stream",
     "text": [
      "\r",
      " 35%|█████████████▎                        | 21/60 [1:19:41<6:01:11, 555.67s/it]"
     ]
    },
    {
     "name": "stdout",
     "output_type": "stream",
     "text": [
      "\n"
     ]
    },
    {
     "name": "stderr",
     "output_type": "stream",
     "text": [
      "\r",
      " 37%|█████████████▉                        | 22/60 [1:34:27<6:54:37, 654.67s/it]"
     ]
    },
    {
     "name": "stdout",
     "output_type": "stream",
     "text": [
      "\n"
     ]
    },
    {
     "name": "stderr",
     "output_type": "stream",
     "text": [
      "\r",
      " 38%|██████████████▌                       | 23/60 [1:37:44<5:19:00, 517.32s/it]"
     ]
    },
    {
     "name": "stdout",
     "output_type": "stream",
     "text": [
      "\n"
     ]
    },
    {
     "name": "stderr",
     "output_type": "stream",
     "text": [
      "\r",
      " 40%|███████████████▏                      | 24/60 [1:41:01<4:12:43, 421.19s/it]"
     ]
    },
    {
     "name": "stdout",
     "output_type": "stream",
     "text": [
      "\n"
     ]
    },
    {
     "name": "stderr",
     "output_type": "stream",
     "text": [
      "\r",
      " 42%|███████████████▊                      | 25/60 [1:43:41<3:20:00, 342.86s/it]"
     ]
    },
    {
     "name": "stdout",
     "output_type": "stream",
     "text": [
      "\n"
     ]
    },
    {
     "name": "stderr",
     "output_type": "stream",
     "text": [
      "\r",
      " 43%|████████████████▍                     | 26/60 [1:46:15<2:42:09, 286.15s/it]"
     ]
    },
    {
     "name": "stdout",
     "output_type": "stream",
     "text": [
      "\n"
     ]
    },
    {
     "name": "stderr",
     "output_type": "stream",
     "text": [
      "\r",
      " 45%|█████████████████                     | 27/60 [1:48:56<2:16:50, 248.80s/it]"
     ]
    },
    {
     "name": "stdout",
     "output_type": "stream",
     "text": [
      "\n"
     ]
    },
    {
     "name": "stderr",
     "output_type": "stream",
     "text": [
      "\r",
      " 47%|█████████████████▋                    | 28/60 [1:51:52<2:01:05, 227.03s/it]"
     ]
    },
    {
     "name": "stdout",
     "output_type": "stream",
     "text": [
      "\n"
     ]
    },
    {
     "name": "stderr",
     "output_type": "stream",
     "text": [
      "\r",
      " 48%|██████████████████▎                   | 29/60 [1:54:44<1:48:44, 210.46s/it]"
     ]
    },
    {
     "name": "stdout",
     "output_type": "stream",
     "text": [
      "\n"
     ]
    },
    {
     "name": "stderr",
     "output_type": "stream",
     "text": [
      "\r",
      " 50%|███████████████████                   | 30/60 [1:57:41<1:40:06, 200.21s/it]"
     ]
    },
    {
     "name": "stdout",
     "output_type": "stream",
     "text": [
      "\n"
     ]
    },
    {
     "name": "stderr",
     "output_type": "stream",
     "text": [
      "\r",
      " 52%|███████████████████▋                  | 31/60 [2:01:24<1:40:10, 207.27s/it]"
     ]
    },
    {
     "name": "stdout",
     "output_type": "stream",
     "text": [
      "\n"
     ]
    },
    {
     "name": "stderr",
     "output_type": "stream",
     "text": [
      "\r",
      " 53%|████████████████████▎                 | 32/60 [2:04:16<1:31:43, 196.55s/it]"
     ]
    },
    {
     "name": "stdout",
     "output_type": "stream",
     "text": [
      "\n"
     ]
    },
    {
     "name": "stderr",
     "output_type": "stream",
     "text": [
      "\r",
      " 55%|████████████████████▉                 | 33/60 [2:07:12<1:25:38, 190.31s/it]"
     ]
    },
    {
     "name": "stdout",
     "output_type": "stream",
     "text": [
      "\n"
     ]
    },
    {
     "name": "stderr",
     "output_type": "stream",
     "text": [
      "\r",
      " 57%|█████████████████████▌                | 34/60 [2:09:59<1:19:30, 183.47s/it]"
     ]
    },
    {
     "name": "stdout",
     "output_type": "stream",
     "text": [
      "\n"
     ]
    },
    {
     "name": "stderr",
     "output_type": "stream",
     "text": [
      "\r",
      " 58%|██████████████████████▏               | 35/60 [2:12:49<1:14:44, 179.37s/it]"
     ]
    },
    {
     "name": "stdout",
     "output_type": "stream",
     "text": [
      "\n"
     ]
    },
    {
     "name": "stderr",
     "output_type": "stream",
     "text": [
      "\r",
      " 60%|██████████████████████▊               | 36/60 [2:15:33<1:09:58, 174.95s/it]"
     ]
    },
    {
     "name": "stdout",
     "output_type": "stream",
     "text": [
      "\n"
     ]
    },
    {
     "name": "stderr",
     "output_type": "stream",
     "text": [
      "\r",
      " 62%|███████████████████████▍              | 37/60 [2:18:18<1:05:52, 171.85s/it]"
     ]
    },
    {
     "name": "stdout",
     "output_type": "stream",
     "text": [
      "\n"
     ]
    },
    {
     "name": "stderr",
     "output_type": "stream",
     "text": [
      "\r",
      " 63%|████████████████████████              | 38/60 [2:21:59<1:08:21, 186.44s/it]"
     ]
    },
    {
     "name": "stdout",
     "output_type": "stream",
     "text": [
      "\n"
     ]
    },
    {
     "name": "stderr",
     "output_type": "stream",
     "text": [
      "\r",
      " 65%|████████████████████████▋             | 39/60 [2:25:37<1:08:39, 196.15s/it]"
     ]
    },
    {
     "name": "stdout",
     "output_type": "stream",
     "text": [
      "\n"
     ]
    },
    {
     "name": "stderr",
     "output_type": "stream",
     "text": [
      "\r",
      " 67%|█████████████████████████▎            | 40/60 [2:29:48<1:10:50, 212.54s/it]"
     ]
    },
    {
     "name": "stdout",
     "output_type": "stream",
     "text": [
      "\n"
     ]
    },
    {
     "name": "stderr",
     "output_type": "stream",
     "text": [
      "\r",
      " 68%|█████████████████████████▉            | 41/60 [2:32:32<1:02:42, 198.01s/it]"
     ]
    },
    {
     "name": "stdout",
     "output_type": "stream",
     "text": [
      "\n"
     ]
    },
    {
     "name": "stderr",
     "output_type": "stream",
     "text": [
      "\r",
      " 70%|████████████████████████████            | 42/60 [2:35:15<56:13, 187.43s/it]"
     ]
    },
    {
     "name": "stdout",
     "output_type": "stream",
     "text": [
      "\n"
     ]
    },
    {
     "name": "stderr",
     "output_type": "stream",
     "text": [
      "\r",
      " 72%|████████████████████████████▋           | 43/60 [2:38:16<52:30, 185.35s/it]"
     ]
    },
    {
     "name": "stdout",
     "output_type": "stream",
     "text": [
      "\n"
     ]
    },
    {
     "name": "stderr",
     "output_type": "stream",
     "text": [
      "\r",
      " 73%|█████████████████████████████▎          | 44/60 [2:41:04<48:02, 180.17s/it]"
     ]
    },
    {
     "name": "stdout",
     "output_type": "stream",
     "text": [
      "\n"
     ]
    },
    {
     "name": "stderr",
     "output_type": "stream",
     "text": [
      "\r",
      " 75%|██████████████████████████████          | 45/60 [2:43:35<42:55, 171.68s/it]"
     ]
    },
    {
     "name": "stdout",
     "output_type": "stream",
     "text": [
      "\n"
     ]
    },
    {
     "name": "stderr",
     "output_type": "stream",
     "text": [
      "\r",
      " 77%|██████████████████████████████▋         | 46/60 [2:46:06<38:35, 165.38s/it]"
     ]
    },
    {
     "name": "stdout",
     "output_type": "stream",
     "text": [
      "\n"
     ]
    },
    {
     "name": "stderr",
     "output_type": "stream",
     "text": [
      "\r",
      " 78%|███████████████████████████████▎        | 47/60 [2:48:35<34:44, 160.35s/it]"
     ]
    },
    {
     "name": "stdout",
     "output_type": "stream",
     "text": [
      "\n"
     ]
    },
    {
     "name": "stderr",
     "output_type": "stream",
     "text": [
      "\r",
      " 80%|████████████████████████████████        | 48/60 [2:51:32<33:03, 165.33s/it]"
     ]
    },
    {
     "name": "stdout",
     "output_type": "stream",
     "text": [
      "\n"
     ]
    },
    {
     "name": "stderr",
     "output_type": "stream",
     "text": [
      "\r",
      " 82%|████████████████████████████████▋       | 49/60 [2:54:49<32:04, 174.91s/it]"
     ]
    },
    {
     "name": "stdout",
     "output_type": "stream",
     "text": [
      "\n"
     ]
    },
    {
     "name": "stderr",
     "output_type": "stream",
     "text": [
      "\r",
      " 83%|█████████████████████████████████▎      | 50/60 [2:57:46<29:15, 175.54s/it]"
     ]
    },
    {
     "name": "stdout",
     "output_type": "stream",
     "text": [
      "\n"
     ]
    },
    {
     "name": "stderr",
     "output_type": "stream",
     "text": [
      "\r",
      " 85%|██████████████████████████████████      | 51/60 [3:01:18<27:58, 186.51s/it]"
     ]
    },
    {
     "name": "stdout",
     "output_type": "stream",
     "text": [
      "\n"
     ]
    },
    {
     "name": "stderr",
     "output_type": "stream",
     "text": [
      "\r",
      " 87%|██████████████████████████████████▋     | 52/60 [3:04:43<25:37, 192.17s/it]"
     ]
    },
    {
     "name": "stdout",
     "output_type": "stream",
     "text": [
      "\n"
     ]
    },
    {
     "name": "stderr",
     "output_type": "stream",
     "text": [
      "\r",
      " 88%|███████████████████████████████████▎    | 53/60 [3:07:24<21:19, 182.77s/it]"
     ]
    },
    {
     "name": "stdout",
     "output_type": "stream",
     "text": [
      "\n"
     ]
    },
    {
     "name": "stderr",
     "output_type": "stream",
     "text": [
      "\r",
      " 90%|████████████████████████████████████    | 54/60 [3:10:19<18:02, 180.48s/it]"
     ]
    },
    {
     "name": "stdout",
     "output_type": "stream",
     "text": [
      "\n"
     ]
    },
    {
     "name": "stderr",
     "output_type": "stream",
     "text": [
      "\r",
      " 92%|████████████████████████████████████▋   | 55/60 [3:12:57<14:27, 173.58s/it]"
     ]
    },
    {
     "name": "stdout",
     "output_type": "stream",
     "text": [
      "\n"
     ]
    },
    {
     "name": "stderr",
     "output_type": "stream",
     "text": [
      "\r",
      " 93%|█████████████████████████████████████▎  | 56/60 [3:15:38<11:18, 169.72s/it]"
     ]
    },
    {
     "name": "stdout",
     "output_type": "stream",
     "text": [
      "\n"
     ]
    },
    {
     "name": "stderr",
     "output_type": "stream",
     "text": [
      "\r",
      " 95%|██████████████████████████████████████  | 57/60 [3:19:18<09:14, 184.99s/it]"
     ]
    },
    {
     "name": "stdout",
     "output_type": "stream",
     "text": [
      "\n"
     ]
    },
    {
     "name": "stderr",
     "output_type": "stream",
     "text": [
      "\r",
      " 97%|██████████████████████████████████████▋ | 58/60 [3:23:07<06:35, 197.98s/it]"
     ]
    },
    {
     "name": "stdout",
     "output_type": "stream",
     "text": [
      "\n"
     ]
    },
    {
     "name": "stderr",
     "output_type": "stream",
     "text": [
      "\r",
      " 98%|███████████████████████████████████████▎| 59/60 [3:26:56<03:27, 207.46s/it]"
     ]
    },
    {
     "name": "stdout",
     "output_type": "stream",
     "text": [
      "\n"
     ]
    },
    {
     "name": "stderr",
     "output_type": "stream",
     "text": [
      "100%|████████████████████████████████████████| 60/60 [3:30:21<00:00, 210.36s/it]\n"
     ]
    }
   ],
   "source": [
    "# Run analysis with the specified parameter values\n",
    "collected_caps_israel   = []\n",
    "collected_caps_jordan   = []\n",
    "collected_caps_westbank = []\n",
    "collected_caps_gaza     = []\n",
    "\n",
    "#File paths\n",
    "nodes = '../data/nextra/spatial/network/nodes.shp'\n",
    "edges = '../data/nextra/spatial/network/edges.shp'\n",
    "\n",
    "for param_set in tqdm(param_values,total=len(param_values)):\n",
    "    \n",
    "    if round(param_set[1]) == 1:\n",
    "        flows = '../data/nextra/nodal_flows/processed_flows_2030_low.csv'\n",
    "    elif round(param_set[1]) == 2:\n",
    "        flows = '../data/nextra/nodal_flows/processed_flows_2030_base.csv'\n",
    "    elif round(param_set[1]) == 3:\n",
    "        flows = '../data/nextra/nodal_flows/processed_flows_2030_high.csv'\n",
    "    else:\n",
    "        flows = '../data/nextra/nodal_flows/processed_flows_2030_base.csv'\n",
    "    \n",
    "    model_run = nextra(nodes,edges,flows,\n",
    "                       timesteps=timesteps,\n",
    "                       energy_objective=True,\n",
    "                       scenario='COO',\n",
    "                       super_sink=False,\n",
    "                       super_source=False,\n",
    "                       # params\n",
    "                       coo_res_factor=round(param_set[0],2),\n",
    "                       solar_price_factor=param_set[2],\n",
    "                       wind_price_factor=param_set[3],\n",
    "                       self_sufficiency_factor=param_set[4],\n",
    "                      )\n",
    "    \n",
    "    # build, run, and get results\n",
    "    model_run.build()\n",
    "    model_run.run(pprint=False)\n",
    "    try:\n",
    "        model_results = model_run.get_results()\n",
    "        # get capacities\n",
    "        caps = model_results.results_capacities.copy()\n",
    "        caps = caps.groupby(by='territory').max().reset_index()\n",
    "        # append collected capacities\n",
    "        collected_caps_israel.append(caps.loc[caps.territory == 'Israel','value'].values[0])\n",
    "        collected_caps_jordan.append(caps.loc[caps.territory == 'Jordan','value'].values[0])\n",
    "        collected_caps_westbank.append(caps.loc[caps.territory == 'West Bank','value'].values[0])\n",
    "        collected_caps_gaza.append(caps.loc[caps.territory == 'Gaza','value'].values[0])\n",
    "    except:\n",
    "        collected_caps_israel.append(np.nan)\n",
    "        collected_caps_jordan.append(np.nan)\n",
    "        collected_caps_westbank.append(np.nan)\n",
    "        collected_caps_gaza.append(np.nan)\n",
    "    \n",
    "    # make dataframes\n",
    "    combined_caps = pd.DataFrame({'Israel' : collected_caps_israel,\n",
    "                                  'Jordan' : collected_caps_jordan,\n",
    "                                  'West Bank' : collected_caps_westbank,\n",
    "                                  'Gaza' : collected_caps_gaza,})\n",
    "    \n",
    "    # save\n",
    "    if count % save_iter == 0:\n",
    "        combined_caps.to_csv('../data/gsa_results/combined_capacities_' \n",
    "                             + str(count) + '_generations.csv',index=False)\n",
    "    \n",
    "    # adjust counter\n",
    "    count = count + 1\n",
    "    \n",
    "combined_caps.to_csv('../data/gsa_results/combined_capacities_' \n",
    "                             + str(count) + '_generations.csv',index=False)"
   ]
  },
  {
   "cell_type": "code",
   "execution_count": 5,
   "id": "9de93592",
   "metadata": {},
   "outputs": [],
   "source": [
    "combined_caps.to_csv('../data/gsa_results/combined_capacities_' \n",
    "                             + str(count) + '_generations.csv',index=False)\n",
    "\n",
    "combined_caps,israel_results,jordan_results,westbank_results,gaza_results = read_results(\\\n",
    "                path='../data/gsa_results/combined_capacities_' \n",
    "                             + str(count) + '_generations.csv')\n",
    "\n",
    "collected_caps = combined_caps.copy()"
   ]
  },
  {
   "cell_type": "code",
   "execution_count": 6,
   "id": "d1bdb692",
   "metadata": {},
   "outputs": [
    {
     "data": {
      "image/png": "[encoded data removed]",
      "text/plain": [
       "<Figure size 720x360 with 5 Axes>"
      ]
     },
     "metadata": {
      "needs_background": "light"
     },
     "output_type": "display_data"
    }
   ],
   "source": [
    "file = open('../outputs/results/model_run_results.pkl','rb')\n",
    "results = pickle.load(file)\n",
    "file.close()\n",
    "\n",
    "baseline_caps = results['COO'].results_capacities.groupby(by='territory').max()['value'].to_dict()\n",
    "\n",
    "for c in collected_caps.columns:\n",
    "    collected_caps[c+'_influence'] = (collected_caps[c] - baseline_caps[c])/baseline_caps[c] * 100\n",
    "\n",
    "collected_caps\n",
    "\n",
    "isr = calculate_relative_influence(israel_results)\n",
    "isr['region'] = 'ISR'\n",
    "\n",
    "jor = calculate_relative_influence(jordan_results)\n",
    "jor['region'] = 'JOR'\n",
    "\n",
    "wbk = calculate_relative_influence(westbank_results)\n",
    "wbk['region'] = 'WBK'\n",
    "\n",
    "gza = calculate_relative_influence(gaza_results)\n",
    "gza['region'] = 'GZA'\n",
    "\n",
    "influence = isr.copy()\n",
    "influence = influence.append(jor,ignore_index=True)\n",
    "influence = influence.append(wbk,ignore_index=True)\n",
    "influence = influence.append(gza,ignore_index=True)\n",
    "influence['var'] = influence['names']\n",
    "\n",
    "def custom_lineplot(df,colname,xlims,title,ax):\n",
    "    x1 = df[colname].min()\n",
    "    x2 = df[colname].max()\n",
    "    x3 = df[colname].mean()\n",
    "    x4 = df[colname].median()\n",
    "    ax.plot([x1,x2],[0.5,0.5],linestyle='-',color='teal',linewidth=2,zorder=0)\n",
    "    ax.scatter(x3,0.5,s=250,marker='|',color='teal',linewidth=5)\n",
    "    ax.scatter(x4,0.5,s=50,marker='o',color='white',linewidth=1,edgecolor='teal')\n",
    "    ax.set_xlim(xlims)\n",
    "    ax.set_title(title,loc='left')\n",
    "    \n",
    "f = plt.figure(figsize=(10,5))\n",
    "ax1 = plt.subplot(4,2,1)\n",
    "ax2 = plt.subplot(4,2,3)\n",
    "ax3 = plt.subplot(4,2,5)\n",
    "ax4 = plt.subplot(4,2,7)\n",
    "ax5 = plt.subplot(1,2,2)\n",
    "\n",
    "xlims=[-100,600]\n",
    "\n",
    "custom_lineplot(df=collected_caps,colname='Israel_influence',xlims=xlims,title='ISR',ax=ax1)\n",
    "custom_lineplot(df=collected_caps,colname='Jordan_influence',xlims=xlims,title='JOR',ax=ax2)\n",
    "custom_lineplot(df=collected_caps,colname='West Bank_influence',xlims=xlims,title='WBK',ax=ax3)\n",
    "custom_lineplot(df=collected_caps,colname='Gaza_influence',xlims=xlims,title='GZA',ax=ax4)\n",
    "\n",
    "ax1.axis('off')\n",
    "ax2.axis('off')\n",
    "ax3.axis('off')\n",
    "\n",
    "ax4.spines['top'].set_visible(False)\n",
    "ax4.spines['right'].set_visible(False)\n",
    "ax4.spines['left'].set_visible(False)\n",
    "ax4.set_yticks([])\n",
    "\n",
    "ax4.set_xlabel('Change in capacity (%)')\n",
    "\n",
    "sns.barplot(x='rel',y='var',hue='region',data=influence,ax=ax5,edgecolor='black')\n",
    "ax5.set_ylabel('')\n",
    "ax5.set_xlabel('Relative Influence (%)')\n",
    "ax5.set_title('b',loc='left',fontweight='bold',fontsize=16)\n",
    "\n",
    "f.tight_layout() \n",
    "f.savefig('../outputs/figures/global_sensitivity.pdf',bbox_inches='tight')"
   ]
  },
  {
   "cell_type": "code",
   "execution_count": 7,
   "id": "9970ae94",
   "metadata": {},
   "outputs": [
    {
     "data": {
      "text/html": [
       "<div>\n",
       "<style scoped>\n",
       "    .dataframe tbody tr th:only-of-type {\n",
       "        vertical-align: middle;\n",
       "    }\n",
       "\n",
       "    .dataframe tbody tr th {\n",
       "        vertical-align: top;\n",
       "    }\n",
       "\n",
       "    .dataframe thead th {\n",
       "        text-align: right;\n",
       "    }\n",
       "</style>\n",
       "<table border=\"1\" class=\"dataframe\">\n",
       "  <thead>\n",
       "    <tr style=\"text-align: right;\">\n",
       "      <th></th>\n",
       "      <th>names</th>\n",
       "      <th>mu</th>\n",
       "      <th>mu_star</th>\n",
       "      <th>sigma</th>\n",
       "      <th>mu_star_conf</th>\n",
       "    </tr>\n",
       "  </thead>\n",
       "  <tbody>\n",
       "    <tr>\n",
       "      <th>0</th>\n",
       "      <td>coop_res_target</td>\n",
       "      <td>0.0</td>\n",
       "      <td>0.0</td>\n",
       "      <td>0.0</td>\n",
       "      <td>0.0</td>\n",
       "    </tr>\n",
       "    <tr>\n",
       "      <th>1</th>\n",
       "      <td>demand_factor</td>\n",
       "      <td>0.0</td>\n",
       "      <td>0.0</td>\n",
       "      <td>0.0</td>\n",
       "      <td>0.0</td>\n",
       "    </tr>\n",
       "    <tr>\n",
       "      <th>2</th>\n",
       "      <td>solar_price_factor</td>\n",
       "      <td>0.0</td>\n",
       "      <td>0.0</td>\n",
       "      <td>0.0</td>\n",
       "      <td>0.0</td>\n",
       "    </tr>\n",
       "    <tr>\n",
       "      <th>3</th>\n",
       "      <td>wind_price_factor</td>\n",
       "      <td>0.0</td>\n",
       "      <td>0.0</td>\n",
       "      <td>0.0</td>\n",
       "      <td>0.0</td>\n",
       "    </tr>\n",
       "    <tr>\n",
       "      <th>4</th>\n",
       "      <td>self_sufficiency_factor</td>\n",
       "      <td>0.0</td>\n",
       "      <td>0.0</td>\n",
       "      <td>0.0</td>\n",
       "      <td>0.0</td>\n",
       "    </tr>\n",
       "  </tbody>\n",
       "</table>\n",
       "</div>"
      ],
      "text/plain": [
       "                     names   mu  mu_star  sigma  mu_star_conf\n",
       "0          coop_res_target  0.0      0.0    0.0           0.0\n",
       "1            demand_factor  0.0      0.0    0.0           0.0\n",
       "2       solar_price_factor  0.0      0.0    0.0           0.0\n",
       "3        wind_price_factor  0.0      0.0    0.0           0.0\n",
       "4  self_sufficiency_factor  0.0      0.0    0.0           0.0"
      ]
     },
     "execution_count": 7,
     "metadata": {},
     "output_type": "execute_result"
    }
   ],
   "source": [
    "israel_results = process_morris_results(problem,\n",
    "                                            param_values,\n",
    "                                            combined_caps['Israel'].fillna(0).to_list(),\n",
    "                                            num_levels)\n",
    "\n",
    "israel_results"
   ]
  },
  {
   "cell_type": "code",
   "execution_count": null,
   "id": "804d3a49",
   "metadata": {},
   "outputs": [],
   "source": []
  },
  {
   "cell_type": "code",
   "execution_count": 8,
   "id": "548a7f24",
   "metadata": {},
   "outputs": [],
   "source": [
    "collected_caps\n",
    "\n",
    "isr = calculate_relative_influence(israel_results)\n",
    "isr['region'] = 'ISR'\n",
    "\n",
    "jor = calculate_relative_influence(jordan_results)\n",
    "jor['region'] = 'JOR'\n",
    "\n",
    "wbk = calculate_relative_influence(westbank_results)\n",
    "wbk['region'] = 'WBK'\n",
    "\n",
    "gza = calculate_relative_influence(gaza_results)\n",
    "gza['region'] = 'GZA'\n",
    "\n",
    "influence = isr.copy()\n",
    "influence = influence.append(jor,ignore_index=True)\n",
    "influence = influence.append(wbk,ignore_index=True)\n",
    "influence = influence.append(gza,ignore_index=True)\n",
    "influence['var'] = influence['names']"
   ]
  },
  {
   "cell_type": "code",
   "execution_count": null,
   "id": "3e5a2a40",
   "metadata": {},
   "outputs": [],
   "source": []
  }
 ],
 "metadata": {
  "kernelspec": {
   "display_name": "Python 3.9.7 64-bit ('nextra': conda)",
   "language": "python",
   "name": "python397jvsc74a57bd07fea8f04d1345dd3d201713db517d44bc4ca564d1ccddab9bd2faef5b7c176d0"
  },
  "language_info": {
   "codemirror_mode": {
    "name": "ipython",
    "version": 3
   },
   "file_extension": ".py",
   "mimetype": "text/x-python",
   "name": "python",
   "nbconvert_exporter": "python",
   "pygments_lexer": "ipython3",
   "version": "3.9.7"
  }
 },
 "nbformat": 4,
 "nbformat_minor": 5
}
