{
 "cells": [
  {
   "cell_type": "code",
   "execution_count": 1,
   "id": "b79fdbdf-cc4f-4511-9360-fd55db2d9244",
   "metadata": {},
   "outputs": [],
   "source": [
    "import os\n",
    "import seaborn as sns\n",
    "import matplotlib.pyplot as plt\n",
    "import pickle \n",
    "import pickle\n",
    "import matplotlib as mpl\n",
    "\n",
    "import warnings\n",
    "warnings.filterwarnings('ignore')\n",
    "\n",
    "import sys\n",
    "sys.path.append('../')\n",
    "\n",
    "from infrasim.optimise import *\n",
    "from infrasim.utils import *\n",
    "\n",
    "\n",
    "def merge_capacity_data(results_dict):\n",
    "    '''Returns a dataframe with merged capacity data based on a dictionary containing a set of results class\n",
    "    '''\n",
    "    # init blank df\n",
    "    capacities = pd.DataFrame()\n",
    "    # loop results \n",
    "    for k in results_dict.keys():\n",
    "        df = results_dict[k].results_capacities\n",
    "        capacities = capacities.append(df,ignore_index=True)\n",
    "    return capacities\n",
    "\n",
    "\n",
    "#File paths\n",
    "nodes = '../data/nextra/spatial/network/nodes.shp'\n",
    "edges = '../data/nextra/spatial/network/edges.shp'\n",
    "flows = '../data/nextra/nodal_flows/processed_flows_2030_low.csv'\n",
    "\n",
    "# Params\n",
    "timesteps=24*60\n",
    "super_source=False\n",
    "pprint=True\n",
    "save_figures=True\n",
    "\n",
    "infrasim_init_directories()\n",
    "\n",
    "#ss_factors = [i/100 for i in np.arange(10,101,10).tolist()]\n",
    "ss_factors = [0.1,0.2,0.3,0.4,0.5,0.6,0.7,0.8,0.9,0.95]\n",
    "#ss_factors = [0.6,0.7,0.8,0.9,0.95]"
   ]
  },
  {
   "cell_type": "markdown",
   "id": "4467073c-8d45-4bda-862b-fd355cc72282",
   "metadata": {},
   "source": [
    "## RUN COO"
   ]
  },
  {
   "cell_type": "code",
   "execution_count": 2,
   "id": "2d7112a7-d394-4792-9fff-46dd6f52c3d3",
   "metadata": {},
   "outputs": [
    {
     "name": "stdout",
     "output_type": "stream",
     "text": [
      "> Running factor 0.1\n"
     ]
    },
    {
     "name": "stderr",
     "output_type": "stream",
     "text": [
      "\n",
      "KeyboardInterrupt\n",
      "\n"
     ]
    }
   ],
   "source": [
    "results = {}\n",
    "coo_caps = []\n",
    "coo_costs = []\n",
    "for s in ss_factors:\n",
    "    print(f'> Running factor {s}')\n",
    "    model_run = nextra(nodes,edges,flows,\n",
    "                       scenario='COO',\n",
    "                       energy_objective=True,\n",
    "                       timesteps=timesteps,\n",
    "                       coo_res_factor=s)\n",
    "\n",
    "    model_run.build()\n",
    "    model_run.run(pprint=False)\n",
    "    try:\n",
    "        model_results = model_run.get_results()\n",
    "        # add scenarios to results\n",
    "        # if s == 'BAU' and scenarios[s] == False:\n",
    "        #     s = 'BAS'\n",
    "        model_results.results_capacities['self_sufficiency_factor']       = s\n",
    "        model_results.results_storages['self_sufficiency_factor']         = s\n",
    "        model_results.results_edge_flows['self_sufficiency_factor']       = s\n",
    "        model_results.results_capacity_change['self_sufficiency_factor']  = s\n",
    "        model_results.results_costs['self_sufficiency_factor']            = s\n",
    "        # append results\n",
    "        results[ 'COO_' + str(s) ] = model_results\n",
    "        # append into list\n",
    "        m = model_results.get_capacities()\n",
    "        coo_caps.append(pd.DataFrame({'Technology' : ['Solar'],\n",
    "                                  'Factor' : s,\n",
    "                                  'Capacity' : m.loc[m.technology.isin(['Solar'])].value.sum() / 1000}))\n",
    "                    \n",
    "        coo_caps.append(pd.DataFrame({'Technology' : ['Wind'],\n",
    "                                  'Factor' : s,\n",
    "                                  'Capacity' : m.loc[m.technology.isin(['Wind'])].value.sum() / 1000 }))\n",
    "        \n",
    "        coo_caps.append(pd.DataFrame({'Technology' : ['Battery'],\n",
    "                                  'Factor' : s,\n",
    "                                  'Capacity' : m.loc[m.technology.isin(['Battery'])].value.sum() / 1000}))\n",
    "        \n",
    "        coo_costs.append(pd.DataFrame({'Factor':[s], 'Cost':model_results.results_costs.totex.sum()}))\n",
    "    except:\n",
    "        print('> FAILED! ' + str(s))"
   ]
  },
  {
   "cell_type": "markdown",
   "id": "0f466138-1da6-4400-9ba8-038dcacffe0e",
   "metadata": {},
   "source": [
    "## RUN NCO"
   ]
  },
  {
   "cell_type": "code",
   "execution_count": null,
   "id": "6592f178-0cc8-4d8b-8c7a-c6d554d1fefc",
   "metadata": {},
   "outputs": [],
   "source": [
    "results = {}\n",
    "nco_caps = []\n",
    "nco_costs = []\n",
    "for s in ss_factors:\n",
    "    print(f'> Running factor {s}')\n",
    "    model_run = nextra(nodes,edges,flows,\n",
    "                       scenario='NCO',\n",
    "                       gaz_res_target_2030=s,\n",
    "                       pal_res_target_2030=s,\n",
    "                       jor_res_target_2030=s,\n",
    "                       isr_res_target_2030=s,\n",
    "                       energy_objective=True,\n",
    "                       timesteps=timesteps)\n",
    "\n",
    "    model_run.build()\n",
    "    model_run.run(pprint=False)\n",
    "    try:\n",
    "        model_results = model_run.get_results()\n",
    "        # add scenarios to results\n",
    "        # if s == 'BAU' and scenarios[s] == False:\n",
    "        #     s = 'BAS'\n",
    "        model_results.results_capacities['self_sufficiency_factor']       = s\n",
    "        model_results.results_storages['self_sufficiency_factor']         = s\n",
    "        model_results.results_edge_flows['self_sufficiency_factor']       = s\n",
    "        model_results.results_capacity_change['self_sufficiency_factor']  = s\n",
    "        model_results.results_costs['self_sufficiency_factor']            = s\n",
    "        # append results\n",
    "        results[ 'COO_' + str(s) ] = model_results\n",
    "        # append into list\n",
    "        m = model_results.get_capacities()\n",
    "        nco_caps.append(pd.DataFrame({'Technology' : ['Solar'],\n",
    "                                  'Factor' : s,\n",
    "                                  'Capacity' : m.loc[m.technology.isin(['Solar'])].value.sum() / 1000}))\n",
    "                    \n",
    "        nco_caps.append(pd.DataFrame({'Technology' : ['Wind'],\n",
    "                                  'Factor' : s,\n",
    "                                  'Capacity' : m.loc[m.technology.isin(['Wind'])].value.sum() / 1000 }))\n",
    "        \n",
    "        nco_caps.append(pd.DataFrame({'Technology' : ['Battery'],\n",
    "                                  'Factor' : s,\n",
    "                                  'Capacity' : m.loc[m.technology.isin(['Battery'])].value.sum() / 1000}))\n",
    "        \n",
    "        nco_costs.append(pd.DataFrame({'Factor':[s],'Cost':model_results.results_costs.totex.sum()}))\n",
    "            \n",
    "    except:\n",
    "        print('> FAILED! ' + str(s))"
   ]
  },
  {
   "cell_type": "code",
   "execution_count": null,
   "id": "18537bbe-c072-488b-9283-668609630b2a",
   "metadata": {},
   "outputs": [],
   "source": [
    "coo_caps_merged = pd.concat(coo_caps,ignore_index=True)\n",
    "nco_caps_merged = pd.concat(nco_caps,ignore_index=True)\n",
    "\n",
    "coo_caps_merged['Scenario'] = 'COO'\n",
    "nco_caps_merged['Scenario'] = 'NCO'\n",
    "\n",
    "capacity_data = coo_caps_merged.append(nco_caps_merged,ignore_index=True)\n",
    "\n",
    "# COSTS\n",
    "nco_costs_merged = pd.concat(nco_costs)\n",
    "coo_costs_merged = pd.concat(coo_costs)\n",
    "\n",
    "coo_costs_merged['Scenario'] = 'COO'\n",
    "nco_costs_merged['Scenario'] = 'NCO'\n",
    "\n",
    "cost_data = coo_costs_merged.append(nco_costs_merged,ignore_index=True)"
   ]
  },
  {
   "cell_type": "code",
   "execution_count": null,
   "id": "018335ad-6ea9-41f6-b128-482f573802be",
   "metadata": {},
   "outputs": [],
   "source": [
    "coo_cost = cost_data.loc[(cost_data.Factor == 0.95) & (cost_data.Scenario == 'COO'),'Cost'].iloc[0]\n",
    "nco_cost = cost_data.loc[(cost_data.Factor == 0.95) & (cost_data.Scenario == 'NCO'),'Cost'].iloc[0]\n",
    "delta = nco_cost - coo_cost\n",
    "\n",
    "print(f'>>> Cost saving to achieve net zero is: $US{int(delta*10**-9)} billion')"
   ]
  },
  {
   "cell_type": "code",
   "execution_count": null,
   "id": "e017cdd1-d5b2-4473-918a-1b8b4fcbcd3e",
   "metadata": {},
   "outputs": [],
   "source": []
  },
  {
   "cell_type": "code",
   "execution_count": null,
   "id": "13867252-9f57-4c62-bc3c-b49a7488d174",
   "metadata": {},
   "outputs": [],
   "source": [
    "sums = capacity_data.groupby(by=['Factor','Scenario']).sum().reset_index()\n",
    "sums.Factor = sums.Factor * 100"
   ]
  },
  {
   "cell_type": "code",
   "execution_count": null,
   "id": "cfe0c29a-44c1-433f-9a73-d5b663973581",
   "metadata": {},
   "outputs": [],
   "source": [
    "f,ax = plt.subplots(nrows=1,ncols=1,figsize=(6,5))\n",
    "\n",
    "import matplotlib as mpl\n",
    "mpl.rcParams['font.family'] = 'Arial'\n",
    "\n",
    "sns.set_style(\"ticks\")\n",
    "\n",
    "sns.barplot(x='Factor',\n",
    "            y='Capacity',\n",
    "            hue='Scenario',\n",
    "            data=sums,\n",
    "            ax=ax,\n",
    "            palette='Set2',\n",
    "            edgecolor='black',\n",
    "           )\n",
    "\n",
    "ax.set_xlabel('Renewables penetration (%)',fontsize=14)\n",
    "ax.set_ylabel('Capacity (GW)',fontsize=14)\n",
    "ax.set_ylim([0,450])\n",
    "\n",
    "\n",
    "sns.despine()\n",
    "\n",
    "f.savefig('../outputs/figures/oms_net_zero.png',dpi=450,bbox_inches='tight')"
   ]
  },
  {
   "cell_type": "code",
   "execution_count": null,
   "id": "36d4f8ec-561e-4ed1-80da-4c4c48b8f59c",
   "metadata": {},
   "outputs": [],
   "source": [
    "sums.loc[sums.Factor == 95]"
   ]
  },
  {
   "cell_type": "code",
   "execution_count": null,
   "id": "9c15d24e-0ab0-443e-a918-b8399ed723d2",
   "metadata": {},
   "outputs": [],
   "source": [
    "model_results.results_costs.totex.sum()"
   ]
  },
  {
   "cell_type": "code",
   "execution_count": null,
   "id": "8edf74c1-3ac2-4f9f-be9d-a7f5d14a533b",
   "metadata": {},
   "outputs": [],
   "source": [
    "sns.barplot(x='Factor',y='Capacity',\n",
    "             data=capacity_data.groupby(by='Factor').sum().reset_index())"
   ]
  },
  {
   "cell_type": "code",
   "execution_count": null,
   "id": "6ea6960f-93a2-4de7-8634-4e2c6c377d15",
   "metadata": {},
   "outputs": [],
   "source": [
    "results['COO_0.95'].plot_hourly_profile(day=4,month=1)"
   ]
  },
  {
   "cell_type": "code",
   "execution_count": null,
   "id": "de01b8cf-a3eb-41e8-988c-896a0763a1d9",
   "metadata": {},
   "outputs": [],
   "source": [
    "results['COO_0.95'].plot_flows_sankey()"
   ]
  },
  {
   "cell_type": "code",
   "execution_count": null,
   "id": "a6eccae7-d4f1-4a9a-a5ab-ae151ce98023",
   "metadata": {},
   "outputs": [],
   "source": []
  },
  {
   "cell_type": "code",
   "execution_count": null,
   "id": "a34c21ad-a4f6-4b56-a269-cfa541808e2a",
   "metadata": {},
   "outputs": [],
   "source": [
    "results['COO_0.9'].results_costs.totex.sum()"
   ]
  }
 ],
 "metadata": {
  "kernelspec": {
   "display_name": "Python 3 (ipykernel)",
   "language": "python",
   "name": "python3"
  },
  "language_info": {
   "codemirror_mode": {
    "name": "ipython",
    "version": 3
   },
   "file_extension": ".py",
   "mimetype": "text/x-python",
   "name": "python",
   "nbconvert_exporter": "python",
   "pygments_lexer": "ipython3",
   "version": "3.9.12"
  }
 },
 "nbformat": 4,
 "nbformat_minor": 5
}
