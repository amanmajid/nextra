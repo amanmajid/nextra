{
 "cells": [
  {
   "cell_type": "code",
   "execution_count": 50,
   "id": "94554412",
   "metadata": {},
   "outputs": [],
   "source": [
    "import os\n",
    "import seaborn as sns\n",
    "import matplotlib.pyplot as plt\n",
    "\n",
    "import SALib.analyze.morris\n",
    "from SALib.sample import morris\n",
    "\n",
    "import warnings\n",
    "warnings.filterwarnings('ignore')\n",
    "\n",
    "import sys\n",
    "sys.path.append('../')\n",
    "\n",
    "from tqdm import tqdm\n",
    "\n",
    "from infrasim.optimise import *\n",
    "from infrasim.utils import *"
   ]
  },
  {
   "cell_type": "code",
   "execution_count": 74,
   "id": "98bef0ad",
   "metadata": {},
   "outputs": [
    {
     "name": "stderr",
     "output_type": "stream",
     "text": [
      "\r",
      "  0%|                                                                                                | 0/100 [00:00<?, ?it/s]"
     ]
    },
    {
     "name": "stdout",
     "output_type": "stream",
     "text": [
      "\n"
     ]
    },
    {
     "name": "stderr",
     "output_type": "stream",
     "text": [
      "\r",
      "  1%|▉                                                                                       | 1/100 [00:02<03:19,  2.02s/it]"
     ]
    },
    {
     "name": "stdout",
     "output_type": "stream",
     "text": [
      "\n"
     ]
    },
    {
     "name": "stderr",
     "output_type": "stream",
     "text": [
      "\r",
      "  2%|█▊                                                                                      | 2/100 [00:03<03:13,  1.98s/it]"
     ]
    },
    {
     "name": "stdout",
     "output_type": "stream",
     "text": [
      "\n"
     ]
    },
    {
     "name": "stderr",
     "output_type": "stream",
     "text": [
      "\r",
      "  3%|██▋                                                                                     | 3/100 [00:05<03:13,  2.00s/it]"
     ]
    },
    {
     "name": "stdout",
     "output_type": "stream",
     "text": [
      "\n"
     ]
    },
    {
     "name": "stderr",
     "output_type": "stream",
     "text": [
      "\r",
      "  4%|███▌                                                                                    | 4/100 [00:07<03:12,  2.00s/it]"
     ]
    },
    {
     "name": "stdout",
     "output_type": "stream",
     "text": [
      "\n"
     ]
    },
    {
     "name": "stderr",
     "output_type": "stream",
     "text": [
      "\r",
      "  5%|████▍                                                                                   | 5/100 [00:10<03:13,  2.03s/it]"
     ]
    },
    {
     "name": "stdout",
     "output_type": "stream",
     "text": [
      "\n"
     ]
    },
    {
     "name": "stderr",
     "output_type": "stream",
     "text": [
      "\r",
      "  6%|█████▎                                                                                  | 6/100 [00:12<03:10,  2.03s/it]"
     ]
    },
    {
     "name": "stdout",
     "output_type": "stream",
     "text": [
      "\n"
     ]
    },
    {
     "name": "stderr",
     "output_type": "stream",
     "text": [
      "\r",
      "  7%|██████▏                                                                                 | 7/100 [00:14<03:05,  1.99s/it]"
     ]
    },
    {
     "name": "stdout",
     "output_type": "stream",
     "text": [
      "\n"
     ]
    },
    {
     "name": "stderr",
     "output_type": "stream",
     "text": [
      "\r",
      "  8%|███████                                                                                 | 8/100 [00:16<03:06,  2.03s/it]"
     ]
    },
    {
     "name": "stdout",
     "output_type": "stream",
     "text": [
      "\n"
     ]
    },
    {
     "name": "stderr",
     "output_type": "stream",
     "text": [
      "\r",
      "  9%|███████▉                                                                                | 9/100 [00:18<03:04,  2.03s/it]"
     ]
    },
    {
     "name": "stdout",
     "output_type": "stream",
     "text": [
      "\n"
     ]
    },
    {
     "name": "stderr",
     "output_type": "stream",
     "text": [
      "\r",
      " 10%|████████▋                                                                              | 10/100 [00:20<03:02,  2.03s/it]"
     ]
    },
    {
     "name": "stdout",
     "output_type": "stream",
     "text": [
      "\n"
     ]
    },
    {
     "name": "stderr",
     "output_type": "stream",
     "text": [
      "\r",
      " 11%|█████████▌                                                                             | 11/100 [00:22<02:57,  2.00s/it]"
     ]
    },
    {
     "name": "stdout",
     "output_type": "stream",
     "text": [
      "\n"
     ]
    },
    {
     "name": "stderr",
     "output_type": "stream",
     "text": [
      "\r",
      " 12%|██████████▍                                                                            | 12/100 [00:24<02:55,  2.00s/it]"
     ]
    },
    {
     "name": "stdout",
     "output_type": "stream",
     "text": [
      "\n"
     ]
    },
    {
     "name": "stderr",
     "output_type": "stream",
     "text": [
      "\r",
      " 13%|███████████▎                                                                           | 13/100 [00:26<02:53,  1.99s/it]"
     ]
    },
    {
     "name": "stdout",
     "output_type": "stream",
     "text": [
      "\n"
     ]
    },
    {
     "name": "stderr",
     "output_type": "stream",
     "text": [
      "\r",
      " 14%|████████████▏                                                                          | 14/100 [00:28<02:51,  1.99s/it]"
     ]
    },
    {
     "name": "stdout",
     "output_type": "stream",
     "text": [
      "\n"
     ]
    },
    {
     "name": "stderr",
     "output_type": "stream",
     "text": [
      "\r",
      " 15%|█████████████                                                                          | 15/100 [00:29<02:46,  1.96s/it]"
     ]
    },
    {
     "name": "stdout",
     "output_type": "stream",
     "text": [
      "\n"
     ]
    },
    {
     "name": "stderr",
     "output_type": "stream",
     "text": [
      "\r",
      " 16%|█████████████▉                                                                         | 16/100 [00:31<02:44,  1.96s/it]"
     ]
    },
    {
     "name": "stdout",
     "output_type": "stream",
     "text": [
      "\n"
     ]
    },
    {
     "name": "stderr",
     "output_type": "stream",
     "text": [
      "\r",
      " 17%|██████████████▊                                                                        | 17/100 [00:33<02:43,  1.97s/it]"
     ]
    },
    {
     "name": "stdout",
     "output_type": "stream",
     "text": [
      "\n"
     ]
    },
    {
     "name": "stderr",
     "output_type": "stream",
     "text": [
      "\r",
      " 18%|███████████████▋                                                                       | 18/100 [00:35<02:42,  1.98s/it]"
     ]
    },
    {
     "name": "stdout",
     "output_type": "stream",
     "text": [
      "\n"
     ]
    },
    {
     "name": "stderr",
     "output_type": "stream",
     "text": [
      "\r",
      " 19%|████████████████▌                                                                      | 19/100 [00:37<02:38,  1.95s/it]"
     ]
    },
    {
     "name": "stdout",
     "output_type": "stream",
     "text": [
      "\n"
     ]
    },
    {
     "name": "stderr",
     "output_type": "stream",
     "text": [
      "\r",
      " 20%|█████████████████▍                                                                     | 20/100 [00:39<02:37,  1.97s/it]"
     ]
    },
    {
     "name": "stdout",
     "output_type": "stream",
     "text": [
      "\n"
     ]
    },
    {
     "name": "stderr",
     "output_type": "stream",
     "text": [
      "\r",
      " 21%|██████████████████▎                                                                    | 21/100 [00:41<02:35,  1.97s/it]"
     ]
    },
    {
     "name": "stdout",
     "output_type": "stream",
     "text": [
      "\n"
     ]
    },
    {
     "name": "stderr",
     "output_type": "stream",
     "text": [
      " 23%|████████████████████                                                                   | 23/100 [00:45<02:29,  1.95s/it]"
     ]
    },
    {
     "name": "stdout",
     "output_type": "stream",
     "text": [
      "\n",
      "\n"
     ]
    },
    {
     "name": "stderr",
     "output_type": "stream",
     "text": [
      "\r",
      " 24%|████████████████████▉                                                                  | 24/100 [00:47<02:28,  1.96s/it]"
     ]
    },
    {
     "name": "stdout",
     "output_type": "stream",
     "text": [
      "\n"
     ]
    },
    {
     "name": "stderr",
     "output_type": "stream",
     "text": [
      "\r",
      " 25%|█████████████████████▊                                                                 | 25/100 [00:49<02:27,  1.96s/it]"
     ]
    },
    {
     "name": "stdout",
     "output_type": "stream",
     "text": [
      "\n"
     ]
    },
    {
     "name": "stderr",
     "output_type": "stream",
     "text": [
      " 27%|███████████████████████▍                                                               | 27/100 [00:53<02:22,  1.95s/it]"
     ]
    },
    {
     "name": "stdout",
     "output_type": "stream",
     "text": [
      "\n",
      "\n"
     ]
    },
    {
     "name": "stderr",
     "output_type": "stream",
     "text": [
      "\r",
      " 28%|████████████████████████▎                                                              | 28/100 [00:55<02:20,  1.95s/it]"
     ]
    },
    {
     "name": "stdout",
     "output_type": "stream",
     "text": [
      "\n"
     ]
    },
    {
     "name": "stderr",
     "output_type": "stream",
     "text": [
      "\r",
      " 29%|█████████████████████████▏                                                             | 29/100 [00:57<02:18,  1.95s/it]"
     ]
    },
    {
     "name": "stdout",
     "output_type": "stream",
     "text": [
      "\n"
     ]
    },
    {
     "name": "stderr",
     "output_type": "stream",
     "text": [
      "\r",
      " 30%|██████████████████████████                                                             | 30/100 [00:59<02:17,  1.96s/it]"
     ]
    },
    {
     "name": "stdout",
     "output_type": "stream",
     "text": [
      "\n"
     ]
    },
    {
     "name": "stderr",
     "output_type": "stream",
     "text": [
      "\r",
      " 31%|██████████████████████████▉                                                            | 31/100 [01:01<02:14,  1.94s/it]"
     ]
    },
    {
     "name": "stdout",
     "output_type": "stream",
     "text": [
      "\n"
     ]
    },
    {
     "name": "stderr",
     "output_type": "stream",
     "text": [
      "\r",
      " 32%|███████████████████████████▊                                                           | 32/100 [01:03<02:13,  1.97s/it]"
     ]
    },
    {
     "name": "stdout",
     "output_type": "stream",
     "text": [
      "\n"
     ]
    },
    {
     "name": "stderr",
     "output_type": "stream",
     "text": [
      "\r",
      " 33%|████████████████████████████▋                                                          | 33/100 [01:05<02:12,  1.98s/it]"
     ]
    },
    {
     "name": "stdout",
     "output_type": "stream",
     "text": [
      "\n"
     ]
    },
    {
     "name": "stderr",
     "output_type": "stream",
     "text": [
      "\r",
      " 34%|█████████████████████████████▌                                                         | 34/100 [01:07<02:10,  1.98s/it]"
     ]
    },
    {
     "name": "stdout",
     "output_type": "stream",
     "text": [
      "\n"
     ]
    },
    {
     "name": "stderr",
     "output_type": "stream",
     "text": [
      "\r",
      " 35%|██████████████████████████████▍                                                        | 35/100 [01:09<02:07,  1.96s/it]"
     ]
    },
    {
     "name": "stdout",
     "output_type": "stream",
     "text": [
      "\n"
     ]
    },
    {
     "name": "stderr",
     "output_type": "stream",
     "text": [
      "\r",
      " 36%|███████████████████████████████▎                                                       | 36/100 [01:11<02:06,  1.98s/it]"
     ]
    },
    {
     "name": "stdout",
     "output_type": "stream",
     "text": [
      "\n"
     ]
    },
    {
     "name": "stderr",
     "output_type": "stream",
     "text": [
      "\r",
      " 37%|████████████████████████████████▏                                                      | 37/100 [01:13<02:04,  1.98s/it]"
     ]
    },
    {
     "name": "stdout",
     "output_type": "stream",
     "text": [
      "\n"
     ]
    },
    {
     "name": "stderr",
     "output_type": "stream",
     "text": [
      "\r",
      " 38%|█████████████████████████████████                                                      | 38/100 [01:15<02:03,  2.00s/it]"
     ]
    },
    {
     "name": "stdout",
     "output_type": "stream",
     "text": [
      "\n"
     ]
    },
    {
     "name": "stderr",
     "output_type": "stream",
     "text": [
      "\r",
      " 39%|█████████████████████████████████▉                                                     | 39/100 [01:17<02:00,  1.98s/it]"
     ]
    },
    {
     "name": "stdout",
     "output_type": "stream",
     "text": [
      "\n"
     ]
    },
    {
     "name": "stderr",
     "output_type": "stream",
     "text": [
      "\r",
      " 40%|██████████████████████████████████▊                                                    | 40/100 [01:19<01:59,  1.99s/it]"
     ]
    },
    {
     "name": "stdout",
     "output_type": "stream",
     "text": [
      "\n"
     ]
    },
    {
     "name": "stderr",
     "output_type": "stream",
     "text": [
      "\r",
      " 41%|███████████████████████████████████▋                                                   | 41/100 [01:21<01:58,  2.00s/it]"
     ]
    },
    {
     "name": "stdout",
     "output_type": "stream",
     "text": [
      "\n"
     ]
    },
    {
     "name": "stderr",
     "output_type": "stream",
     "text": [
      "\r",
      " 42%|████████████████████████████████████▌                                                  | 42/100 [01:23<01:56,  2.02s/it]"
     ]
    },
    {
     "name": "stdout",
     "output_type": "stream",
     "text": [
      "\n"
     ]
    },
    {
     "name": "stderr",
     "output_type": "stream",
     "text": [
      "\r",
      " 43%|█████████████████████████████████████▍                                                 | 43/100 [01:25<01:54,  2.01s/it]"
     ]
    },
    {
     "name": "stdout",
     "output_type": "stream",
     "text": [
      "\n"
     ]
    },
    {
     "name": "stderr",
     "output_type": "stream",
     "text": [
      "\r",
      " 44%|██████████████████████████████████████▎                                                | 44/100 [01:27<01:52,  2.01s/it]"
     ]
    },
    {
     "name": "stdout",
     "output_type": "stream",
     "text": [
      "\n"
     ]
    },
    {
     "name": "stderr",
     "output_type": "stream",
     "text": [
      "\r",
      " 45%|███████████████████████████████████████▏                                               | 45/100 [01:29<01:50,  2.01s/it]"
     ]
    },
    {
     "name": "stdout",
     "output_type": "stream",
     "text": [
      "\n"
     ]
    },
    {
     "name": "stderr",
     "output_type": "stream",
     "text": [
      "\r",
      " 46%|████████████████████████████████████████                                               | 46/100 [01:31<01:49,  2.03s/it]"
     ]
    },
    {
     "name": "stdout",
     "output_type": "stream",
     "text": [
      "\n"
     ]
    },
    {
     "name": "stderr",
     "output_type": "stream",
     "text": [
      "\r",
      " 47%|████████████████████████████████████████▉                                              | 47/100 [01:33<01:47,  2.04s/it]"
     ]
    },
    {
     "name": "stdout",
     "output_type": "stream",
     "text": [
      "\n"
     ]
    },
    {
     "name": "stderr",
     "output_type": "stream",
     "text": [
      "\r",
      " 48%|█████████████████████████████████████████▊                                             | 48/100 [01:35<01:46,  2.05s/it]"
     ]
    },
    {
     "name": "stdout",
     "output_type": "stream",
     "text": [
      "\n"
     ]
    },
    {
     "name": "stderr",
     "output_type": "stream",
     "text": [
      "\r",
      " 49%|██████████████████████████████████████████▋                                            | 49/100 [01:37<01:43,  2.04s/it]"
     ]
    },
    {
     "name": "stdout",
     "output_type": "stream",
     "text": [
      "\n"
     ]
    },
    {
     "name": "stderr",
     "output_type": "stream",
     "text": [
      "\r",
      " 50%|███████████████████████████████████████████▌                                           | 50/100 [01:39<01:41,  2.03s/it]"
     ]
    },
    {
     "name": "stdout",
     "output_type": "stream",
     "text": [
      "\n"
     ]
    },
    {
     "name": "stderr",
     "output_type": "stream",
     "text": [
      "\r",
      " 51%|████████████████████████████████████████████▎                                          | 51/100 [01:41<01:37,  2.00s/it]"
     ]
    },
    {
     "name": "stdout",
     "output_type": "stream",
     "text": [
      "\n"
     ]
    },
    {
     "name": "stderr",
     "output_type": "stream",
     "text": [
      "\r",
      " 52%|█████████████████████████████████████████████▏                                         | 52/100 [01:43<01:36,  2.01s/it]"
     ]
    },
    {
     "name": "stdout",
     "output_type": "stream",
     "text": [
      "\n"
     ]
    },
    {
     "name": "stderr",
     "output_type": "stream",
     "text": [
      "\r",
      " 53%|██████████████████████████████████████████████                                         | 53/100 [01:45<01:34,  2.02s/it]"
     ]
    },
    {
     "name": "stdout",
     "output_type": "stream",
     "text": [
      "\n"
     ]
    },
    {
     "name": "stderr",
     "output_type": "stream",
     "text": [
      "\r",
      " 54%|██████████████████████████████████████████████▉                                        | 54/100 [01:47<01:33,  2.03s/it]"
     ]
    },
    {
     "name": "stdout",
     "output_type": "stream",
     "text": [
      "\n"
     ]
    },
    {
     "name": "stderr",
     "output_type": "stream",
     "text": [
      "\r",
      " 55%|███████████████████████████████████████████████▊                                       | 55/100 [01:49<01:30,  2.01s/it]"
     ]
    },
    {
     "name": "stdout",
     "output_type": "stream",
     "text": [
      "\n"
     ]
    },
    {
     "name": "stderr",
     "output_type": "stream",
     "text": [
      "\r",
      " 56%|████████████████████████████████████████████████▋                                      | 56/100 [01:51<01:28,  2.01s/it]"
     ]
    },
    {
     "name": "stdout",
     "output_type": "stream",
     "text": [
      "\n"
     ]
    },
    {
     "name": "stderr",
     "output_type": "stream",
     "text": [
      "\r",
      " 57%|█████████████████████████████████████████████████▌                                     | 57/100 [01:53<01:25,  2.00s/it]"
     ]
    },
    {
     "name": "stdout",
     "output_type": "stream",
     "text": [
      "\n"
     ]
    },
    {
     "name": "stderr",
     "output_type": "stream",
     "text": [
      "\r",
      " 58%|██████████████████████████████████████████████████▍                                    | 58/100 [01:55<01:23,  2.00s/it]"
     ]
    },
    {
     "name": "stdout",
     "output_type": "stream",
     "text": [
      "\n"
     ]
    },
    {
     "name": "stderr",
     "output_type": "stream",
     "text": [
      "\r",
      " 59%|███████████████████████████████████████████████████▎                                   | 59/100 [01:57<01:21,  1.98s/it]"
     ]
    },
    {
     "name": "stdout",
     "output_type": "stream",
     "text": [
      "\n"
     ]
    },
    {
     "name": "stderr",
     "output_type": "stream",
     "text": [
      "\r",
      " 60%|████████████████████████████████████████████████████▏                                  | 60/100 [01:59<01:19,  1.99s/it]"
     ]
    },
    {
     "name": "stdout",
     "output_type": "stream",
     "text": [
      "\n"
     ]
    },
    {
     "name": "stderr",
     "output_type": "stream",
     "text": [
      "\r",
      " 61%|█████████████████████████████████████████████████████                                  | 61/100 [02:01<01:18,  2.00s/it]"
     ]
    },
    {
     "name": "stdout",
     "output_type": "stream",
     "text": [
      "\n"
     ]
    },
    {
     "name": "stderr",
     "output_type": "stream",
     "text": [
      "\r",
      " 62%|█████████████████████████████████████████████████████▉                                 | 62/100 [02:03<01:16,  2.02s/it]"
     ]
    },
    {
     "name": "stdout",
     "output_type": "stream",
     "text": [
      "\n"
     ]
    },
    {
     "name": "stderr",
     "output_type": "stream",
     "text": [
      "\r",
      " 63%|██████████████████████████████████████████████████████▊                                | 63/100 [02:05<01:13,  1.99s/it]"
     ]
    },
    {
     "name": "stdout",
     "output_type": "stream",
     "text": [
      "\n"
     ]
    },
    {
     "name": "stderr",
     "output_type": "stream",
     "text": [
      "\r",
      " 64%|███████████████████████████████████████████████████████▋                               | 64/100 [02:07<01:11,  2.00s/it]"
     ]
    },
    {
     "name": "stdout",
     "output_type": "stream",
     "text": [
      "\n"
     ]
    },
    {
     "name": "stderr",
     "output_type": "stream",
     "text": [
      "\r",
      " 65%|████████████████████████████████████████████████████████▌                              | 65/100 [02:09<01:09,  2.00s/it]"
     ]
    },
    {
     "name": "stdout",
     "output_type": "stream",
     "text": [
      "\n"
     ]
    },
    {
     "name": "stderr",
     "output_type": "stream",
     "text": [
      "\r",
      " 66%|█████████████████████████████████████████████████████████▍                             | 66/100 [02:11<01:08,  2.00s/it]"
     ]
    },
    {
     "name": "stdout",
     "output_type": "stream",
     "text": [
      "\n"
     ]
    },
    {
     "name": "stderr",
     "output_type": "stream",
     "text": [
      "\r",
      " 67%|██████████████████████████████████████████████████████████▎                            | 67/100 [02:13<01:05,  1.97s/it]"
     ]
    },
    {
     "name": "stdout",
     "output_type": "stream",
     "text": [
      "\n"
     ]
    },
    {
     "name": "stderr",
     "output_type": "stream",
     "text": [
      "\r",
      " 68%|███████████████████████████████████████████████████████████▏                           | 68/100 [02:15<01:03,  1.98s/it]"
     ]
    },
    {
     "name": "stdout",
     "output_type": "stream",
     "text": [
      "\n"
     ]
    },
    {
     "name": "stderr",
     "output_type": "stream",
     "text": [
      "\r",
      " 69%|████████████████████████████████████████████████████████████                           | 69/100 [02:17<01:01,  1.99s/it]"
     ]
    },
    {
     "name": "stdout",
     "output_type": "stream",
     "text": [
      "\n"
     ]
    },
    {
     "name": "stderr",
     "output_type": "stream",
     "text": [
      "\r",
      " 70%|████████████████████████████████████████████████████████████▉                          | 70/100 [02:19<01:00,  2.01s/it]"
     ]
    },
    {
     "name": "stdout",
     "output_type": "stream",
     "text": [
      "\n"
     ]
    },
    {
     "name": "stderr",
     "output_type": "stream",
     "text": [
      "\r",
      " 71%|█████████████████████████████████████████████████████████████▊                         | 71/100 [02:21<00:58,  2.03s/it]"
     ]
    },
    {
     "name": "stdout",
     "output_type": "stream",
     "text": [
      "\n"
     ]
    },
    {
     "name": "stderr",
     "output_type": "stream",
     "text": [
      "\r",
      " 72%|██████████████████████████████████████████████████████████████▋                        | 72/100 [02:23<00:56,  2.02s/it]"
     ]
    },
    {
     "name": "stdout",
     "output_type": "stream",
     "text": [
      "\n"
     ]
    },
    {
     "name": "stderr",
     "output_type": "stream",
     "text": [
      "\r",
      " 73%|███████████████████████████████████████████████████████████████▌                       | 73/100 [02:25<00:54,  2.02s/it]"
     ]
    },
    {
     "name": "stdout",
     "output_type": "stream",
     "text": [
      "\n"
     ]
    },
    {
     "name": "stderr",
     "output_type": "stream",
     "text": [
      "\r",
      " 74%|████████████████████████████████████████████████████████████████▍                      | 74/100 [02:27<00:52,  2.01s/it]"
     ]
    },
    {
     "name": "stdout",
     "output_type": "stream",
     "text": [
      "\n"
     ]
    },
    {
     "name": "stderr",
     "output_type": "stream",
     "text": [
      "\r",
      " 75%|█████████████████████████████████████████████████████████████████▎                     | 75/100 [02:29<00:50,  2.00s/it]"
     ]
    },
    {
     "name": "stdout",
     "output_type": "stream",
     "text": [
      "\n"
     ]
    },
    {
     "name": "stderr",
     "output_type": "stream",
     "text": [
      "\r",
      " 76%|██████████████████████████████████████████████████████████████████                     | 76/100 [02:31<00:48,  2.01s/it]"
     ]
    },
    {
     "name": "stdout",
     "output_type": "stream",
     "text": [
      "\n"
     ]
    },
    {
     "name": "stderr",
     "output_type": "stream",
     "text": [
      "\r",
      " 77%|██████████████████████████████████████████████████████████████████▉                    | 77/100 [02:33<00:46,  2.00s/it]"
     ]
    },
    {
     "name": "stdout",
     "output_type": "stream",
     "text": [
      "\n"
     ]
    },
    {
     "name": "stderr",
     "output_type": "stream",
     "text": [
      "\r",
      " 78%|███████████████████████████████████████████████████████████████████▊                   | 78/100 [02:35<00:44,  2.01s/it]"
     ]
    },
    {
     "name": "stdout",
     "output_type": "stream",
     "text": [
      "\n"
     ]
    },
    {
     "name": "stderr",
     "output_type": "stream",
     "text": [
      "\r",
      " 79%|████████████████████████████████████████████████████████████████████▋                  | 79/100 [02:37<00:41,  1.99s/it]"
     ]
    },
    {
     "name": "stdout",
     "output_type": "stream",
     "text": [
      "\n"
     ]
    },
    {
     "name": "stderr",
     "output_type": "stream",
     "text": [
      "\r",
      " 80%|█████████████████████████████████████████████████████████████████████▌                 | 80/100 [02:39<00:40,  2.01s/it]"
     ]
    },
    {
     "name": "stdout",
     "output_type": "stream",
     "text": [
      "\n"
     ]
    },
    {
     "name": "stderr",
     "output_type": "stream",
     "text": [
      "\r",
      " 81%|██████████████████████████████████████████████████████████████████████▍                | 81/100 [02:41<00:38,  2.02s/it]"
     ]
    },
    {
     "name": "stdout",
     "output_type": "stream",
     "text": [
      "\n"
     ]
    },
    {
     "name": "stderr",
     "output_type": "stream",
     "text": [
      "\r",
      " 82%|███████████████████████████████████████████████████████████████████████▎               | 82/100 [02:43<00:36,  2.02s/it]"
     ]
    },
    {
     "name": "stdout",
     "output_type": "stream",
     "text": [
      "\n"
     ]
    },
    {
     "name": "stderr",
     "output_type": "stream",
     "text": [
      "\r",
      " 83%|████████████████████████████████████████████████████████████████████████▏              | 83/100 [02:45<00:34,  2.00s/it]"
     ]
    },
    {
     "name": "stdout",
     "output_type": "stream",
     "text": [
      "\n"
     ]
    },
    {
     "name": "stderr",
     "output_type": "stream",
     "text": [
      "\r",
      " 84%|█████████████████████████████████████████████████████████████████████████              | 84/100 [02:47<00:31,  2.00s/it]"
     ]
    },
    {
     "name": "stdout",
     "output_type": "stream",
     "text": [
      "\n"
     ]
    },
    {
     "name": "stderr",
     "output_type": "stream",
     "text": [
      "\r",
      " 85%|█████████████████████████████████████████████████████████████████████████▉             | 85/100 [02:49<00:29,  1.99s/it]"
     ]
    },
    {
     "name": "stdout",
     "output_type": "stream",
     "text": [
      "\n"
     ]
    },
    {
     "name": "stderr",
     "output_type": "stream",
     "text": [
      "\r",
      " 86%|██████████████████████████████████████████████████████████████████████████▊            | 86/100 [02:51<00:27,  2.00s/it]"
     ]
    },
    {
     "name": "stdout",
     "output_type": "stream",
     "text": [
      "\n"
     ]
    },
    {
     "name": "stderr",
     "output_type": "stream",
     "text": [
      "\r",
      " 87%|███████████████████████████████████████████████████████████████████████████▋           | 87/100 [02:53<00:25,  1.97s/it]"
     ]
    },
    {
     "name": "stdout",
     "output_type": "stream",
     "text": [
      "\n"
     ]
    },
    {
     "name": "stderr",
     "output_type": "stream",
     "text": [
      "\r",
      " 88%|████████████████████████████████████████████████████████████████████████████▌          | 88/100 [02:55<00:23,  1.98s/it]"
     ]
    },
    {
     "name": "stdout",
     "output_type": "stream",
     "text": [
      "\n"
     ]
    },
    {
     "name": "stderr",
     "output_type": "stream",
     "text": [
      "\r",
      " 89%|█████████████████████████████████████████████████████████████████████████████▍         | 89/100 [02:57<00:21,  1.99s/it]"
     ]
    },
    {
     "name": "stdout",
     "output_type": "stream",
     "text": [
      "\n"
     ]
    },
    {
     "name": "stderr",
     "output_type": "stream",
     "text": [
      "\r",
      " 90%|██████████████████████████████████████████████████████████████████████████████▎        | 90/100 [02:59<00:20,  2.00s/it]"
     ]
    },
    {
     "name": "stdout",
     "output_type": "stream",
     "text": [
      "\n"
     ]
    },
    {
     "name": "stderr",
     "output_type": "stream",
     "text": [
      "\r",
      " 91%|███████████████████████████████████████████████████████████████████████████████▏       | 91/100 [03:01<00:17,  1.98s/it]"
     ]
    },
    {
     "name": "stdout",
     "output_type": "stream",
     "text": [
      "\n"
     ]
    },
    {
     "name": "stderr",
     "output_type": "stream",
     "text": [
      "\r",
      " 92%|████████████████████████████████████████████████████████████████████████████████       | 92/100 [03:03<00:15,  1.99s/it]"
     ]
    },
    {
     "name": "stdout",
     "output_type": "stream",
     "text": [
      "\n"
     ]
    },
    {
     "name": "stderr",
     "output_type": "stream",
     "text": [
      "\r",
      " 93%|████████████████████████████████████████████████████████████████████████████████▉      | 93/100 [03:05<00:13,  2.00s/it]"
     ]
    },
    {
     "name": "stdout",
     "output_type": "stream",
     "text": [
      "\n"
     ]
    },
    {
     "name": "stderr",
     "output_type": "stream",
     "text": [
      "\r",
      " 94%|█████████████████████████████████████████████████████████████████████████████████▊     | 94/100 [03:07<00:11,  2.00s/it]"
     ]
    },
    {
     "name": "stdout",
     "output_type": "stream",
     "text": [
      "\n"
     ]
    },
    {
     "name": "stderr",
     "output_type": "stream",
     "text": [
      "\r",
      " 95%|██████████████████████████████████████████████████████████████████████████████████▋    | 95/100 [03:09<00:09,  1.97s/it]"
     ]
    },
    {
     "name": "stdout",
     "output_type": "stream",
     "text": [
      "\n"
     ]
    },
    {
     "name": "stderr",
     "output_type": "stream",
     "text": [
      "\r",
      " 96%|███████████████████████████████████████████████████████████████████████████████████▌   | 96/100 [03:11<00:07,  1.98s/it]"
     ]
    },
    {
     "name": "stdout",
     "output_type": "stream",
     "text": [
      "\n"
     ]
    },
    {
     "name": "stderr",
     "output_type": "stream",
     "text": [
      "\r",
      " 97%|████████████████████████████████████████████████████████████████████████████████████▍  | 97/100 [03:13<00:05,  2.00s/it]"
     ]
    },
    {
     "name": "stdout",
     "output_type": "stream",
     "text": [
      "\n"
     ]
    },
    {
     "name": "stderr",
     "output_type": "stream",
     "text": [
      "\r",
      " 98%|█████████████████████████████████████████████████████████████████████████████████████▎ | 98/100 [03:15<00:03,  2.00s/it]"
     ]
    },
    {
     "name": "stdout",
     "output_type": "stream",
     "text": [
      "\n"
     ]
    },
    {
     "name": "stderr",
     "output_type": "stream",
     "text": [
      "\r",
      " 99%|██████████████████████████████████████████████████████████████████████████████████████▏| 99/100 [03:17<00:01,  1.97s/it]"
     ]
    },
    {
     "name": "stdout",
     "output_type": "stream",
     "text": [
      "\n"
     ]
    },
    {
     "name": "stderr",
     "output_type": "stream",
     "text": [
      "100%|██████████████████████████████████████████████████████████████████████████████████████| 100/100 [03:19<00:00,  1.99s/it]\n"
     ]
    }
   ],
   "source": [
    "#File paths\n",
    "nodes = '../data/nextra/spatial/network/nodes.shp'\n",
    "edges = '../data/nextra/spatial/network/edges.shp'\n",
    "flows = '../data/nextra/nodal_flows/processed_flows_2030.csv'\n",
    "\n",
    "timesteps   = 24\n",
    "num_levels  = 100\n",
    "N           = 100\n",
    "\n",
    "# Set up problem for sensitivity analysis # name:[lower_bound,upper_bound]\n",
    "params = {'coop_res_target'                 : [0,0.5],\n",
    "          'jordan_to_westbank'              : [0,10**12],\n",
    "          'jordan_to_israel'                : [0,10**12],\n",
    "          'israel_to_westbank'              : [0,10**12],\n",
    "          'israel_to_jordan'                : [0,10**12],\n",
    "          'israel_to_gaza'                  : [0,10**12],\n",
    "          'westbank_to_israel'              : [0,10**12],\n",
    "          'westbank_to_jordan'              : [0,10**12],\n",
    "          'self_sufficiency_factor'         : [0,0.9],\n",
    "         }\n",
    "\n",
    "problem = {'num_vars'    : len(params.keys()),\n",
    "           'names'       : [i for i in params.keys()],\n",
    "           'bounds'      : [params[i] for i in params.keys()]\n",
    "          }\n",
    "\n",
    "# create parameter values\n",
    "param_values = morris.sample(problem,N=N,\n",
    "                             num_levels=num_levels,\n",
    "                             local_optimization=True)\n",
    "\n",
    "# Run analysis with the specified parameter values\n",
    "collected_caps_israel   = []\n",
    "collected_caps_jordan   = []\n",
    "collected_caps_westbank = []\n",
    "collected_caps_gaza     = []\n",
    "\n",
    "for param_set in tqdm(param_values,total=len(param_values)):\n",
    "\n",
    "    model_run = nextra(nodes,edges,flows,\n",
    "                       timesteps=timesteps,\n",
    "                       energy_objective=True,\n",
    "                       scenario='COO',\n",
    "                       super_sink=False,\n",
    "                       super_source=False,\n",
    "                       # params\n",
    "                       coo_res_factor=param_set[0],\n",
    "                       jordan_to_westbank=param_set[1],\n",
    "                       jordan_to_israel=param_set[2],\n",
    "                       israel_to_westbank=param_set[3],\n",
    "                       israel_to_jordan=param_set[4],\n",
    "                       israel_to_gaza=param_set[5],\n",
    "                       westbank_to_israel=param_set[6],\n",
    "                       westbank_to_jordan=param_set[7],\n",
    "                       self_sufficiency_factor=param_set[8],\n",
    "                      )\n",
    "\n",
    "    model_run.build()\n",
    "    model_run.run(pprint=False)\n",
    "    model_results = model_run.get_results()\n",
    "    \n",
    "    collected_caps_israel.append(caps.loc[caps.territory == 'Israel','value'].values[0])\n",
    "    collected_caps_jordan.append(caps.loc[caps.territory == 'Jordan','value'].values[0])\n",
    "    collected_caps_westbank.append(caps.loc[caps.territory == 'West Bank','value'].values[0])\n",
    "    collected_caps_gaza.append(caps.loc[caps.territory == 'Gaza','value'].values[0])\n",
    "\n"
   ]
  },
  {
   "cell_type": "code",
   "execution_count": 75,
   "id": "1954e033",
   "metadata": {},
   "outputs": [],
   "source": [
    "def process_morris_results(problem,param_values,collected_results,num_levels):\n",
    "    '''Process output from Morris sensitivitys\n",
    "    '''\n",
    "    Si = SALib.analyze.morris.analyze(problem,\n",
    "                                      np.array(param_values),\n",
    "                                      np.array(collected_results),\n",
    "                                      print_to_console=False,\n",
    "                                      num_levels=num_levels)\n",
    "\n",
    "    sensitivity_results = pd.DataFrame.from_dict(Si)\n",
    "    return sensitivity_results\n",
    "\n",
    "israel_results = process_morris_results(problem,param_values,collected_caps_israel,num_levels)\n",
    "jordan_results = process_morris_results(problem,param_values,collected_caps_jordan,num_levels)\n",
    "westbank_results = process_morris_results(problem,param_values,collected_caps_westbank,num_levels)\n",
    "gaza_results = process_morris_results(problem,param_values,collected_caps_gaza,num_levels)"
   ]
  },
  {
   "cell_type": "code",
   "execution_count": 84,
   "id": "11089dd6",
   "metadata": {},
   "outputs": [
    {
     "data": {
      "text/plain": [
       "array([[0.00000000e+00, 4.44444444e+11, 7.77777778e+11, 6.66666667e+11,\n",
       "        8.88888889e+11, 4.44444444e+11, 4.44444444e+11, 0.00000000e+00,\n",
       "        0.00000000e+00],\n",
       "       [0.00000000e+00, 4.44444444e+11, 7.77777778e+11, 6.66666667e+11,\n",
       "        8.88888889e+11, 4.44444444e+11, 4.44444444e+11, 5.55555556e+11,\n",
       "        0.00000000e+00],\n",
       "       [0.00000000e+00, 4.44444444e+11, 7.77777778e+11, 6.66666667e+11,\n",
       "        8.88888889e+11, 1.00000000e+12, 4.44444444e+11, 5.55555556e+11,\n",
       "        0.00000000e+00],\n",
       "       [0.00000000e+00, 1.00000000e+12, 7.77777778e+11, 6.66666667e+11,\n",
       "        8.88888889e+11, 1.00000000e+12, 4.44444444e+11, 5.55555556e+11,\n",
       "        0.00000000e+00],\n",
       "       [0.00000000e+00, 1.00000000e+12, 7.77777778e+11, 6.66666667e+11,\n",
       "        8.88888889e+11, 1.00000000e+12, 1.00000000e+12, 5.55555556e+11,\n",
       "        0.00000000e+00],\n",
       "       [0.00000000e+00, 1.00000000e+12, 7.77777778e+11, 6.66666667e+11,\n",
       "        3.33333333e+11, 1.00000000e+12, 1.00000000e+12, 5.55555556e+11,\n",
       "        0.00000000e+00],\n",
       "       [0.00000000e+00, 1.00000000e+12, 7.77777778e+11, 1.11111111e+11,\n",
       "        3.33333333e+11, 1.00000000e+12, 1.00000000e+12, 5.55555556e+11,\n",
       "        0.00000000e+00],\n",
       "       [0.00000000e+00, 1.00000000e+12, 2.22222222e+11, 1.11111111e+11,\n",
       "        3.33333333e+11, 1.00000000e+12, 1.00000000e+12, 5.55555556e+11,\n",
       "        0.00000000e+00],\n",
       "       [2.77777778e-01, 1.00000000e+12, 2.22222222e+11, 1.11111111e+11,\n",
       "        3.33333333e+11, 1.00000000e+12, 1.00000000e+12, 5.55555556e+11,\n",
       "        0.00000000e+00],\n",
       "       [2.77777778e-01, 1.00000000e+12, 2.22222222e+11, 1.11111111e+11,\n",
       "        3.33333333e+11, 1.00000000e+12, 1.00000000e+12, 5.55555556e+11,\n",
       "        5.00000000e-01],\n",
       "       [3.88888889e-01, 2.22222222e+11, 4.44444444e+11, 4.44444444e+11,\n",
       "        1.00000000e+12, 3.33333333e+11, 6.66666667e+11, 5.55555556e+11,\n",
       "        7.00000000e-01],\n",
       "       [3.88888889e-01, 2.22222222e+11, 4.44444444e+11, 4.44444444e+11,\n",
       "        1.00000000e+12, 3.33333333e+11, 6.66666667e+11, 0.00000000e+00,\n",
       "        7.00000000e-01],\n",
       "       [3.88888889e-01, 2.22222222e+11, 4.44444444e+11, 4.44444444e+11,\n",
       "        4.44444444e+11, 3.33333333e+11, 6.66666667e+11, 0.00000000e+00,\n",
       "        7.00000000e-01],\n",
       "       [3.88888889e-01, 7.77777778e+11, 4.44444444e+11, 4.44444444e+11,\n",
       "        4.44444444e+11, 3.33333333e+11, 6.66666667e+11, 0.00000000e+00,\n",
       "        7.00000000e-01],\n",
       "       [3.88888889e-01, 7.77777778e+11, 4.44444444e+11, 4.44444444e+11,\n",
       "        4.44444444e+11, 3.33333333e+11, 6.66666667e+11, 0.00000000e+00,\n",
       "        2.00000000e-01],\n",
       "       [3.88888889e-01, 7.77777778e+11, 1.00000000e+12, 4.44444444e+11,\n",
       "        4.44444444e+11, 3.33333333e+11, 6.66666667e+11, 0.00000000e+00,\n",
       "        2.00000000e-01],\n",
       "       [3.88888889e-01, 7.77777778e+11, 1.00000000e+12, 4.44444444e+11,\n",
       "        4.44444444e+11, 3.33333333e+11, 1.11111111e+11, 0.00000000e+00,\n",
       "        2.00000000e-01],\n",
       "       [3.88888889e-01, 7.77777778e+11, 1.00000000e+12, 1.00000000e+12,\n",
       "        4.44444444e+11, 3.33333333e+11, 1.11111111e+11, 0.00000000e+00,\n",
       "        2.00000000e-01],\n",
       "       [1.11111111e-01, 7.77777778e+11, 1.00000000e+12, 1.00000000e+12,\n",
       "        4.44444444e+11, 3.33333333e+11, 1.11111111e+11, 0.00000000e+00,\n",
       "        2.00000000e-01],\n",
       "       [1.11111111e-01, 7.77777778e+11, 1.00000000e+12, 1.00000000e+12,\n",
       "        4.44444444e+11, 8.88888889e+11, 1.11111111e+11, 0.00000000e+00,\n",
       "        2.00000000e-01],\n",
       "       [4.44444444e-01, 1.11111111e+11, 3.33333333e+11, 1.11111111e+11,\n",
       "        8.88888889e+11, 2.22222222e+11, 3.33333333e+11, 0.00000000e+00,\n",
       "        5.00000000e-01],\n",
       "       [4.44444444e-01, 1.11111111e+11, 3.33333333e+11, 1.11111111e+11,\n",
       "        8.88888889e+11, 2.22222222e+11, 3.33333333e+11, 0.00000000e+00,\n",
       "        0.00000000e+00],\n",
       "       [4.44444444e-01, 1.11111111e+11, 3.33333333e+11, 6.66666667e+11,\n",
       "        8.88888889e+11, 2.22222222e+11, 3.33333333e+11, 0.00000000e+00,\n",
       "        0.00000000e+00],\n",
       "       [4.44444444e-01, 1.11111111e+11, 3.33333333e+11, 6.66666667e+11,\n",
       "        8.88888889e+11, 2.22222222e+11, 8.88888889e+11, 0.00000000e+00,\n",
       "        0.00000000e+00],\n",
       "       [4.44444444e-01, 1.11111111e+11, 3.33333333e+11, 6.66666667e+11,\n",
       "        8.88888889e+11, 2.22222222e+11, 8.88888889e+11, 5.55555556e+11,\n",
       "        0.00000000e+00],\n",
       "       [4.44444444e-01, 1.11111111e+11, 3.33333333e+11, 6.66666667e+11,\n",
       "        8.88888889e+11, 7.77777778e+11, 8.88888889e+11, 5.55555556e+11,\n",
       "        0.00000000e+00],\n",
       "       [1.66666667e-01, 1.11111111e+11, 3.33333333e+11, 6.66666667e+11,\n",
       "        8.88888889e+11, 7.77777778e+11, 8.88888889e+11, 5.55555556e+11,\n",
       "        0.00000000e+00],\n",
       "       [1.66666667e-01, 1.11111111e+11, 3.33333333e+11, 6.66666667e+11,\n",
       "        3.33333333e+11, 7.77777778e+11, 8.88888889e+11, 5.55555556e+11,\n",
       "        0.00000000e+00],\n",
       "       [1.66666667e-01, 6.66666667e+11, 3.33333333e+11, 6.66666667e+11,\n",
       "        3.33333333e+11, 7.77777778e+11, 8.88888889e+11, 5.55555556e+11,\n",
       "        0.00000000e+00],\n",
       "       [1.66666667e-01, 6.66666667e+11, 8.88888889e+11, 6.66666667e+11,\n",
       "        3.33333333e+11, 7.77777778e+11, 8.88888889e+11, 5.55555556e+11,\n",
       "        0.00000000e+00],\n",
       "       [5.55555556e-02, 4.44444444e+11, 1.00000000e+12, 6.66666667e+11,\n",
       "        0.00000000e+00, 6.66666667e+11, 5.55555556e+11, 2.22222222e+11,\n",
       "        4.00000000e-01],\n",
       "       [3.33333333e-01, 4.44444444e+11, 1.00000000e+12, 6.66666667e+11,\n",
       "        0.00000000e+00, 6.66666667e+11, 5.55555556e+11, 2.22222222e+11,\n",
       "        4.00000000e-01],\n",
       "       [3.33333333e-01, 4.44444444e+11, 4.44444444e+11, 6.66666667e+11,\n",
       "        0.00000000e+00, 6.66666667e+11, 5.55555556e+11, 2.22222222e+11,\n",
       "        4.00000000e-01],\n",
       "       [3.33333333e-01, 4.44444444e+11, 4.44444444e+11, 6.66666667e+11,\n",
       "        0.00000000e+00, 6.66666667e+11, 0.00000000e+00, 2.22222222e+11,\n",
       "        4.00000000e-01],\n",
       "       [3.33333333e-01, 4.44444444e+11, 4.44444444e+11, 6.66666667e+11,\n",
       "        5.55555556e+11, 6.66666667e+11, 0.00000000e+00, 2.22222222e+11,\n",
       "        4.00000000e-01],\n",
       "       [3.33333333e-01, 4.44444444e+11, 4.44444444e+11, 6.66666667e+11,\n",
       "        5.55555556e+11, 1.11111111e+11, 0.00000000e+00, 2.22222222e+11,\n",
       "        4.00000000e-01],\n",
       "       [3.33333333e-01, 1.00000000e+12, 4.44444444e+11, 6.66666667e+11,\n",
       "        5.55555556e+11, 1.11111111e+11, 0.00000000e+00, 2.22222222e+11,\n",
       "        4.00000000e-01],\n",
       "       [3.33333333e-01, 1.00000000e+12, 4.44444444e+11, 6.66666667e+11,\n",
       "        5.55555556e+11, 1.11111111e+11, 0.00000000e+00, 7.77777778e+11,\n",
       "        4.00000000e-01],\n",
       "       [3.33333333e-01, 1.00000000e+12, 4.44444444e+11, 6.66666667e+11,\n",
       "        5.55555556e+11, 1.11111111e+11, 0.00000000e+00, 7.77777778e+11,\n",
       "        9.00000000e-01],\n",
       "       [3.33333333e-01, 1.00000000e+12, 4.44444444e+11, 1.11111111e+11,\n",
       "        5.55555556e+11, 1.11111111e+11, 0.00000000e+00, 7.77777778e+11,\n",
       "        9.00000000e-01],\n",
       "       [3.88888889e-01, 4.44444444e+11, 6.66666667e+11, 6.66666667e+11,\n",
       "        2.22222222e+11, 0.00000000e+00, 1.11111111e+11, 7.77777778e+11,\n",
       "        4.00000000e-01],\n",
       "       [3.88888889e-01, 1.00000000e+12, 6.66666667e+11, 6.66666667e+11,\n",
       "        2.22222222e+11, 0.00000000e+00, 1.11111111e+11, 7.77777778e+11,\n",
       "        4.00000000e-01],\n",
       "       [3.88888889e-01, 1.00000000e+12, 6.66666667e+11, 6.66666667e+11,\n",
       "        7.77777778e+11, 0.00000000e+00, 1.11111111e+11, 7.77777778e+11,\n",
       "        4.00000000e-01],\n",
       "       [3.88888889e-01, 1.00000000e+12, 6.66666667e+11, 1.11111111e+11,\n",
       "        7.77777778e+11, 0.00000000e+00, 1.11111111e+11, 7.77777778e+11,\n",
       "        4.00000000e-01],\n",
       "       [1.11111111e-01, 1.00000000e+12, 6.66666667e+11, 1.11111111e+11,\n",
       "        7.77777778e+11, 0.00000000e+00, 1.11111111e+11, 7.77777778e+11,\n",
       "        4.00000000e-01],\n",
       "       [1.11111111e-01, 1.00000000e+12, 6.66666667e+11, 1.11111111e+11,\n",
       "        7.77777778e+11, 0.00000000e+00, 1.11111111e+11, 2.22222222e+11,\n",
       "        4.00000000e-01],\n",
       "       [1.11111111e-01, 1.00000000e+12, 6.66666667e+11, 1.11111111e+11,\n",
       "        7.77777778e+11, 5.55555556e+11, 1.11111111e+11, 2.22222222e+11,\n",
       "        4.00000000e-01],\n",
       "       [1.11111111e-01, 1.00000000e+12, 6.66666667e+11, 1.11111111e+11,\n",
       "        7.77777778e+11, 5.55555556e+11, 1.11111111e+11, 2.22222222e+11,\n",
       "        9.00000000e-01],\n",
       "       [1.11111111e-01, 1.00000000e+12, 1.11111111e+11, 1.11111111e+11,\n",
       "        7.77777778e+11, 5.55555556e+11, 1.11111111e+11, 2.22222222e+11,\n",
       "        9.00000000e-01],\n",
       "       [1.11111111e-01, 1.00000000e+12, 1.11111111e+11, 1.11111111e+11,\n",
       "        7.77777778e+11, 5.55555556e+11, 6.66666667e+11, 2.22222222e+11,\n",
       "        9.00000000e-01],\n",
       "       [1.66666667e-01, 1.11111111e+11, 1.11111111e+11, 1.00000000e+12,\n",
       "        1.11111111e+11, 6.66666667e+11, 7.77777778e+11, 4.44444444e+11,\n",
       "        9.00000000e-01],\n",
       "       [1.66666667e-01, 1.11111111e+11, 1.11111111e+11, 1.00000000e+12,\n",
       "        1.11111111e+11, 6.66666667e+11, 2.22222222e+11, 4.44444444e+11,\n",
       "        9.00000000e-01],\n",
       "       [1.66666667e-01, 1.11111111e+11, 1.11111111e+11, 1.00000000e+12,\n",
       "        1.11111111e+11, 6.66666667e+11, 2.22222222e+11, 1.00000000e+12,\n",
       "        9.00000000e-01],\n",
       "       [1.66666667e-01, 1.11111111e+11, 6.66666667e+11, 1.00000000e+12,\n",
       "        1.11111111e+11, 6.66666667e+11, 2.22222222e+11, 1.00000000e+12,\n",
       "        9.00000000e-01],\n",
       "       [1.66666667e-01, 1.11111111e+11, 6.66666667e+11, 1.00000000e+12,\n",
       "        1.11111111e+11, 1.11111111e+11, 2.22222222e+11, 1.00000000e+12,\n",
       "        9.00000000e-01],\n",
       "       [4.44444444e-01, 1.11111111e+11, 6.66666667e+11, 1.00000000e+12,\n",
       "        1.11111111e+11, 1.11111111e+11, 2.22222222e+11, 1.00000000e+12,\n",
       "        9.00000000e-01],\n",
       "       [4.44444444e-01, 1.11111111e+11, 6.66666667e+11, 1.00000000e+12,\n",
       "        1.11111111e+11, 1.11111111e+11, 2.22222222e+11, 1.00000000e+12,\n",
       "        4.00000000e-01],\n",
       "       [4.44444444e-01, 6.66666667e+11, 6.66666667e+11, 1.00000000e+12,\n",
       "        1.11111111e+11, 1.11111111e+11, 2.22222222e+11, 1.00000000e+12,\n",
       "        4.00000000e-01],\n",
       "       [4.44444444e-01, 6.66666667e+11, 6.66666667e+11, 1.00000000e+12,\n",
       "        6.66666667e+11, 1.11111111e+11, 2.22222222e+11, 1.00000000e+12,\n",
       "        4.00000000e-01],\n",
       "       [4.44444444e-01, 6.66666667e+11, 6.66666667e+11, 4.44444444e+11,\n",
       "        6.66666667e+11, 1.11111111e+11, 2.22222222e+11, 1.00000000e+12,\n",
       "        4.00000000e-01],\n",
       "       [1.66666667e-01, 3.33333333e+11, 7.77777778e+11, 1.11111111e+11,\n",
       "        0.00000000e+00, 6.66666667e+11, 4.44444444e+11, 5.55555556e+11,\n",
       "        3.00000000e-01],\n",
       "       [1.66666667e-01, 3.33333333e+11, 7.77777778e+11, 1.11111111e+11,\n",
       "        0.00000000e+00, 6.66666667e+11, 1.00000000e+12, 5.55555556e+11,\n",
       "        3.00000000e-01],\n",
       "       [1.66666667e-01, 3.33333333e+11, 7.77777778e+11, 6.66666667e+11,\n",
       "        0.00000000e+00, 6.66666667e+11, 1.00000000e+12, 5.55555556e+11,\n",
       "        3.00000000e-01],\n",
       "       [1.66666667e-01, 3.33333333e+11, 7.77777778e+11, 6.66666667e+11,\n",
       "        5.55555556e+11, 6.66666667e+11, 1.00000000e+12, 5.55555556e+11,\n",
       "        3.00000000e-01],\n",
       "       [1.66666667e-01, 3.33333333e+11, 7.77777778e+11, 6.66666667e+11,\n",
       "        5.55555556e+11, 1.11111111e+11, 1.00000000e+12, 5.55555556e+11,\n",
       "        3.00000000e-01],\n",
       "       [1.66666667e-01, 3.33333333e+11, 7.77777778e+11, 6.66666667e+11,\n",
       "        5.55555556e+11, 1.11111111e+11, 1.00000000e+12, 0.00000000e+00,\n",
       "        3.00000000e-01],\n",
       "       [1.66666667e-01, 3.33333333e+11, 2.22222222e+11, 6.66666667e+11,\n",
       "        5.55555556e+11, 1.11111111e+11, 1.00000000e+12, 0.00000000e+00,\n",
       "        3.00000000e-01],\n",
       "       [1.66666667e-01, 8.88888889e+11, 2.22222222e+11, 6.66666667e+11,\n",
       "        5.55555556e+11, 1.11111111e+11, 1.00000000e+12, 0.00000000e+00,\n",
       "        3.00000000e-01],\n",
       "       [4.44444444e-01, 8.88888889e+11, 2.22222222e+11, 6.66666667e+11,\n",
       "        5.55555556e+11, 1.11111111e+11, 1.00000000e+12, 0.00000000e+00,\n",
       "        3.00000000e-01],\n",
       "       [4.44444444e-01, 8.88888889e+11, 2.22222222e+11, 6.66666667e+11,\n",
       "        5.55555556e+11, 1.11111111e+11, 1.00000000e+12, 0.00000000e+00,\n",
       "        8.00000000e-01],\n",
       "       [0.00000000e+00, 8.88888889e+11, 4.44444444e+11, 3.33333333e+11,\n",
       "        5.55555556e+11, 8.88888889e+11, 1.11111111e+11, 1.11111111e+11,\n",
       "        3.00000000e-01],\n",
       "       [0.00000000e+00, 8.88888889e+11, 4.44444444e+11, 3.33333333e+11,\n",
       "        5.55555556e+11, 8.88888889e+11, 1.11111111e+11, 6.66666667e+11,\n",
       "        3.00000000e-01],\n",
       "       [0.00000000e+00, 8.88888889e+11, 4.44444444e+11, 3.33333333e+11,\n",
       "        0.00000000e+00, 8.88888889e+11, 1.11111111e+11, 6.66666667e+11,\n",
       "        3.00000000e-01],\n",
       "       [0.00000000e+00, 8.88888889e+11, 1.00000000e+12, 3.33333333e+11,\n",
       "        0.00000000e+00, 8.88888889e+11, 1.11111111e+11, 6.66666667e+11,\n",
       "        3.00000000e-01],\n",
       "       [0.00000000e+00, 8.88888889e+11, 1.00000000e+12, 3.33333333e+11,\n",
       "        0.00000000e+00, 3.33333333e+11, 1.11111111e+11, 6.66666667e+11,\n",
       "        3.00000000e-01],\n",
       "       [0.00000000e+00, 8.88888889e+11, 1.00000000e+12, 8.88888889e+11,\n",
       "        0.00000000e+00, 3.33333333e+11, 1.11111111e+11, 6.66666667e+11,\n",
       "        3.00000000e-01],\n",
       "       [0.00000000e+00, 3.33333333e+11, 1.00000000e+12, 8.88888889e+11,\n",
       "        0.00000000e+00, 3.33333333e+11, 1.11111111e+11, 6.66666667e+11,\n",
       "        3.00000000e-01],\n",
       "       [0.00000000e+00, 3.33333333e+11, 1.00000000e+12, 8.88888889e+11,\n",
       "        0.00000000e+00, 3.33333333e+11, 1.11111111e+11, 6.66666667e+11,\n",
       "        8.00000000e-01],\n",
       "       [2.77777778e-01, 3.33333333e+11, 1.00000000e+12, 8.88888889e+11,\n",
       "        0.00000000e+00, 3.33333333e+11, 1.11111111e+11, 6.66666667e+11,\n",
       "        8.00000000e-01],\n",
       "       [2.77777778e-01, 3.33333333e+11, 1.00000000e+12, 8.88888889e+11,\n",
       "        0.00000000e+00, 3.33333333e+11, 6.66666667e+11, 6.66666667e+11,\n",
       "        8.00000000e-01],\n",
       "       [5.00000000e-01, 2.22222222e+11, 4.44444444e+11, 5.55555556e+11,\n",
       "        5.55555556e+11, 8.88888889e+11, 1.00000000e+12, 8.88888889e+11,\n",
       "        2.00000000e-01],\n",
       "       [5.00000000e-01, 2.22222222e+11, 4.44444444e+11, 5.55555556e+11,\n",
       "        5.55555556e+11, 3.33333333e+11, 1.00000000e+12, 8.88888889e+11,\n",
       "        2.00000000e-01],\n",
       "       [5.00000000e-01, 2.22222222e+11, 4.44444444e+11, 5.55555556e+11,\n",
       "        5.55555556e+11, 3.33333333e+11, 1.00000000e+12, 3.33333333e+11,\n",
       "        2.00000000e-01],\n",
       "       [5.00000000e-01, 2.22222222e+11, 4.44444444e+11, 5.55555556e+11,\n",
       "        0.00000000e+00, 3.33333333e+11, 1.00000000e+12, 3.33333333e+11,\n",
       "        2.00000000e-01],\n",
       "       [2.22222222e-01, 2.22222222e+11, 4.44444444e+11, 5.55555556e+11,\n",
       "        0.00000000e+00, 3.33333333e+11, 1.00000000e+12, 3.33333333e+11,\n",
       "        2.00000000e-01],\n",
       "       [2.22222222e-01, 2.22222222e+11, 4.44444444e+11, 0.00000000e+00,\n",
       "        0.00000000e+00, 3.33333333e+11, 1.00000000e+12, 3.33333333e+11,\n",
       "        2.00000000e-01],\n",
       "       [2.22222222e-01, 2.22222222e+11, 4.44444444e+11, 0.00000000e+00,\n",
       "        0.00000000e+00, 3.33333333e+11, 4.44444444e+11, 3.33333333e+11,\n",
       "        2.00000000e-01],\n",
       "       [2.22222222e-01, 2.22222222e+11, 1.00000000e+12, 0.00000000e+00,\n",
       "        0.00000000e+00, 3.33333333e+11, 4.44444444e+11, 3.33333333e+11,\n",
       "        2.00000000e-01],\n",
       "       [2.22222222e-01, 2.22222222e+11, 1.00000000e+12, 0.00000000e+00,\n",
       "        0.00000000e+00, 3.33333333e+11, 4.44444444e+11, 3.33333333e+11,\n",
       "        7.00000000e-01],\n",
       "       [2.22222222e-01, 7.77777778e+11, 1.00000000e+12, 0.00000000e+00,\n",
       "        0.00000000e+00, 3.33333333e+11, 4.44444444e+11, 3.33333333e+11,\n",
       "        7.00000000e-01],\n",
       "       [5.55555556e-02, 5.55555556e+11, 1.00000000e+12, 3.33333333e+11,\n",
       "        6.66666667e+11, 0.00000000e+00, 7.77777778e+11, 7.77777778e+11,\n",
       "        9.00000000e-01],\n",
       "       [5.55555556e-02, 5.55555556e+11, 1.00000000e+12, 3.33333333e+11,\n",
       "        6.66666667e+11, 5.55555556e+11, 7.77777778e+11, 7.77777778e+11,\n",
       "        9.00000000e-01],\n",
       "       [5.55555556e-02, 5.55555556e+11, 1.00000000e+12, 3.33333333e+11,\n",
       "        6.66666667e+11, 5.55555556e+11, 7.77777778e+11, 7.77777778e+11,\n",
       "        4.00000000e-01],\n",
       "       [3.33333333e-01, 5.55555556e+11, 1.00000000e+12, 3.33333333e+11,\n",
       "        6.66666667e+11, 5.55555556e+11, 7.77777778e+11, 7.77777778e+11,\n",
       "        4.00000000e-01],\n",
       "       [3.33333333e-01, 0.00000000e+00, 1.00000000e+12, 3.33333333e+11,\n",
       "        6.66666667e+11, 5.55555556e+11, 7.77777778e+11, 7.77777778e+11,\n",
       "        4.00000000e-01],\n",
       "       [3.33333333e-01, 0.00000000e+00, 1.00000000e+12, 3.33333333e+11,\n",
       "        6.66666667e+11, 5.55555556e+11, 7.77777778e+11, 2.22222222e+11,\n",
       "        4.00000000e-01],\n",
       "       [3.33333333e-01, 0.00000000e+00, 1.00000000e+12, 3.33333333e+11,\n",
       "        1.11111111e+11, 5.55555556e+11, 7.77777778e+11, 2.22222222e+11,\n",
       "        4.00000000e-01],\n",
       "       [3.33333333e-01, 0.00000000e+00, 4.44444444e+11, 3.33333333e+11,\n",
       "        1.11111111e+11, 5.55555556e+11, 7.77777778e+11, 2.22222222e+11,\n",
       "        4.00000000e-01],\n",
       "       [3.33333333e-01, 0.00000000e+00, 4.44444444e+11, 8.88888889e+11,\n",
       "        1.11111111e+11, 5.55555556e+11, 7.77777778e+11, 2.22222222e+11,\n",
       "        4.00000000e-01],\n",
       "       [3.33333333e-01, 0.00000000e+00, 4.44444444e+11, 8.88888889e+11,\n",
       "        1.11111111e+11, 5.55555556e+11, 2.22222222e+11, 2.22222222e+11,\n",
       "        4.00000000e-01]])"
      ]
     },
     "execution_count": 84,
     "metadata": {},
     "output_type": "execute_result"
    }
   ],
   "source": []
  },
  {
   "cell_type": "code",
   "execution_count": null,
   "id": "679a39e6",
   "metadata": {},
   "outputs": [],
   "source": []
  }
 ],
 "metadata": {
  "kernelspec": {
   "display_name": "Python 3.9.7 64-bit ('nextra': conda)",
   "language": "python",
   "name": "python397jvsc74a57bd07fea8f04d1345dd3d201713db517d44bc4ca564d1ccddab9bd2faef5b7c176d0"
  },
  "language_info": {
   "codemirror_mode": {
    "name": "ipython",
    "version": 3
   },
   "file_extension": ".py",
   "mimetype": "text/x-python",
   "name": "python",
   "nbconvert_exporter": "python",
   "pygments_lexer": "ipython3",
   "version": "3.9.7"
  }
 },
 "nbformat": 4,
 "nbformat_minor": 5
}
