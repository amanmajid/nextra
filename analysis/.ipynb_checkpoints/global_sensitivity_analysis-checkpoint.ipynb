{
 "cells": [
  {
   "cell_type": "code",
   "execution_count": 1,
   "id": "94554412",
   "metadata": {},
   "outputs": [
    {
     "data": {
      "text/html": [
       "        <script type=\"text/javascript\">\n",
       "        window.PlotlyConfig = {MathJaxConfig: 'local'};\n",
       "        if (window.MathJax) {MathJax.Hub.Config({SVG: {font: \"STIX-Web\"}});}\n",
       "        if (typeof require !== 'undefined') {\n",
       "        require.undef(\"plotly\");\n",
       "        requirejs.config({\n",
       "            paths: {\n",
       "                'plotly': ['https://cdn.plot.ly/plotly-2.6.3.min']\n",
       "            }\n",
       "        });\n",
       "        require(['plotly'], function(Plotly) {\n",
       "            window._Plotly = Plotly;\n",
       "        });\n",
       "        }\n",
       "        </script>\n",
       "        "
      ]
     },
     "metadata": {},
     "output_type": "display_data"
    }
   ],
   "source": [
    "import os\n",
    "import seaborn as sns\n",
    "import matplotlib.pyplot as plt\n",
    "import matplotlib as mpl\n",
    "import pickle\n",
    "\n",
    "import SALib.analyze.morris\n",
    "from SALib.sample import morris\n",
    "\n",
    "import warnings\n",
    "warnings.filterwarnings('ignore')\n",
    "\n",
    "import sys\n",
    "sys.path.append('../')\n",
    "\n",
    "from tqdm import tqdm\n",
    "\n",
    "from infrasim.optimise import *\n",
    "from infrasim.utils import *\n",
    "\n",
    "mpl.rcParams['ytick.direction'] = 'out'\n",
    "mpl.rcParams['xtick.direction'] = 'out'\n",
    "mpl.rcParams['font.family']      = 'Arial'"
   ]
  },
  {
   "cell_type": "code",
   "execution_count": 2,
   "id": "308ab8ef",
   "metadata": {},
   "outputs": [],
   "source": [
    "def process_morris_results(problem,param_values,collected_results,num_levels):\n",
    "    '''Process output from Morris sensitivitys\n",
    "    '''\n",
    "    Si = SALib.analyze.morris.analyze(problem,\n",
    "                                      np.array(param_values),\n",
    "                                      np.array(collected_results),\n",
    "                                      print_to_console=False,\n",
    "                                      num_levels=num_levels)\n",
    "\n",
    "    sensitivity_results = pd.DataFrame.from_dict(Si)\n",
    "    return sensitivity_results\n",
    "\n",
    "\n",
    "def calculate_relative_influence(sensitivity_results):\n",
    "    '''Return relative influence (%) of each parameter from sensitivity\n",
    "    '''\n",
    "    sensitivity = sensitivity_results.copy()\n",
    "    sensitivity = sensitivity.fillna(0).reset_index(drop=True)\n",
    "    sensitivity['rel'] = abs(sensitivity['mu'])/abs(sensitivity['mu']).sum()*100\n",
    "    sensitivity['mu'] = sensitivity['mu']\n",
    "    sensitivity = sensitivity[['names','rel']]\n",
    "    sensitivity = sensitivity.sort_values(by='names',ascending=True).reset_index(drop=True)\n",
    "    sensitivity.names = sensitivity.names.str.replace('_',' ')\n",
    "    sensitivity.names = sensitivity.names.str.title()\n",
    "    sensitivity.names = sensitivity.names.str.replace('Res','RES')\n",
    "    sensitivity.names = sensitivity.names.str.replace('Coop','COO')\n",
    "    sensitivity.names = sensitivity.names.str.replace('To','to')\n",
    "    sensitivity.names = sensitivity.names.str.replace('Westbank','West Bank')\n",
    "    return sensitivity\n",
    "\n",
    "\n",
    "def read_results(path='../data/gsa_results/combined_capacities_271_generations.csv'):\n",
    "    # read results\n",
    "    combined_caps = pd.read_csv(path)\n",
    "    # israel\n",
    "    israel_results = process_morris_results(problem,\n",
    "                                            param_values,\n",
    "                                            combined_caps['Israel'].fillna(0).to_list(),\n",
    "                                            num_levels)\n",
    "    # jordan\n",
    "    jordan_results = process_morris_results(problem,\n",
    "                                            param_values,\n",
    "                                            combined_caps['Jordan'].fillna(0).to_list(),\n",
    "                                            num_levels)\n",
    "    # west bank\n",
    "    westbank_results = process_morris_results(problem,\n",
    "                                            param_values,\n",
    "                                            combined_caps['West Bank'].fillna(0).to_list(),\n",
    "                                            num_levels)\n",
    "    # gaza\n",
    "    gaza_results = process_morris_results(problem,\n",
    "                                            param_values,\n",
    "                                            combined_caps['Gaza'].fillna(0).to_list(),\n",
    "                                            num_levels)\n",
    "    # return\n",
    "    return combined_caps,israel_results,jordan_results,westbank_results,gaza_results\n",
    "\n",
    "\n",
    "def min_max_avg_plot(df,ax=None):\n",
    "    # line plot\n",
    "    sns.lineplot(x='value',y='variable',data=df,\n",
    "                 linewidth=1,zorder=10,color='firebrick',ax=ax)\n",
    "    # high and low\n",
    "    sns.scatterplot(x='value',y='variable',data=df[df.stat != 'average'],\n",
    "                    marker='|',s=100,color='firebrick',zorder=15,ax=ax)\n",
    "    # mean\n",
    "    sns.scatterplot(x='value',y='variable',data=df[df.stat == 'average'],\n",
    "                    marker='o',s=100,color='firebrick',zorder=15,ax=ax)"
   ]
  },
  {
   "cell_type": "code",
   "execution_count": 3,
   "id": "98bef0ad",
   "metadata": {},
   "outputs": [],
   "source": [
    "# params\n",
    "count       = 1\n",
    "save_iter   = 25\n",
    "timesteps   = 24\n",
    "num_levels  = 10\n",
    "N           = 10\n",
    "\n",
    "# Set up problem for sensitivity analysis # name:[lower_bound,upper_bound]\n",
    "params = {'coop_res_target'                 : [0,0.8],\n",
    "          #'demand_factor'                   : [1,3],\n",
    "          #'solar_price_factor'              : [0.6,1.4],\n",
    "          #'wind_price_factor'               : [0.6,1.4],\n",
    "          'self_sufficiency_factor'         : [0,1.0],\n",
    "         }\n",
    "\n",
    "# params = {'coop_res_target'                 : [0,0.8],\n",
    "#           'jordan_to_westbank'              : [0,10**9],\n",
    "#           'jordan_to_israel'                : [0,10**9],\n",
    "#           'israel_to_westbank'              : [0,10**9],\n",
    "#           'israel_to_jordan'                : [0,10**9],\n",
    "#           'israel_to_gaza'                  : [0,10**9],\n",
    "#           #'westbank_to_israel'              : [0,0], #[0,10**9],\n",
    "#           'westbank_to_jordan'              : [0,10**9],\n",
    "#           'self_sufficiency_factor'         : [0,1.0],\n",
    "#          }\n",
    "\n",
    "problem = {'num_vars'    : len(params.keys()),\n",
    "           'names'       : [i for i in params.keys()],\n",
    "           'bounds'      : [params[i] for i in params.keys()]\n",
    "          }\n",
    "\n",
    "# create parameter values\n",
    "param_values = morris.sample(problem,N=N,\n",
    "                             num_levels=num_levels,\n",
    "                             local_optimization=True)"
   ]
  },
  {
   "cell_type": "code",
   "execution_count": 4,
   "id": "28abb738",
   "metadata": {},
   "outputs": [
    {
     "name": "stderr",
     "output_type": "stream",
     "text": [
      "\r",
      "  0%|                                                    | 0/30 [00:00<?, ?it/s]"
     ]
    },
    {
     "name": "stdout",
     "output_type": "stream",
     "text": [
      "Set parameter Username\n",
      "Academic license - for non-commercial use only - expires 2022-11-03\n",
      "0.0\n",
      "0.0\n"
     ]
    },
    {
     "name": "stderr",
     "output_type": "stream",
     "text": [
      "\r",
      "  3%|█▍                                          | 1/30 [00:00<00:16,  1.71it/s]"
     ]
    },
    {
     "name": "stdout",
     "output_type": "stream",
     "text": [
      "COO factor in model: 0.0\n",
      "\n",
      "0.44\n",
      "0.44\n"
     ]
    },
    {
     "name": "stderr",
     "output_type": "stream",
     "text": [
      "\r",
      "  7%|██▉                                         | 2/30 [00:01<00:16,  1.73it/s]"
     ]
    },
    {
     "name": "stdout",
     "output_type": "stream",
     "text": [
      "COO factor in model: 0.44\n",
      "\n",
      "0.44\n",
      "0.44\n"
     ]
    },
    {
     "name": "stderr",
     "output_type": "stream",
     "text": [
      "\r",
      " 10%|████▍                                       | 3/30 [00:01<00:14,  1.81it/s]"
     ]
    },
    {
     "name": "stdout",
     "output_type": "stream",
     "text": [
      "COO factor in model: 0.44\n",
      "\n",
      "0.18\n",
      "0.18\n"
     ]
    },
    {
     "name": "stderr",
     "output_type": "stream",
     "text": [
      "\r",
      " 13%|█████▊                                      | 4/30 [00:02<00:14,  1.85it/s]"
     ]
    },
    {
     "name": "stdout",
     "output_type": "stream",
     "text": [
      "COO factor in model: 0.18\n",
      "\n",
      "0.18\n",
      "0.18\n"
     ]
    },
    {
     "name": "stderr",
     "output_type": "stream",
     "text": [
      "\r",
      " 17%|███████▎                                    | 5/30 [00:02<00:13,  1.83it/s]"
     ]
    },
    {
     "name": "stdout",
     "output_type": "stream",
     "text": [
      "COO factor in model: 0.18\n",
      "\n",
      "0.62\n",
      "0.62\n"
     ]
    },
    {
     "name": "stderr",
     "output_type": "stream",
     "text": [
      "\r",
      " 20%|████████▊                                   | 6/30 [00:03<00:12,  1.90it/s]"
     ]
    },
    {
     "name": "stdout",
     "output_type": "stream",
     "text": [
      "COO factor in model: 0.62\n",
      "\n",
      "0.62\n",
      "0.62\n"
     ]
    },
    {
     "name": "stderr",
     "output_type": "stream",
     "text": [
      "\r",
      " 23%|██████████▎                                 | 7/30 [00:03<00:11,  1.94it/s]"
     ]
    },
    {
     "name": "stdout",
     "output_type": "stream",
     "text": [
      "COO factor in model: 0.62\n",
      "\n",
      "0.62\n",
      "0.62\n"
     ]
    },
    {
     "name": "stderr",
     "output_type": "stream",
     "text": [
      "\r",
      " 27%|███████████▋                                | 8/30 [00:04<00:11,  1.91it/s]"
     ]
    },
    {
     "name": "stdout",
     "output_type": "stream",
     "text": [
      "COO factor in model: 0.62\n",
      "\n",
      "0.18\n",
      "0.18\n"
     ]
    },
    {
     "name": "stderr",
     "output_type": "stream",
     "text": [
      "\r",
      " 30%|█████████████▏                              | 9/30 [00:04<00:11,  1.91it/s]"
     ]
    },
    {
     "name": "stdout",
     "output_type": "stream",
     "text": [
      "COO factor in model: 0.18\n",
      "\n",
      "0.18\n",
      "0.18\n"
     ]
    },
    {
     "name": "stderr",
     "output_type": "stream",
     "text": [
      "\r",
      " 33%|██████████████▎                            | 10/30 [00:05<00:10,  1.90it/s]"
     ]
    },
    {
     "name": "stdout",
     "output_type": "stream",
     "text": [
      "COO factor in model: 0.18\n",
      "\n",
      "0.18\n",
      "0.18\n"
     ]
    },
    {
     "name": "stderr",
     "output_type": "stream",
     "text": [
      "\r",
      " 37%|███████████████▊                           | 11/30 [00:05<00:10,  1.86it/s]"
     ]
    },
    {
     "name": "stdout",
     "output_type": "stream",
     "text": [
      "COO factor in model: 0.18\n",
      "\n",
      "0.62\n",
      "0.62\n"
     ]
    },
    {
     "name": "stderr",
     "output_type": "stream",
     "text": [
      "\r",
      " 40%|█████████████████▏                         | 12/30 [00:06<00:09,  1.90it/s]"
     ]
    },
    {
     "name": "stdout",
     "output_type": "stream",
     "text": [
      "COO factor in model: 0.62\n",
      "\n",
      "0.8\n",
      "0.8\n"
     ]
    },
    {
     "name": "stderr",
     "output_type": "stream",
     "text": [
      "\r",
      " 43%|██████████████████▋                        | 13/30 [00:06<00:08,  1.94it/s]"
     ]
    },
    {
     "name": "stdout",
     "output_type": "stream",
     "text": [
      "COO factor in model: 0.8\n",
      "\n",
      "0.8\n",
      "0.8\n"
     ]
    },
    {
     "name": "stderr",
     "output_type": "stream",
     "text": [
      "\r",
      " 47%|████████████████████                       | 14/30 [00:07<00:08,  1.92it/s]"
     ]
    },
    {
     "name": "stdout",
     "output_type": "stream",
     "text": [
      "COO factor in model: 0.8\n",
      "\n",
      "0.36\n",
      "0.36\n"
     ]
    },
    {
     "name": "stderr",
     "output_type": "stream",
     "text": [
      "\r",
      " 50%|█████████████████████▌                     | 15/30 [00:07<00:07,  1.93it/s]"
     ]
    },
    {
     "name": "stdout",
     "output_type": "stream",
     "text": [
      "COO factor in model: 0.36\n",
      "\n",
      "0.36\n",
      "0.36\n"
     ]
    },
    {
     "name": "stderr",
     "output_type": "stream",
     "text": [
      "\r",
      " 53%|██████████████████████▉                    | 16/30 [00:08<00:07,  1.95it/s]"
     ]
    },
    {
     "name": "stdout",
     "output_type": "stream",
     "text": [
      "COO factor in model: 0.36\n",
      "\n",
      "0.36\n",
      "0.36\n"
     ]
    },
    {
     "name": "stderr",
     "output_type": "stream",
     "text": [
      "\r",
      " 57%|████████████████████████▎                  | 17/30 [00:08<00:06,  1.93it/s]"
     ]
    },
    {
     "name": "stdout",
     "output_type": "stream",
     "text": [
      "COO factor in model: 0.36\n",
      "\n",
      "0.8\n",
      "0.8\n"
     ]
    },
    {
     "name": "stderr",
     "output_type": "stream",
     "text": [
      "\r",
      " 60%|█████████████████████████▊                 | 18/30 [00:09<00:06,  1.95it/s]"
     ]
    },
    {
     "name": "stdout",
     "output_type": "stream",
     "text": [
      "COO factor in model: 0.8\n",
      "\n",
      "0.36\n",
      "0.36\n"
     ]
    },
    {
     "name": "stderr",
     "output_type": "stream",
     "text": [
      "\r",
      " 63%|███████████████████████████▏               | 19/30 [00:09<00:05,  1.94it/s]"
     ]
    },
    {
     "name": "stdout",
     "output_type": "stream",
     "text": [
      "COO factor in model: 0.36\n",
      "\n",
      "0.8\n",
      "0.8\n"
     ]
    },
    {
     "name": "stderr",
     "output_type": "stream",
     "text": [
      "\r",
      " 67%|████████████████████████████▋              | 20/30 [00:10<00:05,  1.93it/s]"
     ]
    },
    {
     "name": "stdout",
     "output_type": "stream",
     "text": [
      "COO factor in model: 0.8\n",
      "\n",
      "0.8\n",
      "0.8\n"
     ]
    },
    {
     "name": "stderr",
     "output_type": "stream",
     "text": [
      "\r",
      " 70%|██████████████████████████████             | 21/30 [00:11<00:04,  1.95it/s]"
     ]
    },
    {
     "name": "stdout",
     "output_type": "stream",
     "text": [
      "COO factor in model: 0.8\n",
      "\n",
      "0.18\n",
      "0.18\n"
     ]
    },
    {
     "name": "stderr",
     "output_type": "stream",
     "text": [
      "\r",
      " 73%|███████████████████████████████▌           | 22/30 [00:11<00:04,  1.96it/s]"
     ]
    },
    {
     "name": "stdout",
     "output_type": "stream",
     "text": [
      "COO factor in model: 0.18\n",
      "\n",
      "0.62\n",
      "0.62\n"
     ]
    },
    {
     "name": "stderr",
     "output_type": "stream",
     "text": [
      "\r",
      " 77%|████████████████████████████████▉          | 23/30 [00:12<00:03,  1.96it/s]"
     ]
    },
    {
     "name": "stdout",
     "output_type": "stream",
     "text": [
      "COO factor in model: 0.62\n",
      "\n",
      "0.62\n",
      "0.62\n"
     ]
    },
    {
     "name": "stderr",
     "output_type": "stream",
     "text": [
      "\r",
      " 80%|██████████████████████████████████▍        | 24/30 [00:12<00:03,  1.99it/s]"
     ]
    },
    {
     "name": "stdout",
     "output_type": "stream",
     "text": [
      "COO factor in model: 0.62\n",
      "\n",
      "0.09\n",
      "0.09\n"
     ]
    },
    {
     "name": "stderr",
     "output_type": "stream",
     "text": [
      "\r",
      " 83%|███████████████████████████████████▊       | 25/30 [00:13<00:02,  1.95it/s]"
     ]
    },
    {
     "name": "stdout",
     "output_type": "stream",
     "text": [
      "COO factor in model: 0.09\n",
      "\n",
      "0.53\n",
      "0.53\n"
     ]
    },
    {
     "name": "stderr",
     "output_type": "stream",
     "text": [
      "\r",
      " 87%|█████████████████████████████████████▎     | 26/30 [00:13<00:01,  2.00it/s]"
     ]
    },
    {
     "name": "stdout",
     "output_type": "stream",
     "text": [
      "COO factor in model: 0.53\n",
      "\n",
      "0.53\n",
      "0.53\n"
     ]
    },
    {
     "name": "stderr",
     "output_type": "stream",
     "text": [
      "\r",
      " 90%|██████████████████████████████████████▋    | 27/30 [00:13<00:01,  2.05it/s]"
     ]
    },
    {
     "name": "stdout",
     "output_type": "stream",
     "text": [
      "COO factor in model: 0.53\n",
      "\n",
      "0.71\n",
      "0.71\n"
     ]
    },
    {
     "name": "stderr",
     "output_type": "stream",
     "text": [
      "\r",
      " 93%|████████████████████████████████████████▏  | 28/30 [00:14<00:01,  2.00it/s]"
     ]
    },
    {
     "name": "stdout",
     "output_type": "stream",
     "text": [
      "COO factor in model: 0.71\n",
      "\n",
      "0.71\n",
      "0.71\n"
     ]
    },
    {
     "name": "stderr",
     "output_type": "stream",
     "text": [
      "\r",
      " 97%|█████████████████████████████████████████▌ | 29/30 [00:15<00:00,  1.99it/s]"
     ]
    },
    {
     "name": "stdout",
     "output_type": "stream",
     "text": [
      "COO factor in model: 0.71\n",
      "\n",
      "0.27\n",
      "0.27\n"
     ]
    },
    {
     "name": "stderr",
     "output_type": "stream",
     "text": [
      "100%|███████████████████████████████████████████| 30/30 [00:15<00:00,  1.93it/s]"
     ]
    },
    {
     "name": "stdout",
     "output_type": "stream",
     "text": [
      "COO factor in model: 0.27\n",
      "\n"
     ]
    },
    {
     "name": "stderr",
     "output_type": "stream",
     "text": [
      "\n"
     ]
    }
   ],
   "source": [
    "# Run analysis with the specified parameter values\n",
    "collected_caps_israel   = []\n",
    "collected_caps_jordan   = []\n",
    "collected_caps_westbank = []\n",
    "collected_caps_gaza     = []\n",
    "\n",
    "#File paths\n",
    "nodes = '../data/nextra/spatial/network/nodes.shp'\n",
    "edges = '../data/nextra/spatial/network/edges.shp'\n",
    "\n",
    "for param_set in tqdm(param_values,total=len(param_values)):\n",
    "    \n",
    "    if round(param_set[1]) == 1:\n",
    "        flows = '../data/nextra/nodal_flows/processed_flows_2030_low.csv'\n",
    "    elif round(param_set[1]) == 2:\n",
    "        flows = '../data/nextra/nodal_flows/processed_flows_2030_base.csv'\n",
    "    elif round(param_set[1]) == 3:\n",
    "        flows = '../data/nextra/nodal_flows/processed_flows_2030_high.csv'\n",
    "    else:\n",
    "        flows = '../data/nextra/nodal_flows/processed_flows_2030_base.csv'\n",
    "\n",
    "    model_run = nextra(nodes,edges,flows,\n",
    "                       timesteps=timesteps,\n",
    "                       energy_objective=True,\n",
    "                       scenario='COO',\n",
    "                       super_sink=False,\n",
    "                       super_source=False,\n",
    "                       # params\n",
    "                       coo_res_factor=round(param_set[0],2),\n",
    "                       #solar_price_factor=param_set[2],\n",
    "                       #wind_price_factor=param_set[3],\n",
    "                       self_sufficiency_factor=param_set[1],\n",
    "                      )\n",
    "    \n",
    "    # build, run, and get results\n",
    "    model_run.build()\n",
    "    model_run.run(pprint=False)\n",
    "    try:\n",
    "        model_results = model_run.get_results()\n",
    "        # get capacities\n",
    "        caps = model_results.results_capacities.copy()\n",
    "        caps = caps.groupby(by='territory').max().reset_index()\n",
    "        # append collected capacities\n",
    "        collected_caps_israel.append(caps.loc[caps.territory == 'Israel','value'].values[0])\n",
    "        collected_caps_jordan.append(caps.loc[caps.territory == 'Jordan','value'].values[0])\n",
    "        collected_caps_westbank.append(caps.loc[caps.territory == 'West Bank','value'].values[0])\n",
    "        collected_caps_gaza.append(caps.loc[caps.territory == 'Gaza','value'].values[0])\n",
    "    except:\n",
    "        collected_caps_israel.append(np.nan)\n",
    "        collected_caps_jordan.append(np.nan)\n",
    "        collected_caps_westbank.append(np.nan)\n",
    "        collected_caps_gaza.append(np.nan)\n",
    "    \n",
    "    # make dataframes\n",
    "    combined_caps = pd.DataFrame({'Israel' : collected_caps_israel,\n",
    "                                  'Jordan' : collected_caps_jordan,\n",
    "                                  'West Bank' : collected_caps_westbank,\n",
    "                                  'Gaza' : collected_caps_gaza,})\n",
    "    \n",
    "    # save\n",
    "    if count % save_iter == 0:\n",
    "        combined_caps.to_csv('../data/gsa_results/combined_capacities_' \n",
    "                             + str(count) + '_generations.csv',index=False)\n",
    "    \n",
    "    # adjust counter\n",
    "    count = count + 1\n",
    "    \n",
    "combined_caps.to_csv('../data/gsa_results/combined_capacities_' \n",
    "                             + str(count) + '_generations.csv',index=False)"
   ]
  },
  {
   "cell_type": "code",
   "execution_count": 5,
   "id": "82551184",
   "metadata": {},
   "outputs": [],
   "source": [
    "combined_caps.to_csv('../data/gsa_results/combined_capacities_' \n",
    "                             + str(count) + '_generations.csv',index=False)\n",
    "\n",
    "combined_caps,israel_results,jordan_results,westbank_results,gaza_results = read_results(\\\n",
    "                path='../data/gsa_results/combined_capacities_' \n",
    "                             + str(count) + '_generations.csv')\n",
    "\n",
    "collected_caps = combined_caps.copy()"
   ]
  },
  {
   "cell_type": "code",
   "execution_count": 6,
   "id": "d1bdb692",
   "metadata": {},
   "outputs": [
    {
     "data": {
      "image/png": "[encoded data removed]",
      "text/plain": [
       "<Figure size 720x360 with 5 Axes>"
      ]
     },
     "metadata": {
      "needs_background": "light"
     },
     "output_type": "display_data"
    }
   ],
   "source": [
    "file = open('../outputs/results/model_run_results.pkl','rb')\n",
    "results = pickle.load(file)\n",
    "file.close()\n",
    "\n",
    "baseline_caps = results['COO'].results_capacities.groupby(by='territory').max()['value'].to_dict()\n",
    "\n",
    "for c in collected_caps.columns:\n",
    "    collected_caps[c+'_influence'] = (collected_caps[c] - baseline_caps[c])/baseline_caps[c] * 100\n",
    "\n",
    "collected_caps\n",
    "\n",
    "isr = calculate_relative_influence(israel_results)\n",
    "isr['region'] = 'ISR'\n",
    "\n",
    "jor = calculate_relative_influence(jordan_results)\n",
    "jor['region'] = 'JOR'\n",
    "\n",
    "wbk = calculate_relative_influence(westbank_results)\n",
    "wbk['region'] = 'WBK'\n",
    "\n",
    "gza = calculate_relative_influence(gaza_results)\n",
    "gza['region'] = 'GZA'\n",
    "\n",
    "influence = isr.copy()\n",
    "influence = influence.append(jor,ignore_index=True)\n",
    "influence = influence.append(wbk,ignore_index=True)\n",
    "influence = influence.append(gza,ignore_index=True)\n",
    "influence['var'] = influence['names']\n",
    "\n",
    "def custom_lineplot(df,colname,xlims,title,ax):\n",
    "    x1 = df[colname].min()\n",
    "    x2 = df[colname].max()\n",
    "    x3 = df[colname].mean()\n",
    "    x4 = df[colname].median()\n",
    "    ax.plot([x1,x2],[0.5,0.5],linestyle='-',color='teal',linewidth=2,zorder=0)\n",
    "    ax.scatter(x3,0.5,s=250,marker='|',color='teal',linewidth=5)\n",
    "    ax.scatter(x4,0.5,s=50,marker='o',color='white',linewidth=1,edgecolor='teal')\n",
    "    ax.set_xlim(xlims)\n",
    "    ax.set_title(title,loc='left')\n",
    "    \n",
    "f = plt.figure(figsize=(10,5))\n",
    "ax1 = plt.subplot(4,2,1)\n",
    "ax2 = plt.subplot(4,2,3)\n",
    "ax3 = plt.subplot(4,2,5)\n",
    "ax4 = plt.subplot(4,2,7)\n",
    "ax5 = plt.subplot(1,2,2)\n",
    "\n",
    "xlims=[-100,600]\n",
    "\n",
    "custom_lineplot(df=collected_caps,colname='Israel_influence',xlims=xlims,title='ISR',ax=ax1)\n",
    "custom_lineplot(df=collected_caps,colname='Jordan_influence',xlims=xlims,title='JOR',ax=ax2)\n",
    "custom_lineplot(df=collected_caps,colname='West Bank_influence',xlims=xlims,title='WBK',ax=ax3)\n",
    "custom_lineplot(df=collected_caps,colname='Gaza_influence',xlims=xlims,title='GZA',ax=ax4)\n",
    "\n",
    "ax1.axis('off')\n",
    "ax2.axis('off')\n",
    "ax3.axis('off')\n",
    "\n",
    "ax4.spines['top'].set_visible(False)\n",
    "ax4.spines['right'].set_visible(False)\n",
    "ax4.spines['left'].set_visible(False)\n",
    "ax4.set_yticks([])\n",
    "\n",
    "ax4.set_xlabel('Change in capacity (%)')\n",
    "\n",
    "sns.barplot(x='rel',y='var',hue='region',data=influence,ax=ax5,edgecolor='black')\n",
    "ax5.set_ylabel('')\n",
    "ax5.set_xlabel('Relative Influence (%)')\n",
    "ax5.set_title('b',loc='left',fontweight='bold',fontsize=16)\n",
    "\n",
    "f.tight_layout() \n",
    "f.savefig('../outputs/figures/global_sensitivity.pdf',bbox_inches='tight')"
   ]
  },
  {
   "cell_type": "code",
   "execution_count": 7,
   "id": "9970ae94",
   "metadata": {},
   "outputs": [
    {
     "data": {
      "text/html": [
       "<div>\n",
       "<style scoped>\n",
       "    .dataframe tbody tr th:only-of-type {\n",
       "        vertical-align: middle;\n",
       "    }\n",
       "\n",
       "    .dataframe tbody tr th {\n",
       "        vertical-align: top;\n",
       "    }\n",
       "\n",
       "    .dataframe thead th {\n",
       "        text-align: right;\n",
       "    }\n",
       "</style>\n",
       "<table border=\"1\" class=\"dataframe\">\n",
       "  <thead>\n",
       "    <tr style=\"text-align: right;\">\n",
       "      <th></th>\n",
       "      <th>names</th>\n",
       "      <th>mu</th>\n",
       "      <th>mu_star</th>\n",
       "      <th>sigma</th>\n",
       "      <th>mu_star_conf</th>\n",
       "    </tr>\n",
       "  </thead>\n",
       "  <tbody>\n",
       "    <tr>\n",
       "      <th>0</th>\n",
       "      <td>coop_res_target</td>\n",
       "      <td>-25201.952922</td>\n",
       "      <td>28048.484140</td>\n",
       "      <td>15066.101620</td>\n",
       "      <td>4545.309295</td>\n",
       "    </tr>\n",
       "    <tr>\n",
       "      <th>1</th>\n",
       "      <td>self_sufficiency_factor</td>\n",
       "      <td>-811.183915</td>\n",
       "      <td>836.012696</td>\n",
       "      <td>1441.998774</td>\n",
       "      <td>979.714710</td>\n",
       "    </tr>\n",
       "  </tbody>\n",
       "</table>\n",
       "</div>"
      ],
      "text/plain": [
       "                     names            mu       mu_star         sigma  \\\n",
       "0          coop_res_target -25201.952922  28048.484140  15066.101620   \n",
       "1  self_sufficiency_factor   -811.183915    836.012696   1441.998774   \n",
       "\n",
       "   mu_star_conf  \n",
       "0   4545.309295  \n",
       "1    979.714710  "
      ]
     },
     "execution_count": 7,
     "metadata": {},
     "output_type": "execute_result"
    }
   ],
   "source": [
    "israel_results = process_morris_results(problem,\n",
    "                                            param_values,\n",
    "                                            combined_caps['Israel'].fillna(0).to_list(),\n",
    "                                            num_levels)\n",
    "\n",
    "israel_results"
   ]
  },
  {
   "cell_type": "code",
   "execution_count": null,
   "id": "198e200a",
   "metadata": {},
   "outputs": [],
   "source": []
  },
  {
   "cell_type": "code",
   "execution_count": 8,
   "id": "548a7f24",
   "metadata": {},
   "outputs": [],
   "source": [
    "collected_caps\n",
    "\n",
    "isr = calculate_relative_influence(israel_results)\n",
    "isr['region'] = 'ISR'\n",
    "\n",
    "jor = calculate_relative_influence(jordan_results)\n",
    "jor['region'] = 'JOR'\n",
    "\n",
    "wbk = calculate_relative_influence(westbank_results)\n",
    "wbk['region'] = 'WBK'\n",
    "\n",
    "gza = calculate_relative_influence(gaza_results)\n",
    "gza['region'] = 'GZA'\n",
    "\n",
    "influence = isr.copy()\n",
    "influence = influence.append(jor,ignore_index=True)\n",
    "influence = influence.append(wbk,ignore_index=True)\n",
    "influence = influence.append(gza,ignore_index=True)\n",
    "influence['var'] = influence['names']"
   ]
  },
  {
   "cell_type": "code",
   "execution_count": null,
   "id": "5f5e1594",
   "metadata": {},
   "outputs": [],
   "source": []
  }
 ],
 "metadata": {
  "kernelspec": {
   "display_name": "Python 3.9.7 64-bit ('nextra': conda)",
   "language": "python",
   "name": "python397jvsc74a57bd07fea8f04d1345dd3d201713db517d44bc4ca564d1ccddab9bd2faef5b7c176d0"
  },
  "language_info": {
   "codemirror_mode": {
    "name": "ipython",
    "version": 3
   },
   "file_extension": ".py",
   "mimetype": "text/x-python",
   "name": "python",
   "nbconvert_exporter": "python",
   "pygments_lexer": "ipython3",
   "version": "3.9.7"
  }
 },
 "nbformat": 4,
 "nbformat_minor": 5
}
