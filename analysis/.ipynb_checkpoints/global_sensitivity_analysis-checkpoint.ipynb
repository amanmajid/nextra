{
 "cells": [
  {
   "cell_type": "code",
   "execution_count": 1,
   "id": "94554412",
   "metadata": {},
   "outputs": [
    {
     "data": {
      "text/html": [
       "        <script type=\"text/javascript\">\n",
       "        window.PlotlyConfig = {MathJaxConfig: 'local'};\n",
       "        if (window.MathJax) {MathJax.Hub.Config({SVG: {font: \"STIX-Web\"}});}\n",
       "        if (typeof require !== 'undefined') {\n",
       "        require.undef(\"plotly\");\n",
       "        requirejs.config({\n",
       "            paths: {\n",
       "                'plotly': ['https://cdn.plot.ly/plotly-2.6.3.min']\n",
       "            }\n",
       "        });\n",
       "        require(['plotly'], function(Plotly) {\n",
       "            window._Plotly = Plotly;\n",
       "        });\n",
       "        }\n",
       "        </script>\n",
       "        "
      ]
     },
     "metadata": {},
     "output_type": "display_data"
    }
   ],
   "source": [
    "import os\n",
    "import seaborn as sns\n",
    "import matplotlib.pyplot as plt\n",
    "\n",
    "import SALib.analyze.morris\n",
    "from SALib.sample import morris\n",
    "\n",
    "import warnings\n",
    "warnings.filterwarnings('ignore')\n",
    "\n",
    "import sys\n",
    "sys.path.append('../')\n",
    "\n",
    "from tqdm import tqdm\n",
    "\n",
    "from infrasim.optimise import *\n",
    "from infrasim.utils import *"
   ]
  },
  {
   "cell_type": "code",
   "execution_count": 11,
   "id": "b79282a7",
   "metadata": {},
   "outputs": [],
   "source": [
    "def process_morris_results(problem,param_values,collected_results,num_levels):\n",
    "    '''Process output from Morris sensitivitys\n",
    "    '''\n",
    "    Si = SALib.analyze.morris.analyze(problem,\n",
    "                                      np.array(param_values),\n",
    "                                      np.array(collected_results),\n",
    "                                      print_to_console=False,\n",
    "                                      num_levels=num_levels)\n",
    "\n",
    "    sensitivity_results = pd.DataFrame.from_dict(Si)\n",
    "    return sensitivity_results\n",
    "\n",
    "\n",
    "def calculate_relative_influence(sensitivity_results):\n",
    "    '''Return relative influence (%) of each parameter from sensitivity\n",
    "    '''\n",
    "    sensitivity = sensitivity_results.copy()\n",
    "    sensitivity['rel'] = abs(sensitivity['mu'])/abs(sensitivity['mu']).sum()*100\n",
    "    sensitivity['mu'] = sensitivity['mu']\n",
    "    sensitivity = sensitivity[['names','rel']]\n",
    "    sensitivity = sensitivity.sort_values(by='names',ascending=True).reset_index(drop=True)\n",
    "    sensitivity.names = sensitivity.names.str.replace('_',' ')\n",
    "    sensitivity.names = sensitivity.names.str.title()\n",
    "    sensitivity.names = sensitivity.names.str.replace('Res','RES')\n",
    "    sensitivity.names = sensitivity.names.str.replace('Coop','COO')\n",
    "    sensitivity.names = sensitivity.names.str.replace('To','to')\n",
    "    sensitivity.names = sensitivity.names.str.replace('Westbank','West Bank')\n",
    "    return sensitivity"
   ]
  },
  {
   "cell_type": "code",
   "execution_count": 3,
   "id": "98bef0ad",
   "metadata": {},
   "outputs": [
    {
     "name": "stderr",
     "output_type": "stream",
     "text": [
      "\r",
      "  0%|                                                                                                | 0/100 [00:00<?, ?it/s]"
     ]
    },
    {
     "name": "stdout",
     "output_type": "stream",
     "text": [
      "Set parameter Username\n",
      "Academic license - for non-commercial use only - expires 2022-11-03\n"
     ]
    },
    {
     "name": "stderr",
     "output_type": "stream",
     "text": [
      "\r",
      "  1%|▉                                                                                       | 1/100 [00:00<00:55,  1.77it/s]"
     ]
    },
    {
     "name": "stdout",
     "output_type": "stream",
     "text": [
      "\n"
     ]
    },
    {
     "name": "stderr",
     "output_type": "stream",
     "text": [
      "\r",
      "  2%|█▊                                                                                      | 2/100 [00:01<00:55,  1.77it/s]"
     ]
    },
    {
     "name": "stdout",
     "output_type": "stream",
     "text": [
      "\n"
     ]
    },
    {
     "name": "stderr",
     "output_type": "stream",
     "text": [
      "\r",
      "  3%|██▋                                                                                     | 3/100 [00:01<00:53,  1.83it/s]"
     ]
    },
    {
     "name": "stdout",
     "output_type": "stream",
     "text": [
      "\n"
     ]
    },
    {
     "name": "stderr",
     "output_type": "stream",
     "text": [
      "\r",
      "  4%|███▌                                                                                    | 4/100 [00:02<00:51,  1.86it/s]"
     ]
    },
    {
     "name": "stdout",
     "output_type": "stream",
     "text": [
      "\n"
     ]
    },
    {
     "name": "stderr",
     "output_type": "stream",
     "text": [
      "\r",
      "  5%|████▍                                                                                   | 5/100 [00:02<00:51,  1.85it/s]"
     ]
    },
    {
     "name": "stdout",
     "output_type": "stream",
     "text": [
      "\n"
     ]
    },
    {
     "name": "stderr",
     "output_type": "stream",
     "text": [
      "\r",
      "  6%|█████▎                                                                                  | 6/100 [00:03<00:50,  1.88it/s]"
     ]
    },
    {
     "name": "stdout",
     "output_type": "stream",
     "text": [
      "\n"
     ]
    },
    {
     "name": "stderr",
     "output_type": "stream",
     "text": [
      "\r",
      "  7%|██████▏                                                                                 | 7/100 [00:03<00:49,  1.90it/s]"
     ]
    },
    {
     "name": "stdout",
     "output_type": "stream",
     "text": [
      "\n"
     ]
    },
    {
     "name": "stderr",
     "output_type": "stream",
     "text": [
      "\r",
      "  8%|███████                                                                                 | 8/100 [00:04<00:49,  1.88it/s]"
     ]
    },
    {
     "name": "stdout",
     "output_type": "stream",
     "text": [
      "\n"
     ]
    },
    {
     "name": "stderr",
     "output_type": "stream",
     "text": [
      "\r",
      "  9%|███████▉                                                                                | 9/100 [00:04<00:47,  1.91it/s]"
     ]
    },
    {
     "name": "stdout",
     "output_type": "stream",
     "text": [
      "\n"
     ]
    },
    {
     "name": "stderr",
     "output_type": "stream",
     "text": [
      "\r",
      " 10%|████████▋                                                                              | 10/100 [00:05<00:47,  1.90it/s]"
     ]
    },
    {
     "name": "stdout",
     "output_type": "stream",
     "text": [
      "\n"
     ]
    },
    {
     "name": "stderr",
     "output_type": "stream",
     "text": [
      "\r",
      " 11%|█████████▌                                                                             | 11/100 [00:05<00:47,  1.87it/s]"
     ]
    },
    {
     "name": "stdout",
     "output_type": "stream",
     "text": [
      "\n"
     ]
    },
    {
     "name": "stderr",
     "output_type": "stream",
     "text": [
      "\r",
      " 12%|██████████▍                                                                            | 12/100 [00:06<00:47,  1.87it/s]"
     ]
    },
    {
     "name": "stdout",
     "output_type": "stream",
     "text": [
      "\n"
     ]
    },
    {
     "name": "stderr",
     "output_type": "stream",
     "text": [
      "\r",
      " 13%|███████████▎                                                                           | 13/100 [00:06<00:45,  1.90it/s]"
     ]
    },
    {
     "name": "stdout",
     "output_type": "stream",
     "text": [
      "\n"
     ]
    },
    {
     "name": "stderr",
     "output_type": "stream",
     "text": [
      "\r",
      " 14%|████████████▏                                                                          | 14/100 [00:07<00:45,  1.90it/s]"
     ]
    },
    {
     "name": "stdout",
     "output_type": "stream",
     "text": [
      "\n"
     ]
    },
    {
     "name": "stderr",
     "output_type": "stream",
     "text": [
      "\r",
      " 15%|█████████████                                                                          | 15/100 [00:07<00:44,  1.92it/s]"
     ]
    },
    {
     "name": "stdout",
     "output_type": "stream",
     "text": [
      "\n"
     ]
    },
    {
     "name": "stderr",
     "output_type": "stream",
     "text": [
      "\r",
      " 16%|█████████████▉                                                                         | 16/100 [00:08<00:43,  1.92it/s]"
     ]
    },
    {
     "name": "stdout",
     "output_type": "stream",
     "text": [
      "\n"
     ]
    },
    {
     "name": "stderr",
     "output_type": "stream",
     "text": [
      "\r",
      " 17%|██████████████▊                                                                        | 17/100 [00:09<00:44,  1.87it/s]"
     ]
    },
    {
     "name": "stdout",
     "output_type": "stream",
     "text": [
      "\n"
     ]
    },
    {
     "name": "stderr",
     "output_type": "stream",
     "text": [
      "\r",
      " 18%|███████████████▋                                                                       | 18/100 [00:09<00:43,  1.89it/s]"
     ]
    },
    {
     "name": "stdout",
     "output_type": "stream",
     "text": [
      "\n"
     ]
    },
    {
     "name": "stderr",
     "output_type": "stream",
     "text": [
      "\r",
      " 19%|████████████████▌                                                                      | 19/100 [00:10<00:41,  1.93it/s]"
     ]
    },
    {
     "name": "stdout",
     "output_type": "stream",
     "text": [
      "\n"
     ]
    },
    {
     "name": "stderr",
     "output_type": "stream",
     "text": [
      "\r",
      " 20%|█████████████████▍                                                                     | 20/100 [00:10<00:41,  1.92it/s]"
     ]
    },
    {
     "name": "stdout",
     "output_type": "stream",
     "text": [
      "\n"
     ]
    },
    {
     "name": "stderr",
     "output_type": "stream",
     "text": [
      "\r",
      " 21%|██████████████████▎                                                                    | 21/100 [00:11<00:40,  1.95it/s]"
     ]
    },
    {
     "name": "stdout",
     "output_type": "stream",
     "text": [
      "\n"
     ]
    },
    {
     "name": "stderr",
     "output_type": "stream",
     "text": [
      "\r",
      " 22%|███████████████████▏                                                                   | 22/100 [00:11<00:40,  1.94it/s]"
     ]
    },
    {
     "name": "stdout",
     "output_type": "stream",
     "text": [
      "\n"
     ]
    },
    {
     "name": "stderr",
     "output_type": "stream",
     "text": [
      "\r",
      " 23%|████████████████████                                                                   | 23/100 [00:12<00:39,  1.97it/s]"
     ]
    },
    {
     "name": "stdout",
     "output_type": "stream",
     "text": [
      "\n"
     ]
    },
    {
     "name": "stderr",
     "output_type": "stream",
     "text": [
      "\r",
      " 24%|████████████████████▉                                                                  | 24/100 [00:12<00:38,  1.99it/s]"
     ]
    },
    {
     "name": "stdout",
     "output_type": "stream",
     "text": [
      "\n"
     ]
    },
    {
     "name": "stderr",
     "output_type": "stream",
     "text": [
      "\r",
      " 25%|█████████████████████▊                                                                 | 25/100 [00:13<00:38,  1.96it/s]"
     ]
    },
    {
     "name": "stdout",
     "output_type": "stream",
     "text": [
      "\n"
     ]
    },
    {
     "name": "stderr",
     "output_type": "stream",
     "text": [
      "\r",
      " 26%|██████████████████████▌                                                                | 26/100 [00:13<00:37,  1.99it/s]"
     ]
    },
    {
     "name": "stdout",
     "output_type": "stream",
     "text": [
      "\n"
     ]
    },
    {
     "name": "stderr",
     "output_type": "stream",
     "text": [
      "\r",
      " 27%|███████████████████████▍                                                               | 27/100 [00:14<00:36,  2.01it/s]"
     ]
    },
    {
     "name": "stdout",
     "output_type": "stream",
     "text": [
      "\n"
     ]
    },
    {
     "name": "stderr",
     "output_type": "stream",
     "text": [
      "\r",
      " 28%|████████████████████████▎                                                              | 28/100 [00:14<00:36,  1.99it/s]"
     ]
    },
    {
     "name": "stdout",
     "output_type": "stream",
     "text": [
      "\n"
     ]
    },
    {
     "name": "stderr",
     "output_type": "stream",
     "text": [
      "\r",
      " 29%|█████████████████████████▏                                                             | 29/100 [00:15<00:35,  2.00it/s]"
     ]
    },
    {
     "name": "stdout",
     "output_type": "stream",
     "text": [
      "\n"
     ]
    },
    {
     "name": "stderr",
     "output_type": "stream",
     "text": [
      "\r",
      " 30%|██████████████████████████                                                             | 30/100 [00:15<00:34,  2.02it/s]"
     ]
    },
    {
     "name": "stdout",
     "output_type": "stream",
     "text": [
      "\n"
     ]
    },
    {
     "name": "stderr",
     "output_type": "stream",
     "text": [
      "\r",
      " 31%|██████████████████████████▉                                                            | 31/100 [00:16<00:34,  2.02it/s]"
     ]
    },
    {
     "name": "stdout",
     "output_type": "stream",
     "text": [
      "\n"
     ]
    },
    {
     "name": "stderr",
     "output_type": "stream",
     "text": [
      "\r",
      " 32%|███████████████████████████▊                                                           | 32/100 [00:16<00:34,  2.00it/s]"
     ]
    },
    {
     "name": "stdout",
     "output_type": "stream",
     "text": [
      "\n"
     ]
    },
    {
     "name": "stderr",
     "output_type": "stream",
     "text": [
      "\r",
      " 33%|████████████████████████████▋                                                          | 33/100 [00:17<00:33,  2.02it/s]"
     ]
    },
    {
     "name": "stdout",
     "output_type": "stream",
     "text": [
      "\n"
     ]
    },
    {
     "name": "stderr",
     "output_type": "stream",
     "text": [
      "\r",
      " 34%|█████████████████████████████▌                                                         | 34/100 [00:17<00:33,  1.99it/s]"
     ]
    },
    {
     "name": "stdout",
     "output_type": "stream",
     "text": [
      "\n"
     ]
    },
    {
     "name": "stderr",
     "output_type": "stream",
     "text": [
      "\r",
      " 35%|██████████████████████████████▍                                                        | 35/100 [00:18<00:32,  2.02it/s]"
     ]
    },
    {
     "name": "stdout",
     "output_type": "stream",
     "text": [
      "\n"
     ]
    },
    {
     "name": "stderr",
     "output_type": "stream",
     "text": [
      "\r",
      " 36%|███████████████████████████████▎                                                       | 36/100 [00:18<00:31,  2.03it/s]"
     ]
    },
    {
     "name": "stdout",
     "output_type": "stream",
     "text": [
      "\n"
     ]
    },
    {
     "name": "stderr",
     "output_type": "stream",
     "text": [
      "\r",
      " 37%|████████████████████████████████▏                                                      | 37/100 [00:19<00:31,  2.00it/s]"
     ]
    },
    {
     "name": "stdout",
     "output_type": "stream",
     "text": [
      "\n"
     ]
    },
    {
     "name": "stderr",
     "output_type": "stream",
     "text": [
      "\r",
      " 38%|█████████████████████████████████                                                      | 38/100 [00:19<00:30,  2.01it/s]"
     ]
    },
    {
     "name": "stdout",
     "output_type": "stream",
     "text": [
      "\n"
     ]
    },
    {
     "name": "stderr",
     "output_type": "stream",
     "text": [
      "\r",
      " 39%|█████████████████████████████████▉                                                     | 39/100 [00:20<00:30,  2.01it/s]"
     ]
    },
    {
     "name": "stdout",
     "output_type": "stream",
     "text": [
      "\n"
     ]
    },
    {
     "name": "stderr",
     "output_type": "stream",
     "text": [
      "\r",
      " 40%|██████████████████████████████████▊                                                    | 40/100 [00:20<00:30,  1.98it/s]"
     ]
    },
    {
     "name": "stdout",
     "output_type": "stream",
     "text": [
      "\n"
     ]
    },
    {
     "name": "stderr",
     "output_type": "stream",
     "text": [
      "\r",
      " 41%|███████████████████████████████████▋                                                   | 41/100 [00:21<00:29,  2.01it/s]"
     ]
    },
    {
     "name": "stdout",
     "output_type": "stream",
     "text": [
      "\n"
     ]
    },
    {
     "name": "stderr",
     "output_type": "stream",
     "text": [
      "\r",
      " 42%|████████████████████████████████████▌                                                  | 42/100 [00:21<00:28,  2.02it/s]"
     ]
    },
    {
     "name": "stdout",
     "output_type": "stream",
     "text": [
      "\n"
     ]
    },
    {
     "name": "stderr",
     "output_type": "stream",
     "text": [
      "\r",
      " 43%|█████████████████████████████████████▍                                                 | 43/100 [00:22<00:28,  1.98it/s]"
     ]
    },
    {
     "name": "stdout",
     "output_type": "stream",
     "text": [
      "\n"
     ]
    },
    {
     "name": "stderr",
     "output_type": "stream",
     "text": [
      "\r",
      " 44%|██████████████████████████████████████▎                                                | 44/100 [00:22<00:27,  2.00it/s]"
     ]
    },
    {
     "name": "stdout",
     "output_type": "stream",
     "text": [
      "\n"
     ]
    },
    {
     "name": "stderr",
     "output_type": "stream",
     "text": [
      "\r",
      " 45%|███████████████████████████████████████▏                                               | 45/100 [00:23<00:27,  2.02it/s]"
     ]
    },
    {
     "name": "stdout",
     "output_type": "stream",
     "text": [
      "\n"
     ]
    },
    {
     "name": "stderr",
     "output_type": "stream",
     "text": [
      "\r",
      " 46%|████████████████████████████████████████                                               | 46/100 [00:23<00:27,  1.99it/s]"
     ]
    },
    {
     "name": "stdout",
     "output_type": "stream",
     "text": [
      "\n"
     ]
    },
    {
     "name": "stderr",
     "output_type": "stream",
     "text": [
      "\r",
      " 47%|████████████████████████████████████████▉                                              | 47/100 [00:24<00:26,  2.01it/s]"
     ]
    },
    {
     "name": "stdout",
     "output_type": "stream",
     "text": [
      "\n"
     ]
    },
    {
     "name": "stderr",
     "output_type": "stream",
     "text": [
      "\r",
      " 48%|█████████████████████████████████████████▊                                             | 48/100 [00:24<00:25,  2.03it/s]"
     ]
    },
    {
     "name": "stdout",
     "output_type": "stream",
     "text": [
      "\n"
     ]
    },
    {
     "name": "stderr",
     "output_type": "stream",
     "text": [
      "\r",
      " 49%|██████████████████████████████████████████▋                                            | 49/100 [00:25<00:25,  2.00it/s]"
     ]
    },
    {
     "name": "stdout",
     "output_type": "stream",
     "text": [
      "\n"
     ]
    },
    {
     "name": "stderr",
     "output_type": "stream",
     "text": [
      "\r",
      " 50%|███████████████████████████████████████████▌                                           | 50/100 [00:25<00:24,  2.03it/s]"
     ]
    },
    {
     "name": "stdout",
     "output_type": "stream",
     "text": [
      "\n"
     ]
    },
    {
     "name": "stderr",
     "output_type": "stream",
     "text": [
      "\r",
      " 51%|████████████████████████████████████████████▎                                          | 51/100 [00:26<00:24,  2.03it/s]"
     ]
    },
    {
     "name": "stdout",
     "output_type": "stream",
     "text": [
      "\n"
     ]
    },
    {
     "name": "stderr",
     "output_type": "stream",
     "text": [
      "\r",
      " 52%|█████████████████████████████████████████████▏                                         | 52/100 [00:26<00:23,  2.00it/s]"
     ]
    },
    {
     "name": "stdout",
     "output_type": "stream",
     "text": [
      "\n"
     ]
    },
    {
     "name": "stderr",
     "output_type": "stream",
     "text": [
      "\r",
      " 53%|██████████████████████████████████████████████                                         | 53/100 [00:27<00:23,  2.02it/s]"
     ]
    },
    {
     "name": "stdout",
     "output_type": "stream",
     "text": [
      "\n"
     ]
    },
    {
     "name": "stderr",
     "output_type": "stream",
     "text": [
      "\r",
      " 54%|██████████████████████████████████████████████▉                                        | 54/100 [00:27<00:22,  2.03it/s]"
     ]
    },
    {
     "name": "stdout",
     "output_type": "stream",
     "text": [
      "\n"
     ]
    },
    {
     "name": "stderr",
     "output_type": "stream",
     "text": [
      "\r",
      " 55%|███████████████████████████████████████████████▊                                       | 55/100 [00:28<00:22,  2.00it/s]"
     ]
    },
    {
     "name": "stdout",
     "output_type": "stream",
     "text": [
      "\n"
     ]
    },
    {
     "name": "stderr",
     "output_type": "stream",
     "text": [
      "\r",
      " 56%|████████████████████████████████████████████████▋                                      | 56/100 [00:28<00:21,  2.01it/s]"
     ]
    },
    {
     "name": "stdout",
     "output_type": "stream",
     "text": [
      "\n"
     ]
    },
    {
     "name": "stderr",
     "output_type": "stream",
     "text": [
      "\r",
      " 57%|█████████████████████████████████████████████████▌                                     | 57/100 [00:28<00:21,  2.03it/s]"
     ]
    },
    {
     "name": "stdout",
     "output_type": "stream",
     "text": [
      "\n"
     ]
    },
    {
     "name": "stderr",
     "output_type": "stream",
     "text": [
      "\r",
      " 58%|██████████████████████████████████████████████████▍                                    | 58/100 [00:29<00:20,  2.00it/s]"
     ]
    },
    {
     "name": "stdout",
     "output_type": "stream",
     "text": [
      "\n"
     ]
    },
    {
     "name": "stderr",
     "output_type": "stream",
     "text": [
      "\r",
      " 59%|███████████████████████████████████████████████████▎                                   | 59/100 [00:29<00:20,  2.02it/s]"
     ]
    },
    {
     "name": "stdout",
     "output_type": "stream",
     "text": [
      "\n"
     ]
    },
    {
     "name": "stderr",
     "output_type": "stream",
     "text": [
      "\r",
      " 60%|████████████████████████████████████████████████████▏                                  | 60/100 [00:30<00:19,  2.03it/s]"
     ]
    },
    {
     "name": "stdout",
     "output_type": "stream",
     "text": [
      "\n"
     ]
    },
    {
     "name": "stderr",
     "output_type": "stream",
     "text": [
      "\r",
      " 61%|█████████████████████████████████████████████████████                                  | 61/100 [00:30<00:19,  2.01it/s]"
     ]
    },
    {
     "name": "stdout",
     "output_type": "stream",
     "text": [
      "\n"
     ]
    },
    {
     "name": "stderr",
     "output_type": "stream",
     "text": [
      "\r",
      " 62%|█████████████████████████████████████████████████████▉                                 | 62/100 [00:31<00:18,  2.03it/s]"
     ]
    },
    {
     "name": "stdout",
     "output_type": "stream",
     "text": [
      "\n"
     ]
    },
    {
     "name": "stderr",
     "output_type": "stream",
     "text": [
      "\r",
      " 63%|██████████████████████████████████████████████████████▊                                | 63/100 [00:31<00:18,  2.04it/s]"
     ]
    },
    {
     "name": "stdout",
     "output_type": "stream",
     "text": [
      "\n"
     ]
    },
    {
     "name": "stderr",
     "output_type": "stream",
     "text": [
      "\r",
      " 64%|███████████████████████████████████████████████████████▋                               | 64/100 [00:32<00:17,  2.01it/s]"
     ]
    },
    {
     "name": "stdout",
     "output_type": "stream",
     "text": [
      "\n"
     ]
    },
    {
     "name": "stderr",
     "output_type": "stream",
     "text": [
      "\r",
      " 65%|████████████████████████████████████████████████████████▌                              | 65/100 [00:32<00:17,  2.03it/s]"
     ]
    },
    {
     "name": "stdout",
     "output_type": "stream",
     "text": [
      "\n"
     ]
    },
    {
     "name": "stderr",
     "output_type": "stream",
     "text": [
      "\r",
      " 66%|█████████████████████████████████████████████████████████▍                             | 66/100 [00:33<00:17,  1.95it/s]"
     ]
    },
    {
     "name": "stdout",
     "output_type": "stream",
     "text": [
      "\n"
     ]
    },
    {
     "name": "stderr",
     "output_type": "stream",
     "text": [
      "\r",
      " 67%|██████████████████████████████████████████████████████████▎                            | 67/100 [00:34<00:16,  1.96it/s]"
     ]
    },
    {
     "name": "stdout",
     "output_type": "stream",
     "text": [
      "\n"
     ]
    },
    {
     "name": "stderr",
     "output_type": "stream",
     "text": [
      "\r",
      " 68%|███████████████████████████████████████████████████████████▏                           | 68/100 [00:34<00:16,  1.97it/s]"
     ]
    },
    {
     "name": "stdout",
     "output_type": "stream",
     "text": [
      "\n"
     ]
    },
    {
     "name": "stderr",
     "output_type": "stream",
     "text": [
      "\r",
      " 69%|████████████████████████████████████████████████████████████                           | 69/100 [00:35<00:15,  1.95it/s]"
     ]
    },
    {
     "name": "stdout",
     "output_type": "stream",
     "text": [
      "\n"
     ]
    },
    {
     "name": "stderr",
     "output_type": "stream",
     "text": [
      "\r",
      " 70%|████████████████████████████████████████████████████████████▉                          | 70/100 [00:35<00:15,  1.91it/s]"
     ]
    },
    {
     "name": "stdout",
     "output_type": "stream",
     "text": [
      "\n"
     ]
    },
    {
     "name": "stderr",
     "output_type": "stream",
     "text": [
      "\r",
      " 71%|█████████████████████████████████████████████████████████████▊                         | 71/100 [00:36<00:14,  1.94it/s]"
     ]
    },
    {
     "name": "stdout",
     "output_type": "stream",
     "text": [
      "\n"
     ]
    },
    {
     "name": "stderr",
     "output_type": "stream",
     "text": [
      "\r",
      " 72%|██████████████████████████████████████████████████████████████▋                        | 72/100 [00:36<00:14,  1.92it/s]"
     ]
    },
    {
     "name": "stdout",
     "output_type": "stream",
     "text": [
      "\n"
     ]
    },
    {
     "name": "stderr",
     "output_type": "stream",
     "text": [
      "\r",
      " 73%|███████████████████████████████████████████████████████████████▌                       | 73/100 [00:37<00:13,  1.95it/s]"
     ]
    },
    {
     "name": "stdout",
     "output_type": "stream",
     "text": [
      "\n"
     ]
    },
    {
     "name": "stderr",
     "output_type": "stream",
     "text": [
      "\r",
      " 74%|████████████████████████████████████████████████████████████████▍                      | 74/100 [00:37<00:13,  1.97it/s]"
     ]
    },
    {
     "name": "stdout",
     "output_type": "stream",
     "text": [
      "\n"
     ]
    },
    {
     "name": "stderr",
     "output_type": "stream",
     "text": [
      "\r",
      " 75%|█████████████████████████████████████████████████████████████████▎                     | 75/100 [00:38<00:13,  1.91it/s]"
     ]
    },
    {
     "name": "stdout",
     "output_type": "stream",
     "text": [
      "\n"
     ]
    },
    {
     "name": "stderr",
     "output_type": "stream",
     "text": [
      "\r",
      " 76%|██████████████████████████████████████████████████████████████████                     | 76/100 [00:38<00:12,  1.92it/s]"
     ]
    },
    {
     "name": "stdout",
     "output_type": "stream",
     "text": [
      "\n"
     ]
    },
    {
     "name": "stderr",
     "output_type": "stream",
     "text": [
      "\r",
      " 77%|██████████████████████████████████████████████████████████████████▉                    | 77/100 [00:39<00:11,  1.94it/s]"
     ]
    },
    {
     "name": "stdout",
     "output_type": "stream",
     "text": [
      "\n"
     ]
    },
    {
     "name": "stderr",
     "output_type": "stream",
     "text": [
      "\r",
      " 78%|███████████████████████████████████████████████████████████████████▊                   | 78/100 [00:39<00:11,  1.93it/s]"
     ]
    },
    {
     "name": "stdout",
     "output_type": "stream",
     "text": [
      "\n"
     ]
    },
    {
     "name": "stderr",
     "output_type": "stream",
     "text": [
      "\r",
      " 79%|████████████████████████████████████████████████████████████████████▋                  | 79/100 [00:40<00:10,  1.96it/s]"
     ]
    },
    {
     "name": "stdout",
     "output_type": "stream",
     "text": [
      "\n"
     ]
    },
    {
     "name": "stderr",
     "output_type": "stream",
     "text": [
      "\r",
      " 80%|█████████████████████████████████████████████████████████████████████▌                 | 80/100 [00:40<00:10,  1.93it/s]"
     ]
    },
    {
     "name": "stdout",
     "output_type": "stream",
     "text": [
      "\n"
     ]
    },
    {
     "name": "stderr",
     "output_type": "stream",
     "text": [
      "\r",
      " 81%|██████████████████████████████████████████████████████████████████████▍                | 81/100 [00:41<00:09,  1.95it/s]"
     ]
    },
    {
     "name": "stdout",
     "output_type": "stream",
     "text": [
      "\n"
     ]
    },
    {
     "name": "stderr",
     "output_type": "stream",
     "text": [
      "\r",
      " 82%|███████████████████████████████████████████████████████████████████████▎               | 82/100 [00:41<00:09,  1.91it/s]"
     ]
    },
    {
     "name": "stdout",
     "output_type": "stream",
     "text": [
      "\n"
     ]
    },
    {
     "name": "stderr",
     "output_type": "stream",
     "text": [
      "\r",
      " 83%|████████████████████████████████████████████████████████████████████████▏              | 83/100 [00:42<00:08,  1.94it/s]"
     ]
    },
    {
     "name": "stdout",
     "output_type": "stream",
     "text": [
      "\n"
     ]
    },
    {
     "name": "stderr",
     "output_type": "stream",
     "text": [
      "\r",
      " 84%|█████████████████████████████████████████████████████████████████████████              | 84/100 [00:42<00:08,  1.93it/s]"
     ]
    },
    {
     "name": "stdout",
     "output_type": "stream",
     "text": [
      "\n"
     ]
    },
    {
     "name": "stderr",
     "output_type": "stream",
     "text": [
      "\r",
      " 85%|█████████████████████████████████████████████████████████████████████████▉             | 85/100 [00:43<00:07,  1.97it/s]"
     ]
    },
    {
     "name": "stdout",
     "output_type": "stream",
     "text": [
      "\n"
     ]
    },
    {
     "name": "stderr",
     "output_type": "stream",
     "text": [
      "\r",
      " 86%|██████████████████████████████████████████████████████████████████████████▊            | 86/100 [00:43<00:07,  1.99it/s]"
     ]
    },
    {
     "name": "stdout",
     "output_type": "stream",
     "text": [
      "\n"
     ]
    },
    {
     "name": "stderr",
     "output_type": "stream",
     "text": [
      "\r",
      " 87%|███████████████████████████████████████████████████████████████████████████▋           | 87/100 [00:44<00:06,  1.97it/s]"
     ]
    },
    {
     "name": "stdout",
     "output_type": "stream",
     "text": [
      "\n"
     ]
    },
    {
     "name": "stderr",
     "output_type": "stream",
     "text": [
      "\r",
      " 88%|████████████████████████████████████████████████████████████████████████████▌          | 88/100 [00:44<00:06,  2.00it/s]"
     ]
    },
    {
     "name": "stdout",
     "output_type": "stream",
     "text": [
      "\n"
     ]
    },
    {
     "name": "stderr",
     "output_type": "stream",
     "text": [
      "\r",
      " 89%|█████████████████████████████████████████████████████████████████████████████▍         | 89/100 [00:45<00:05,  2.01it/s]"
     ]
    },
    {
     "name": "stdout",
     "output_type": "stream",
     "text": [
      "\n"
     ]
    },
    {
     "name": "stderr",
     "output_type": "stream",
     "text": [
      "\r",
      " 90%|██████████████████████████████████████████████████████████████████████████████▎        | 90/100 [00:45<00:05,  1.99it/s]"
     ]
    },
    {
     "name": "stdout",
     "output_type": "stream",
     "text": [
      "\n"
     ]
    },
    {
     "name": "stderr",
     "output_type": "stream",
     "text": [
      "\r",
      " 91%|███████████████████████████████████████████████████████████████████████████████▏       | 91/100 [00:46<00:04,  2.00it/s]"
     ]
    },
    {
     "name": "stdout",
     "output_type": "stream",
     "text": [
      "\n"
     ]
    },
    {
     "name": "stderr",
     "output_type": "stream",
     "text": [
      "\r",
      " 92%|████████████████████████████████████████████████████████████████████████████████       | 92/100 [00:46<00:03,  2.02it/s]"
     ]
    },
    {
     "name": "stdout",
     "output_type": "stream",
     "text": [
      "\n"
     ]
    },
    {
     "name": "stderr",
     "output_type": "stream",
     "text": [
      "\r",
      " 93%|████████████████████████████████████████████████████████████████████████████████▉      | 93/100 [00:47<00:03,  1.99it/s]"
     ]
    },
    {
     "name": "stdout",
     "output_type": "stream",
     "text": [
      "\n"
     ]
    },
    {
     "name": "stderr",
     "output_type": "stream",
     "text": [
      "\r",
      " 94%|█████████████████████████████████████████████████████████████████████████████████▊     | 94/100 [00:47<00:02,  2.01it/s]"
     ]
    },
    {
     "name": "stdout",
     "output_type": "stream",
     "text": [
      "\n"
     ]
    },
    {
     "name": "stderr",
     "output_type": "stream",
     "text": [
      "\r",
      " 95%|██████████████████████████████████████████████████████████████████████████████████▋    | 95/100 [00:48<00:02,  2.02it/s]"
     ]
    },
    {
     "name": "stdout",
     "output_type": "stream",
     "text": [
      "\n"
     ]
    },
    {
     "name": "stderr",
     "output_type": "stream",
     "text": [
      "\r",
      " 96%|███████████████████████████████████████████████████████████████████████████████████▌   | 96/100 [00:48<00:02,  1.99it/s]"
     ]
    },
    {
     "name": "stdout",
     "output_type": "stream",
     "text": [
      "\n"
     ]
    },
    {
     "name": "stderr",
     "output_type": "stream",
     "text": [
      "\r",
      " 97%|████████████████████████████████████████████████████████████████████████████████████▍  | 97/100 [00:49<00:01,  2.01it/s]"
     ]
    },
    {
     "name": "stdout",
     "output_type": "stream",
     "text": [
      "\n"
     ]
    },
    {
     "name": "stderr",
     "output_type": "stream",
     "text": [
      "\r",
      " 98%|█████████████████████████████████████████████████████████████████████████████████████▎ | 98/100 [00:49<00:00,  2.03it/s]"
     ]
    },
    {
     "name": "stdout",
     "output_type": "stream",
     "text": [
      "\n"
     ]
    },
    {
     "name": "stderr",
     "output_type": "stream",
     "text": [
      "\r",
      " 99%|██████████████████████████████████████████████████████████████████████████████████████▏| 99/100 [00:50<00:00,  2.00it/s]"
     ]
    },
    {
     "name": "stdout",
     "output_type": "stream",
     "text": [
      "\n"
     ]
    },
    {
     "name": "stderr",
     "output_type": "stream",
     "text": [
      "100%|██████████████████████████████████████████████████████████████████████████████████████| 100/100 [00:50<00:00,  1.97it/s]"
     ]
    },
    {
     "name": "stdout",
     "output_type": "stream",
     "text": [
      "\n"
     ]
    },
    {
     "name": "stderr",
     "output_type": "stream",
     "text": [
      "\n"
     ]
    }
   ],
   "source": [
    "#File paths\n",
    "nodes = '../data/nextra/spatial/network/nodes.shp'\n",
    "edges = '../data/nextra/spatial/network/edges.shp'\n",
    "flows = '../data/nextra/nodal_flows/processed_flows_2030.csv'\n",
    "\n",
    "timesteps   = None\n",
    "num_levels  = 10\n",
    "N           = 10\n",
    "\n",
    "# Set up problem for sensitivity analysis # name:[lower_bound,upper_bound]\n",
    "params = {'coop_res_target'                 : [0,0.5],\n",
    "          'jordan_to_westbank'              : [0,10**12],\n",
    "          'jordan_to_israel'                : [0,10**12],\n",
    "          'israel_to_westbank'              : [0,10**12],\n",
    "          'israel_to_jordan'                : [0,10**12],\n",
    "          'israel_to_gaza'                  : [0,10**12],\n",
    "          'westbank_to_israel'              : [0,10**12],\n",
    "          'westbank_to_jordan'              : [0,10**12],\n",
    "          'self_sufficiency_factor'         : [0,0.9],\n",
    "         }\n",
    "\n",
    "problem = {'num_vars'    : len(params.keys()),\n",
    "           'names'       : [i for i in params.keys()],\n",
    "           'bounds'      : [params[i] for i in params.keys()]\n",
    "          }\n",
    "\n",
    "# create parameter values\n",
    "param_values = morris.sample(problem,N=N,\n",
    "                             num_levels=num_levels,\n",
    "                             local_optimization=True)\n",
    "\n",
    "# Run analysis with the specified parameter values\n",
    "collected_caps_israel   = []\n",
    "collected_caps_jordan   = []\n",
    "collected_caps_westbank = []\n",
    "collected_caps_gaza     = []\n",
    "\n",
    "for param_set in tqdm(param_values,total=len(param_values)):\n",
    "\n",
    "    model_run = nextra(nodes,edges,flows,\n",
    "                       timesteps=timesteps,\n",
    "                       energy_objective=True,\n",
    "                       scenario='COO',\n",
    "                       super_sink=False,\n",
    "                       super_source=False,\n",
    "                       # params\n",
    "                       coo_res_factor=param_set[0],\n",
    "                       jordan_to_westbank=param_set[1],\n",
    "                       jordan_to_israel=param_set[2],\n",
    "                       israel_to_westbank=param_set[3],\n",
    "                       israel_to_jordan=param_set[4],\n",
    "                       israel_to_gaza=param_set[5],\n",
    "                       westbank_to_israel=param_set[6],\n",
    "                       westbank_to_jordan=param_set[7],\n",
    "                       self_sufficiency_factor=param_set[8],\n",
    "                      )\n",
    "    \n",
    "    # build, run, and get results\n",
    "    model_run.build()\n",
    "    model_run.run(pprint=False)\n",
    "    model_results = model_run.get_results()\n",
    "    \n",
    "    # get capacities\n",
    "    caps = model_results.results_capacities.groupby(by=['node','territory']).max().reset_index()\n",
    "    caps = caps.groupby(by='territory').sum().reset_index()\n",
    "    \n",
    "    # append collected capacities\n",
    "    collected_caps_israel.append(caps.loc[caps.territory == 'Israel','value'].values[0])\n",
    "    collected_caps_jordan.append(caps.loc[caps.territory == 'Jordan','value'].values[0])\n",
    "    collected_caps_westbank.append(caps.loc[caps.territory == 'West Bank','value'].values[0])\n",
    "    collected_caps_gaza.append(caps.loc[caps.territory == 'Gaza','value'].values[0])"
   ]
  },
  {
   "cell_type": "code",
   "execution_count": 12,
   "id": "1954e033",
   "metadata": {},
   "outputs": [],
   "source": [
    "israel_results = process_morris_results(problem,param_values,collected_caps_israel,num_levels)\n",
    "jordan_results = process_morris_results(problem,param_values,collected_caps_jordan,num_levels)\n",
    "westbank_results = process_morris_results(problem,param_values,collected_caps_westbank,num_levels)\n",
    "gaza_results = process_morris_results(problem,param_values,collected_caps_gaza,num_levels)"
   ]
  },
  {
   "cell_type": "code",
   "execution_count": 13,
   "id": "838c5c86",
   "metadata": {},
   "outputs": [
    {
     "data": {
      "text/plain": [
       "Text(0.5, 0, 'Percentage influence of variables [%]')"
      ]
     },
     "execution_count": 13,
     "metadata": {},
     "output_type": "execute_result"
    },
    {
     "data": {
      "image/png": "[encoded data removed]",
      "text/plain": [
       "<Figure size 1080x720 with 8 Axes>"
      ]
     },
     "metadata": {},
     "output_type": "display_data"
    }
   ],
   "source": [
    "plt.style.use('seaborn')\n",
    "\n",
    "f,ax=plt.subplots(nrows=2,ncols=4,figsize=(15,10))\n",
    "\n",
    "# plot boxplot\n",
    "israel_caps = pd.DataFrame({'Israel' : collected_caps_israel,})\n",
    "jordan_caps = pd.DataFrame({'Jordan' : collected_caps_jordan,})\n",
    "westbank_caps = pd.DataFrame({'West Bank' : collected_caps_westbank,})\n",
    "gaza_caps = pd.DataFrame({'Gaza' : collected_caps_gaza,})\n",
    "\n",
    "props = dict(boxes='pink', whiskers=\"darkred\", medians=\"darkred\", caps=\"none\")\n",
    "\n",
    "israel_caps.divide(1000).boxplot(ax=ax[0,0],showfliers=False,color=props,patch_artist=True)\n",
    "jordan_caps.divide(1000).boxplot(ax=ax[0,1],showfliers=False,color=props,patch_artist=True)\n",
    "westbank_caps.divide(1000).boxplot(ax=ax[0,2],showfliers=False,color=props,patch_artist=True)\n",
    "gaza_caps.divide(1000).boxplot(ax=ax[0,3],showfliers=False,color=props,patch_artist=True)\n",
    "\n",
    "# plot bar chart\n",
    "calculate_relative_influence(israel_results).set_index('names').plot.barh(ax=ax[1,0],legend=False)\n",
    "calculate_relative_influence(jordan_results).set_index('names').plot.barh(ax=ax[1,1],legend=False)\n",
    "calculate_relative_influence(westbank_results).set_index('names').plot.barh(ax=ax[1,2],legend=False)\n",
    "calculate_relative_influence(gaza_results).set_index('names').plot.barh(ax=ax[1,3],legend=False)\n",
    "\n",
    "# formatting\n",
    "ax[0,0].set_title('Israel',loc='left',fontweight='bold')\n",
    "ax[0,1].set_title('Jordan',loc='left',fontweight='bold')\n",
    "ax[0,2].set_title('West Bank',loc='left',fontweight='bold')\n",
    "ax[0,3].set_title('Gaza',loc='left',fontweight='bold')\n",
    "\n",
    "ax[0,0].set_xticklabels([])\n",
    "ax[0,1].set_xticklabels([])\n",
    "ax[0,2].set_xticklabels([])\n",
    "ax[0,3].set_xticklabels([])\n",
    "\n",
    "ax[1,1].set_yticklabels([])\n",
    "ax[1,2].set_yticklabels([])\n",
    "ax[1,3].set_yticklabels([])\n",
    "\n",
    "ax[1,0].set_ylabel('')\n",
    "ax[1,1].set_ylabel('')\n",
    "ax[1,2].set_ylabel('')\n",
    "ax[1,3].set_ylabel('')\n",
    "\n",
    "ax[1,0].set_xlim([0,100])\n",
    "ax[1,1].set_xlim([0,100])\n",
    "ax[1,2].set_xlim([0,100])\n",
    "ax[1,3].set_xlim([0,100])\n",
    "\n",
    "ax[0,0].set_ylabel('Total capacity [GW]')\n",
    "ax[1,1].set_xlabel('Percentage influence of variables [%]')"
   ]
  },
  {
   "cell_type": "code",
   "execution_count": null,
   "id": "52f89a8c",
   "metadata": {},
   "outputs": [],
   "source": []
  },
  {
   "cell_type": "code",
   "execution_count": null,
   "id": "d1d967e0",
   "metadata": {},
   "outputs": [],
   "source": []
  }
 ],
 "metadata": {
  "kernelspec": {
   "display_name": "Python 3.9.7 64-bit ('nextra': conda)",
   "language": "python",
   "name": "python397jvsc74a57bd07fea8f04d1345dd3d201713db517d44bc4ca564d1ccddab9bd2faef5b7c176d0"
  },
  "language_info": {
   "codemirror_mode": {
    "name": "ipython",
    "version": 3
   },
   "file_extension": ".py",
   "mimetype": "text/x-python",
   "name": "python",
   "nbconvert_exporter": "python",
   "pygments_lexer": "ipython3",
   "version": "3.9.7"
  }
 },
 "nbformat": 4,
 "nbformat_minor": 5
}
