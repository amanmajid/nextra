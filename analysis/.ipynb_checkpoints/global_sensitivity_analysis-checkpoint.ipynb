{
 "cells": [
  {
   "cell_type": "code",
   "execution_count": 1,
   "id": "94554412",
   "metadata": {},
   "outputs": [
    {
     "data": {
      "text/html": [
       "        <script type=\"text/javascript\">\n",
       "        window.PlotlyConfig = {MathJaxConfig: 'local'};\n",
       "        if (window.MathJax) {MathJax.Hub.Config({SVG: {font: \"STIX-Web\"}});}\n",
       "        if (typeof require !== 'undefined') {\n",
       "        require.undef(\"plotly\");\n",
       "        requirejs.config({\n",
       "            paths: {\n",
       "                'plotly': ['https://cdn.plot.ly/plotly-2.6.3.min']\n",
       "            }\n",
       "        });\n",
       "        require(['plotly'], function(Plotly) {\n",
       "            window._Plotly = Plotly;\n",
       "        });\n",
       "        }\n",
       "        </script>\n",
       "        "
      ]
     },
     "metadata": {},
     "output_type": "display_data"
    }
   ],
   "source": [
    "import os\n",
    "import seaborn as sns\n",
    "import matplotlib.pyplot as plt\n",
    "\n",
    "import SALib.analyze.morris\n",
    "from SALib.sample import morris\n",
    "\n",
    "import warnings\n",
    "warnings.filterwarnings('ignore')\n",
    "\n",
    "import sys\n",
    "sys.path.append('../')\n",
    "\n",
    "from tqdm import tqdm\n",
    "\n",
    "from infrasim.optimise import *\n",
    "from infrasim.utils import *"
   ]
  },
  {
   "cell_type": "code",
   "execution_count": 5,
   "id": "308ab8ef",
   "metadata": {},
   "outputs": [],
   "source": [
    "def process_morris_results(problem,param_values,collected_results,num_levels):\n",
    "    '''Process output from Morris sensitivitys\n",
    "    '''\n",
    "    Si = SALib.analyze.morris.analyze(problem,\n",
    "                                      np.array(param_values),\n",
    "                                      np.array(collected_results),\n",
    "                                      print_to_console=False,\n",
    "                                      num_levels=num_levels)\n",
    "\n",
    "    sensitivity_results = pd.DataFrame.from_dict(Si)\n",
    "    return sensitivity_results\n",
    "\n",
    "\n",
    "def calculate_relative_influence(sensitivity_results):\n",
    "    '''Return relative influence (%) of each parameter from sensitivity\n",
    "    '''\n",
    "    sensitivity = sensitivity_results.copy()\n",
    "    sensitivity['rel'] = abs(sensitivity['mu'])/abs(sensitivity['mu']).sum()*100\n",
    "    sensitivity['mu'] = sensitivity['mu']\n",
    "    sensitivity = sensitivity[['names','rel']]\n",
    "    sensitivity = sensitivity.sort_values(by='names',ascending=True).reset_index(drop=True)\n",
    "    sensitivity.names = sensitivity.names.str.replace('_',' ')\n",
    "    sensitivity.names = sensitivity.names.str.title()\n",
    "    sensitivity.names = sensitivity.names.str.replace('Res','RES')\n",
    "    sensitivity.names = sensitivity.names.str.replace('Coop','COO')\n",
    "    sensitivity.names = sensitivity.names.str.replace('To','to')\n",
    "    sensitivity.names = sensitivity.names.str.replace('Westbank','West Bank')\n",
    "    return sensitivity\n",
    "\n",
    "\n",
    "def read_results(path='../data/gsa_results/combined_capacities_100_generations.csv'):\n",
    "    # read results\n",
    "    combined_caps = pd.read_csv(path)\n",
    "    # israel\n",
    "    israel_results = process_morris_results(problem,\n",
    "                                            param_values,\n",
    "                                            combined_caps['Israel'].to_list(),\n",
    "                                            num_levels)\n",
    "    # jordan\n",
    "    jordan_results = process_morris_results(problem,\n",
    "                                            param_values,\n",
    "                                            combined_caps['Jordan'].to_list(),\n",
    "                                            num_levels)\n",
    "    # west bank\n",
    "    westbank_results = process_morris_results(problem,\n",
    "                                            param_values,\n",
    "                                            combined_caps['West Bank'].to_list(),\n",
    "                                            num_levels)\n",
    "    # gaza\n",
    "    gaza_results = process_morris_results(problem,\n",
    "                                            param_values,\n",
    "                                            combined_caps['Gaza'].to_list(),\n",
    "                                            num_levels)\n",
    "    # return\n",
    "    return combined_caps,israel_results,jordan_results,westbank_results,gaza_results\n",
    "\n",
    "\n",
    "def min_max_avg_plot(df,ax=None):\n",
    "    # line plot\n",
    "    sns.lineplot(x='value',y='variable',data=df,\n",
    "                 linewidth=1,zorder=10,color='firebrick',ax=ax)\n",
    "    # high and low\n",
    "    sns.scatterplot(x='value',y='variable',data=df[df.stat != 'average'],\n",
    "                    marker='|',s=100,color='firebrick',zorder=15,ax=ax)\n",
    "    # mean\n",
    "    sns.scatterplot(x='value',y='variable',data=df[df.stat == 'average'],\n",
    "                    marker='o',s=100,color='firebrick',zorder=15,ax=ax)"
   ]
  },
  {
   "cell_type": "code",
   "execution_count": 3,
   "id": "98bef0ad",
   "metadata": {},
   "outputs": [
    {
     "name": "stderr",
     "output_type": "stream",
     "text": [
      "\r",
      "  0%|                                                   | 0/100 [00:00<?, ?it/s]"
     ]
    },
    {
     "name": "stdout",
     "output_type": "stream",
     "text": [
      "Set parameter Username\n",
      "Academic license - for non-commercial use only - expires 2022-11-03\n",
      "\n"
     ]
    },
    {
     "name": "stderr",
     "output_type": "stream",
     "text": [
      "\r",
      "  1%|▍                                       | 1/100 [02:39<4:23:52, 159.92s/it]"
     ]
    },
    {
     "name": "stdout",
     "output_type": "stream",
     "text": [
      "\n"
     ]
    },
    {
     "name": "stderr",
     "output_type": "stream",
     "text": [
      "\r",
      "  2%|▊                                       | 2/100 [05:21<4:22:37, 160.79s/it]"
     ]
    },
    {
     "name": "stdout",
     "output_type": "stream",
     "text": [
      "\n"
     ]
    },
    {
     "name": "stderr",
     "output_type": "stream",
     "text": [
      "\r",
      "  3%|█▏                                      | 3/100 [08:04<4:21:25, 161.71s/it]"
     ]
    },
    {
     "name": "stdout",
     "output_type": "stream",
     "text": [
      "\n"
     ]
    },
    {
     "name": "stderr",
     "output_type": "stream",
     "text": [
      "\r",
      "  4%|█▌                                      | 4/100 [10:44<4:18:03, 161.28s/it]"
     ]
    },
    {
     "name": "stdout",
     "output_type": "stream",
     "text": [
      "\n"
     ]
    },
    {
     "name": "stderr",
     "output_type": "stream",
     "text": [
      "\r",
      "  5%|██                                      | 5/100 [13:28<4:16:54, 162.26s/it]"
     ]
    },
    {
     "name": "stdout",
     "output_type": "stream",
     "text": [
      "\n"
     ]
    },
    {
     "name": "stderr",
     "output_type": "stream",
     "text": [
      "\r",
      "  6%|██▍                                     | 6/100 [16:17<4:17:36, 164.43s/it]"
     ]
    },
    {
     "name": "stdout",
     "output_type": "stream",
     "text": [
      "\n"
     ]
    },
    {
     "name": "stderr",
     "output_type": "stream",
     "text": [
      "\r",
      "  7%|██▊                                     | 7/100 [19:04<4:16:20, 165.38s/it]"
     ]
    },
    {
     "name": "stdout",
     "output_type": "stream",
     "text": [
      "\n"
     ]
    },
    {
     "name": "stderr",
     "output_type": "stream",
     "text": [
      "\r",
      "  8%|███▏                                    | 8/100 [21:51<4:14:30, 165.98s/it]"
     ]
    },
    {
     "name": "stdout",
     "output_type": "stream",
     "text": [
      "\n"
     ]
    },
    {
     "name": "stderr",
     "output_type": "stream",
     "text": [
      "\r",
      "  9%|███▌                                    | 9/100 [24:39<4:12:29, 166.48s/it]"
     ]
    },
    {
     "name": "stdout",
     "output_type": "stream",
     "text": [
      "\n"
     ]
    },
    {
     "name": "stderr",
     "output_type": "stream",
     "text": [
      "\r",
      " 10%|███▉                                   | 10/100 [27:25<4:09:21, 166.24s/it]"
     ]
    },
    {
     "name": "stdout",
     "output_type": "stream",
     "text": [
      "\n"
     ]
    },
    {
     "name": "stderr",
     "output_type": "stream",
     "text": [
      "\r",
      " 11%|████▎                                  | 11/100 [30:07<4:04:53, 165.10s/it]"
     ]
    },
    {
     "name": "stdout",
     "output_type": "stream",
     "text": [
      "\n"
     ]
    },
    {
     "name": "stderr",
     "output_type": "stream",
     "text": [
      "\r",
      " 12%|████▋                                  | 12/100 [32:48<4:00:04, 163.69s/it]"
     ]
    },
    {
     "name": "stdout",
     "output_type": "stream",
     "text": [
      "\n"
     ]
    },
    {
     "name": "stderr",
     "output_type": "stream",
     "text": [
      "\r",
      " 13%|█████                                  | 13/100 [35:28<3:55:48, 162.63s/it]"
     ]
    },
    {
     "name": "stdout",
     "output_type": "stream",
     "text": [
      "\n"
     ]
    },
    {
     "name": "stderr",
     "output_type": "stream",
     "text": [
      "\r",
      " 14%|█████▍                                 | 14/100 [38:27<4:00:24, 167.73s/it]"
     ]
    },
    {
     "name": "stdout",
     "output_type": "stream",
     "text": [
      "\n"
     ]
    },
    {
     "name": "stderr",
     "output_type": "stream",
     "text": [
      "\r",
      " 15%|█████▊                                 | 15/100 [41:33<4:05:26, 173.25s/it]"
     ]
    },
    {
     "name": "stdout",
     "output_type": "stream",
     "text": [
      "\n"
     ]
    },
    {
     "name": "stderr",
     "output_type": "stream",
     "text": [
      "\r",
      " 16%|██████▏                                | 16/100 [44:41<4:08:27, 177.47s/it]"
     ]
    },
    {
     "name": "stdout",
     "output_type": "stream",
     "text": [
      "\n"
     ]
    },
    {
     "name": "stderr",
     "output_type": "stream",
     "text": [
      "\r",
      " 17%|██████▋                                | 17/100 [47:49<4:09:58, 180.71s/it]"
     ]
    },
    {
     "name": "stdout",
     "output_type": "stream",
     "text": [
      "\n"
     ]
    },
    {
     "name": "stderr",
     "output_type": "stream",
     "text": [
      "\r",
      " 18%|███████                                | 18/100 [50:54<4:08:50, 182.07s/it]"
     ]
    },
    {
     "name": "stdout",
     "output_type": "stream",
     "text": [
      "\n"
     ]
    },
    {
     "name": "stderr",
     "output_type": "stream",
     "text": [
      "\r",
      " 19%|███████▍                               | 19/100 [53:52<4:04:14, 180.92s/it]"
     ]
    },
    {
     "name": "stdout",
     "output_type": "stream",
     "text": [
      "\n"
     ]
    },
    {
     "name": "stderr",
     "output_type": "stream",
     "text": [
      "\r",
      " 20%|███████▊                               | 20/100 [56:52<4:00:44, 180.56s/it]"
     ]
    },
    {
     "name": "stdout",
     "output_type": "stream",
     "text": [
      "\n"
     ]
    },
    {
     "name": "stderr",
     "output_type": "stream",
     "text": [
      "\r",
      " 21%|████████▏                              | 21/100 [59:39<3:52:14, 176.39s/it]"
     ]
    },
    {
     "name": "stdout",
     "output_type": "stream",
     "text": [
      "\n"
     ]
    },
    {
     "name": "stderr",
     "output_type": "stream",
     "text": [
      "\r",
      " 22%|████████▏                            | 22/100 [1:02:27<3:46:09, 173.96s/it]"
     ]
    },
    {
     "name": "stdout",
     "output_type": "stream",
     "text": [
      "\n"
     ]
    },
    {
     "name": "stderr",
     "output_type": "stream",
     "text": [
      "\r",
      " 23%|████████▌                            | 23/100 [1:05:16<3:41:06, 172.29s/it]"
     ]
    },
    {
     "name": "stdout",
     "output_type": "stream",
     "text": [
      "\n"
     ]
    },
    {
     "name": "stderr",
     "output_type": "stream",
     "text": [
      "\r",
      " 24%|████████▉                            | 24/100 [1:08:01<3:35:43, 170.31s/it]"
     ]
    },
    {
     "name": "stdout",
     "output_type": "stream",
     "text": [
      "\n"
     ]
    },
    {
     "name": "stderr",
     "output_type": "stream",
     "text": [
      "\r",
      " 25%|█████████▎                           | 25/100 [1:10:57<3:34:48, 171.85s/it]"
     ]
    },
    {
     "name": "stdout",
     "output_type": "stream",
     "text": [
      "\n"
     ]
    },
    {
     "name": "stderr",
     "output_type": "stream",
     "text": [
      "\r",
      " 26%|█████████▌                           | 26/100 [1:13:53<3:33:44, 173.30s/it]"
     ]
    },
    {
     "name": "stdout",
     "output_type": "stream",
     "text": [
      "\n"
     ]
    },
    {
     "name": "stderr",
     "output_type": "stream",
     "text": [
      "\r",
      " 27%|█████████▉                           | 27/100 [1:16:53<3:33:01, 175.10s/it]"
     ]
    },
    {
     "name": "stdout",
     "output_type": "stream",
     "text": [
      "\n"
     ]
    },
    {
     "name": "stderr",
     "output_type": "stream",
     "text": [
      "\r",
      " 28%|██████████▎                          | 28/100 [1:19:51<3:31:07, 175.94s/it]"
     ]
    },
    {
     "name": "stdout",
     "output_type": "stream",
     "text": [
      "\n"
     ]
    },
    {
     "name": "stderr",
     "output_type": "stream",
     "text": [
      "\r",
      " 29%|██████████▋                          | 29/100 [1:22:54<3:30:41, 178.06s/it]"
     ]
    },
    {
     "name": "stdout",
     "output_type": "stream",
     "text": [
      "\n"
     ]
    },
    {
     "name": "stderr",
     "output_type": "stream",
     "text": [
      "\r",
      " 30%|███████████                          | 30/100 [1:25:53<3:28:05, 178.36s/it]"
     ]
    },
    {
     "name": "stdout",
     "output_type": "stream",
     "text": [
      "\n"
     ]
    },
    {
     "name": "stderr",
     "output_type": "stream",
     "text": [
      "\r",
      " 31%|███████████▍                         | 31/100 [1:28:47<3:23:44, 177.16s/it]"
     ]
    },
    {
     "name": "stdout",
     "output_type": "stream",
     "text": [
      "\n"
     ]
    },
    {
     "name": "stderr",
     "output_type": "stream",
     "text": [
      "\r",
      " 32%|███████████▊                         | 32/100 [1:31:36<3:18:08, 174.84s/it]"
     ]
    },
    {
     "name": "stdout",
     "output_type": "stream",
     "text": [
      "\n"
     ]
    },
    {
     "name": "stderr",
     "output_type": "stream",
     "text": [
      "\r",
      " 33%|████████████▏                        | 33/100 [1:34:26<3:13:27, 173.25s/it]"
     ]
    },
    {
     "name": "stdout",
     "output_type": "stream",
     "text": [
      "\n"
     ]
    },
    {
     "name": "stderr",
     "output_type": "stream",
     "text": [
      "\r",
      " 34%|████████████▌                        | 34/100 [1:37:17<3:09:48, 172.55s/it]"
     ]
    },
    {
     "name": "stdout",
     "output_type": "stream",
     "text": [
      "\n"
     ]
    },
    {
     "name": "stderr",
     "output_type": "stream",
     "text": [
      "\r",
      " 35%|████████████▉                        | 35/100 [1:40:08<3:06:37, 172.27s/it]"
     ]
    },
    {
     "name": "stdout",
     "output_type": "stream",
     "text": [
      "\n"
     ]
    },
    {
     "name": "stderr",
     "output_type": "stream",
     "text": [
      "\r",
      " 36%|█████████████▎                       | 36/100 [1:42:56<3:02:06, 170.72s/it]"
     ]
    },
    {
     "name": "stdout",
     "output_type": "stream",
     "text": [
      "\n"
     ]
    },
    {
     "name": "stderr",
     "output_type": "stream",
     "text": [
      "\r",
      " 37%|█████████████▋                       | 37/100 [1:45:49<3:00:01, 171.45s/it]"
     ]
    },
    {
     "name": "stdout",
     "output_type": "stream",
     "text": [
      "\n"
     ]
    },
    {
     "name": "stderr",
     "output_type": "stream",
     "text": [
      "\r",
      " 38%|██████████████                       | 38/100 [1:48:40<2:57:14, 171.52s/it]"
     ]
    },
    {
     "name": "stdout",
     "output_type": "stream",
     "text": [
      "\n"
     ]
    },
    {
     "name": "stderr",
     "output_type": "stream",
     "text": [
      "\r",
      " 39%|██████████████▍                      | 39/100 [1:51:34<2:54:59, 172.12s/it]"
     ]
    },
    {
     "name": "stdout",
     "output_type": "stream",
     "text": [
      "\n"
     ]
    },
    {
     "name": "stderr",
     "output_type": "stream",
     "text": [
      "\r",
      " 40%|██████████████▊                      | 40/100 [1:54:27<2:52:22, 172.37s/it]"
     ]
    },
    {
     "name": "stdout",
     "output_type": "stream",
     "text": [
      "\n"
     ]
    },
    {
     "name": "stderr",
     "output_type": "stream",
     "text": [
      "\r",
      " 41%|███████████████▏                     | 41/100 [1:57:21<2:50:04, 172.96s/it]"
     ]
    },
    {
     "name": "stdout",
     "output_type": "stream",
     "text": [
      "\n"
     ]
    },
    {
     "name": "stderr",
     "output_type": "stream",
     "text": [
      "\r",
      " 42%|███████████████▌                     | 42/100 [2:00:08<2:45:29, 171.21s/it]"
     ]
    },
    {
     "name": "stdout",
     "output_type": "stream",
     "text": [
      "\n"
     ]
    },
    {
     "name": "stderr",
     "output_type": "stream",
     "text": [
      "\r",
      " 43%|███████████████▉                     | 43/100 [2:02:57<2:41:55, 170.45s/it]"
     ]
    },
    {
     "name": "stdout",
     "output_type": "stream",
     "text": [
      "\n"
     ]
    },
    {
     "name": "stderr",
     "output_type": "stream",
     "text": [
      "\r",
      " 44%|████████████████▎                    | 44/100 [2:05:38<2:36:24, 167.58s/it]"
     ]
    },
    {
     "name": "stdout",
     "output_type": "stream",
     "text": [
      "\n"
     ]
    },
    {
     "name": "stderr",
     "output_type": "stream",
     "text": [
      "\r",
      " 45%|████████████████▋                    | 45/100 [2:08:16<2:31:04, 164.80s/it]"
     ]
    },
    {
     "name": "stdout",
     "output_type": "stream",
     "text": [
      "\n"
     ]
    },
    {
     "name": "stderr",
     "output_type": "stream",
     "text": [
      "\r",
      " 46%|█████████████████                    | 46/100 [2:10:53<2:26:10, 162.41s/it]"
     ]
    },
    {
     "name": "stdout",
     "output_type": "stream",
     "text": [
      "\n"
     ]
    },
    {
     "name": "stderr",
     "output_type": "stream",
     "text": [
      "\r",
      " 47%|█████████████████▍                   | 47/100 [2:13:33<2:22:40, 161.52s/it]"
     ]
    },
    {
     "name": "stdout",
     "output_type": "stream",
     "text": [
      "\n"
     ]
    },
    {
     "name": "stderr",
     "output_type": "stream",
     "text": [
      "\r",
      " 48%|█████████████████▊                   | 48/100 [2:19:32<3:11:27, 220.92s/it]"
     ]
    },
    {
     "name": "stdout",
     "output_type": "stream",
     "text": [
      "\n"
     ]
    },
    {
     "name": "stderr",
     "output_type": "stream",
     "text": [
      "\r",
      " 49%|██████████████████▏                  | 49/100 [2:22:06<2:50:43, 200.86s/it]"
     ]
    },
    {
     "name": "stdout",
     "output_type": "stream",
     "text": [
      "\n"
     ]
    },
    {
     "name": "stderr",
     "output_type": "stream",
     "text": [
      "\r",
      " 50%|██████████████████▌                  | 50/100 [2:24:39<2:35:28, 186.57s/it]"
     ]
    },
    {
     "name": "stdout",
     "output_type": "stream",
     "text": [
      "\n"
     ]
    },
    {
     "name": "stderr",
     "output_type": "stream",
     "text": [
      "\r",
      " 51%|██████████████████▊                  | 51/100 [2:27:32<2:28:54, 182.34s/it]"
     ]
    },
    {
     "name": "stdout",
     "output_type": "stream",
     "text": [
      "\n"
     ]
    },
    {
     "name": "stderr",
     "output_type": "stream",
     "text": [
      "\r",
      " 52%|███████████████████▏                 | 52/100 [2:30:21<2:22:49, 178.53s/it]"
     ]
    },
    {
     "name": "stdout",
     "output_type": "stream",
     "text": [
      "\n"
     ]
    },
    {
     "name": "stderr",
     "output_type": "stream",
     "text": [
      "\r",
      " 53%|███████████████████▌                 | 53/100 [2:33:19<2:19:37, 178.25s/it]"
     ]
    },
    {
     "name": "stdout",
     "output_type": "stream",
     "text": [
      "\n"
     ]
    },
    {
     "name": "stderr",
     "output_type": "stream",
     "text": [
      "\r",
      " 54%|███████████████████▉                 | 54/100 [2:36:18<2:16:53, 178.55s/it]"
     ]
    },
    {
     "name": "stdout",
     "output_type": "stream",
     "text": [
      "\n"
     ]
    },
    {
     "name": "stderr",
     "output_type": "stream",
     "text": [
      "\r",
      " 55%|████████████████████▎                | 55/100 [2:39:15<2:13:30, 178.01s/it]"
     ]
    },
    {
     "name": "stdout",
     "output_type": "stream",
     "text": [
      "\n"
     ]
    },
    {
     "name": "stderr",
     "output_type": "stream",
     "text": [
      "\r",
      " 56%|████████████████████▋                | 56/100 [2:42:19<2:11:55, 179.90s/it]"
     ]
    },
    {
     "name": "stdout",
     "output_type": "stream",
     "text": [
      "\n"
     ]
    },
    {
     "name": "stderr",
     "output_type": "stream",
     "text": [
      "\r",
      " 57%|█████████████████████                | 57/100 [2:45:25<2:10:14, 181.73s/it]"
     ]
    },
    {
     "name": "stdout",
     "output_type": "stream",
     "text": [
      "\n"
     ]
    },
    {
     "name": "stderr",
     "output_type": "stream",
     "text": [
      "\r",
      " 58%|█████████████████████▍               | 58/100 [2:48:27<2:07:15, 181.81s/it]"
     ]
    },
    {
     "name": "stdout",
     "output_type": "stream",
     "text": [
      "\n"
     ]
    },
    {
     "name": "stderr",
     "output_type": "stream",
     "text": [
      "\r",
      " 59%|█████████████████████▊               | 59/100 [2:51:30<2:04:26, 182.12s/it]"
     ]
    },
    {
     "name": "stdout",
     "output_type": "stream",
     "text": [
      "\n"
     ]
    },
    {
     "name": "stderr",
     "output_type": "stream",
     "text": [
      "\r",
      " 60%|██████████████████████▏              | 60/100 [2:54:31<2:01:10, 181.75s/it]"
     ]
    },
    {
     "name": "stdout",
     "output_type": "stream",
     "text": [
      "\n"
     ]
    },
    {
     "name": "stderr",
     "output_type": "stream",
     "text": [
      "\r",
      " 61%|██████████████████████▌              | 61/100 [2:57:23<1:56:13, 178.82s/it]"
     ]
    },
    {
     "name": "stdout",
     "output_type": "stream",
     "text": [
      "\n"
     ]
    },
    {
     "name": "stderr",
     "output_type": "stream",
     "text": [
      "\r",
      " 62%|██████████████████████▉              | 62/100 [3:00:14<1:51:48, 176.53s/it]"
     ]
    },
    {
     "name": "stdout",
     "output_type": "stream",
     "text": [
      "\n"
     ]
    },
    {
     "name": "stderr",
     "output_type": "stream",
     "text": [
      "\r",
      " 63%|███████████████████████▎             | 63/100 [3:03:05<1:47:51, 174.90s/it]"
     ]
    },
    {
     "name": "stdout",
     "output_type": "stream",
     "text": [
      "\n"
     ]
    },
    {
     "name": "stderr",
     "output_type": "stream",
     "text": [
      "\r",
      " 64%|███████████████████████▋             | 64/100 [3:05:55<1:44:00, 173.35s/it]"
     ]
    },
    {
     "name": "stdout",
     "output_type": "stream",
     "text": [
      "\n"
     ]
    },
    {
     "name": "stderr",
     "output_type": "stream",
     "text": [
      "\r",
      " 65%|████████████████████████             | 65/100 [3:08:35<1:38:45, 169.30s/it]"
     ]
    },
    {
     "name": "stdout",
     "output_type": "stream",
     "text": [
      "\n"
     ]
    },
    {
     "name": "stderr",
     "output_type": "stream",
     "text": [
      "\r",
      " 66%|████████████████████████▍            | 66/100 [3:11:13<1:34:04, 166.02s/it]"
     ]
    },
    {
     "name": "stdout",
     "output_type": "stream",
     "text": [
      "\n"
     ]
    },
    {
     "name": "stderr",
     "output_type": "stream",
     "text": [
      "\r",
      " 67%|████████████████████████▊            | 67/100 [3:13:53<1:30:14, 164.08s/it]"
     ]
    },
    {
     "name": "stdout",
     "output_type": "stream",
     "text": [
      "\n"
     ]
    },
    {
     "name": "stderr",
     "output_type": "stream",
     "text": [
      "\r",
      " 68%|█████████████████████████▏           | 68/100 [3:16:33<1:26:51, 162.87s/it]"
     ]
    },
    {
     "name": "stdout",
     "output_type": "stream",
     "text": [
      "\n"
     ]
    },
    {
     "name": "stderr",
     "output_type": "stream",
     "text": [
      "\r",
      " 69%|█████████████████████████▌           | 69/100 [3:19:12<1:23:34, 161.75s/it]"
     ]
    },
    {
     "name": "stdout",
     "output_type": "stream",
     "text": [
      "\n"
     ]
    },
    {
     "name": "stderr",
     "output_type": "stream",
     "text": [
      "\r",
      " 70%|█████████████████████████▉           | 70/100 [3:21:51<1:20:26, 160.87s/it]"
     ]
    },
    {
     "name": "stdout",
     "output_type": "stream",
     "text": [
      "\n"
     ]
    },
    {
     "name": "stderr",
     "output_type": "stream",
     "text": [
      "\r",
      " 71%|██████████████████████████▎          | 71/100 [3:24:20<1:16:01, 157.28s/it]"
     ]
    },
    {
     "name": "stdout",
     "output_type": "stream",
     "text": [
      "\n"
     ]
    },
    {
     "name": "stderr",
     "output_type": "stream",
     "text": [
      "\r",
      " 72%|██████████████████████████▋          | 72/100 [3:27:09<1:15:01, 160.76s/it]"
     ]
    },
    {
     "name": "stdout",
     "output_type": "stream",
     "text": [
      "\n"
     ]
    },
    {
     "name": "stderr",
     "output_type": "stream",
     "text": [
      "\r",
      " 73%|███████████████████████████          | 73/100 [3:30:00<1:13:49, 164.07s/it]"
     ]
    },
    {
     "name": "stdout",
     "output_type": "stream",
     "text": [
      "\n"
     ]
    },
    {
     "name": "stderr",
     "output_type": "stream",
     "text": [
      "\r",
      " 74%|███████████████████████████▍         | 74/100 [3:32:51<1:11:58, 166.08s/it]"
     ]
    },
    {
     "name": "stdout",
     "output_type": "stream",
     "text": [
      "\n"
     ]
    },
    {
     "name": "stderr",
     "output_type": "stream",
     "text": [
      "\r",
      " 75%|███████████████████████████▊         | 75/100 [3:35:40<1:09:31, 166.86s/it]"
     ]
    },
    {
     "name": "stdout",
     "output_type": "stream",
     "text": [
      "\n"
     ]
    },
    {
     "name": "stderr",
     "output_type": "stream",
     "text": [
      "\r",
      " 76%|████████████████████████████         | 76/100 [3:38:26<1:06:39, 166.64s/it]"
     ]
    },
    {
     "name": "stdout",
     "output_type": "stream",
     "text": [
      "\n"
     ]
    },
    {
     "name": "stderr",
     "output_type": "stream",
     "text": [
      "\r",
      " 77%|████████████████████████████▍        | 77/100 [3:41:13<1:03:53, 166.66s/it]"
     ]
    },
    {
     "name": "stdout",
     "output_type": "stream",
     "text": [
      "\n"
     ]
    },
    {
     "name": "stderr",
     "output_type": "stream",
     "text": [
      "\r",
      " 78%|████████████████████████████▊        | 78/100 [3:43:58<1:00:58, 166.28s/it]"
     ]
    },
    {
     "name": "stdout",
     "output_type": "stream",
     "text": [
      "\n"
     ]
    },
    {
     "name": "stderr",
     "output_type": "stream",
     "text": [
      "\r",
      " 79%|██████████████████████████████▊        | 79/100 [3:46:43<58:03, 165.86s/it]"
     ]
    },
    {
     "name": "stdout",
     "output_type": "stream",
     "text": [
      "\n"
     ]
    },
    {
     "name": "stderr",
     "output_type": "stream",
     "text": [
      "\r",
      " 80%|███████████████████████████████▏       | 80/100 [3:49:27<55:08, 165.45s/it]"
     ]
    },
    {
     "name": "stdout",
     "output_type": "stream",
     "text": [
      "\n"
     ]
    },
    {
     "name": "stderr",
     "output_type": "stream",
     "text": [
      "\r",
      " 81%|███████████████████████████████▌       | 81/100 [3:52:10<52:05, 164.49s/it]"
     ]
    },
    {
     "name": "stdout",
     "output_type": "stream",
     "text": [
      "\n"
     ]
    },
    {
     "name": "stderr",
     "output_type": "stream",
     "text": [
      "\r",
      " 82%|███████████████████████████████▉       | 82/100 [3:54:55<49:24, 164.67s/it]"
     ]
    },
    {
     "name": "stdout",
     "output_type": "stream",
     "text": [
      "\n"
     ]
    },
    {
     "name": "stderr",
     "output_type": "stream",
     "text": [
      "\r",
      " 83%|████████████████████████████████▎      | 83/100 [3:57:39<46:38, 164.59s/it]"
     ]
    },
    {
     "name": "stdout",
     "output_type": "stream",
     "text": [
      "\n"
     ]
    },
    {
     "name": "stderr",
     "output_type": "stream",
     "text": [
      "\r",
      " 84%|████████████████████████████████▊      | 84/100 [4:00:21<43:40, 163.79s/it]"
     ]
    },
    {
     "name": "stdout",
     "output_type": "stream",
     "text": [
      "\n"
     ]
    },
    {
     "name": "stderr",
     "output_type": "stream",
     "text": [
      "\r",
      " 85%|█████████████████████████████████▏     | 85/100 [4:03:04<40:51, 163.41s/it]"
     ]
    },
    {
     "name": "stdout",
     "output_type": "stream",
     "text": [
      "\n"
     ]
    },
    {
     "name": "stderr",
     "output_type": "stream",
     "text": [
      "\r",
      " 86%|█████████████████████████████████▌     | 86/100 [4:06:07<39:30, 169.34s/it]"
     ]
    },
    {
     "name": "stdout",
     "output_type": "stream",
     "text": [
      "\n"
     ]
    },
    {
     "name": "stderr",
     "output_type": "stream",
     "text": [
      "\r",
      " 87%|█████████████████████████████████▉     | 87/100 [4:09:07<37:22, 172.51s/it]"
     ]
    },
    {
     "name": "stdout",
     "output_type": "stream",
     "text": [
      "\n"
     ]
    },
    {
     "name": "stderr",
     "output_type": "stream",
     "text": [
      "\r",
      " 88%|██████████████████████████████████▎    | 88/100 [4:12:07<34:59, 174.97s/it]"
     ]
    },
    {
     "name": "stdout",
     "output_type": "stream",
     "text": [
      "\n"
     ]
    },
    {
     "name": "stderr",
     "output_type": "stream",
     "text": [
      "\r",
      " 89%|██████████████████████████████████▋    | 89/100 [4:15:08<32:22, 176.63s/it]"
     ]
    },
    {
     "name": "stdout",
     "output_type": "stream",
     "text": [
      "\n"
     ]
    },
    {
     "name": "stderr",
     "output_type": "stream",
     "text": [
      "\r",
      " 90%|███████████████████████████████████    | 90/100 [4:18:07<29:33, 177.30s/it]"
     ]
    },
    {
     "name": "stdout",
     "output_type": "stream",
     "text": [
      "\n"
     ]
    },
    {
     "name": "stderr",
     "output_type": "stream",
     "text": [
      "\r",
      " 91%|███████████████████████████████████▍   | 91/100 [4:20:44<25:42, 171.38s/it]"
     ]
    },
    {
     "name": "stdout",
     "output_type": "stream",
     "text": [
      "\n"
     ]
    },
    {
     "name": "stderr",
     "output_type": "stream",
     "text": [
      "\r",
      " 92%|███████████████████████████████████▉   | 92/100 [4:23:33<22:44, 170.61s/it]"
     ]
    },
    {
     "name": "stdout",
     "output_type": "stream",
     "text": [
      "\n"
     ]
    },
    {
     "name": "stderr",
     "output_type": "stream",
     "text": [
      "\r",
      " 93%|████████████████████████████████████▎  | 93/100 [4:26:25<19:56, 170.89s/it]"
     ]
    },
    {
     "name": "stdout",
     "output_type": "stream",
     "text": [
      "\n"
     ]
    },
    {
     "name": "stderr",
     "output_type": "stream",
     "text": [
      "\r",
      " 94%|████████████████████████████████████▋  | 94/100 [4:29:11<16:57, 169.61s/it]"
     ]
    },
    {
     "name": "stdout",
     "output_type": "stream",
     "text": [
      "\n"
     ]
    },
    {
     "name": "stderr",
     "output_type": "stream",
     "text": [
      "\r",
      " 95%|█████████████████████████████████████  | 95/100 [4:31:56<13:59, 167.98s/it]"
     ]
    },
    {
     "name": "stdout",
     "output_type": "stream",
     "text": [
      "\n"
     ]
    },
    {
     "name": "stderr",
     "output_type": "stream",
     "text": [
      "\r",
      " 96%|█████████████████████████████████████▍ | 96/100 [4:34:39<11:06, 166.66s/it]"
     ]
    },
    {
     "name": "stdout",
     "output_type": "stream",
     "text": [
      "\n"
     ]
    },
    {
     "name": "stderr",
     "output_type": "stream",
     "text": [
      "\r",
      " 97%|█████████████████████████████████████▊ | 97/100 [4:37:25<08:18, 166.29s/it]"
     ]
    },
    {
     "name": "stdout",
     "output_type": "stream",
     "text": [
      "\n"
     ]
    },
    {
     "name": "stderr",
     "output_type": "stream",
     "text": [
      "\r",
      " 98%|██████████████████████████████████████▏| 98/100 [4:40:09<05:31, 165.85s/it]"
     ]
    },
    {
     "name": "stdout",
     "output_type": "stream",
     "text": [
      "\n"
     ]
    },
    {
     "name": "stderr",
     "output_type": "stream",
     "text": [
      "\r",
      " 99%|██████████████████████████████████████▌| 99/100 [4:42:54<02:45, 165.37s/it]"
     ]
    },
    {
     "name": "stdout",
     "output_type": "stream",
     "text": [
      "\n"
     ]
    },
    {
     "name": "stderr",
     "output_type": "stream",
     "text": [
      "100%|██████████████████████████████████████| 100/100 [4:45:54<00:00, 171.54s/it]\n"
     ]
    }
   ],
   "source": [
    "#File paths\n",
    "nodes = '../data/nextra/spatial/network/nodes.shp'\n",
    "edges = '../data/nextra/spatial/network/edges.shp'\n",
    "flows = '../data/nextra/nodal_flows/processed_flows_2030.csv'\n",
    "\n",
    "# params\n",
    "count       = 1\n",
    "save_iter   = 25\n",
    "timesteps   = None\n",
    "num_levels  = 10\n",
    "N           = 10\n",
    "\n",
    "# Set up problem for sensitivity analysis # name:[lower_bound,upper_bound]\n",
    "params = {'coop_res_target'                 : [0,0.7],\n",
    "          'jordan_to_westbank'              : [0,10**12],\n",
    "          'jordan_to_israel'                : [0,10**12],\n",
    "          'israel_to_westbank'              : [0,10**12],\n",
    "          'israel_to_jordan'                : [0,10**12],\n",
    "          'israel_to_gaza'                  : [0,10**12],\n",
    "          'westbank_to_israel'              : [0,10**12],\n",
    "          'westbank_to_jordan'              : [0,10**12],\n",
    "          'self_sufficiency_factor'         : [0,0.9],\n",
    "         }\n",
    "\n",
    "problem = {'num_vars'    : len(params.keys()),\n",
    "           'names'       : [i for i in params.keys()],\n",
    "           'bounds'      : [params[i] for i in params.keys()]\n",
    "          }\n",
    "\n",
    "# create parameter values\n",
    "param_values = morris.sample(problem,N=N,\n",
    "                             num_levels=num_levels,\n",
    "                             local_optimization=True)\n",
    "\n",
    "# Run analysis with the specified parameter values\n",
    "collected_caps_israel   = []\n",
    "collected_caps_jordan   = []\n",
    "collected_caps_westbank = []\n",
    "collected_caps_gaza     = []\n",
    "\n",
    "for param_set in tqdm(param_values,total=len(param_values)):\n",
    "\n",
    "    model_run = nextra(nodes,edges,flows,\n",
    "                       timesteps=timesteps,\n",
    "                       energy_objective=True,\n",
    "                       scenario='COO',\n",
    "                       super_sink=False,\n",
    "                       super_source=False,\n",
    "                       # params\n",
    "                       coo_res_factor=param_set[0],\n",
    "                       jordan_to_westbank=param_set[1],\n",
    "                       jordan_to_israel=param_set[2],\n",
    "                       israel_to_westbank=param_set[3],\n",
    "                       israel_to_jordan=param_set[4],\n",
    "                       israel_to_gaza=param_set[5],\n",
    "                       westbank_to_israel=param_set[6],\n",
    "                       westbank_to_jordan=param_set[7],\n",
    "                       self_sufficiency_factor=param_set[8],\n",
    "                      )\n",
    "    \n",
    "    # build, run, and get results\n",
    "    model_run.build()\n",
    "    model_run.run(pprint=False)\n",
    "    model_results = model_run.get_results()\n",
    "    \n",
    "    # get capacities\n",
    "    caps = model_results.results_capacity_change[\\\n",
    "                model_results.results_capacity_change.capacity_change >= 0].reset_index(drop=True)\n",
    "    caps = caps.groupby(by=['node','territory']).max().reset_index()\n",
    "    caps = caps.groupby(by='territory').sum().reset_index()\n",
    "    \n",
    "    # append collected capacities\n",
    "    collected_caps_israel.append(caps.loc[caps.territory == 'Israel','capacity_change'].values[0])\n",
    "    collected_caps_jordan.append(caps.loc[caps.territory == 'Jordan','capacity_change'].values[0])\n",
    "    collected_caps_westbank.append(caps.loc[caps.territory == 'West Bank','capacity_change'].values[0])\n",
    "    collected_caps_gaza.append(caps.loc[caps.territory == 'Gaza','capacity_change'].values[0])\n",
    "    \n",
    "    # make dataframes\n",
    "    combined_caps = pd.DataFrame({'Israel' : collected_caps_israel,\n",
    "                                  'Jordan' : collected_caps_jordan,\n",
    "                                  'West Bank' : collected_caps_westbank,\n",
    "                                  'Gaza' : collected_caps_gaza,})\n",
    "    \n",
    "    # save\n",
    "    if count % save_iter == 0:\n",
    "        combined_caps.to_csv('../data/gsa_results/combined_capacities_' + str(count) + '_generations.csv',index=False)\n",
    "    \n",
    "    # adjust counter\n",
    "    count = count + 1"
   ]
  },
  {
   "cell_type": "code",
   "execution_count": 6,
   "id": "a99e8021",
   "metadata": {},
   "outputs": [
    {
     "ename": "ValueError",
     "evalue": "cannot reshape array of size 1000 into shape (10,10)",
     "output_type": "error",
     "traceback": [
      "\u001b[0;31m---------------------------------------------------------------------------\u001b[0m",
      "\u001b[0;31mValueError\u001b[0m                                Traceback (most recent call last)",
      "\u001b[0;32m/var/folders/ff/h_ytkqld47vg92jnpfrrfx5w0000gn/T/ipykernel_74542/2315531175.py\u001b[0m in \u001b[0;36m<module>\u001b[0;34m\u001b[0m\n\u001b[0;32m----> 1\u001b[0;31m \u001b[0mcombined_caps\u001b[0m\u001b[0;34m,\u001b[0m\u001b[0misrael_results\u001b[0m\u001b[0;34m,\u001b[0m\u001b[0mjordan_results\u001b[0m\u001b[0;34m,\u001b[0m\u001b[0mwestbank_results\u001b[0m\u001b[0;34m,\u001b[0m\u001b[0mgaza_results\u001b[0m \u001b[0;34m=\u001b[0m \u001b[0mread_results\u001b[0m\u001b[0;34m(\u001b[0m\u001b[0;34m)\u001b[0m\u001b[0;34m\u001b[0m\u001b[0;34m\u001b[0m\u001b[0m\n\u001b[0m\u001b[1;32m      2\u001b[0m \u001b[0;34m\u001b[0m\u001b[0m\n\u001b[1;32m      3\u001b[0m \u001b[0mdmin\u001b[0m \u001b[0;34m=\u001b[0m \u001b[0mcombined_caps\u001b[0m\u001b[0;34m.\u001b[0m\u001b[0mmelt\u001b[0m\u001b[0;34m(\u001b[0m\u001b[0;34m)\u001b[0m\u001b[0;34m.\u001b[0m\u001b[0mgroupby\u001b[0m\u001b[0;34m(\u001b[0m\u001b[0mby\u001b[0m\u001b[0;34m=\u001b[0m\u001b[0;34m'variable'\u001b[0m\u001b[0;34m)\u001b[0m\u001b[0;34m.\u001b[0m\u001b[0mmin\u001b[0m\u001b[0;34m(\u001b[0m\u001b[0;34m)\u001b[0m\u001b[0;34m.\u001b[0m\u001b[0mreset_index\u001b[0m\u001b[0;34m(\u001b[0m\u001b[0;34m)\u001b[0m\u001b[0;34m\u001b[0m\u001b[0;34m\u001b[0m\u001b[0m\n\u001b[1;32m      4\u001b[0m \u001b[0mdmin\u001b[0m\u001b[0;34m[\u001b[0m\u001b[0;34m'stat'\u001b[0m\u001b[0;34m]\u001b[0m \u001b[0;34m=\u001b[0m \u001b[0;34m'minimum'\u001b[0m\u001b[0;34m\u001b[0m\u001b[0;34m\u001b[0m\u001b[0m\n\u001b[1;32m      5\u001b[0m \u001b[0;34m\u001b[0m\u001b[0m\n",
      "\u001b[0;32m/var/folders/ff/h_ytkqld47vg92jnpfrrfx5w0000gn/T/ipykernel_74542/1631724679.py\u001b[0m in \u001b[0;36mread_results\u001b[0;34m(path)\u001b[0m\n\u001b[1;32m     33\u001b[0m     \u001b[0mcombined_caps\u001b[0m \u001b[0;34m=\u001b[0m \u001b[0mpd\u001b[0m\u001b[0;34m.\u001b[0m\u001b[0mread_csv\u001b[0m\u001b[0;34m(\u001b[0m\u001b[0mpath\u001b[0m\u001b[0;34m)\u001b[0m\u001b[0;34m\u001b[0m\u001b[0;34m\u001b[0m\u001b[0m\n\u001b[1;32m     34\u001b[0m     \u001b[0;31m# israel\u001b[0m\u001b[0;34m\u001b[0m\u001b[0;34m\u001b[0m\u001b[0m\n\u001b[0;32m---> 35\u001b[0;31m     israel_results = process_morris_results(problem,\n\u001b[0m\u001b[1;32m     36\u001b[0m                                             \u001b[0mparam_values\u001b[0m\u001b[0;34m,\u001b[0m\u001b[0;34m\u001b[0m\u001b[0;34m\u001b[0m\u001b[0m\n\u001b[1;32m     37\u001b[0m                                             \u001b[0mcombined_caps\u001b[0m\u001b[0;34m[\u001b[0m\u001b[0;34m'Israel'\u001b[0m\u001b[0;34m]\u001b[0m\u001b[0;34m.\u001b[0m\u001b[0mto_list\u001b[0m\u001b[0;34m(\u001b[0m\u001b[0;34m)\u001b[0m\u001b[0;34m,\u001b[0m\u001b[0;34m\u001b[0m\u001b[0;34m\u001b[0m\u001b[0m\n",
      "\u001b[0;32m/var/folders/ff/h_ytkqld47vg92jnpfrrfx5w0000gn/T/ipykernel_74542/1631724679.py\u001b[0m in \u001b[0;36mprocess_morris_results\u001b[0;34m(problem, param_values, collected_results, num_levels)\u001b[0m\n\u001b[1;32m      2\u001b[0m     '''Process output from Morris sensitivitys\n\u001b[1;32m      3\u001b[0m     '''\n\u001b[0;32m----> 4\u001b[0;31m     Si = SALib.analyze.morris.analyze(problem,\n\u001b[0m\u001b[1;32m      5\u001b[0m                                       \u001b[0mnp\u001b[0m\u001b[0;34m.\u001b[0m\u001b[0marray\u001b[0m\u001b[0;34m(\u001b[0m\u001b[0mparam_values\u001b[0m\u001b[0;34m)\u001b[0m\u001b[0;34m,\u001b[0m\u001b[0;34m\u001b[0m\u001b[0;34m\u001b[0m\u001b[0m\n\u001b[1;32m      6\u001b[0m                                       \u001b[0mnp\u001b[0m\u001b[0;34m.\u001b[0m\u001b[0marray\u001b[0m\u001b[0;34m(\u001b[0m\u001b[0mcollected_results\u001b[0m\u001b[0;34m)\u001b[0m\u001b[0;34m,\u001b[0m\u001b[0;34m\u001b[0m\u001b[0;34m\u001b[0m\u001b[0m\n",
      "\u001b[0;32m~/opt/anaconda3/envs/nextra/lib/python3.9/site-packages/SALib/analyze/morris.py\u001b[0m in \u001b[0;36manalyze\u001b[0;34m(problem, X, Y, num_resamples, conf_level, print_to_console, num_levels, seed)\u001b[0m\n\u001b[1;32m     95\u001b[0m     \u001b[0mtrajectory_size\u001b[0m \u001b[0;34m=\u001b[0m \u001b[0mint\u001b[0m\u001b[0;34m(\u001b[0m\u001b[0mY\u001b[0m\u001b[0;34m.\u001b[0m\u001b[0msize\u001b[0m \u001b[0;34m/\u001b[0m \u001b[0mnum_trajectories\u001b[0m\u001b[0;34m)\u001b[0m\u001b[0;34m\u001b[0m\u001b[0;34m\u001b[0m\u001b[0m\n\u001b[1;32m     96\u001b[0m \u001b[0;34m\u001b[0m\u001b[0m\n\u001b[0;32m---> 97\u001b[0;31m     elementary_effects = _compute_elementary_effects(X, Y,\n\u001b[0m\u001b[1;32m     98\u001b[0m                                                      trajectory_size, delta)\n\u001b[1;32m     99\u001b[0m \u001b[0;34m\u001b[0m\u001b[0m\n",
      "\u001b[0;32m~/opt/anaconda3/envs/nextra/lib/python3.9/site-packages/SALib/analyze/morris.py\u001b[0m in \u001b[0;36m_compute_elementary_effects\u001b[0;34m(model_inputs, model_outputs, trajectory_size, delta)\u001b[0m\n\u001b[1;32m    280\u001b[0m                                                       trajectory_size)\n\u001b[1;32m    281\u001b[0m \u001b[0;34m\u001b[0m\u001b[0m\n\u001b[0;32m--> 282\u001b[0;31m     output_matrix = _reshape_model_outputs(model_outputs, num_trajectories,\n\u001b[0m\u001b[1;32m    283\u001b[0m                                            trajectory_size)\n\u001b[1;32m    284\u001b[0m     input_matrix = _reshape_model_inputs(model_inputs, num_trajectories,\n",
      "\u001b[0;32m~/opt/anaconda3/envs/nextra/lib/python3.9/site-packages/SALib/analyze/morris.py\u001b[0m in \u001b[0;36m_reshape_model_outputs\u001b[0;34m(model_outputs, num_trajectories, trajectory_size)\u001b[0m\n\u001b[1;32m    409\u001b[0m         \u001b[0mReshaped\u001b[0m \u001b[0moutput\u001b[0m \u001b[0mmatrix\u001b[0m\u001b[0;34m.\u001b[0m\u001b[0;34m\u001b[0m\u001b[0;34m\u001b[0m\u001b[0m\n\u001b[1;32m    410\u001b[0m     \"\"\"\n\u001b[0;32m--> 411\u001b[0;31m     \u001b[0moutput_matrix\u001b[0m \u001b[0;34m=\u001b[0m \u001b[0mmodel_outputs\u001b[0m\u001b[0;34m.\u001b[0m\u001b[0mreshape\u001b[0m\u001b[0;34m(\u001b[0m\u001b[0mnum_trajectories\u001b[0m\u001b[0;34m,\u001b[0m \u001b[0mtrajectory_size\u001b[0m\u001b[0;34m)\u001b[0m\u001b[0;34m\u001b[0m\u001b[0;34m\u001b[0m\u001b[0m\n\u001b[0m\u001b[1;32m    412\u001b[0m     \u001b[0;32mreturn\u001b[0m \u001b[0moutput_matrix\u001b[0m\u001b[0;34m\u001b[0m\u001b[0;34m\u001b[0m\u001b[0m\n\u001b[1;32m    413\u001b[0m \u001b[0;34m\u001b[0m\u001b[0m\n",
      "\u001b[0;31mValueError\u001b[0m: cannot reshape array of size 1000 into shape (10,10)"
     ]
    }
   ],
   "source": [
    "combined_caps,israel_results,jordan_results,westbank_results,gaza_results = read_results()\n",
    "\n",
    "dmin = combined_caps.melt().groupby(by='variable').min().reset_index()\n",
    "dmin['stat'] = 'minimum'\n",
    "\n",
    "dmax = combined_caps.melt().groupby(by='variable').max().reset_index()\n",
    "dmax['stat'] = 'maximum'\n",
    "\n",
    "davg = combined_caps.melt().groupby(by='variable').mean().reset_index()\n",
    "davg['stat'] = 'average'\n",
    "\n",
    "combined_stats = pd.concat([dmin,dmax,davg],ignore_index=True)"
   ]
  },
  {
   "cell_type": "code",
   "execution_count": null,
   "id": "d490a3d2",
   "metadata": {},
   "outputs": [],
   "source": [
    "plt.style.use('seaborn')\n",
    "\n",
    "f,ax=plt.subplots(nrows=2,ncols=4,figsize=(12,6))\n",
    "\n",
    "# plot boxplot\n",
    "min_max_avg_plot(df=combined_stats[combined_stats.variable.isin(['Israel'])],ax=ax[0,0])\n",
    "min_max_avg_plot(df=combined_stats[combined_stats.variable.isin(['Jordan'])],ax=ax[0,1])\n",
    "min_max_avg_plot(df=combined_stats[combined_stats.variable.isin(['West Bank'])],ax=ax[0,2])\n",
    "min_max_avg_plot(df=combined_stats[combined_stats.variable.isin(['Gaza'])],ax=ax[0,3])\n",
    "\n",
    "# combined_caps['Israel'].divide(1000).boxplot(ax=ax[0,0],showfliers=False,color=props,patch_artist=True)\n",
    "# combined_caps['Jordan'].divide(1000).boxplot(ax=ax[0,1],showfliers=False,color=props,patch_artist=True)\n",
    "# combined_caps['West Bank'].divide(1000).boxplot(ax=ax[0,2],showfliers=False,color=props,patch_artist=True)\n",
    "# combined_caps['Gaza'].divide(1000).boxplot(ax=ax[0,3],showfliers=False,color=props,patch_artist=True)\n",
    "\n",
    "# plot bar chart\n",
    "calculate_relative_influence(israel_results).set_index('names').plot.barh(ax=ax[1,0],\n",
    "                                                                          legend=False,color='firebrick')\n",
    "\n",
    "calculate_relative_influence(jordan_results).set_index('names').plot.barh(ax=ax[1,1],\n",
    "                                                                          legend=False,color='firebrick')\n",
    "\n",
    "calculate_relative_influence(westbank_results).set_index('names').plot.barh(ax=ax[1,2],\n",
    "                                                                            legend=False,color='firebrick')\n",
    "\n",
    "calculate_relative_influence(gaza_results).set_index('names').plot.barh(ax=ax[1,3],\n",
    "                                                                        legend=False,color='firebrick')\n",
    "\n",
    "# formatting\n",
    "ax[0,0].set_title('Israel',loc='left',fontweight='bold')\n",
    "ax[0,1].set_title('Jordan',loc='left',fontweight='bold')\n",
    "ax[0,2].set_title('West Bank',loc='left',fontweight='bold')\n",
    "ax[0,3].set_title('Gaza',loc='left',fontweight='bold')\n",
    "\n",
    "ax[1,0].set_title('Israel',loc='left',fontweight='bold')\n",
    "ax[1,1].set_title('Jordan',loc='left',fontweight='bold')\n",
    "ax[1,2].set_title('West Bank',loc='left',fontweight='bold')\n",
    "ax[1,3].set_title('Gaza',loc='left',fontweight='bold')\n",
    "\n",
    "ax[0,0].set_yticklabels([])\n",
    "ax[0,1].set_yticklabels([])\n",
    "ax[0,2].set_yticklabels([])\n",
    "ax[0,3].set_yticklabels([])\n",
    "\n",
    "ax[1,1].set_yticklabels([])\n",
    "ax[1,2].set_yticklabels([])\n",
    "ax[1,3].set_yticklabels([])\n",
    "\n",
    "ax[0,0].set_ylabel('')\n",
    "ax[0,1].set_ylabel('')\n",
    "ax[0,2].set_ylabel('')\n",
    "ax[0,3].set_ylabel('')\n",
    "ax[0,0].set_xlabel('')\n",
    "ax[0,1].set_xlabel('')\n",
    "ax[0,2].set_xlabel('')\n",
    "ax[0,3].set_xlabel('')\n",
    "\n",
    "ax[1,0].set_ylabel('')\n",
    "ax[1,1].set_ylabel('')\n",
    "ax[1,2].set_ylabel('')\n",
    "ax[1,3].set_ylabel('')\n",
    "\n",
    "ax[1,0].set_xlim([0,100])\n",
    "ax[1,1].set_xlim([0,100])\n",
    "ax[1,2].set_xlim([0,100])\n",
    "ax[1,3].set_xlim([0,100])\n",
    "\n",
    "ax[0,0].set_ylabel('Capacity addition [GW]')\n",
    "ax[1,1].set_xlabel('Percentage influence of variables [%]')\n",
    "\n",
    "f.tight_layout()\n",
    "f.savefig('../outputs/figures/global_sensitivity.pdf',bbox_inches='tight')"
   ]
  },
  {
   "cell_type": "code",
   "execution_count": null,
   "id": "adb97bf9",
   "metadata": {},
   "outputs": [],
   "source": []
  },
  {
   "cell_type": "code",
   "execution_count": null,
   "id": "3a3d93e8",
   "metadata": {},
   "outputs": [],
   "source": []
  },
  {
   "cell_type": "code",
   "execution_count": null,
   "id": "fa1f8ddd",
   "metadata": {},
   "outputs": [],
   "source": []
  }
 ],
 "metadata": {
  "kernelspec": {
   "display_name": "Python 3.9.7 64-bit ('nextra': conda)",
   "language": "python",
   "name": "python397jvsc74a57bd07fea8f04d1345dd3d201713db517d44bc4ca564d1ccddab9bd2faef5b7c176d0"
  },
  "language_info": {
   "codemirror_mode": {
    "name": "ipython",
    "version": 3
   },
   "file_extension": ".py",
   "mimetype": "text/x-python",
   "name": "python",
   "nbconvert_exporter": "python",
   "pygments_lexer": "ipython3",
   "version": "3.9.7"
  }
 },
 "nbformat": 4,
 "nbformat_minor": 5
}
